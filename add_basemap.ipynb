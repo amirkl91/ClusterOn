{
 "cells": [
  {
   "cell_type": "code",
   "execution_count": null,
   "metadata": {},
   "outputs": [],
   "source": [
    "import contextily as ctx\n",
    "\n",
    "buildings[\"shared_walls\"] = momepy.SharedWalls(buildings).series\n",
    "fig, ax = plt.subplots(figsize=(15, 15))\n",
    "\n",
    "# Plot buildings with shared walls ratio\n",
    "buildings.plot(column=\"shared_walls\", scheme=\"natural_breaks\", legend=True, ax=ax)\n",
    "# Add a title\n",
    "plt.title(f\"Shared Walls Length for {city}\", fontsize=16)\n",
    "# Add basemap\n",
    "ctx.add_basemap(ax, crs=buildings.crs, source=ctx.providers.CartoDB.Positron)\n",
    "# Remove axis\n",
    "ax.set_axis_off()\n",
    "# Show plot\n",
    "plt.show()"
   ]
  }
 ],
 "metadata": {
  "language_info": {
   "name": "python"
  }
 },
 "nbformat": 4,
 "nbformat_minor": 2
}
