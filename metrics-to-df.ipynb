{
 "cells": [
  {
   "cell_type": "code",
   "metadata": {
    "ExecuteTime": {
     "end_time": "2024-09-10T08:18:46.214410Z",
     "start_time": "2024-09-10T08:18:44.987242Z"
    }
   },
   "source": [
    "import warnings\n",
    "\n",
    "import geopandas as gpd\n",
    "import libpysal\n",
    "import momepy\n",
    "import osmnx\n",
    "import os\n",
    "import configparser\n",
    "import numpy as np\n",
    "\n",
    "from bokeh.io import output_notebook\n",
    "output_notebook()"
   ],
   "outputs": [
    {
     "data": {
      "text/html": [
       "    <style>\n",
       "        .bk-notebook-logo {\n",
       "            display: block;\n",
       "            width: 20px;\n",
       "            height: 20px;\n",
       "            background-image: url(data:image/png;base64,iVBORw0KGgoAAAANSUhEUgAAABQAAAAUCAYAAACNiR0NAAAABHNCSVQICAgIfAhkiAAAAAlwSFlzAAALEgAACxIB0t1+/AAAABx0RVh0U29mdHdhcmUAQWRvYmUgRmlyZXdvcmtzIENTNui8sowAAAOkSURBVDiNjZRtaJVlGMd/1/08zzln5zjP1LWcU9N0NkN8m2CYjpgQYQXqSs0I84OLIC0hkEKoPtiH3gmKoiJDU7QpLgoLjLIQCpEsNJ1vqUOdO7ppbuec5+V+rj4ctwzd8IIbbi6u+8f1539dt3A78eXC7QizUF7gyV1fD1Yqg4JWz84yffhm0qkFqBogB9rM8tZdtwVsPUhWhGcFJngGeWrPzHm5oaMmkfEg1usvLFyc8jLRqDOMru7AyC8saQr7GG7f5fvDeH7Ej8CM66nIF+8yngt6HWaKh7k49Soy9nXurCi1o3qUbS3zWfrYeQDTB/Qj6kX6Ybhw4B+bOYoLKCC9H3Nu/leUTZ1JdRWkkn2ldcCamzrcf47KKXdAJllSlxAOkRgyHsGC/zRday5Qld9DyoM4/q/rUoy/CXh3jzOu3bHUVZeU+DEn8FInkPBFlu3+nW3Nw0mk6vCDiWg8CeJaxEwuHS3+z5RgY+YBR6V1Z1nxSOfoaPa4LASWxxdNp+VWTk7+4vzaou8v8PN+xo+KY2xsw6une2frhw05CTYOmQvsEhjhWjn0bmXPjpE1+kplmmkP3suftwTubK9Vq22qKmrBhpY4jvd5afdRA3wGjFAgcnTK2s4hY0/GPNIb0nErGMCRxWOOX64Z8RAC4oCXdklmEvcL8o0BfkNK4lUg9HTl+oPlQxdNo3Mg4Nv175e/1LDGzZen30MEjRUtmXSfiTVu1kK8W4txyV6BMKlbgk3lMwYCiusNy9fVfvvwMxv8Ynl6vxoByANLTWplvuj/nF9m2+PDtt1eiHPBr1oIfhCChQMBw6Aw0UulqTKZdfVvfG7VcfIqLG9bcldL/+pdWTLxLUy8Qq38heUIjh4XlzZxzQm19lLFlr8vdQ97rjZVOLf8nclzckbcD4wxXMidpX30sFd37Fv/GtwwhzhxGVAprjbg0gCAEeIgwCZyTV2Z1REEW8O4py0wsjeloKoMr6iCY6dP92H6Vw/oTyICIthibxjm/DfN9lVz8IqtqKYLUXfoKVMVQVVJOElGjrnnUt9T9wbgp8AyYKaGlqingHZU/uG2NTZSVqwHQTWkx9hxjkpWDaCg6Ckj5qebgBVbT3V3NNXMSiWSDdGV3hrtzla7J+duwPOToIg42ChPQOQjspnSlp1V+Gjdged7+8UN5CRAV7a5EdFNwCjEaBR27b3W890TE7g24NAP/mMDXRWrGoFPQI9ls/MWO2dWFAar/xcOIImbbpA3zgAAAABJRU5ErkJggg==);\n",
       "        }\n",
       "    </style>\n",
       "    <div>\n",
       "        <a href=\"https://bokeh.org\" target=\"_blank\" class=\"bk-notebook-logo\"></a>\n",
       "        <span id=\"e6be3a3e-e5c6-4d1b-a1f5-59a9a6dff0a6\">Loading BokehJS ...</span>\n",
       "    </div>\n"
      ]
     },
     "metadata": {},
     "output_type": "display_data"
    },
    {
     "data": {
      "application/javascript": "'use strict';\n(function(root) {\n  function now() {\n    return new Date();\n  }\n\n  const force = true;\n\n  if (typeof root._bokeh_onload_callbacks === \"undefined\" || force === true) {\n    root._bokeh_onload_callbacks = [];\n    root._bokeh_is_loading = undefined;\n  }\n\nconst JS_MIME_TYPE = 'application/javascript';\n  const HTML_MIME_TYPE = 'text/html';\n  const EXEC_MIME_TYPE = 'application/vnd.bokehjs_exec.v0+json';\n  const CLASS_NAME = 'output_bokeh rendered_html';\n\n  /**\n   * Render data to the DOM node\n   */\n  function render(props, node) {\n    const script = document.createElement(\"script\");\n    node.appendChild(script);\n  }\n\n  /**\n   * Handle when an output is cleared or removed\n   */\n  function handleClearOutput(event, handle) {\n    function drop(id) {\n      const view = Bokeh.index.get_by_id(id)\n      if (view != null) {\n        view.model.document.clear()\n        Bokeh.index.delete(view)\n      }\n    }\n\n    const cell = handle.cell;\n\n    const id = cell.output_area._bokeh_element_id;\n    const server_id = cell.output_area._bokeh_server_id;\n\n    // Clean up Bokeh references\n    if (id != null) {\n      drop(id)\n    }\n\n    if (server_id !== undefined) {\n      // Clean up Bokeh references\n      const cmd_clean = \"from bokeh.io.state import curstate; print(curstate().uuid_to_server['\" + server_id + \"'].get_sessions()[0].document.roots[0]._id)\";\n      cell.notebook.kernel.execute(cmd_clean, {\n        iopub: {\n          output: function(msg) {\n            const id = msg.content.text.trim()\n            drop(id)\n          }\n        }\n      });\n      // Destroy server and session\n      const cmd_destroy = \"import bokeh.io.notebook as ion; ion.destroy_server('\" + server_id + \"')\";\n      cell.notebook.kernel.execute(cmd_destroy);\n    }\n  }\n\n  /**\n   * Handle when a new output is added\n   */\n  function handleAddOutput(event, handle) {\n    const output_area = handle.output_area;\n    const output = handle.output;\n\n    // limit handleAddOutput to display_data with EXEC_MIME_TYPE content only\n    if ((output.output_type != \"display_data\") || (!Object.prototype.hasOwnProperty.call(output.data, EXEC_MIME_TYPE))) {\n      return\n    }\n\n    const toinsert = output_area.element.find(\".\" + CLASS_NAME.split(' ')[0]);\n\n    if (output.metadata[EXEC_MIME_TYPE][\"id\"] !== undefined) {\n      toinsert[toinsert.length - 1].firstChild.textContent = output.data[JS_MIME_TYPE];\n      // store reference to embed id on output_area\n      output_area._bokeh_element_id = output.metadata[EXEC_MIME_TYPE][\"id\"];\n    }\n    if (output.metadata[EXEC_MIME_TYPE][\"server_id\"] !== undefined) {\n      const bk_div = document.createElement(\"div\");\n      bk_div.innerHTML = output.data[HTML_MIME_TYPE];\n      const script_attrs = bk_div.children[0].attributes;\n      for (let i = 0; i < script_attrs.length; i++) {\n        toinsert[toinsert.length - 1].firstChild.setAttribute(script_attrs[i].name, script_attrs[i].value);\n        toinsert[toinsert.length - 1].firstChild.textContent = bk_div.children[0].textContent\n      }\n      // store reference to server id on output_area\n      output_area._bokeh_server_id = output.metadata[EXEC_MIME_TYPE][\"server_id\"];\n    }\n  }\n\n  function register_renderer(events, OutputArea) {\n\n    function append_mime(data, metadata, element) {\n      // create a DOM node to render to\n      const toinsert = this.create_output_subarea(\n        metadata,\n        CLASS_NAME,\n        EXEC_MIME_TYPE\n      );\n      this.keyboard_manager.register_events(toinsert);\n      // Render to node\n      const props = {data: data, metadata: metadata[EXEC_MIME_TYPE]};\n      render(props, toinsert[toinsert.length - 1]);\n      element.append(toinsert);\n      return toinsert\n    }\n\n    /* Handle when an output is cleared or removed */\n    events.on('clear_output.CodeCell', handleClearOutput);\n    events.on('delete.Cell', handleClearOutput);\n\n    /* Handle when a new output is added */\n    events.on('output_added.OutputArea', handleAddOutput);\n\n    /**\n     * Register the mime type and append_mime function with output_area\n     */\n    OutputArea.prototype.register_mime_type(EXEC_MIME_TYPE, append_mime, {\n      /* Is output safe? */\n      safe: true,\n      /* Index of renderer in `output_area.display_order` */\n      index: 0\n    });\n  }\n\n  // register the mime type if in Jupyter Notebook environment and previously unregistered\n  if (root.Jupyter !== undefined) {\n    const events = require('base/js/events');\n    const OutputArea = require('notebook/js/outputarea').OutputArea;\n\n    if (OutputArea.prototype.mime_types().indexOf(EXEC_MIME_TYPE) == -1) {\n      register_renderer(events, OutputArea);\n    }\n  }\n  if (typeof (root._bokeh_timeout) === \"undefined\" || force === true) {\n    root._bokeh_timeout = Date.now() + 5000;\n    root._bokeh_failed_load = false;\n  }\n\n  const NB_LOAD_WARNING = {'data': {'text/html':\n     \"<div style='background-color: #fdd'>\\n\"+\n     \"<p>\\n\"+\n     \"BokehJS does not appear to have successfully loaded. If loading BokehJS from CDN, this \\n\"+\n     \"may be due to a slow or bad network connection. Possible fixes:\\n\"+\n     \"</p>\\n\"+\n     \"<ul>\\n\"+\n     \"<li>re-rerun `output_notebook()` to attempt to load from CDN again, or</li>\\n\"+\n     \"<li>use INLINE resources instead, as so:</li>\\n\"+\n     \"</ul>\\n\"+\n     \"<code>\\n\"+\n     \"from bokeh.resources import INLINE\\n\"+\n     \"output_notebook(resources=INLINE)\\n\"+\n     \"</code>\\n\"+\n     \"</div>\"}};\n\n  function display_loaded(error = null) {\n    const el = document.getElementById(\"e6be3a3e-e5c6-4d1b-a1f5-59a9a6dff0a6\");\n    if (el != null) {\n      const html = (() => {\n        if (typeof root.Bokeh === \"undefined\") {\n          if (error == null) {\n            return \"BokehJS is loading ...\";\n          } else {\n            return \"BokehJS failed to load.\";\n          }\n        } else {\n          const prefix = `BokehJS ${root.Bokeh.version}`;\n          if (error == null) {\n            return `${prefix} successfully loaded.`;\n          } else {\n            return `${prefix} <b>encountered errors</b> while loading and may not function as expected.`;\n          }\n        }\n      })();\n      el.innerHTML = html;\n\n      if (error != null) {\n        const wrapper = document.createElement(\"div\");\n        wrapper.style.overflow = \"auto\";\n        wrapper.style.height = \"5em\";\n        wrapper.style.resize = \"vertical\";\n        const content = document.createElement(\"div\");\n        content.style.fontFamily = \"monospace\";\n        content.style.whiteSpace = \"pre-wrap\";\n        content.style.backgroundColor = \"rgb(255, 221, 221)\";\n        content.textContent = error.stack ?? error.toString();\n        wrapper.append(content);\n        el.append(wrapper);\n      }\n    } else if (Date.now() < root._bokeh_timeout) {\n      setTimeout(() => display_loaded(error), 100);\n    }\n  }\n\n  function run_callbacks() {\n    try {\n      root._bokeh_onload_callbacks.forEach(function(callback) {\n        if (callback != null)\n          callback();\n      });\n    } finally {\n      delete root._bokeh_onload_callbacks\n    }\n    console.debug(\"Bokeh: all callbacks have finished\");\n  }\n\n  function load_libs(css_urls, js_urls, callback) {\n    if (css_urls == null) css_urls = [];\n    if (js_urls == null) js_urls = [];\n\n    root._bokeh_onload_callbacks.push(callback);\n    if (root._bokeh_is_loading > 0) {\n      console.debug(\"Bokeh: BokehJS is being loaded, scheduling callback at\", now());\n      return null;\n    }\n    if (js_urls == null || js_urls.length === 0) {\n      run_callbacks();\n      return null;\n    }\n    console.debug(\"Bokeh: BokehJS not loaded, scheduling load and callback at\", now());\n    root._bokeh_is_loading = css_urls.length + js_urls.length;\n\n    function on_load() {\n      root._bokeh_is_loading--;\n      if (root._bokeh_is_loading === 0) {\n        console.debug(\"Bokeh: all BokehJS libraries/stylesheets loaded\");\n        run_callbacks()\n      }\n    }\n\n    function on_error(url) {\n      console.error(\"failed to load \" + url);\n    }\n\n    for (let i = 0; i < css_urls.length; i++) {\n      const url = css_urls[i];\n      const element = document.createElement(\"link\");\n      element.onload = on_load;\n      element.onerror = on_error.bind(null, url);\n      element.rel = \"stylesheet\";\n      element.type = \"text/css\";\n      element.href = url;\n      console.debug(\"Bokeh: injecting link tag for BokehJS stylesheet: \", url);\n      document.body.appendChild(element);\n    }\n\n    for (let i = 0; i < js_urls.length; i++) {\n      const url = js_urls[i];\n      const element = document.createElement('script');\n      element.onload = on_load;\n      element.onerror = on_error.bind(null, url);\n      element.async = false;\n      element.src = url;\n      console.debug(\"Bokeh: injecting script tag for BokehJS library: \", url);\n      document.head.appendChild(element);\n    }\n  };\n\n  function inject_raw_css(css) {\n    const element = document.createElement(\"style\");\n    element.appendChild(document.createTextNode(css));\n    document.body.appendChild(element);\n  }\n\n  const js_urls = [\"https://cdn.bokeh.org/bokeh/release/bokeh-3.5.2.min.js\", \"https://cdn.bokeh.org/bokeh/release/bokeh-gl-3.5.2.min.js\", \"https://cdn.bokeh.org/bokeh/release/bokeh-widgets-3.5.2.min.js\", \"https://cdn.bokeh.org/bokeh/release/bokeh-tables-3.5.2.min.js\", \"https://cdn.bokeh.org/bokeh/release/bokeh-mathjax-3.5.2.min.js\"];\n  const css_urls = [];\n\n  const inline_js = [    function(Bokeh) {\n      Bokeh.set_log_level(\"info\");\n    },\nfunction(Bokeh) {\n    }\n  ];\n\n  function run_inline_js() {\n    if (root.Bokeh !== undefined || force === true) {\n      try {\n            for (let i = 0; i < inline_js.length; i++) {\n      inline_js[i].call(root, root.Bokeh);\n    }\n\n      } catch (error) {display_loaded(error);throw error;\n      }if (force === true) {\n        display_loaded();\n      }} else if (Date.now() < root._bokeh_timeout) {\n      setTimeout(run_inline_js, 100);\n    } else if (!root._bokeh_failed_load) {\n      console.log(\"Bokeh: BokehJS failed to load within specified timeout.\");\n      root._bokeh_failed_load = true;\n    } else if (force !== true) {\n      const cell = $(document.getElementById(\"e6be3a3e-e5c6-4d1b-a1f5-59a9a6dff0a6\")).parents('.cell').data().cell;\n      cell.output_area.append_execute_result(NB_LOAD_WARNING)\n    }\n  }\n\n  if (root._bokeh_is_loading === 0) {\n    console.debug(\"Bokeh: BokehJS loaded, going straight to plotting\");\n    run_inline_js();\n  } else {\n    load_libs(css_urls, js_urls, function() {\n      console.debug(\"Bokeh: BokehJS plotting callback run at\", now());\n      run_inline_js();\n    });\n  }\n}(window));",
      "application/vnd.bokehjs_load.v0+json": "'use strict';\n(function(root) {\n  function now() {\n    return new Date();\n  }\n\n  const force = true;\n\n  if (typeof root._bokeh_onload_callbacks === \"undefined\" || force === true) {\n    root._bokeh_onload_callbacks = [];\n    root._bokeh_is_loading = undefined;\n  }\n\n\n  if (typeof (root._bokeh_timeout) === \"undefined\" || force === true) {\n    root._bokeh_timeout = Date.now() + 5000;\n    root._bokeh_failed_load = false;\n  }\n\n  const NB_LOAD_WARNING = {'data': {'text/html':\n     \"<div style='background-color: #fdd'>\\n\"+\n     \"<p>\\n\"+\n     \"BokehJS does not appear to have successfully loaded. If loading BokehJS from CDN, this \\n\"+\n     \"may be due to a slow or bad network connection. Possible fixes:\\n\"+\n     \"</p>\\n\"+\n     \"<ul>\\n\"+\n     \"<li>re-rerun `output_notebook()` to attempt to load from CDN again, or</li>\\n\"+\n     \"<li>use INLINE resources instead, as so:</li>\\n\"+\n     \"</ul>\\n\"+\n     \"<code>\\n\"+\n     \"from bokeh.resources import INLINE\\n\"+\n     \"output_notebook(resources=INLINE)\\n\"+\n     \"</code>\\n\"+\n     \"</div>\"}};\n\n  function display_loaded(error = null) {\n    const el = document.getElementById(\"e6be3a3e-e5c6-4d1b-a1f5-59a9a6dff0a6\");\n    if (el != null) {\n      const html = (() => {\n        if (typeof root.Bokeh === \"undefined\") {\n          if (error == null) {\n            return \"BokehJS is loading ...\";\n          } else {\n            return \"BokehJS failed to load.\";\n          }\n        } else {\n          const prefix = `BokehJS ${root.Bokeh.version}`;\n          if (error == null) {\n            return `${prefix} successfully loaded.`;\n          } else {\n            return `${prefix} <b>encountered errors</b> while loading and may not function as expected.`;\n          }\n        }\n      })();\n      el.innerHTML = html;\n\n      if (error != null) {\n        const wrapper = document.createElement(\"div\");\n        wrapper.style.overflow = \"auto\";\n        wrapper.style.height = \"5em\";\n        wrapper.style.resize = \"vertical\";\n        const content = document.createElement(\"div\");\n        content.style.fontFamily = \"monospace\";\n        content.style.whiteSpace = \"pre-wrap\";\n        content.style.backgroundColor = \"rgb(255, 221, 221)\";\n        content.textContent = error.stack ?? error.toString();\n        wrapper.append(content);\n        el.append(wrapper);\n      }\n    } else if (Date.now() < root._bokeh_timeout) {\n      setTimeout(() => display_loaded(error), 100);\n    }\n  }\n\n  function run_callbacks() {\n    try {\n      root._bokeh_onload_callbacks.forEach(function(callback) {\n        if (callback != null)\n          callback();\n      });\n    } finally {\n      delete root._bokeh_onload_callbacks\n    }\n    console.debug(\"Bokeh: all callbacks have finished\");\n  }\n\n  function load_libs(css_urls, js_urls, callback) {\n    if (css_urls == null) css_urls = [];\n    if (js_urls == null) js_urls = [];\n\n    root._bokeh_onload_callbacks.push(callback);\n    if (root._bokeh_is_loading > 0) {\n      console.debug(\"Bokeh: BokehJS is being loaded, scheduling callback at\", now());\n      return null;\n    }\n    if (js_urls == null || js_urls.length === 0) {\n      run_callbacks();\n      return null;\n    }\n    console.debug(\"Bokeh: BokehJS not loaded, scheduling load and callback at\", now());\n    root._bokeh_is_loading = css_urls.length + js_urls.length;\n\n    function on_load() {\n      root._bokeh_is_loading--;\n      if (root._bokeh_is_loading === 0) {\n        console.debug(\"Bokeh: all BokehJS libraries/stylesheets loaded\");\n        run_callbacks()\n      }\n    }\n\n    function on_error(url) {\n      console.error(\"failed to load \" + url);\n    }\n\n    for (let i = 0; i < css_urls.length; i++) {\n      const url = css_urls[i];\n      const element = document.createElement(\"link\");\n      element.onload = on_load;\n      element.onerror = on_error.bind(null, url);\n      element.rel = \"stylesheet\";\n      element.type = \"text/css\";\n      element.href = url;\n      console.debug(\"Bokeh: injecting link tag for BokehJS stylesheet: \", url);\n      document.body.appendChild(element);\n    }\n\n    for (let i = 0; i < js_urls.length; i++) {\n      const url = js_urls[i];\n      const element = document.createElement('script');\n      element.onload = on_load;\n      element.onerror = on_error.bind(null, url);\n      element.async = false;\n      element.src = url;\n      console.debug(\"Bokeh: injecting script tag for BokehJS library: \", url);\n      document.head.appendChild(element);\n    }\n  };\n\n  function inject_raw_css(css) {\n    const element = document.createElement(\"style\");\n    element.appendChild(document.createTextNode(css));\n    document.body.appendChild(element);\n  }\n\n  const js_urls = [\"https://cdn.bokeh.org/bokeh/release/bokeh-3.5.2.min.js\", \"https://cdn.bokeh.org/bokeh/release/bokeh-gl-3.5.2.min.js\", \"https://cdn.bokeh.org/bokeh/release/bokeh-widgets-3.5.2.min.js\", \"https://cdn.bokeh.org/bokeh/release/bokeh-tables-3.5.2.min.js\", \"https://cdn.bokeh.org/bokeh/release/bokeh-mathjax-3.5.2.min.js\"];\n  const css_urls = [];\n\n  const inline_js = [    function(Bokeh) {\n      Bokeh.set_log_level(\"info\");\n    },\nfunction(Bokeh) {\n    }\n  ];\n\n  function run_inline_js() {\n    if (root.Bokeh !== undefined || force === true) {\n      try {\n            for (let i = 0; i < inline_js.length; i++) {\n      inline_js[i].call(root, root.Bokeh);\n    }\n\n      } catch (error) {display_loaded(error);throw error;\n      }if (force === true) {\n        display_loaded();\n      }} else if (Date.now() < root._bokeh_timeout) {\n      setTimeout(run_inline_js, 100);\n    } else if (!root._bokeh_failed_load) {\n      console.log(\"Bokeh: BokehJS failed to load within specified timeout.\");\n      root._bokeh_failed_load = true;\n    } else if (force !== true) {\n      const cell = $(document.getElementById(\"e6be3a3e-e5c6-4d1b-a1f5-59a9a6dff0a6\")).parents('.cell').data().cell;\n      cell.output_area.append_execute_result(NB_LOAD_WARNING)\n    }\n  }\n\n  if (root._bokeh_is_loading === 0) {\n    console.debug(\"Bokeh: BokehJS loaded, going straight to plotting\");\n    run_inline_js();\n  } else {\n    load_libs(css_urls, js_urls, function() {\n      console.debug(\"Bokeh: BokehJS plotting callback run at\", now());\n      run_inline_js();\n    });\n  }\n}(window));"
     },
     "metadata": {},
     "output_type": "display_data"
    }
   ],
   "execution_count": 1
  },
  {
   "cell_type": "code",
   "metadata": {
    "ExecuteTime": {
     "end_time": "2024-09-10T08:18:46.217214Z",
     "start_time": "2024-09-10T08:18:46.215267Z"
    }
   },
   "source": [
    "# Define cities and their respective CRS\n",
    "cities = {\n",
    "    \"Ariel\": \"EPSG:2039\",\n",
    "    \"Acre, Israel\": \"EPSG:2039\",\n",
    "    \"Harish\": \"EPSG:2039\", \n",
    "    \"Modiin\": \"EPSG:2039\",   \n",
    "    \"Carmiel\": \"EPSG:2039\", \n",
    "    \"Holon\":  \"EPSG:2039\",\n",
    "    \"Hadera\": \"EPSG:2039\",\n",
    "    \"Bnei Brak\": \"EPSG:2039\",\n",
    "    \"Herzliya\": \"EPSG:2039\",\n",
    "    \"Rehovot\": \"EPSG:2039\",\n",
    "    \"Haifa\": \"EPSG:2039\",  # Replace with actual local CRS for each city\n",
    "    \"Tel Aviv\": \"EPSG:2039\",\n",
    "    \"Jerusalem\": \"EPSG:2039\",\n",
    "    \"Beer Sheva\": \"EPSG:2039\"\n",
    "}"
   ],
   "outputs": [],
   "execution_count": 2
  },
  {
   "cell_type": "code",
   "metadata": {
    "ExecuteTime": {
     "end_time": "2024-09-10T08:18:46.220734Z",
     "start_time": "2024-09-10T08:18:46.217678Z"
    }
   },
   "source": [
    "# Read the configuration file\n",
    "config = configparser.ConfigParser()\n",
    "config_file = 'config.ini'\n",
    "\n",
    "# Check if file exists\n",
    "if not os.path.isfile(config_file):\n",
    "    # Create a simple config file\n",
    "    config['Paths'] = {\n",
    "        'gdb_folder': '/path/to/your/gdb/folder',\n",
    "        'output_dir': '/path/to/your/output/folder'\n",
    "    }\n",
    "    with open(config_file, 'w') as configfile:\n",
    "        config.write(configfile)\n",
    "    print(f\"Created configuration file '{config_file}'.\")\n",
    "\n",
    "# Read the configuration file\n",
    "config.read(config_file)\n",
    "gdb_folder = config['Paths']['gdb_folder']\n",
    "output_dir = config['Paths']['output_dir']\n",
    "\n",
    "# Ensure the directory exists\n",
    "if not os.path.exists(output_dir):\n",
    "    os.makedirs(output_dir)"
   ],
   "outputs": [],
   "execution_count": 3
  },
  {
   "metadata": {
    "ExecuteTime": {
     "end_time": "2024-09-10T08:19:23.564180Z",
     "start_time": "2024-09-10T08:18:46.221841Z"
    }
   },
   "cell_type": "code",
   "source": [
    "\n",
    "# Dictionaries to store data for each city\n",
    "buildings_data = {}\n",
    "streets_data = {}\n",
    "tessellation_data = {}\n",
    "\n",
    "# Loop through each city calculate or load buildings, streets and tessealtions\n",
    "for city, local_crs in cities.items():\n",
    "    print(f\"Processing {city}\")\n",
    "\n",
    "    # File paths for the saved data\n",
    "    buildings_file = os.path.join(output_dir, f\"{city}_buildings.geojson\")\n",
    "    tessellation_file = os.path.join(output_dir, f\"{city}_tessellation.geojson\")\n",
    "    streets_file = os.path.join(output_dir, f\"{city}_streets.geojson\")\n",
    "\n",
    "    # Check if files already exist, if so, load them\n",
    "    if os.path.exists(buildings_file) and os.path.exists(tessellation_file) and os.path.exists(streets_file):\n",
    "        print(f\"Loading saved data for {city}...\")\n",
    "        buildings = gpd.read_file(buildings_file)\n",
    "        tessellation = gpd.read_file(tessellation_file)\n",
    "        streets = gpd.read_file(streets_file)\n",
    "    else:\n",
    "        print(f\"Fetching and processing data for {city}...\")\n",
    "        # Get buildings and street data\n",
    "        buildings = osmnx.geometries.geometries_from_place(city, tags={'building': True})\n",
    "        buildings = buildings[buildings.geom_type == \"Polygon\"].reset_index(drop=True)\n",
    "        buildings = buildings[[\"geometry\"]].to_crs(local_crs)\n",
    "        buildings[\"uID\"] = range(len(buildings))\n",
    "\n",
    "        osm_graph = osmnx.graph_from_place(city, network_type='drive')\n",
    "        osm_graph = osmnx.projection.project_graph(osm_graph, to_crs=local_crs)\n",
    "\n",
    "        streets = osmnx.graph_to_gdfs(\n",
    "            osm_graph,\n",
    "            nodes=False,\n",
    "            edges=True,\n",
    "            node_geometry=False,\n",
    "            fill_edge_geometry=True\n",
    "        )\n",
    "        streets = momepy.remove_false_nodes(streets)\n",
    "        streets = streets[[\"geometry\"]]\n",
    "        streets[\"nID\"] = range(len(streets))\n",
    "\n",
    "        # Generate tessellation and perform metrics\n",
    "        limit = momepy.buffered_limit(buildings, 100)\n",
    "        tessellation = momepy.Tessellation(buildings, \"uID\", limit, verbose=False, segment=1)\n",
    "        tessellation = tessellation.tessellation\n",
    "\n",
    "        buildings = buildings.sjoin_nearest(streets, max_distance=1000, how=\"left\")\n",
    "        buildings = buildings.drop_duplicates(\"uID\").drop(columns=\"index_right\")\n",
    "        tessellation = tessellation.merge(buildings[['uID', 'nID']], on='uID', how='left')\n",
    "\n",
    "        # Save the data for future use\n",
    "        print(f\"Saving data for {city}...\")\n",
    "        buildings.to_file(buildings_file, driver=\"GeoJSON\")\n",
    "        tessellation.to_file(tessellation_file, driver=\"GeoJSON\")\n",
    "        streets.to_file(streets_file, driver=\"GeoJSON\")\n",
    "    \n",
    "    # Store the data in dictionaries\n",
    "    buildings_data[city] = buildings\n",
    "    streets_data[city] = streets\n",
    "    tessellation_data[city] = tessellation"
   ],
   "outputs": [
    {
     "name": "stdout",
     "output_type": "stream",
     "text": [
      "Processing Ariel\n",
      "Loading saved data for Ariel...\n",
      "Processing Acre, Israel\n",
      "Loading saved data for Acre, Israel...\n",
      "Processing Harish\n",
      "Loading saved data for Harish...\n",
      "Processing Modiin\n",
      "Loading saved data for Modiin...\n",
      "Processing Carmiel\n",
      "Loading saved data for Carmiel...\n",
      "Processing Holon\n",
      "Loading saved data for Holon...\n",
      "Processing Hadera\n",
      "Loading saved data for Hadera...\n",
      "Processing Bnei Brak\n",
      "Loading saved data for Bnei Brak...\n",
      "Processing Herzliya\n",
      "Loading saved data for Herzliya...\n",
      "Processing Rehovot\n",
      "Loading saved data for Rehovot...\n",
      "Processing Haifa\n",
      "Loading saved data for Haifa...\n",
      "Processing Tel Aviv\n",
      "Loading saved data for Tel Aviv...\n",
      "Processing Jerusalem\n",
      "Loading saved data for Jerusalem...\n",
      "Processing Beer Sheva\n",
      "Loading saved data for Beer Sheva...\n"
     ]
    }
   ],
   "execution_count": 4
  },
  {
   "cell_type": "markdown",
   "metadata": {},
   "source": [
    "neighbors distance Q1"
   ]
  },
  {
   "cell_type": "code",
   "metadata": {
    "ExecuteTime": {
     "end_time": "2024-09-10T08:19:23.566634Z",
     "start_time": "2024-09-10T08:19:23.564794Z"
    }
   },
   "source": [
    "# create output directories\n",
    "for dirname in [\"neighbor_distance_Q1\", \"neighbor_distance_Q3\", \"shared_walls_length\", \"covered_area\"]:\n",
    "    dir_to_make = os.path.join(output_dir, dirname)\n",
    "    if not os.path.exists(dir_to_make):\n",
    "        os.makedirs(dir_to_make)"
   ],
   "outputs": [],
   "execution_count": 5
  },
  {
   "metadata": {
    "ExecuteTime": {
     "end_time": "2024-09-10T08:20:04.265758Z",
     "start_time": "2024-09-10T08:19:23.567161Z"
    }
   },
   "cell_type": "code",
   "source": [
    "output_df_dir = os.path.join(output_dir, \"neighbor_distance_Q1\") # Replace with your desired folder path\n",
    "\n",
    "# Dictionary to store the DataFrame for each city\n",
    "city_metric_dfs = {}\n",
    "\n",
    "# Loop through each city to calculate metrics based on stored data\n",
    "for city in buildings_data.keys():\n",
    "    print(f\"Calculating metrics for {city}...\")\n",
    "\n",
    "    # Retrieve the data for the city from the dictionaries\n",
    "    buildings = buildings_data[city]\n",
    "    streets = streets_data[city]\n",
    "    tessellation = tessellation_data[city]  \n",
    "    \n",
    "    queen_1 = libpysal.weights.contiguity.Queen.from_dataframe(tessellation, ids=\"uID\", silence_warnings=True)\n",
    "    tessellation[\"neighbors\"] = momepy.Neighbors(tessellation, queen_1, \"uID\", weighted=True, verbose=False).series\n",
    "    \n",
    "    with warnings.catch_warnings():\n",
    "        warnings.simplefilter(\"ignore\")\n",
    "        buildings[\"neighbor_distance\"] = momepy.NeighborDistance(buildings, queen_1, \"uID\", verbose=False).series\n",
    "\n",
    "    buildings[\"log_neighbor_distance\"] = np.log(buildings[\"neighbor_distance\"] + 1) / np.log(10)\n",
    "\n",
    "    # Create a DataFrame containing the necessary metrics for this city\n",
    "    city_metrics_df = buildings[[\"uID\", \"neighbor_distance\", \"log_neighbor_distance\"]].copy()\n",
    "\n",
    "    # Store the DataFrame in the dictionary\n",
    "    city_metric_dfs[city] = city_metrics_df\n",
    "\n",
    "    # Display the DataFrame for the current city\n",
    "    print(f\"\\nMetrics DataFrame for {city}:\")\n",
    "    print(city_metric_dfs[city].head())\n",
    "\n",
    "    # Define the output file path using city name and metric\n",
    "    output_file = os.path.join(output_df_dir, f\"{city}_neighbor_distance_Q1.csv\")\n",
    "\n",
    "    # Save the DataFrame as a CSV file\n",
    "    city_metrics_df.to_csv(output_file, index=False)\n",
    "\n",
    "    print(f\"Saved metrics DataFrame for {city} to {output_file}\")\n"
   ],
   "outputs": [
    {
     "name": "stdout",
     "output_type": "stream",
     "text": [
      "Calculating metrics for Ariel...\n"
     ]
    },
    {
     "name": "stderr",
     "output_type": "stream",
     "text": [
      "/var/folders/vq/5fctqqys06l8n2l1cjxhxvp80000gn/T/ipykernel_70019/1836647266.py:16: FutureWarning: Class based API like `momepy.Neighbors` is deprecated. Replace it with `momepy.neighbors` to use functional API instead or pin momepy version <1.0. Class-based API will be removed in 1.0. \n",
      "  tessellation[\"neighbors\"] = momepy.Neighbors(tessellation, queen_1, \"uID\", weighted=True, verbose=False).series\n"
     ]
    },
    {
     "name": "stdout",
     "output_type": "stream",
     "text": [
      "\n",
      "Metrics DataFrame for Ariel:\n",
      "   uID  neighbor_distance  log_neighbor_distance\n",
      "0    0          44.559869               1.658582\n",
      "1    1          70.371920               1.853527\n",
      "2    2          20.534444               1.333134\n",
      "3    3          16.153598               1.234355\n",
      "4    4          30.653729               1.500425\n",
      "Saved metrics DataFrame for Ariel to /Users/dpelleg/work/dssg/DSSG_mapping_Jerus/output/neighbor_distance_Q1/Ariel_neighbor_distance_Q1.csv\n",
      "Calculating metrics for Acre, Israel...\n"
     ]
    },
    {
     "name": "stderr",
     "output_type": "stream",
     "text": [
      "/var/folders/vq/5fctqqys06l8n2l1cjxhxvp80000gn/T/ipykernel_70019/1836647266.py:16: FutureWarning: Class based API like `momepy.Neighbors` is deprecated. Replace it with `momepy.neighbors` to use functional API instead or pin momepy version <1.0. Class-based API will be removed in 1.0. \n",
      "  tessellation[\"neighbors\"] = momepy.Neighbors(tessellation, queen_1, \"uID\", weighted=True, verbose=False).series\n"
     ]
    },
    {
     "name": "stdout",
     "output_type": "stream",
     "text": [
      "\n",
      "Metrics DataFrame for Acre, Israel:\n",
      "   uID  neighbor_distance  log_neighbor_distance\n",
      "0    0          60.604928               1.789615\n",
      "1    1          91.686225               1.967015\n",
      "2    2           0.000000               0.000000\n",
      "3    3           0.000000               0.000000\n",
      "4    4           7.123223               0.909728\n",
      "Saved metrics DataFrame for Acre, Israel to /Users/dpelleg/work/dssg/DSSG_mapping_Jerus/output/neighbor_distance_Q1/Acre, Israel_neighbor_distance_Q1.csv\n",
      "Calculating metrics for Harish...\n",
      "\n",
      "Metrics DataFrame for Harish:\n",
      "   uID  neighbor_distance  log_neighbor_distance\n",
      "0    0          60.255488               1.787145\n",
      "1    1          68.789163               1.843788\n",
      "2    2          29.984734               1.491148\n",
      "3    3          38.641420               1.598149\n",
      "4    4          50.426352               1.711186\n",
      "Saved metrics DataFrame for Harish to /Users/dpelleg/work/dssg/DSSG_mapping_Jerus/output/neighbor_distance_Q1/Harish_neighbor_distance_Q1.csv\n",
      "Calculating metrics for Modiin...\n"
     ]
    },
    {
     "name": "stderr",
     "output_type": "stream",
     "text": [
      "/var/folders/vq/5fctqqys06l8n2l1cjxhxvp80000gn/T/ipykernel_70019/1836647266.py:16: FutureWarning: Class based API like `momepy.Neighbors` is deprecated. Replace it with `momepy.neighbors` to use functional API instead or pin momepy version <1.0. Class-based API will be removed in 1.0. \n",
      "  tessellation[\"neighbors\"] = momepy.Neighbors(tessellation, queen_1, \"uID\", weighted=True, verbose=False).series\n",
      "/var/folders/vq/5fctqqys06l8n2l1cjxhxvp80000gn/T/ipykernel_70019/1836647266.py:16: FutureWarning: Class based API like `momepy.Neighbors` is deprecated. Replace it with `momepy.neighbors` to use functional API instead or pin momepy version <1.0. Class-based API will be removed in 1.0. \n",
      "  tessellation[\"neighbors\"] = momepy.Neighbors(tessellation, queen_1, \"uID\", weighted=True, verbose=False).series\n"
     ]
    },
    {
     "name": "stdout",
     "output_type": "stream",
     "text": [
      "\n",
      "Metrics DataFrame for Modiin:\n",
      "   uID  neighbor_distance  log_neighbor_distance\n",
      "0    0          39.405827               1.606444\n",
      "1    1          51.689191               1.721722\n",
      "2    2          78.361407               1.899609\n",
      "3    3          92.713786               1.971803\n",
      "4    4          31.552228               1.512581\n",
      "Saved metrics DataFrame for Modiin to /Users/dpelleg/work/dssg/DSSG_mapping_Jerus/output/neighbor_distance_Q1/Modiin_neighbor_distance_Q1.csv\n",
      "Calculating metrics for Carmiel...\n"
     ]
    },
    {
     "name": "stderr",
     "output_type": "stream",
     "text": [
      "/var/folders/vq/5fctqqys06l8n2l1cjxhxvp80000gn/T/ipykernel_70019/1836647266.py:16: FutureWarning: Class based API like `momepy.Neighbors` is deprecated. Replace it with `momepy.neighbors` to use functional API instead or pin momepy version <1.0. Class-based API will be removed in 1.0. \n",
      "  tessellation[\"neighbors\"] = momepy.Neighbors(tessellation, queen_1, \"uID\", weighted=True, verbose=False).series\n"
     ]
    },
    {
     "name": "stdout",
     "output_type": "stream",
     "text": [
      "\n",
      "Metrics DataFrame for Carmiel:\n",
      "   uID  neighbor_distance  log_neighbor_distance\n",
      "0    0          96.604075               1.989468\n",
      "1    1          75.407140               1.883134\n",
      "2    2          48.051754               1.690655\n",
      "3    3          41.961878               1.633083\n",
      "4    4          43.306201               1.646465\n",
      "Saved metrics DataFrame for Carmiel to /Users/dpelleg/work/dssg/DSSG_mapping_Jerus/output/neighbor_distance_Q1/Carmiel_neighbor_distance_Q1.csv\n",
      "Calculating metrics for Holon...\n"
     ]
    },
    {
     "name": "stderr",
     "output_type": "stream",
     "text": [
      "/var/folders/vq/5fctqqys06l8n2l1cjxhxvp80000gn/T/ipykernel_70019/1836647266.py:16: FutureWarning: Class based API like `momepy.Neighbors` is deprecated. Replace it with `momepy.neighbors` to use functional API instead or pin momepy version <1.0. Class-based API will be removed in 1.0. \n",
      "  tessellation[\"neighbors\"] = momepy.Neighbors(tessellation, queen_1, \"uID\", weighted=True, verbose=False).series\n"
     ]
    },
    {
     "name": "stdout",
     "output_type": "stream",
     "text": [
      "\n",
      "Metrics DataFrame for Holon:\n",
      "   uID  neighbor_distance  log_neighbor_distance\n",
      "0    0          73.133153               1.870012\n",
      "1    1          89.090495               1.954679\n",
      "2    2         114.656982               2.063172\n",
      "3    3          38.876343               1.600715\n",
      "4    4          35.234797               1.559126\n",
      "Saved metrics DataFrame for Holon to /Users/dpelleg/work/dssg/DSSG_mapping_Jerus/output/neighbor_distance_Q1/Holon_neighbor_distance_Q1.csv\n",
      "Calculating metrics for Hadera...\n"
     ]
    },
    {
     "name": "stderr",
     "output_type": "stream",
     "text": [
      "/var/folders/vq/5fctqqys06l8n2l1cjxhxvp80000gn/T/ipykernel_70019/1836647266.py:16: FutureWarning: Class based API like `momepy.Neighbors` is deprecated. Replace it with `momepy.neighbors` to use functional API instead or pin momepy version <1.0. Class-based API will be removed in 1.0. \n",
      "  tessellation[\"neighbors\"] = momepy.Neighbors(tessellation, queen_1, \"uID\", weighted=True, verbose=False).series\n"
     ]
    },
    {
     "name": "stdout",
     "output_type": "stream",
     "text": [
      "\n",
      "Metrics DataFrame for Hadera:\n",
      "   uID  neighbor_distance  log_neighbor_distance\n",
      "0    0          73.737704               1.873540\n",
      "1    1         124.848059               2.099847\n",
      "2    2         117.362208               2.073213\n",
      "3    3         101.634512               2.011293\n",
      "4    4          51.744698               1.722179\n",
      "Saved metrics DataFrame for Hadera to /Users/dpelleg/work/dssg/DSSG_mapping_Jerus/output/neighbor_distance_Q1/Hadera_neighbor_distance_Q1.csv\n",
      "Calculating metrics for Bnei Brak...\n"
     ]
    },
    {
     "name": "stderr",
     "output_type": "stream",
     "text": [
      "/var/folders/vq/5fctqqys06l8n2l1cjxhxvp80000gn/T/ipykernel_70019/1836647266.py:16: FutureWarning: Class based API like `momepy.Neighbors` is deprecated. Replace it with `momepy.neighbors` to use functional API instead or pin momepy version <1.0. Class-based API will be removed in 1.0. \n",
      "  tessellation[\"neighbors\"] = momepy.Neighbors(tessellation, queen_1, \"uID\", weighted=True, verbose=False).series\n"
     ]
    },
    {
     "name": "stdout",
     "output_type": "stream",
     "text": [
      "\n",
      "Metrics DataFrame for Bnei Brak:\n",
      "   uID  neighbor_distance  log_neighbor_distance\n",
      "0    0          48.197328               1.691942\n",
      "1    1           7.920611               0.950395\n",
      "2    2          98.541979               1.998006\n",
      "3    3          51.861638               1.723141\n",
      "4    4          58.657537               1.775665\n",
      "Saved metrics DataFrame for Bnei Brak to /Users/dpelleg/work/dssg/DSSG_mapping_Jerus/output/neighbor_distance_Q1/Bnei Brak_neighbor_distance_Q1.csv\n",
      "Calculating metrics for Herzliya...\n"
     ]
    },
    {
     "name": "stderr",
     "output_type": "stream",
     "text": [
      "/var/folders/vq/5fctqqys06l8n2l1cjxhxvp80000gn/T/ipykernel_70019/1836647266.py:16: FutureWarning: Class based API like `momepy.Neighbors` is deprecated. Replace it with `momepy.neighbors` to use functional API instead or pin momepy version <1.0. Class-based API will be removed in 1.0. \n",
      "  tessellation[\"neighbors\"] = momepy.Neighbors(tessellation, queen_1, \"uID\", weighted=True, verbose=False).series\n"
     ]
    },
    {
     "name": "stdout",
     "output_type": "stream",
     "text": [
      "\n",
      "Metrics DataFrame for Herzliya:\n",
      "   uID  neighbor_distance  log_neighbor_distance\n",
      "0    0          45.906965               1.671237\n",
      "1    1          74.725784               1.879244\n",
      "2    2          75.721639               1.884918\n",
      "3    3           2.446010               0.537317\n",
      "4    4          34.326570               1.548101\n",
      "Saved metrics DataFrame for Herzliya to /Users/dpelleg/work/dssg/DSSG_mapping_Jerus/output/neighbor_distance_Q1/Herzliya_neighbor_distance_Q1.csv\n",
      "Calculating metrics for Rehovot...\n"
     ]
    },
    {
     "name": "stderr",
     "output_type": "stream",
     "text": [
      "/var/folders/vq/5fctqqys06l8n2l1cjxhxvp80000gn/T/ipykernel_70019/1836647266.py:16: FutureWarning: Class based API like `momepy.Neighbors` is deprecated. Replace it with `momepy.neighbors` to use functional API instead or pin momepy version <1.0. Class-based API will be removed in 1.0. \n",
      "  tessellation[\"neighbors\"] = momepy.Neighbors(tessellation, queen_1, \"uID\", weighted=True, verbose=False).series\n"
     ]
    },
    {
     "name": "stdout",
     "output_type": "stream",
     "text": [
      "\n",
      "Metrics DataFrame for Rehovot:\n",
      "   uID  neighbor_distance  log_neighbor_distance\n",
      "0    0          16.970738               1.254566\n",
      "1    1          39.205973               1.604291\n",
      "2    2          77.027843               1.892250\n",
      "3    3          25.408596               1.421745\n",
      "4    4          13.722292               1.167975\n",
      "Saved metrics DataFrame for Rehovot to /Users/dpelleg/work/dssg/DSSG_mapping_Jerus/output/neighbor_distance_Q1/Rehovot_neighbor_distance_Q1.csv\n",
      "Calculating metrics for Haifa...\n"
     ]
    },
    {
     "name": "stderr",
     "output_type": "stream",
     "text": [
      "/var/folders/vq/5fctqqys06l8n2l1cjxhxvp80000gn/T/ipykernel_70019/1836647266.py:16: FutureWarning: Class based API like `momepy.Neighbors` is deprecated. Replace it with `momepy.neighbors` to use functional API instead or pin momepy version <1.0. Class-based API will be removed in 1.0. \n",
      "  tessellation[\"neighbors\"] = momepy.Neighbors(tessellation, queen_1, \"uID\", weighted=True, verbose=False).series\n"
     ]
    },
    {
     "name": "stdout",
     "output_type": "stream",
     "text": [
      "\n",
      "Metrics DataFrame for Haifa:\n",
      "   uID  neighbor_distance  log_neighbor_distance\n",
      "0    0          94.044938               1.977929\n",
      "1    1          89.765109               1.957919\n",
      "2    2         102.276107               2.014000\n",
      "3    3          31.052537               1.505862\n",
      "4    4          32.589292               1.526201\n",
      "Saved metrics DataFrame for Haifa to /Users/dpelleg/work/dssg/DSSG_mapping_Jerus/output/neighbor_distance_Q1/Haifa_neighbor_distance_Q1.csv\n",
      "Calculating metrics for Tel Aviv...\n"
     ]
    },
    {
     "name": "stderr",
     "output_type": "stream",
     "text": [
      "/var/folders/vq/5fctqqys06l8n2l1cjxhxvp80000gn/T/ipykernel_70019/1836647266.py:16: FutureWarning: Class based API like `momepy.Neighbors` is deprecated. Replace it with `momepy.neighbors` to use functional API instead or pin momepy version <1.0. Class-based API will be removed in 1.0. \n",
      "  tessellation[\"neighbors\"] = momepy.Neighbors(tessellation, queen_1, \"uID\", weighted=True, verbose=False).series\n"
     ]
    },
    {
     "name": "stdout",
     "output_type": "stream",
     "text": [
      "\n",
      "Metrics DataFrame for Tel Aviv:\n",
      "   uID  neighbor_distance  log_neighbor_distance\n",
      "0    0          47.506637               1.685801\n",
      "1    1          67.795453               1.837560\n",
      "2    2         119.657735               2.081555\n",
      "3    3          32.044263               1.519096\n",
      "4    4         144.011729               2.161403\n",
      "Saved metrics DataFrame for Tel Aviv to /Users/dpelleg/work/dssg/DSSG_mapping_Jerus/output/neighbor_distance_Q1/Tel Aviv_neighbor_distance_Q1.csv\n",
      "Calculating metrics for Jerusalem...\n"
     ]
    },
    {
     "name": "stderr",
     "output_type": "stream",
     "text": [
      "/var/folders/vq/5fctqqys06l8n2l1cjxhxvp80000gn/T/ipykernel_70019/1836647266.py:16: FutureWarning: Class based API like `momepy.Neighbors` is deprecated. Replace it with `momepy.neighbors` to use functional API instead or pin momepy version <1.0. Class-based API will be removed in 1.0. \n",
      "  tessellation[\"neighbors\"] = momepy.Neighbors(tessellation, queen_1, \"uID\", weighted=True, verbose=False).series\n"
     ]
    },
    {
     "name": "stdout",
     "output_type": "stream",
     "text": [
      "\n",
      "Metrics DataFrame for Jerusalem:\n",
      "   uID  neighbor_distance  log_neighbor_distance\n",
      "0    0          41.893135               1.632388\n",
      "1    1          20.728500               1.337030\n",
      "2    2         122.810058               2.092756\n",
      "3    3           3.291272               0.632586\n",
      "4    4           2.412582               0.533083\n",
      "Saved metrics DataFrame for Jerusalem to /Users/dpelleg/work/dssg/DSSG_mapping_Jerus/output/neighbor_distance_Q1/Jerusalem_neighbor_distance_Q1.csv\n",
      "Calculating metrics for Beer Sheva...\n"
     ]
    },
    {
     "name": "stderr",
     "output_type": "stream",
     "text": [
      "/var/folders/vq/5fctqqys06l8n2l1cjxhxvp80000gn/T/ipykernel_70019/1836647266.py:16: FutureWarning: Class based API like `momepy.Neighbors` is deprecated. Replace it with `momepy.neighbors` to use functional API instead or pin momepy version <1.0. Class-based API will be removed in 1.0. \n",
      "  tessellation[\"neighbors\"] = momepy.Neighbors(tessellation, queen_1, \"uID\", weighted=True, verbose=False).series\n"
     ]
    },
    {
     "name": "stdout",
     "output_type": "stream",
     "text": [
      "\n",
      "Metrics DataFrame for Beer Sheva:\n",
      "   uID  neighbor_distance  log_neighbor_distance\n",
      "0    0          69.386202               1.847488\n",
      "1    1          14.689683               1.195614\n",
      "2    2          44.410318               1.657155\n",
      "3    3          32.720991               1.527900\n",
      "4    4          23.660412               1.392000\n",
      "Saved metrics DataFrame for Beer Sheva to /Users/dpelleg/work/dssg/DSSG_mapping_Jerus/output/neighbor_distance_Q1/Beer Sheva_neighbor_distance_Q1.csv\n"
     ]
    }
   ],
   "execution_count": 6
  },
  {
   "metadata": {},
   "cell_type": "markdown",
   "source": "neighbors distance Q3"
  },
  {
   "metadata": {
    "ExecuteTime": {
     "end_time": "2024-09-10T08:20:56.694968Z",
     "start_time": "2024-09-10T08:20:04.266504Z"
    }
   },
   "cell_type": "code",
   "source": [
    "output_df_dir = os.path.join(output_dir, \"neighbor_distance_Q3\")\n",
    "\n",
    "# Dictionary to store the DataFrame for each city\n",
    "city_metric_dfs = {}\n",
    "\n",
    "# Loop through each city to calculate metrics based on stored data\n",
    "for city in buildings_data.keys():\n",
    "    print(f\"Calculating metrics for {city}...\")\n",
    "\n",
    "    # Retrieve the data for the city from the dictionaries\n",
    "    buildings = buildings_data[city]\n",
    "    streets = streets_data[city]\n",
    "    tessellation = tessellation_data[city]  \n",
    "    \n",
    "    queen_1 = libpysal.weights.contiguity.Queen.from_dataframe(tessellation, ids=\"uID\", silence_warnings=True)\n",
    "    # Create a higher-order spatial weights matrix for tessellation (considering neighbors up to 3rd order)\n",
    "    queen_3 = momepy.sw_high(k=3, weights=queen_1)\n",
    "\n",
    "    # Calculate neighbor distances using the higher-order spatial weights\n",
    "    buildings['neighbor_distance_q3'] = momepy.NeighborDistance(buildings, queen_3, \"uID\", verbose=False).series\n",
    "\n",
    "    # Create a DataFrame containing the necessary metrics for this city\n",
    "    city_metrics_df = buildings[[\"uID\", \"neighbor_distance_q3\"]].copy()\n",
    "\n",
    "    # Store the DataFrame in the dictionary\n",
    "    city_metric_dfs[city] = city_metrics_df\n",
    "\n",
    "    # Display the DataFrame for the current city\n",
    "    print(f\"\\nMetrics DataFrame for {city}:\")\n",
    "    print(city_metric_dfs[city].head())\n",
    "\n",
    "    # Define the output file path using city name and metric\n",
    "    output_file = os.path.join(output_df_dir, f\"{city}_neighbor_distance_Q3.csv\")\n",
    "\n",
    "    # Save the DataFrame as a CSV file\n",
    "    city_metrics_df.to_csv(output_file, index=False)\n",
    "\n",
    "    print(f\"Saved metrics DataFrame for {city} to {output_file}\")\n"
   ],
   "outputs": [
    {
     "name": "stdout",
     "output_type": "stream",
     "text": [
      "Calculating metrics for Ariel...\n"
     ]
    },
    {
     "name": "stderr",
     "output_type": "stream",
     "text": [
      "/var/folders/vq/5fctqqys06l8n2l1cjxhxvp80000gn/T/ipykernel_70019/3993208919.py:17: FutureWarning: `momepy.sw_high` is deprecated. Replace it with .higher_order() method of libpysal.graph.Graph or pin momepy version <1.0. This class will be removed in 1.0. \n",
      "  queen_3 = momepy.sw_high(k=3, weights=queen_1)\n",
      "/var/folders/vq/5fctqqys06l8n2l1cjxhxvp80000gn/T/ipykernel_70019/3993208919.py:20: FutureWarning: Class based API like `momepy.NeighborDistance` is deprecated. Replace it with `momepy.neighbor_distance` to use functional API instead or pin momepy version <1.0. Class-based API will be removed in 1.0. \n",
      "  buildings['neighbor_distance_q3'] = momepy.NeighborDistance(buildings, queen_3, \"uID\", verbose=False).series\n"
     ]
    },
    {
     "name": "stdout",
     "output_type": "stream",
     "text": [
      "\n",
      "Metrics DataFrame for Ariel:\n",
      "   uID  neighbor_distance_q3\n",
      "0    0             65.960086\n",
      "1    1            223.854714\n",
      "2    2             96.905410\n",
      "3    3            115.639879\n",
      "4    4            164.688516\n",
      "Saved metrics DataFrame for Ariel to /Users/dpelleg/work/dssg/DSSG_mapping_Jerus/output/neighbor_distance_Q3/Ariel_neighbor_distance_Q3.csv\n",
      "Calculating metrics for Acre, Israel...\n"
     ]
    },
    {
     "name": "stderr",
     "output_type": "stream",
     "text": [
      "/var/folders/vq/5fctqqys06l8n2l1cjxhxvp80000gn/T/ipykernel_70019/3993208919.py:17: FutureWarning: `momepy.sw_high` is deprecated. Replace it with .higher_order() method of libpysal.graph.Graph or pin momepy version <1.0. This class will be removed in 1.0. \n",
      "  queen_3 = momepy.sw_high(k=3, weights=queen_1)\n",
      "/var/folders/vq/5fctqqys06l8n2l1cjxhxvp80000gn/T/ipykernel_70019/3993208919.py:20: FutureWarning: Class based API like `momepy.NeighborDistance` is deprecated. Replace it with `momepy.neighbor_distance` to use functional API instead or pin momepy version <1.0. Class-based API will be removed in 1.0. \n",
      "  buildings['neighbor_distance_q3'] = momepy.NeighborDistance(buildings, queen_3, \"uID\", verbose=False).series\n"
     ]
    },
    {
     "name": "stdout",
     "output_type": "stream",
     "text": [
      "\n",
      "Metrics DataFrame for Acre, Israel:\n",
      "   uID  neighbor_distance_q3\n",
      "0    0            131.103288\n",
      "1    1            208.739001\n",
      "2    2            127.343615\n",
      "3    3            118.298655\n",
      "4    4            175.083139\n",
      "Saved metrics DataFrame for Acre, Israel to /Users/dpelleg/work/dssg/DSSG_mapping_Jerus/output/neighbor_distance_Q3/Acre, Israel_neighbor_distance_Q3.csv\n",
      "Calculating metrics for Harish...\n"
     ]
    },
    {
     "name": "stderr",
     "output_type": "stream",
     "text": [
      "/var/folders/vq/5fctqqys06l8n2l1cjxhxvp80000gn/T/ipykernel_70019/3993208919.py:17: FutureWarning: `momepy.sw_high` is deprecated. Replace it with .higher_order() method of libpysal.graph.Graph or pin momepy version <1.0. This class will be removed in 1.0. \n",
      "  queen_3 = momepy.sw_high(k=3, weights=queen_1)\n",
      "/var/folders/vq/5fctqqys06l8n2l1cjxhxvp80000gn/T/ipykernel_70019/3993208919.py:20: FutureWarning: Class based API like `momepy.NeighborDistance` is deprecated. Replace it with `momepy.neighbor_distance` to use functional API instead or pin momepy version <1.0. Class-based API will be removed in 1.0. \n",
      "  buildings['neighbor_distance_q3'] = momepy.NeighborDistance(buildings, queen_3, \"uID\", verbose=False).series\n"
     ]
    },
    {
     "name": "stdout",
     "output_type": "stream",
     "text": [
      "\n",
      "Metrics DataFrame for Harish:\n",
      "   uID  neighbor_distance_q3\n",
      "0    0            137.459695\n",
      "1    1            130.573810\n",
      "2    2            107.635842\n",
      "3    3             98.570521\n",
      "4    4            120.751296\n",
      "Saved metrics DataFrame for Harish to /Users/dpelleg/work/dssg/DSSG_mapping_Jerus/output/neighbor_distance_Q3/Harish_neighbor_distance_Q3.csv\n",
      "Calculating metrics for Modiin...\n"
     ]
    },
    {
     "name": "stderr",
     "output_type": "stream",
     "text": [
      "/var/folders/vq/5fctqqys06l8n2l1cjxhxvp80000gn/T/ipykernel_70019/3993208919.py:17: FutureWarning: `momepy.sw_high` is deprecated. Replace it with .higher_order() method of libpysal.graph.Graph or pin momepy version <1.0. This class will be removed in 1.0. \n",
      "  queen_3 = momepy.sw_high(k=3, weights=queen_1)\n",
      "/var/folders/vq/5fctqqys06l8n2l1cjxhxvp80000gn/T/ipykernel_70019/3993208919.py:20: FutureWarning: Class based API like `momepy.NeighborDistance` is deprecated. Replace it with `momepy.neighbor_distance` to use functional API instead or pin momepy version <1.0. Class-based API will be removed in 1.0. \n",
      "  buildings['neighbor_distance_q3'] = momepy.NeighborDistance(buildings, queen_3, \"uID\", verbose=False).series\n"
     ]
    },
    {
     "name": "stdout",
     "output_type": "stream",
     "text": [
      "\n",
      "Metrics DataFrame for Modiin:\n",
      "   uID  neighbor_distance_q3\n",
      "0    0            107.978099\n",
      "1    1            238.005511\n",
      "2    2            178.620772\n",
      "3    3            217.765268\n",
      "4    4            109.794765\n",
      "Saved metrics DataFrame for Modiin to /Users/dpelleg/work/dssg/DSSG_mapping_Jerus/output/neighbor_distance_Q3/Modiin_neighbor_distance_Q3.csv\n",
      "Calculating metrics for Carmiel...\n"
     ]
    },
    {
     "name": "stderr",
     "output_type": "stream",
     "text": [
      "/var/folders/vq/5fctqqys06l8n2l1cjxhxvp80000gn/T/ipykernel_70019/3993208919.py:17: FutureWarning: `momepy.sw_high` is deprecated. Replace it with .higher_order() method of libpysal.graph.Graph or pin momepy version <1.0. This class will be removed in 1.0. \n",
      "  queen_3 = momepy.sw_high(k=3, weights=queen_1)\n",
      "/var/folders/vq/5fctqqys06l8n2l1cjxhxvp80000gn/T/ipykernel_70019/3993208919.py:20: FutureWarning: Class based API like `momepy.NeighborDistance` is deprecated. Replace it with `momepy.neighbor_distance` to use functional API instead or pin momepy version <1.0. Class-based API will be removed in 1.0. \n",
      "  buildings['neighbor_distance_q3'] = momepy.NeighborDistance(buildings, queen_3, \"uID\", verbose=False).series\n"
     ]
    },
    {
     "name": "stdout",
     "output_type": "stream",
     "text": [
      "\n",
      "Metrics DataFrame for Carmiel:\n",
      "   uID  neighbor_distance_q3\n",
      "0    0            177.654438\n",
      "1    1            173.342182\n",
      "2    2            146.441221\n",
      "3    3            181.552045\n",
      "4    4            164.352073\n",
      "Saved metrics DataFrame for Carmiel to /Users/dpelleg/work/dssg/DSSG_mapping_Jerus/output/neighbor_distance_Q3/Carmiel_neighbor_distance_Q3.csv\n",
      "Calculating metrics for Holon...\n"
     ]
    },
    {
     "name": "stderr",
     "output_type": "stream",
     "text": [
      "/var/folders/vq/5fctqqys06l8n2l1cjxhxvp80000gn/T/ipykernel_70019/3993208919.py:17: FutureWarning: `momepy.sw_high` is deprecated. Replace it with .higher_order() method of libpysal.graph.Graph or pin momepy version <1.0. This class will be removed in 1.0. \n",
      "  queen_3 = momepy.sw_high(k=3, weights=queen_1)\n",
      "/var/folders/vq/5fctqqys06l8n2l1cjxhxvp80000gn/T/ipykernel_70019/3993208919.py:20: FutureWarning: Class based API like `momepy.NeighborDistance` is deprecated. Replace it with `momepy.neighbor_distance` to use functional API instead or pin momepy version <1.0. Class-based API will be removed in 1.0. \n",
      "  buildings['neighbor_distance_q3'] = momepy.NeighborDistance(buildings, queen_3, \"uID\", verbose=False).series\n"
     ]
    },
    {
     "name": "stdout",
     "output_type": "stream",
     "text": [
      "\n",
      "Metrics DataFrame for Holon:\n",
      "   uID  neighbor_distance_q3\n",
      "0    0            254.509273\n",
      "1    1            168.177283\n",
      "2    2            183.125430\n",
      "3    3            141.464673\n",
      "4    4             93.400245\n",
      "Saved metrics DataFrame for Holon to /Users/dpelleg/work/dssg/DSSG_mapping_Jerus/output/neighbor_distance_Q3/Holon_neighbor_distance_Q3.csv\n",
      "Calculating metrics for Hadera...\n"
     ]
    },
    {
     "name": "stderr",
     "output_type": "stream",
     "text": [
      "/var/folders/vq/5fctqqys06l8n2l1cjxhxvp80000gn/T/ipykernel_70019/3993208919.py:17: FutureWarning: `momepy.sw_high` is deprecated. Replace it with .higher_order() method of libpysal.graph.Graph or pin momepy version <1.0. This class will be removed in 1.0. \n",
      "  queen_3 = momepy.sw_high(k=3, weights=queen_1)\n",
      "/var/folders/vq/5fctqqys06l8n2l1cjxhxvp80000gn/T/ipykernel_70019/3993208919.py:20: FutureWarning: Class based API like `momepy.NeighborDistance` is deprecated. Replace it with `momepy.neighbor_distance` to use functional API instead or pin momepy version <1.0. Class-based API will be removed in 1.0. \n",
      "  buildings['neighbor_distance_q3'] = momepy.NeighborDistance(buildings, queen_3, \"uID\", verbose=False).series\n"
     ]
    },
    {
     "name": "stdout",
     "output_type": "stream",
     "text": [
      "\n",
      "Metrics DataFrame for Hadera:\n",
      "   uID  neighbor_distance_q3\n",
      "0    0            149.369898\n",
      "1    1            313.404131\n",
      "2    2            274.377137\n",
      "3    3            240.476803\n",
      "4    4            142.981992\n",
      "Saved metrics DataFrame for Hadera to /Users/dpelleg/work/dssg/DSSG_mapping_Jerus/output/neighbor_distance_Q3/Hadera_neighbor_distance_Q3.csv\n",
      "Calculating metrics for Bnei Brak...\n"
     ]
    },
    {
     "name": "stderr",
     "output_type": "stream",
     "text": [
      "/var/folders/vq/5fctqqys06l8n2l1cjxhxvp80000gn/T/ipykernel_70019/3993208919.py:17: FutureWarning: `momepy.sw_high` is deprecated. Replace it with .higher_order() method of libpysal.graph.Graph or pin momepy version <1.0. This class will be removed in 1.0. \n",
      "  queen_3 = momepy.sw_high(k=3, weights=queen_1)\n",
      "/var/folders/vq/5fctqqys06l8n2l1cjxhxvp80000gn/T/ipykernel_70019/3993208919.py:20: FutureWarning: Class based API like `momepy.NeighborDistance` is deprecated. Replace it with `momepy.neighbor_distance` to use functional API instead or pin momepy version <1.0. Class-based API will be removed in 1.0. \n",
      "  buildings['neighbor_distance_q3'] = momepy.NeighborDistance(buildings, queen_3, \"uID\", verbose=False).series\n"
     ]
    },
    {
     "name": "stdout",
     "output_type": "stream",
     "text": [
      "\n",
      "Metrics DataFrame for Bnei Brak:\n",
      "   uID  neighbor_distance_q3\n",
      "0    0            223.123338\n",
      "1    1            128.962747\n",
      "2    2            234.120588\n",
      "3    3            206.649075\n",
      "4    4            226.404704\n",
      "Saved metrics DataFrame for Bnei Brak to /Users/dpelleg/work/dssg/DSSG_mapping_Jerus/output/neighbor_distance_Q3/Bnei Brak_neighbor_distance_Q3.csv\n",
      "Calculating metrics for Herzliya...\n"
     ]
    },
    {
     "name": "stderr",
     "output_type": "stream",
     "text": [
      "/var/folders/vq/5fctqqys06l8n2l1cjxhxvp80000gn/T/ipykernel_70019/3993208919.py:17: FutureWarning: `momepy.sw_high` is deprecated. Replace it with .higher_order() method of libpysal.graph.Graph or pin momepy version <1.0. This class will be removed in 1.0. \n",
      "  queen_3 = momepy.sw_high(k=3, weights=queen_1)\n",
      "/var/folders/vq/5fctqqys06l8n2l1cjxhxvp80000gn/T/ipykernel_70019/3993208919.py:20: FutureWarning: Class based API like `momepy.NeighborDistance` is deprecated. Replace it with `momepy.neighbor_distance` to use functional API instead or pin momepy version <1.0. Class-based API will be removed in 1.0. \n",
      "  buildings['neighbor_distance_q3'] = momepy.NeighborDistance(buildings, queen_3, \"uID\", verbose=False).series\n"
     ]
    },
    {
     "name": "stdout",
     "output_type": "stream",
     "text": [
      "\n",
      "Metrics DataFrame for Herzliya:\n",
      "   uID  neighbor_distance_q3\n",
      "0    0            216.618239\n",
      "1    1            158.017697\n",
      "2    2            142.371729\n",
      "3    3            118.144997\n",
      "4    4            172.665731\n",
      "Saved metrics DataFrame for Herzliya to /Users/dpelleg/work/dssg/DSSG_mapping_Jerus/output/neighbor_distance_Q3/Herzliya_neighbor_distance_Q3.csv\n",
      "Calculating metrics for Rehovot...\n"
     ]
    },
    {
     "name": "stderr",
     "output_type": "stream",
     "text": [
      "/var/folders/vq/5fctqqys06l8n2l1cjxhxvp80000gn/T/ipykernel_70019/3993208919.py:17: FutureWarning: `momepy.sw_high` is deprecated. Replace it with .higher_order() method of libpysal.graph.Graph or pin momepy version <1.0. This class will be removed in 1.0. \n",
      "  queen_3 = momepy.sw_high(k=3, weights=queen_1)\n",
      "/var/folders/vq/5fctqqys06l8n2l1cjxhxvp80000gn/T/ipykernel_70019/3993208919.py:20: FutureWarning: Class based API like `momepy.NeighborDistance` is deprecated. Replace it with `momepy.neighbor_distance` to use functional API instead or pin momepy version <1.0. Class-based API will be removed in 1.0. \n",
      "  buildings['neighbor_distance_q3'] = momepy.NeighborDistance(buildings, queen_3, \"uID\", verbose=False).series\n"
     ]
    },
    {
     "name": "stdout",
     "output_type": "stream",
     "text": [
      "\n",
      "Metrics DataFrame for Rehovot:\n",
      "   uID  neighbor_distance_q3\n",
      "0    0             55.752829\n",
      "1    1             92.432735\n",
      "2    2            184.459830\n",
      "3    3             65.722871\n",
      "4    4             69.812523\n",
      "Saved metrics DataFrame for Rehovot to /Users/dpelleg/work/dssg/DSSG_mapping_Jerus/output/neighbor_distance_Q3/Rehovot_neighbor_distance_Q3.csv\n",
      "Calculating metrics for Haifa...\n"
     ]
    },
    {
     "name": "stderr",
     "output_type": "stream",
     "text": [
      "/var/folders/vq/5fctqqys06l8n2l1cjxhxvp80000gn/T/ipykernel_70019/3993208919.py:17: FutureWarning: `momepy.sw_high` is deprecated. Replace it with .higher_order() method of libpysal.graph.Graph or pin momepy version <1.0. This class will be removed in 1.0. \n",
      "  queen_3 = momepy.sw_high(k=3, weights=queen_1)\n",
      "/var/folders/vq/5fctqqys06l8n2l1cjxhxvp80000gn/T/ipykernel_70019/3993208919.py:20: FutureWarning: Class based API like `momepy.NeighborDistance` is deprecated. Replace it with `momepy.neighbor_distance` to use functional API instead or pin momepy version <1.0. Class-based API will be removed in 1.0. \n",
      "  buildings['neighbor_distance_q3'] = momepy.NeighborDistance(buildings, queen_3, \"uID\", verbose=False).series\n"
     ]
    },
    {
     "name": "stdout",
     "output_type": "stream",
     "text": [
      "\n",
      "Metrics DataFrame for Haifa:\n",
      "   uID  neighbor_distance_q3\n",
      "0    0            285.586354\n",
      "1    1            229.384581\n",
      "2    2            215.997992\n",
      "3    3             72.329013\n",
      "4    4             92.330538\n",
      "Saved metrics DataFrame for Haifa to /Users/dpelleg/work/dssg/DSSG_mapping_Jerus/output/neighbor_distance_Q3/Haifa_neighbor_distance_Q3.csv\n",
      "Calculating metrics for Tel Aviv...\n"
     ]
    },
    {
     "name": "stderr",
     "output_type": "stream",
     "text": [
      "/var/folders/vq/5fctqqys06l8n2l1cjxhxvp80000gn/T/ipykernel_70019/3993208919.py:17: FutureWarning: `momepy.sw_high` is deprecated. Replace it with .higher_order() method of libpysal.graph.Graph or pin momepy version <1.0. This class will be removed in 1.0. \n",
      "  queen_3 = momepy.sw_high(k=3, weights=queen_1)\n",
      "/var/folders/vq/5fctqqys06l8n2l1cjxhxvp80000gn/T/ipykernel_70019/3993208919.py:20: FutureWarning: Class based API like `momepy.NeighborDistance` is deprecated. Replace it with `momepy.neighbor_distance` to use functional API instead or pin momepy version <1.0. Class-based API will be removed in 1.0. \n",
      "  buildings['neighbor_distance_q3'] = momepy.NeighborDistance(buildings, queen_3, \"uID\", verbose=False).series\n"
     ]
    },
    {
     "name": "stdout",
     "output_type": "stream",
     "text": [
      "\n",
      "Metrics DataFrame for Tel Aviv:\n",
      "   uID  neighbor_distance_q3\n",
      "0    0            124.578091\n",
      "1    1            201.610202\n",
      "2    2            235.830444\n",
      "3    3             92.354157\n",
      "4    4            151.534608\n",
      "Saved metrics DataFrame for Tel Aviv to /Users/dpelleg/work/dssg/DSSG_mapping_Jerus/output/neighbor_distance_Q3/Tel Aviv_neighbor_distance_Q3.csv\n",
      "Calculating metrics for Jerusalem...\n"
     ]
    },
    {
     "name": "stderr",
     "output_type": "stream",
     "text": [
      "/var/folders/vq/5fctqqys06l8n2l1cjxhxvp80000gn/T/ipykernel_70019/3993208919.py:17: FutureWarning: `momepy.sw_high` is deprecated. Replace it with .higher_order() method of libpysal.graph.Graph or pin momepy version <1.0. This class will be removed in 1.0. \n",
      "  queen_3 = momepy.sw_high(k=3, weights=queen_1)\n",
      "/var/folders/vq/5fctqqys06l8n2l1cjxhxvp80000gn/T/ipykernel_70019/3993208919.py:20: FutureWarning: Class based API like `momepy.NeighborDistance` is deprecated. Replace it with `momepy.neighbor_distance` to use functional API instead or pin momepy version <1.0. Class-based API will be removed in 1.0. \n",
      "  buildings['neighbor_distance_q3'] = momepy.NeighborDistance(buildings, queen_3, \"uID\", verbose=False).series\n"
     ]
    },
    {
     "name": "stdout",
     "output_type": "stream",
     "text": [
      "\n",
      "Metrics DataFrame for Jerusalem:\n",
      "   uID  neighbor_distance_q3\n",
      "0    0            121.909552\n",
      "1    1            131.074745\n",
      "2    2            225.911765\n",
      "3    3             72.594325\n",
      "4    4            121.442453\n",
      "Saved metrics DataFrame for Jerusalem to /Users/dpelleg/work/dssg/DSSG_mapping_Jerus/output/neighbor_distance_Q3/Jerusalem_neighbor_distance_Q3.csv\n",
      "Calculating metrics for Beer Sheva...\n"
     ]
    },
    {
     "name": "stderr",
     "output_type": "stream",
     "text": [
      "/var/folders/vq/5fctqqys06l8n2l1cjxhxvp80000gn/T/ipykernel_70019/3993208919.py:17: FutureWarning: `momepy.sw_high` is deprecated. Replace it with .higher_order() method of libpysal.graph.Graph or pin momepy version <1.0. This class will be removed in 1.0. \n",
      "  queen_3 = momepy.sw_high(k=3, weights=queen_1)\n",
      "/var/folders/vq/5fctqqys06l8n2l1cjxhxvp80000gn/T/ipykernel_70019/3993208919.py:20: FutureWarning: Class based API like `momepy.NeighborDistance` is deprecated. Replace it with `momepy.neighbor_distance` to use functional API instead or pin momepy version <1.0. Class-based API will be removed in 1.0. \n",
      "  buildings['neighbor_distance_q3'] = momepy.NeighborDistance(buildings, queen_3, \"uID\", verbose=False).series\n"
     ]
    },
    {
     "name": "stdout",
     "output_type": "stream",
     "text": [
      "\n",
      "Metrics DataFrame for Beer Sheva:\n",
      "   uID  neighbor_distance_q3\n",
      "0    0            172.122820\n",
      "1    1            109.874145\n",
      "2    2            114.544431\n",
      "3    3            213.620805\n",
      "4    4            237.892361\n",
      "Saved metrics DataFrame for Beer Sheva to /Users/dpelleg/work/dssg/DSSG_mapping_Jerus/output/neighbor_distance_Q3/Beer Sheva_neighbor_distance_Q3.csv\n"
     ]
    }
   ],
   "execution_count": 7
  },
  {
   "cell_type": "markdown",
   "metadata": {},
   "source": [
    "shared_walls_length"
   ]
  },
  {
   "cell_type": "code",
   "metadata": {
    "ExecuteTime": {
     "end_time": "2024-09-10T08:20:58.794826Z",
     "start_time": "2024-09-10T08:20:56.695578Z"
    }
   },
   "source": [
    "output_df_dir = os.path.join(output_dir, \"shared_walls_length\")\n",
    "\n",
    "# Dictionary to store the DataFrame for each city\n",
    "city_metric_dfs = {}\n",
    "\n",
    "# Loop through each city to calculate shared walls length based on stored data\n",
    "for city in buildings_data.keys():\n",
    "    print(f\"Calculating shared walls length for {city}...\")\n",
    "\n",
    "    # Retrieve the data for the city from the dictionaries\n",
    "    buildings = buildings_data[city]\n",
    "    tessellation = tessellation_data[city]\n",
    "\n",
    "    # Calculate shared walls length for each building\n",
    "    with warnings.catch_warnings():\n",
    "        warnings.simplefilter(\"ignore\")\n",
    "        buildings[\"shared_walls_length\"] = momepy.SharedWalls(buildings).series\n",
    "\n",
    "    # Create a DataFrame containing the necessary metrics for this city\n",
    "    city_metrics_df = buildings[[\"uID\", \"shared_walls_length\"]].copy()\n",
    "\n",
    "    # Store the DataFrame in the dictionary\n",
    "    city_metric_dfs[city] = city_metrics_df\n",
    "\n",
    "    # Display the DataFrame for the current city\n",
    "    print(f\"\\nMetrics DataFrame for {city}:\")\n",
    "    print(city_metric_dfs[city].head())\n",
    "\n",
    "    # Define the output file path using the city name and metric with '.pkl' extension\n",
    "    output_file = os.path.join(output_df_dir, f\"{city}_shared_walls_length.csv\")\n",
    "\n",
    "    # Save the DataFrame as a pickle file\n",
    "    city_metrics_df.to_csv(output_file, index=False)\n",
    "\n",
    "\n",
    "    print(f\"Saved metrics DataFrame for {city} as pickle to {output_file}\")"
   ],
   "outputs": [
    {
     "name": "stdout",
     "output_type": "stream",
     "text": [
      "Calculating shared walls length for Ariel...\n",
      "\n",
      "Metrics DataFrame for Ariel:\n",
      "   uID  shared_walls_length\n",
      "0    0         1.115247e+01\n",
      "1    1         0.000000e+00\n",
      "2    2         2.842171e-14\n",
      "3    3        -1.421085e-14\n",
      "4    4         0.000000e+00\n",
      "Saved metrics DataFrame for Ariel as pickle to /Users/dpelleg/work/dssg/DSSG_mapping_Jerus/output/shared_walls_length/Ariel_shared_walls_length.csv\n",
      "Calculating shared walls length for Acre, Israel...\n",
      "\n",
      "Metrics DataFrame for Acre, Israel:\n",
      "   uID  shared_walls_length\n",
      "0    0         1.007738e+02\n",
      "1    1        -1.421085e-14\n",
      "2    2         4.966819e+01\n",
      "3    3         3.643347e+01\n",
      "4    4         4.211078e+01\n",
      "Saved metrics DataFrame for Acre, Israel as pickle to /Users/dpelleg/work/dssg/DSSG_mapping_Jerus/output/shared_walls_length/Acre, Israel_shared_walls_length.csv\n",
      "Calculating shared walls length for Harish...\n",
      "\n",
      "Metrics DataFrame for Harish:\n",
      "   uID  shared_walls_length\n",
      "0    0         0.000000e+00\n",
      "1    1         0.000000e+00\n",
      "2    2         3.552714e-15\n",
      "3    3         1.421085e-14\n",
      "4    4        -1.421085e-14\n",
      "Saved metrics DataFrame for Harish as pickle to /Users/dpelleg/work/dssg/DSSG_mapping_Jerus/output/shared_walls_length/Harish_shared_walls_length.csv\n",
      "Calculating shared walls length for Modiin...\n",
      "\n",
      "Metrics DataFrame for Modiin:\n",
      "   uID  shared_walls_length\n",
      "0    0         0.000000e+00\n",
      "1    1        -2.842171e-14\n",
      "2    2         0.000000e+00\n",
      "3    3         0.000000e+00\n",
      "4    4         0.000000e+00\n",
      "Saved metrics DataFrame for Modiin as pickle to /Users/dpelleg/work/dssg/DSSG_mapping_Jerus/output/shared_walls_length/Modiin_shared_walls_length.csv\n",
      "Calculating shared walls length for Carmiel...\n",
      "\n",
      "Metrics DataFrame for Carmiel:\n",
      "   uID  shared_walls_length\n",
      "0    0         2.842171e-14\n",
      "1    1         0.000000e+00\n",
      "2    2        -5.684342e-14\n",
      "3    3         1.421085e-14\n",
      "4    4         0.000000e+00\n",
      "Saved metrics DataFrame for Carmiel as pickle to /Users/dpelleg/work/dssg/DSSG_mapping_Jerus/output/shared_walls_length/Carmiel_shared_walls_length.csv\n",
      "Calculating shared walls length for Holon...\n",
      "\n",
      "Metrics DataFrame for Holon:\n",
      "   uID  shared_walls_length\n",
      "0    0         0.000000e+00\n",
      "1    1         0.000000e+00\n",
      "2    2         0.000000e+00\n",
      "3    3         0.000000e+00\n",
      "4    4         2.842171e-14\n",
      "Saved metrics DataFrame for Holon as pickle to /Users/dpelleg/work/dssg/DSSG_mapping_Jerus/output/shared_walls_length/Holon_shared_walls_length.csv\n",
      "Calculating shared walls length for Hadera...\n",
      "\n",
      "Metrics DataFrame for Hadera:\n",
      "   uID  shared_walls_length\n",
      "0    0        -5.684342e-14\n",
      "1    1         0.000000e+00\n",
      "2    2         0.000000e+00\n",
      "3    3        -1.421085e-14\n",
      "4    4         0.000000e+00\n",
      "Saved metrics DataFrame for Hadera as pickle to /Users/dpelleg/work/dssg/DSSG_mapping_Jerus/output/shared_walls_length/Hadera_shared_walls_length.csv\n",
      "Calculating shared walls length for Bnei Brak...\n",
      "\n",
      "Metrics DataFrame for Bnei Brak:\n",
      "   uID  shared_walls_length\n",
      "0    0         0.000000e+00\n",
      "1    1         8.353633e+01\n",
      "2    2         1.421085e-14\n",
      "3    3         0.000000e+00\n",
      "4    4         4.647782e+01\n",
      "Saved metrics DataFrame for Bnei Brak as pickle to /Users/dpelleg/work/dssg/DSSG_mapping_Jerus/output/shared_walls_length/Bnei Brak_shared_walls_length.csv\n",
      "Calculating shared walls length for Herzliya...\n",
      "\n",
      "Metrics DataFrame for Herzliya:\n",
      "   uID  shared_walls_length\n",
      "0    0         4.158804e+02\n",
      "1    1         1.136868e-13\n",
      "2    2         0.000000e+00\n",
      "3    3         1.075894e+03\n",
      "4    4        -1.421085e-14\n",
      "Saved metrics DataFrame for Herzliya as pickle to /Users/dpelleg/work/dssg/DSSG_mapping_Jerus/output/shared_walls_length/Herzliya_shared_walls_length.csv\n",
      "Calculating shared walls length for Rehovot...\n",
      "\n",
      "Metrics DataFrame for Rehovot:\n",
      "   uID  shared_walls_length\n",
      "0    0        -1.421085e-14\n",
      "1    1         0.000000e+00\n",
      "2    2         0.000000e+00\n",
      "3    3         0.000000e+00\n",
      "4    4         2.842171e-14\n",
      "Saved metrics DataFrame for Rehovot as pickle to /Users/dpelleg/work/dssg/DSSG_mapping_Jerus/output/shared_walls_length/Rehovot_shared_walls_length.csv\n",
      "Calculating shared walls length for Haifa...\n",
      "\n",
      "Metrics DataFrame for Haifa:\n",
      "   uID  shared_walls_length\n",
      "0    0             0.000000\n",
      "1    1             0.000000\n",
      "2    2           192.671951\n",
      "3    3            20.206803\n",
      "4    4            30.664799\n",
      "Saved metrics DataFrame for Haifa as pickle to /Users/dpelleg/work/dssg/DSSG_mapping_Jerus/output/shared_walls_length/Haifa_shared_walls_length.csv\n",
      "Calculating shared walls length for Tel Aviv...\n",
      "\n",
      "Metrics DataFrame for Tel Aviv:\n",
      "   uID  shared_walls_length\n",
      "0    0         2.842171e-14\n",
      "1    1         4.613901e+02\n",
      "2    2        -2.842171e-14\n",
      "3    3         0.000000e+00\n",
      "4    4         0.000000e+00\n",
      "Saved metrics DataFrame for Tel Aviv as pickle to /Users/dpelleg/work/dssg/DSSG_mapping_Jerus/output/shared_walls_length/Tel Aviv_shared_walls_length.csv\n",
      "Calculating shared walls length for Jerusalem...\n",
      "\n",
      "Metrics DataFrame for Jerusalem:\n",
      "   uID  shared_walls_length\n",
      "0    0        -2.842171e-14\n",
      "1    1        -2.842171e-14\n",
      "2    2        -5.684342e-14\n",
      "3    3         2.842171e-14\n",
      "4    4         4.884836e+01\n",
      "Saved metrics DataFrame for Jerusalem as pickle to /Users/dpelleg/work/dssg/DSSG_mapping_Jerus/output/shared_walls_length/Jerusalem_shared_walls_length.csv\n",
      "Calculating shared walls length for Beer Sheva...\n",
      "\n",
      "Metrics DataFrame for Beer Sheva:\n",
      "   uID  shared_walls_length\n",
      "0    0         1.936486e+02\n",
      "1    1         3.552714e-15\n",
      "2    2         2.124495e+01\n",
      "3    3        -2.842171e-14\n",
      "4    4         0.000000e+00\n",
      "Saved metrics DataFrame for Beer Sheva as pickle to /Users/dpelleg/work/dssg/DSSG_mapping_Jerus/output/shared_walls_length/Beer Sheva_shared_walls_length.csv\n"
     ]
    }
   ],
   "execution_count": 8
  },
  {
   "cell_type": "markdown",
   "metadata": {},
   "source": [
    "Covered Area"
   ]
  },
  {
   "cell_type": "code",
   "metadata": {
    "ExecuteTime": {
     "end_time": "2024-09-10T08:21:38.850909Z",
     "start_time": "2024-09-10T08:20:58.795859Z"
    }
   },
   "source": [
    "output_df_dir = os.path.join(output_dir, \"covered_area\")\n",
    "\n",
    "# Dictionary to store the DataFrame for each city\n",
    "city_metric_dfs = {}\n",
    "\n",
    "# Loop through each city to calculate metrics based on stored data\n",
    "for city in buildings_data.keys():\n",
    "    print(f\"Calculating metrics for {city}...\")\n",
    "\n",
    "    # Retrieve the data for the city from the dictionaries\n",
    "    buildings = buildings_data[city]\n",
    "    streets = streets_data[city]\n",
    "    tessellation = tessellation_data[city]  \n",
    "    \n",
    "    queen_1 = libpysal.weights.contiguity.Queen.from_dataframe(tessellation, ids=\"uID\", silence_warnings=True)\n",
    "    # Create a higher-order spatial weights matrix for tessellation (considering neighbors up to 3rd order)\n",
    "    queen_3 = momepy.sw_high(k=3, weights=queen_1)\n",
    "\n",
    "    # Calculate covered area\n",
    "    tessellation[\"covered_area\"] = momepy.CoveredArea(tessellation, queen_3, \"uID\", verbose=False).series\n",
    "\n",
    "    # Create a DataFrame containing the necessary metrics for this city\n",
    "    city_metrics_df = tessellation[[\"uID\", \"covered_area\"]].copy()\n",
    "\n",
    "    # Store the DataFrame in the dictionary\n",
    "    city_metric_dfs[city] = city_metrics_df\n",
    "\n",
    "    # Display the DataFrame for the current city\n",
    "    print(f\"\\nMetrics DataFrame for {city}:\")\n",
    "    print(city_metric_dfs[city].head())\n",
    "\n",
    "    # Define the output file path using city name and metric\n",
    "    output_file = os.path.join(output_df_dir, f\"{city}_covered_area.csv\")\n",
    "\n",
    "    # Save the DataFrame as a CSV file\n",
    "    city_metrics_df.to_csv(output_file, index=False)\n",
    "\n",
    "    print(f\"Saved metrics DataFrame for {city} to {output_file}\")\n"
   ],
   "outputs": [
    {
     "name": "stdout",
     "output_type": "stream",
     "text": [
      "Calculating metrics for Ariel...\n"
     ]
    },
    {
     "name": "stderr",
     "output_type": "stream",
     "text": [
      "/var/folders/vq/5fctqqys06l8n2l1cjxhxvp80000gn/T/ipykernel_70019/1476564652.py:17: FutureWarning: `momepy.sw_high` is deprecated. Replace it with .higher_order() method of libpysal.graph.Graph or pin momepy version <1.0. This class will be removed in 1.0. \n",
      "  queen_3 = momepy.sw_high(k=3, weights=queen_1)\n",
      "/var/folders/vq/5fctqqys06l8n2l1cjxhxvp80000gn/T/ipykernel_70019/1476564652.py:20: FutureWarning: `momepy.CoveredArea` is deprecated. Replace it with `.describe()` method of libpysal.graph.Graph or pin momepy version <1.0. This class will be removed in 1.0. \n",
      "  tessellation[\"covered_area\"] = momepy.CoveredArea(tessellation, queen_3, \"uID\", verbose=False).series\n"
     ]
    },
    {
     "name": "stdout",
     "output_type": "stream",
     "text": [
      "\n",
      "Metrics DataFrame for Ariel:\n",
      "    uID   covered_area\n",
      "0  2110   93548.416092\n",
      "1   326  388090.379057\n",
      "2  2036  380579.221972\n",
      "3  1991   93548.416092\n",
      "4  2037  386815.732962\n",
      "Saved metrics DataFrame for Ariel to /Users/dpelleg/work/dssg/DSSG_mapping_Jerus/output/covered_area/Ariel_covered_area.csv\n",
      "Calculating metrics for Acre, Israel...\n"
     ]
    },
    {
     "name": "stderr",
     "output_type": "stream",
     "text": [
      "/var/folders/vq/5fctqqys06l8n2l1cjxhxvp80000gn/T/ipykernel_70019/1476564652.py:17: FutureWarning: `momepy.sw_high` is deprecated. Replace it with .higher_order() method of libpysal.graph.Graph or pin momepy version <1.0. This class will be removed in 1.0. \n",
      "  queen_3 = momepy.sw_high(k=3, weights=queen_1)\n",
      "/var/folders/vq/5fctqqys06l8n2l1cjxhxvp80000gn/T/ipykernel_70019/1476564652.py:20: FutureWarning: `momepy.CoveredArea` is deprecated. Replace it with `.describe()` method of libpysal.graph.Graph or pin momepy version <1.0. This class will be removed in 1.0. \n",
      "  tessellation[\"covered_area\"] = momepy.CoveredArea(tessellation, queen_3, \"uID\", verbose=False).series\n"
     ]
    },
    {
     "name": "stdout",
     "output_type": "stream",
     "text": [
      "\n",
      "Metrics DataFrame for Acre, Israel:\n",
      "   uID   covered_area\n",
      "0  261  287784.845973\n",
      "1  239  272959.417674\n",
      "2  230  212175.848316\n",
      "3  221  161101.128048\n",
      "4  224  124649.835641\n",
      "Saved metrics DataFrame for Acre, Israel to /Users/dpelleg/work/dssg/DSSG_mapping_Jerus/output/covered_area/Acre, Israel_covered_area.csv\n",
      "Calculating metrics for Harish...\n",
      "\n",
      "Metrics DataFrame for Harish:\n",
      "   uID   covered_area\n",
      "0  497  103914.328968\n",
      "1  496  109935.628371\n",
      "2  628   94775.392668\n",
      "3  629  118227.245304\n",
      "4  624   98883.055766\n",
      "Saved metrics DataFrame for Harish to /Users/dpelleg/work/dssg/DSSG_mapping_Jerus/output/covered_area/Harish_covered_area.csv\n",
      "Calculating metrics for Modiin...\n"
     ]
    },
    {
     "name": "stderr",
     "output_type": "stream",
     "text": [
      "/var/folders/vq/5fctqqys06l8n2l1cjxhxvp80000gn/T/ipykernel_70019/1476564652.py:17: FutureWarning: `momepy.sw_high` is deprecated. Replace it with .higher_order() method of libpysal.graph.Graph or pin momepy version <1.0. This class will be removed in 1.0. \n",
      "  queen_3 = momepy.sw_high(k=3, weights=queen_1)\n",
      "/var/folders/vq/5fctqqys06l8n2l1cjxhxvp80000gn/T/ipykernel_70019/1476564652.py:20: FutureWarning: `momepy.CoveredArea` is deprecated. Replace it with `.describe()` method of libpysal.graph.Graph or pin momepy version <1.0. This class will be removed in 1.0. \n",
      "  tessellation[\"covered_area\"] = momepy.CoveredArea(tessellation, queen_3, \"uID\", verbose=False).series\n",
      "/var/folders/vq/5fctqqys06l8n2l1cjxhxvp80000gn/T/ipykernel_70019/1476564652.py:17: FutureWarning: `momepy.sw_high` is deprecated. Replace it with .higher_order() method of libpysal.graph.Graph or pin momepy version <1.0. This class will be removed in 1.0. \n",
      "  queen_3 = momepy.sw_high(k=3, weights=queen_1)\n",
      "/var/folders/vq/5fctqqys06l8n2l1cjxhxvp80000gn/T/ipykernel_70019/1476564652.py:20: FutureWarning: `momepy.CoveredArea` is deprecated. Replace it with `.describe()` method of libpysal.graph.Graph or pin momepy version <1.0. This class will be removed in 1.0. \n",
      "  tessellation[\"covered_area\"] = momepy.CoveredArea(tessellation, queen_3, \"uID\", verbose=False).series\n"
     ]
    },
    {
     "name": "stdout",
     "output_type": "stream",
     "text": [
      "\n",
      "Metrics DataFrame for Modiin:\n",
      "    uID  covered_area\n",
      "0  2921  96523.856920\n",
      "1  1942  93133.772090\n",
      "2  1938  97196.504595\n",
      "3  1928  80540.773039\n",
      "4  1937  79641.580467\n",
      "Saved metrics DataFrame for Modiin to /Users/dpelleg/work/dssg/DSSG_mapping_Jerus/output/covered_area/Modiin_covered_area.csv\n",
      "Calculating metrics for Carmiel...\n"
     ]
    },
    {
     "name": "stderr",
     "output_type": "stream",
     "text": [
      "/var/folders/vq/5fctqqys06l8n2l1cjxhxvp80000gn/T/ipykernel_70019/1476564652.py:17: FutureWarning: `momepy.sw_high` is deprecated. Replace it with .higher_order() method of libpysal.graph.Graph or pin momepy version <1.0. This class will be removed in 1.0. \n",
      "  queen_3 = momepy.sw_high(k=3, weights=queen_1)\n",
      "/var/folders/vq/5fctqqys06l8n2l1cjxhxvp80000gn/T/ipykernel_70019/1476564652.py:20: FutureWarning: `momepy.CoveredArea` is deprecated. Replace it with `.describe()` method of libpysal.graph.Graph or pin momepy version <1.0. This class will be removed in 1.0. \n",
      "  tessellation[\"covered_area\"] = momepy.CoveredArea(tessellation, queen_3, \"uID\", verbose=False).series\n"
     ]
    },
    {
     "name": "stdout",
     "output_type": "stream",
     "text": [
      "\n",
      "Metrics DataFrame for Carmiel:\n",
      "    uID  covered_area\n",
      "0  1484  37257.647086\n",
      "1  1203  38619.132650\n",
      "2  1206  42211.208713\n",
      "3  1204  35358.361054\n",
      "4  1212  39106.257790\n",
      "Saved metrics DataFrame for Carmiel to /Users/dpelleg/work/dssg/DSSG_mapping_Jerus/output/covered_area/Carmiel_covered_area.csv\n",
      "Calculating metrics for Holon...\n"
     ]
    },
    {
     "name": "stderr",
     "output_type": "stream",
     "text": [
      "/var/folders/vq/5fctqqys06l8n2l1cjxhxvp80000gn/T/ipykernel_70019/1476564652.py:17: FutureWarning: `momepy.sw_high` is deprecated. Replace it with .higher_order() method of libpysal.graph.Graph or pin momepy version <1.0. This class will be removed in 1.0. \n",
      "  queen_3 = momepy.sw_high(k=3, weights=queen_1)\n",
      "/var/folders/vq/5fctqqys06l8n2l1cjxhxvp80000gn/T/ipykernel_70019/1476564652.py:20: FutureWarning: `momepy.CoveredArea` is deprecated. Replace it with `.describe()` method of libpysal.graph.Graph or pin momepy version <1.0. This class will be removed in 1.0. \n",
      "  tessellation[\"covered_area\"] = momepy.CoveredArea(tessellation, queen_3, \"uID\", verbose=False).series\n"
     ]
    },
    {
     "name": "stdout",
     "output_type": "stream",
     "text": [
      "\n",
      "Metrics DataFrame for Holon:\n",
      "    uID   covered_area\n",
      "0  2087  123784.006469\n",
      "1  6695   81607.463428\n",
      "2  6696   81607.463428\n",
      "3  6699   67445.092871\n",
      "4  6687   81607.463428\n",
      "Saved metrics DataFrame for Holon to /Users/dpelleg/work/dssg/DSSG_mapping_Jerus/output/covered_area/Holon_covered_area.csv\n",
      "Calculating metrics for Hadera...\n"
     ]
    },
    {
     "name": "stderr",
     "output_type": "stream",
     "text": [
      "/var/folders/vq/5fctqqys06l8n2l1cjxhxvp80000gn/T/ipykernel_70019/1476564652.py:17: FutureWarning: `momepy.sw_high` is deprecated. Replace it with .higher_order() method of libpysal.graph.Graph or pin momepy version <1.0. This class will be removed in 1.0. \n",
      "  queen_3 = momepy.sw_high(k=3, weights=queen_1)\n",
      "/var/folders/vq/5fctqqys06l8n2l1cjxhxvp80000gn/T/ipykernel_70019/1476564652.py:20: FutureWarning: `momepy.CoveredArea` is deprecated. Replace it with `.describe()` method of libpysal.graph.Graph or pin momepy version <1.0. This class will be removed in 1.0. \n",
      "  tessellation[\"covered_area\"] = momepy.CoveredArea(tessellation, queen_3, \"uID\", verbose=False).series\n"
     ]
    },
    {
     "name": "stdout",
     "output_type": "stream",
     "text": [
      "\n",
      "Metrics DataFrame for Hadera:\n",
      "    uID  covered_area\n",
      "0  1091  37706.250547\n",
      "1  1493  39968.954434\n",
      "2  1518  60008.046891\n",
      "3  1511  57936.134661\n",
      "4  1480  40912.226132\n",
      "Saved metrics DataFrame for Hadera to /Users/dpelleg/work/dssg/DSSG_mapping_Jerus/output/covered_area/Hadera_covered_area.csv\n",
      "Calculating metrics for Bnei Brak...\n"
     ]
    },
    {
     "name": "stderr",
     "output_type": "stream",
     "text": [
      "/var/folders/vq/5fctqqys06l8n2l1cjxhxvp80000gn/T/ipykernel_70019/1476564652.py:17: FutureWarning: `momepy.sw_high` is deprecated. Replace it with .higher_order() method of libpysal.graph.Graph or pin momepy version <1.0. This class will be removed in 1.0. \n",
      "  queen_3 = momepy.sw_high(k=3, weights=queen_1)\n",
      "/var/folders/vq/5fctqqys06l8n2l1cjxhxvp80000gn/T/ipykernel_70019/1476564652.py:20: FutureWarning: `momepy.CoveredArea` is deprecated. Replace it with `.describe()` method of libpysal.graph.Graph or pin momepy version <1.0. This class will be removed in 1.0. \n",
      "  tessellation[\"covered_area\"] = momepy.CoveredArea(tessellation, queen_3, \"uID\", verbose=False).series\n"
     ]
    },
    {
     "name": "stdout",
     "output_type": "stream",
     "text": [
      "\n",
      "Metrics DataFrame for Bnei Brak:\n",
      "    uID  covered_area\n",
      "0  3923  79017.804434\n",
      "1  2793  73028.919936\n",
      "2  2840  94493.456144\n",
      "3  2792  88813.847731\n",
      "4  2797  45537.563447\n",
      "Saved metrics DataFrame for Bnei Brak to /Users/dpelleg/work/dssg/DSSG_mapping_Jerus/output/covered_area/Bnei Brak_covered_area.csv\n",
      "Calculating metrics for Herzliya...\n"
     ]
    },
    {
     "name": "stderr",
     "output_type": "stream",
     "text": [
      "/var/folders/vq/5fctqqys06l8n2l1cjxhxvp80000gn/T/ipykernel_70019/1476564652.py:17: FutureWarning: `momepy.sw_high` is deprecated. Replace it with .higher_order() method of libpysal.graph.Graph or pin momepy version <1.0. This class will be removed in 1.0. \n",
      "  queen_3 = momepy.sw_high(k=3, weights=queen_1)\n",
      "/var/folders/vq/5fctqqys06l8n2l1cjxhxvp80000gn/T/ipykernel_70019/1476564652.py:20: FutureWarning: `momepy.CoveredArea` is deprecated. Replace it with `.describe()` method of libpysal.graph.Graph or pin momepy version <1.0. This class will be removed in 1.0. \n",
      "  tessellation[\"covered_area\"] = momepy.CoveredArea(tessellation, queen_3, \"uID\", verbose=False).series\n"
     ]
    },
    {
     "name": "stdout",
     "output_type": "stream",
     "text": [
      "\n",
      "Metrics DataFrame for Herzliya:\n",
      "    uID   covered_area\n",
      "0  4442  128638.639279\n",
      "1  7877  101816.829769\n",
      "2  4541  138515.897952\n",
      "3  4453  129040.513941\n",
      "4  4496  112331.491482\n",
      "Saved metrics DataFrame for Herzliya to /Users/dpelleg/work/dssg/DSSG_mapping_Jerus/output/covered_area/Herzliya_covered_area.csv\n",
      "Calculating metrics for Rehovot...\n"
     ]
    },
    {
     "name": "stderr",
     "output_type": "stream",
     "text": [
      "/var/folders/vq/5fctqqys06l8n2l1cjxhxvp80000gn/T/ipykernel_70019/1476564652.py:17: FutureWarning: `momepy.sw_high` is deprecated. Replace it with .higher_order() method of libpysal.graph.Graph or pin momepy version <1.0. This class will be removed in 1.0. \n",
      "  queen_3 = momepy.sw_high(k=3, weights=queen_1)\n",
      "/var/folders/vq/5fctqqys06l8n2l1cjxhxvp80000gn/T/ipykernel_70019/1476564652.py:20: FutureWarning: `momepy.CoveredArea` is deprecated. Replace it with `.describe()` method of libpysal.graph.Graph or pin momepy version <1.0. This class will be removed in 1.0. \n",
      "  tessellation[\"covered_area\"] = momepy.CoveredArea(tessellation, queen_3, \"uID\", verbose=False).series\n"
     ]
    },
    {
     "name": "stdout",
     "output_type": "stream",
     "text": [
      "\n",
      "Metrics DataFrame for Rehovot:\n",
      "    uID  covered_area\n",
      "0  6249  80445.259894\n",
      "1  8410  70652.086180\n",
      "2  8407  52990.327197\n",
      "3  3401  59582.519503\n",
      "4  3386  46346.688745\n",
      "Saved metrics DataFrame for Rehovot to /Users/dpelleg/work/dssg/DSSG_mapping_Jerus/output/covered_area/Rehovot_covered_area.csv\n",
      "Calculating metrics for Haifa...\n"
     ]
    },
    {
     "name": "stderr",
     "output_type": "stream",
     "text": [
      "/var/folders/vq/5fctqqys06l8n2l1cjxhxvp80000gn/T/ipykernel_70019/1476564652.py:17: FutureWarning: `momepy.sw_high` is deprecated. Replace it with .higher_order() method of libpysal.graph.Graph or pin momepy version <1.0. This class will be removed in 1.0. \n",
      "  queen_3 = momepy.sw_high(k=3, weights=queen_1)\n",
      "/var/folders/vq/5fctqqys06l8n2l1cjxhxvp80000gn/T/ipykernel_70019/1476564652.py:20: FutureWarning: `momepy.CoveredArea` is deprecated. Replace it with `.describe()` method of libpysal.graph.Graph or pin momepy version <1.0. This class will be removed in 1.0. \n",
      "  tessellation[\"covered_area\"] = momepy.CoveredArea(tessellation, queen_3, \"uID\", verbose=False).series\n"
     ]
    },
    {
     "name": "stdout",
     "output_type": "stream",
     "text": [
      "\n",
      "Metrics DataFrame for Haifa:\n",
      "     uID   covered_area\n",
      "0   8720  115021.166085\n",
      "1  13388  169999.146811\n",
      "2  13169   91562.780743\n",
      "3  13163  120359.963846\n",
      "4   7437  180192.685262\n",
      "Saved metrics DataFrame for Haifa to /Users/dpelleg/work/dssg/DSSG_mapping_Jerus/output/covered_area/Haifa_covered_area.csv\n",
      "Calculating metrics for Tel Aviv...\n"
     ]
    },
    {
     "name": "stderr",
     "output_type": "stream",
     "text": [
      "/var/folders/vq/5fctqqys06l8n2l1cjxhxvp80000gn/T/ipykernel_70019/1476564652.py:17: FutureWarning: `momepy.sw_high` is deprecated. Replace it with .higher_order() method of libpysal.graph.Graph or pin momepy version <1.0. This class will be removed in 1.0. \n",
      "  queen_3 = momepy.sw_high(k=3, weights=queen_1)\n",
      "/var/folders/vq/5fctqqys06l8n2l1cjxhxvp80000gn/T/ipykernel_70019/1476564652.py:20: FutureWarning: `momepy.CoveredArea` is deprecated. Replace it with `.describe()` method of libpysal.graph.Graph or pin momepy version <1.0. This class will be removed in 1.0. \n",
      "  tessellation[\"covered_area\"] = momepy.CoveredArea(tessellation, queen_3, \"uID\", verbose=False).series\n"
     ]
    },
    {
     "name": "stdout",
     "output_type": "stream",
     "text": [
      "\n",
      "Metrics DataFrame for Tel Aviv:\n",
      "     uID   covered_area\n",
      "0  10274  107936.049250\n",
      "1  24334  194187.236140\n",
      "2  14014  208538.638791\n",
      "3  13953  192313.669057\n",
      "4  14010  257055.212661\n",
      "Saved metrics DataFrame for Tel Aviv to /Users/dpelleg/work/dssg/DSSG_mapping_Jerus/output/covered_area/Tel Aviv_covered_area.csv\n",
      "Calculating metrics for Jerusalem...\n"
     ]
    },
    {
     "name": "stderr",
     "output_type": "stream",
     "text": [
      "/var/folders/vq/5fctqqys06l8n2l1cjxhxvp80000gn/T/ipykernel_70019/1476564652.py:17: FutureWarning: `momepy.sw_high` is deprecated. Replace it with .higher_order() method of libpysal.graph.Graph or pin momepy version <1.0. This class will be removed in 1.0. \n",
      "  queen_3 = momepy.sw_high(k=3, weights=queen_1)\n",
      "/var/folders/vq/5fctqqys06l8n2l1cjxhxvp80000gn/T/ipykernel_70019/1476564652.py:20: FutureWarning: `momepy.CoveredArea` is deprecated. Replace it with `.describe()` method of libpysal.graph.Graph or pin momepy version <1.0. This class will be removed in 1.0. \n",
      "  tessellation[\"covered_area\"] = momepy.CoveredArea(tessellation, queen_3, \"uID\", verbose=False).series\n"
     ]
    },
    {
     "name": "stdout",
     "output_type": "stream",
     "text": [
      "\n",
      "Metrics DataFrame for Jerusalem:\n",
      "     uID   covered_area\n",
      "0  32847   87301.661653\n",
      "1  32755  168869.235674\n",
      "2  32812   93310.916759\n",
      "3  32801  139331.804687\n",
      "4  32798  137390.140844\n",
      "Saved metrics DataFrame for Jerusalem to /Users/dpelleg/work/dssg/DSSG_mapping_Jerus/output/covered_area/Jerusalem_covered_area.csv\n",
      "Calculating metrics for Beer Sheva...\n"
     ]
    },
    {
     "name": "stderr",
     "output_type": "stream",
     "text": [
      "/var/folders/vq/5fctqqys06l8n2l1cjxhxvp80000gn/T/ipykernel_70019/1476564652.py:17: FutureWarning: `momepy.sw_high` is deprecated. Replace it with .higher_order() method of libpysal.graph.Graph or pin momepy version <1.0. This class will be removed in 1.0. \n",
      "  queen_3 = momepy.sw_high(k=3, weights=queen_1)\n",
      "/var/folders/vq/5fctqqys06l8n2l1cjxhxvp80000gn/T/ipykernel_70019/1476564652.py:20: FutureWarning: `momepy.CoveredArea` is deprecated. Replace it with `.describe()` method of libpysal.graph.Graph or pin momepy version <1.0. This class will be removed in 1.0. \n",
      "  tessellation[\"covered_area\"] = momepy.CoveredArea(tessellation, queen_3, \"uID\", verbose=False).series\n"
     ]
    },
    {
     "name": "stdout",
     "output_type": "stream",
     "text": [
      "\n",
      "Metrics DataFrame for Beer Sheva:\n",
      "     uID   covered_area\n",
      "0   2839  125351.156256\n",
      "1  10410   50440.610980\n",
      "2  14140   46886.131630\n",
      "3  14142   48704.595090\n",
      "4  14143   50822.851002\n",
      "Saved metrics DataFrame for Beer Sheva to /Users/dpelleg/work/dssg/DSSG_mapping_Jerus/output/covered_area/Beer Sheva_covered_area.csv\n"
     ]
    }
   ],
   "execution_count": 9
  }
 ],
 "metadata": {
  "kernelspec": {
   "display_name": "momepy_env",
   "language": "python",
   "name": "python3"
  },
  "language_info": {
   "codemirror_mode": {
    "name": "ipython",
    "version": 3
   },
   "file_extension": ".py",
   "mimetype": "text/x-python",
   "name": "python",
   "nbconvert_exporter": "python",
   "pygments_lexer": "ipython3",
   "version": "3.12.5"
  }
 },
 "nbformat": 4,
 "nbformat_minor": 2
}
