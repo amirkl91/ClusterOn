{
 "cells": [
  {
   "cell_type": "code",
   "metadata": {
    "ExecuteTime": {
     "end_time": "2024-09-10T12:08:22.012Z",
     "start_time": "2024-09-10T12:08:21.573689Z"
    }
   },
   "source": [
    "import warnings\n",
    "\n",
    "import geopandas as gpd\n",
    "import libpysal\n",
    "import momepy\n",
    "import osmnx\n",
    "import os\n",
    "import configparser\n",
    "import numpy as np\n",
    "\n",
    "#from bokeh.io import output_notebook\n",
    "#output_notebook()"
   ],
   "outputs": [],
   "execution_count": 1
  },
  {
   "cell_type": "code",
   "metadata": {
    "ExecuteTime": {
     "end_time": "2024-09-10T12:08:22.014317Z",
     "start_time": "2024-09-10T12:08:22.012579Z"
    }
   },
   "source": [
    "cities = ['Jerusalem', 'Tel Aviv', 'Haifa', 'Rishon LeZion', 'Petah Tikva', 'Ashdod', 'Netanya', 'Beer Sheva', 'Bnei Brak', 'Holon', 'Ramat Gan', 'Rehovot', 'Ashkelon', 'Bat Yam', 'Beit Shemesh', 'Kfar Saba', 'Herzliya', 'Hadera', 'Modiin', 'Nazareth']\n",
    "\n",
    "# add CRS\n",
    "cities = {k: \"EPSG:2039\" for k in cities}\n"
   ],
   "outputs": [],
   "execution_count": 2
  },
  {
   "cell_type": "code",
   "metadata": {
    "ExecuteTime": {
     "end_time": "2024-09-10T12:08:22.017001Z",
     "start_time": "2024-09-10T12:08:22.014815Z"
    }
   },
   "source": [
    "# Read the configuration file\n",
    "config = configparser.ConfigParser()\n",
    "config_file = 'config.ini'\n",
    "\n",
    "# Check if file exists\n",
    "if not os.path.isfile(config_file):\n",
    "    # Create a simple config file\n",
    "    config['Paths'] = {\n",
    "        'gdb_folder': '/path/to/your/gdb/folder',\n",
    "        'output_dir': '/path/to/your/output/folder'\n",
    "    }\n",
    "    with open(config_file, 'w') as configfile:\n",
    "        config.write(configfile)\n",
    "    print(f\"Created configuration file '{config_file}'.\")\n",
    "\n",
    "# Read the configuration file\n",
    "config.read(config_file)\n",
    "gdb_folder = config['Paths']['gdb_folder']\n",
    "output_dir = config['Paths']['output_dir']\n",
    "\n",
    "# Ensure the directory exists\n",
    "if not os.path.exists(output_dir):\n",
    "    os.makedirs(output_dir)"
   ],
   "outputs": [],
   "execution_count": 3
  },
  {
   "metadata": {
    "ExecuteTime": {
     "end_time": "2024-09-10T12:09:17.370753Z",
     "start_time": "2024-09-10T12:08:22.017545Z"
    }
   },
   "cell_type": "code",
   "source": [
    "\n",
    "# Dictionaries to store data for each city\n",
    "buildings_data = {}\n",
    "streets_data = {}\n",
    "tessellation_data = {}\n",
    "\n",
    "# Loop through each city calculate or load buildings, streets and tessealtions\n",
    "for city, local_crs in cities.items():\n",
    "    print(f\"Processing {city}\")\n",
    "\n",
    "    # File paths for the saved data\n",
    "    buildings_file = os.path.join(output_dir, f\"{city}_buildings.geojson\")\n",
    "    tessellation_file = os.path.join(output_dir, f\"{city}_tessellation.geojson\")\n",
    "    streets_file = os.path.join(output_dir, f\"{city}_streets.geojson\")\n",
    "\n",
    "    # Check if files already exist, if so, load them\n",
    "    if os.path.exists(buildings_file) and os.path.exists(tessellation_file) and os.path.exists(streets_file):\n",
    "        print(f\"Loading saved data for {city}...\")\n",
    "        buildings = gpd.read_file(buildings_file)\n",
    "        tessellation = gpd.read_file(tessellation_file)\n",
    "        streets = gpd.read_file(streets_file)\n",
    "    else:\n",
    "        print(f\"Fetching and processing data for {city}...\")\n",
    "        # Get buildings and street data\n",
    "        buildings = osmnx.geometries.geometries_from_place(city, tags={'building': True})\n",
    "        buildings = buildings[buildings.geom_type == \"Polygon\"].reset_index(drop=True)\n",
    "        buildings = buildings[[\"geometry\"]].to_crs(local_crs)\n",
    "        buildings[\"uID\"] = range(len(buildings))\n",
    "\n",
    "        osm_graph = osmnx.graph_from_place(city, network_type='drive')\n",
    "        osm_graph = osmnx.projection.project_graph(osm_graph, to_crs=local_crs)\n",
    "\n",
    "        streets = osmnx.graph_to_gdfs(\n",
    "            osm_graph,\n",
    "            nodes=False,\n",
    "            edges=True,\n",
    "            node_geometry=False,\n",
    "            fill_edge_geometry=True\n",
    "        )\n",
    "        streets = momepy.remove_false_nodes(streets)\n",
    "        streets = streets[[\"geometry\"]]\n",
    "        streets[\"nID\"] = range(len(streets))\n",
    "\n",
    "        # Generate tessellation and perform metrics\n",
    "        limit = momepy.buffered_limit(buildings, 100)\n",
    "        tessellation = momepy.Tessellation(buildings, \"uID\", limit, verbose=False, segment=1)\n",
    "        tessellation = tessellation.tessellation\n",
    "\n",
    "        buildings = buildings.sjoin_nearest(streets, max_distance=1000, how=\"left\")\n",
    "        buildings = buildings.drop_duplicates(\"uID\").drop(columns=\"index_right\")\n",
    "        tessellation = tessellation.merge(buildings[['uID', 'nID']], on='uID', how='left')\n",
    "\n",
    "        # Save the data for future use\n",
    "        print(f\"Saving data for {city}...\")\n",
    "        buildings.to_file(buildings_file, driver=\"GeoJSON\")\n",
    "        tessellation.to_file(tessellation_file, driver=\"GeoJSON\")\n",
    "        streets.to_file(streets_file, driver=\"GeoJSON\")\n",
    "    \n",
    "    # Store the data in dictionaries\n",
    "    buildings_data[city] = buildings\n",
    "    streets_data[city] = streets\n",
    "    tessellation_data[city] = tessellation"
   ],
   "outputs": [
    {
     "name": "stdout",
     "output_type": "stream",
     "text": [
      "Processing Jerusalem\n",
      "Loading saved data for Jerusalem...\n",
      "Processing Tel Aviv\n",
      "Loading saved data for Tel Aviv...\n",
      "Processing Haifa\n",
      "Loading saved data for Haifa...\n",
      "Processing Rishon LeZion\n",
      "Loading saved data for Rishon LeZion...\n",
      "Processing Petah Tikva\n",
      "Loading saved data for Petah Tikva...\n",
      "Processing Ashdod\n",
      "Loading saved data for Ashdod...\n",
      "Processing Netanya\n",
      "Loading saved data for Netanya...\n",
      "Processing Beer Sheva\n",
      "Loading saved data for Beer Sheva...\n",
      "Processing Bnei Brak\n",
      "Loading saved data for Bnei Brak...\n",
      "Processing Holon\n",
      "Loading saved data for Holon...\n",
      "Processing Ramat Gan\n",
      "Loading saved data for Ramat Gan...\n",
      "Processing Rehovot\n",
      "Loading saved data for Rehovot...\n",
      "Processing Ashkelon\n",
      "Loading saved data for Ashkelon...\n",
      "Processing Bat Yam\n",
      "Loading saved data for Bat Yam...\n",
      "Processing Beit Shemesh\n",
      "Loading saved data for Beit Shemesh...\n",
      "Processing Kfar Saba\n",
      "Loading saved data for Kfar Saba...\n",
      "Processing Herzliya\n",
      "Loading saved data for Herzliya...\n",
      "Processing Hadera\n",
      "Loading saved data for Hadera...\n",
      "Processing Modiin\n",
      "Loading saved data for Modiin...\n",
      "Processing Nazareth\n",
      "Loading saved data for Nazareth...\n"
     ]
    }
   ],
   "execution_count": 4
  },
  {
   "cell_type": "markdown",
   "metadata": {},
   "source": [
    "neighbors distance Q1"
   ]
  },
  {
   "cell_type": "code",
   "metadata": {
    "ExecuteTime": {
     "end_time": "2024-09-10T12:09:17.373347Z",
     "start_time": "2024-09-10T12:09:17.371391Z"
    }
   },
   "source": [
    "# create output directories\n",
    "for dirname in [\"neighbor_distance_Q1\", \"neighbor_distance_Q3\", \"shared_walls_length\", \"covered_area\"]:\n",
    "    dir_to_make = os.path.join(output_dir, dirname)\n",
    "    if not os.path.exists(dir_to_make):\n",
    "        os.makedirs(dir_to_make)"
   ],
   "outputs": [],
   "execution_count": 5
  },
  {
   "metadata": {
    "ExecuteTime": {
     "end_time": "2024-09-10T12:10:19.035244Z",
     "start_time": "2024-09-10T12:09:17.373914Z"
    }
   },
   "cell_type": "code",
   "source": [
    "output_df_dir = os.path.join(output_dir, \"neighbor_distance_Q1\") # Replace with your desired folder path\n",
    "\n",
    "# Dictionary to store the DataFrame for each city\n",
    "city_metric_dfs = {}\n",
    "\n",
    "# Loop through each city to calculate metrics based on stored data\n",
    "for city in buildings_data.keys():\n",
    "    print(f\"Calculating metrics for {city}...\")\n",
    "\n",
    "    # Retrieve the data for the city from the dictionaries\n",
    "    buildings = buildings_data[city]\n",
    "    streets = streets_data[city]\n",
    "    tessellation = tessellation_data[city]  \n",
    "    \n",
    "    queen_1 = libpysal.weights.contiguity.Queen.from_dataframe(tessellation, ids=\"uID\", silence_warnings=True)\n",
    "    tessellation[\"neighbors\"] = momepy.Neighbors(tessellation, queen_1, \"uID\", weighted=True, verbose=False).series\n",
    "    \n",
    "    with warnings.catch_warnings():\n",
    "        warnings.simplefilter(\"ignore\")\n",
    "        buildings[\"neighbor_distance\"] = momepy.NeighborDistance(buildings, queen_1, \"uID\", verbose=False).series\n",
    "\n",
    "    buildings[\"log_neighbor_distance\"] = np.log(buildings[\"neighbor_distance\"] + 1) / np.log(10)\n",
    "\n",
    "    # Create a DataFrame containing the necessary metrics for this city\n",
    "    city_metrics_df = buildings[[\"uID\", \"neighbor_distance\", \"log_neighbor_distance\"]].copy()\n",
    "\n",
    "    # Store the DataFrame in the dictionary\n",
    "    city_metric_dfs[city] = city_metrics_df\n",
    "\n",
    "    # Display the DataFrame for the current city\n",
    "    print(f\"\\nMetrics DataFrame for {city}:\")\n",
    "    print(city_metric_dfs[city].head())\n",
    "\n",
    "    # Define the output file path using city name and metric\n",
    "    output_file = os.path.join(output_df_dir, f\"{city}_neighbor_distance_Q1.csv\")\n",
    "\n",
    "    # Save the DataFrame as a CSV file\n",
    "    city_metrics_df.to_csv(output_file, index=False)\n",
    "\n",
    "    print(f\"Saved metrics DataFrame for {city} to {output_file}\")\n"
   ],
   "outputs": [
    {
     "name": "stdout",
     "output_type": "stream",
     "text": [
      "Calculating metrics for Jerusalem...\n"
     ]
    },
    {
     "name": "stderr",
     "output_type": "stream",
     "text": [
      "/var/folders/vq/5fctqqys06l8n2l1cjxhxvp80000gn/T/ipykernel_72660/1836647266.py:16: FutureWarning: Class based API like `momepy.Neighbors` is deprecated. Replace it with `momepy.neighbors` to use functional API instead or pin momepy version <1.0. Class-based API will be removed in 1.0. \n",
      "  tessellation[\"neighbors\"] = momepy.Neighbors(tessellation, queen_1, \"uID\", weighted=True, verbose=False).series\n"
     ]
    },
    {
     "name": "stdout",
     "output_type": "stream",
     "text": [
      "\n",
      "Metrics DataFrame for Jerusalem:\n",
      "   uID  neighbor_distance  log_neighbor_distance\n",
      "0    0          41.893135               1.632388\n",
      "1    1          20.728500               1.337030\n",
      "2    2         122.810058               2.092756\n",
      "3    3           3.291272               0.632586\n",
      "4    4           2.412582               0.533083\n",
      "Saved metrics DataFrame for Jerusalem to /Users/dpelleg/work/dssg/DSSG_mapping_Jerus/output/neighbor_distance_Q1/Jerusalem_neighbor_distance_Q1.csv\n",
      "Calculating metrics for Tel Aviv...\n"
     ]
    },
    {
     "name": "stderr",
     "output_type": "stream",
     "text": [
      "/var/folders/vq/5fctqqys06l8n2l1cjxhxvp80000gn/T/ipykernel_72660/1836647266.py:16: FutureWarning: Class based API like `momepy.Neighbors` is deprecated. Replace it with `momepy.neighbors` to use functional API instead or pin momepy version <1.0. Class-based API will be removed in 1.0. \n",
      "  tessellation[\"neighbors\"] = momepy.Neighbors(tessellation, queen_1, \"uID\", weighted=True, verbose=False).series\n"
     ]
    },
    {
     "name": "stdout",
     "output_type": "stream",
     "text": [
      "\n",
      "Metrics DataFrame for Tel Aviv:\n",
      "   uID  neighbor_distance  log_neighbor_distance\n",
      "0    0          47.506637               1.685801\n",
      "1    1          67.795453               1.837560\n",
      "2    2         119.657735               2.081555\n",
      "3    3          32.044263               1.519096\n",
      "4    4         144.011729               2.161403\n",
      "Saved metrics DataFrame for Tel Aviv to /Users/dpelleg/work/dssg/DSSG_mapping_Jerus/output/neighbor_distance_Q1/Tel Aviv_neighbor_distance_Q1.csv\n",
      "Calculating metrics for Haifa...\n"
     ]
    },
    {
     "name": "stderr",
     "output_type": "stream",
     "text": [
      "/var/folders/vq/5fctqqys06l8n2l1cjxhxvp80000gn/T/ipykernel_72660/1836647266.py:16: FutureWarning: Class based API like `momepy.Neighbors` is deprecated. Replace it with `momepy.neighbors` to use functional API instead or pin momepy version <1.0. Class-based API will be removed in 1.0. \n",
      "  tessellation[\"neighbors\"] = momepy.Neighbors(tessellation, queen_1, \"uID\", weighted=True, verbose=False).series\n"
     ]
    },
    {
     "name": "stdout",
     "output_type": "stream",
     "text": [
      "\n",
      "Metrics DataFrame for Haifa:\n",
      "   uID  neighbor_distance  log_neighbor_distance\n",
      "0    0          94.044938               1.977929\n",
      "1    1          89.765109               1.957919\n",
      "2    2         102.276107               2.014000\n",
      "3    3          31.052537               1.505862\n",
      "4    4          32.589292               1.526201\n",
      "Saved metrics DataFrame for Haifa to /Users/dpelleg/work/dssg/DSSG_mapping_Jerus/output/neighbor_distance_Q1/Haifa_neighbor_distance_Q1.csv\n",
      "Calculating metrics for Rishon LeZion...\n"
     ]
    },
    {
     "name": "stderr",
     "output_type": "stream",
     "text": [
      "/var/folders/vq/5fctqqys06l8n2l1cjxhxvp80000gn/T/ipykernel_72660/1836647266.py:16: FutureWarning: Class based API like `momepy.Neighbors` is deprecated. Replace it with `momepy.neighbors` to use functional API instead or pin momepy version <1.0. Class-based API will be removed in 1.0. \n",
      "  tessellation[\"neighbors\"] = momepy.Neighbors(tessellation, queen_1, \"uID\", weighted=True, verbose=False).series\n"
     ]
    },
    {
     "name": "stdout",
     "output_type": "stream",
     "text": [
      "\n",
      "Metrics DataFrame for Rishon LeZion:\n",
      "   uID  neighbor_distance  log_neighbor_distance\n",
      "0    0          29.135872               1.479084\n",
      "1    1          31.181144               1.507601\n",
      "2    2          18.208536               1.283494\n",
      "3    3          47.510679               1.685837\n",
      "4    4          41.672778               1.630151\n",
      "Saved metrics DataFrame for Rishon LeZion to /Users/dpelleg/work/dssg/DSSG_mapping_Jerus/output/neighbor_distance_Q1/Rishon LeZion_neighbor_distance_Q1.csv\n",
      "Calculating metrics for Petah Tikva...\n"
     ]
    },
    {
     "name": "stderr",
     "output_type": "stream",
     "text": [
      "/var/folders/vq/5fctqqys06l8n2l1cjxhxvp80000gn/T/ipykernel_72660/1836647266.py:16: FutureWarning: Class based API like `momepy.Neighbors` is deprecated. Replace it with `momepy.neighbors` to use functional API instead or pin momepy version <1.0. Class-based API will be removed in 1.0. \n",
      "  tessellation[\"neighbors\"] = momepy.Neighbors(tessellation, queen_1, \"uID\", weighted=True, verbose=False).series\n"
     ]
    },
    {
     "name": "stdout",
     "output_type": "stream",
     "text": [
      "\n",
      "Metrics DataFrame for Petah Tikva:\n",
      "   uID  neighbor_distance  log_neighbor_distance\n",
      "0    0         150.644194               2.180826\n",
      "1    1          78.703595               1.901478\n",
      "2    2          18.488009               1.289767\n",
      "3    3          44.355618               1.656631\n",
      "4    4          67.644956               1.836609\n",
      "Saved metrics DataFrame for Petah Tikva to /Users/dpelleg/work/dssg/DSSG_mapping_Jerus/output/neighbor_distance_Q1/Petah Tikva_neighbor_distance_Q1.csv\n",
      "Calculating metrics for Ashdod...\n"
     ]
    },
    {
     "name": "stderr",
     "output_type": "stream",
     "text": [
      "/var/folders/vq/5fctqqys06l8n2l1cjxhxvp80000gn/T/ipykernel_72660/1836647266.py:16: FutureWarning: Class based API like `momepy.Neighbors` is deprecated. Replace it with `momepy.neighbors` to use functional API instead or pin momepy version <1.0. Class-based API will be removed in 1.0. \n",
      "  tessellation[\"neighbors\"] = momepy.Neighbors(tessellation, queen_1, \"uID\", weighted=True, verbose=False).series\n"
     ]
    },
    {
     "name": "stdout",
     "output_type": "stream",
     "text": [
      "\n",
      "Metrics DataFrame for Ashdod:\n",
      "   uID  neighbor_distance  log_neighbor_distance\n",
      "0    0          61.437557               1.795446\n",
      "1    1         144.473043               2.162783\n",
      "2    2         116.280638               2.069226\n",
      "3    3          95.113590               1.982785\n",
      "4    4         112.404830               2.054632\n",
      "Saved metrics DataFrame for Ashdod to /Users/dpelleg/work/dssg/DSSG_mapping_Jerus/output/neighbor_distance_Q1/Ashdod_neighbor_distance_Q1.csv\n",
      "Calculating metrics for Netanya...\n"
     ]
    },
    {
     "name": "stderr",
     "output_type": "stream",
     "text": [
      "/var/folders/vq/5fctqqys06l8n2l1cjxhxvp80000gn/T/ipykernel_72660/1836647266.py:16: FutureWarning: Class based API like `momepy.Neighbors` is deprecated. Replace it with `momepy.neighbors` to use functional API instead or pin momepy version <1.0. Class-based API will be removed in 1.0. \n",
      "  tessellation[\"neighbors\"] = momepy.Neighbors(tessellation, queen_1, \"uID\", weighted=True, verbose=False).series\n"
     ]
    },
    {
     "name": "stdout",
     "output_type": "stream",
     "text": [
      "\n",
      "Metrics DataFrame for Netanya:\n",
      "   uID  neighbor_distance  log_neighbor_distance\n",
      "0    0          43.217833               1.645597\n",
      "1    1          47.239516               1.683403\n",
      "2    2          25.580554               1.424564\n",
      "3    3          18.459368               1.289129\n",
      "4    4          68.602777               1.842627\n",
      "Saved metrics DataFrame for Netanya to /Users/dpelleg/work/dssg/DSSG_mapping_Jerus/output/neighbor_distance_Q1/Netanya_neighbor_distance_Q1.csv\n",
      "Calculating metrics for Beer Sheva...\n"
     ]
    },
    {
     "name": "stderr",
     "output_type": "stream",
     "text": [
      "/var/folders/vq/5fctqqys06l8n2l1cjxhxvp80000gn/T/ipykernel_72660/1836647266.py:16: FutureWarning: Class based API like `momepy.Neighbors` is deprecated. Replace it with `momepy.neighbors` to use functional API instead or pin momepy version <1.0. Class-based API will be removed in 1.0. \n",
      "  tessellation[\"neighbors\"] = momepy.Neighbors(tessellation, queen_1, \"uID\", weighted=True, verbose=False).series\n"
     ]
    },
    {
     "name": "stdout",
     "output_type": "stream",
     "text": [
      "\n",
      "Metrics DataFrame for Beer Sheva:\n",
      "   uID  neighbor_distance  log_neighbor_distance\n",
      "0    0          69.386202               1.847488\n",
      "1    1          14.689683               1.195614\n",
      "2    2          44.410318               1.657155\n",
      "3    3          32.720991               1.527900\n",
      "4    4          23.660412               1.392000\n",
      "Saved metrics DataFrame for Beer Sheva to /Users/dpelleg/work/dssg/DSSG_mapping_Jerus/output/neighbor_distance_Q1/Beer Sheva_neighbor_distance_Q1.csv\n",
      "Calculating metrics for Bnei Brak...\n"
     ]
    },
    {
     "name": "stderr",
     "output_type": "stream",
     "text": [
      "/var/folders/vq/5fctqqys06l8n2l1cjxhxvp80000gn/T/ipykernel_72660/1836647266.py:16: FutureWarning: Class based API like `momepy.Neighbors` is deprecated. Replace it with `momepy.neighbors` to use functional API instead or pin momepy version <1.0. Class-based API will be removed in 1.0. \n",
      "  tessellation[\"neighbors\"] = momepy.Neighbors(tessellation, queen_1, \"uID\", weighted=True, verbose=False).series\n"
     ]
    },
    {
     "name": "stdout",
     "output_type": "stream",
     "text": [
      "\n",
      "Metrics DataFrame for Bnei Brak:\n",
      "   uID  neighbor_distance  log_neighbor_distance\n",
      "0    0          48.197328               1.691942\n",
      "1    1           7.920611               0.950395\n",
      "2    2          98.541979               1.998006\n",
      "3    3          51.861638               1.723141\n",
      "4    4          58.657537               1.775665\n",
      "Saved metrics DataFrame for Bnei Brak to /Users/dpelleg/work/dssg/DSSG_mapping_Jerus/output/neighbor_distance_Q1/Bnei Brak_neighbor_distance_Q1.csv\n",
      "Calculating metrics for Holon...\n"
     ]
    },
    {
     "name": "stderr",
     "output_type": "stream",
     "text": [
      "/var/folders/vq/5fctqqys06l8n2l1cjxhxvp80000gn/T/ipykernel_72660/1836647266.py:16: FutureWarning: Class based API like `momepy.Neighbors` is deprecated. Replace it with `momepy.neighbors` to use functional API instead or pin momepy version <1.0. Class-based API will be removed in 1.0. \n",
      "  tessellation[\"neighbors\"] = momepy.Neighbors(tessellation, queen_1, \"uID\", weighted=True, verbose=False).series\n"
     ]
    },
    {
     "name": "stdout",
     "output_type": "stream",
     "text": [
      "\n",
      "Metrics DataFrame for Holon:\n",
      "   uID  neighbor_distance  log_neighbor_distance\n",
      "0    0          73.133153               1.870012\n",
      "1    1          89.090495               1.954679\n",
      "2    2         114.656982               2.063172\n",
      "3    3          38.876343               1.600715\n",
      "4    4          35.234797               1.559126\n",
      "Saved metrics DataFrame for Holon to /Users/dpelleg/work/dssg/DSSG_mapping_Jerus/output/neighbor_distance_Q1/Holon_neighbor_distance_Q1.csv\n",
      "Calculating metrics for Ramat Gan...\n"
     ]
    },
    {
     "name": "stderr",
     "output_type": "stream",
     "text": [
      "/var/folders/vq/5fctqqys06l8n2l1cjxhxvp80000gn/T/ipykernel_72660/1836647266.py:16: FutureWarning: Class based API like `momepy.Neighbors` is deprecated. Replace it with `momepy.neighbors` to use functional API instead or pin momepy version <1.0. Class-based API will be removed in 1.0. \n",
      "  tessellation[\"neighbors\"] = momepy.Neighbors(tessellation, queen_1, \"uID\", weighted=True, verbose=False).series\n"
     ]
    },
    {
     "name": "stdout",
     "output_type": "stream",
     "text": [
      "\n",
      "Metrics DataFrame for Ramat Gan:\n",
      "   uID  neighbor_distance  log_neighbor_distance\n",
      "0    0          19.944565               1.321071\n",
      "1    1          60.900354               1.791693\n",
      "2    2          46.980819               1.681068\n",
      "3    3          66.791451               1.831175\n",
      "4    4          15.122791               1.207440\n",
      "Saved metrics DataFrame for Ramat Gan to /Users/dpelleg/work/dssg/DSSG_mapping_Jerus/output/neighbor_distance_Q1/Ramat Gan_neighbor_distance_Q1.csv\n",
      "Calculating metrics for Rehovot...\n"
     ]
    },
    {
     "name": "stderr",
     "output_type": "stream",
     "text": [
      "/var/folders/vq/5fctqqys06l8n2l1cjxhxvp80000gn/T/ipykernel_72660/1836647266.py:16: FutureWarning: Class based API like `momepy.Neighbors` is deprecated. Replace it with `momepy.neighbors` to use functional API instead or pin momepy version <1.0. Class-based API will be removed in 1.0. \n",
      "  tessellation[\"neighbors\"] = momepy.Neighbors(tessellation, queen_1, \"uID\", weighted=True, verbose=False).series\n"
     ]
    },
    {
     "name": "stdout",
     "output_type": "stream",
     "text": [
      "\n",
      "Metrics DataFrame for Rehovot:\n",
      "   uID  neighbor_distance  log_neighbor_distance\n",
      "0    0          16.970738               1.254566\n",
      "1    1          39.205973               1.604291\n",
      "2    2          77.027843               1.892250\n",
      "3    3          25.408596               1.421745\n",
      "4    4          13.722292               1.167975\n",
      "Saved metrics DataFrame for Rehovot to /Users/dpelleg/work/dssg/DSSG_mapping_Jerus/output/neighbor_distance_Q1/Rehovot_neighbor_distance_Q1.csv\n",
      "Calculating metrics for Ashkelon...\n"
     ]
    },
    {
     "name": "stderr",
     "output_type": "stream",
     "text": [
      "/var/folders/vq/5fctqqys06l8n2l1cjxhxvp80000gn/T/ipykernel_72660/1836647266.py:16: FutureWarning: Class based API like `momepy.Neighbors` is deprecated. Replace it with `momepy.neighbors` to use functional API instead or pin momepy version <1.0. Class-based API will be removed in 1.0. \n",
      "  tessellation[\"neighbors\"] = momepy.Neighbors(tessellation, queen_1, \"uID\", weighted=True, verbose=False).series\n"
     ]
    },
    {
     "name": "stdout",
     "output_type": "stream",
     "text": [
      "\n",
      "Metrics DataFrame for Ashkelon:\n",
      "   uID  neighbor_distance  log_neighbor_distance\n",
      "0    0          73.127438               1.869979\n",
      "1    1          64.022006               1.813060\n",
      "2    2          32.486156               1.524865\n",
      "3    3          78.745629               1.901707\n",
      "4    4          56.305644               1.758197\n",
      "Saved metrics DataFrame for Ashkelon to /Users/dpelleg/work/dssg/DSSG_mapping_Jerus/output/neighbor_distance_Q1/Ashkelon_neighbor_distance_Q1.csv\n",
      "Calculating metrics for Bat Yam...\n"
     ]
    },
    {
     "name": "stderr",
     "output_type": "stream",
     "text": [
      "/var/folders/vq/5fctqqys06l8n2l1cjxhxvp80000gn/T/ipykernel_72660/1836647266.py:16: FutureWarning: Class based API like `momepy.Neighbors` is deprecated. Replace it with `momepy.neighbors` to use functional API instead or pin momepy version <1.0. Class-based API will be removed in 1.0. \n",
      "  tessellation[\"neighbors\"] = momepy.Neighbors(tessellation, queen_1, \"uID\", weighted=True, verbose=False).series\n"
     ]
    },
    {
     "name": "stdout",
     "output_type": "stream",
     "text": [
      "\n",
      "Metrics DataFrame for Bat Yam:\n",
      "   uID  neighbor_distance  log_neighbor_distance\n",
      "0    0          58.416804               1.773909\n",
      "1    1          60.259973               1.787177\n",
      "2    2                NaN                    NaN\n",
      "3    3          30.322372               1.495855\n",
      "4    4          51.601246               1.720996\n",
      "Saved metrics DataFrame for Bat Yam to /Users/dpelleg/work/dssg/DSSG_mapping_Jerus/output/neighbor_distance_Q1/Bat Yam_neighbor_distance_Q1.csv\n",
      "Calculating metrics for Beit Shemesh...\n"
     ]
    },
    {
     "name": "stderr",
     "output_type": "stream",
     "text": [
      "/var/folders/vq/5fctqqys06l8n2l1cjxhxvp80000gn/T/ipykernel_72660/1836647266.py:16: FutureWarning: Class based API like `momepy.Neighbors` is deprecated. Replace it with `momepy.neighbors` to use functional API instead or pin momepy version <1.0. Class-based API will be removed in 1.0. \n",
      "  tessellation[\"neighbors\"] = momepy.Neighbors(tessellation, queen_1, \"uID\", weighted=True, verbose=False).series\n"
     ]
    },
    {
     "name": "stdout",
     "output_type": "stream",
     "text": [
      "\n",
      "Metrics DataFrame for Beit Shemesh:\n",
      "   uID  neighbor_distance  log_neighbor_distance\n",
      "0    0          89.451986               1.956418\n",
      "1    1          51.271231               1.718263\n",
      "2    2          44.933904               1.662133\n",
      "3    3          26.468836               1.438840\n",
      "4    4          31.235559               1.508335\n",
      "Saved metrics DataFrame for Beit Shemesh to /Users/dpelleg/work/dssg/DSSG_mapping_Jerus/output/neighbor_distance_Q1/Beit Shemesh_neighbor_distance_Q1.csv\n",
      "Calculating metrics for Kfar Saba...\n"
     ]
    },
    {
     "name": "stderr",
     "output_type": "stream",
     "text": [
      "/var/folders/vq/5fctqqys06l8n2l1cjxhxvp80000gn/T/ipykernel_72660/1836647266.py:16: FutureWarning: Class based API like `momepy.Neighbors` is deprecated. Replace it with `momepy.neighbors` to use functional API instead or pin momepy version <1.0. Class-based API will be removed in 1.0. \n",
      "  tessellation[\"neighbors\"] = momepy.Neighbors(tessellation, queen_1, \"uID\", weighted=True, verbose=False).series\n"
     ]
    },
    {
     "name": "stdout",
     "output_type": "stream",
     "text": [
      "\n",
      "Metrics DataFrame for Kfar Saba:\n",
      "   uID  neighbor_distance  log_neighbor_distance\n",
      "0    0          90.459982               1.961231\n",
      "1    1          31.949970               1.517855\n",
      "2    2          45.153664               1.664206\n",
      "3    3          43.745711               1.650751\n",
      "4    4          48.987706               1.698863\n",
      "Saved metrics DataFrame for Kfar Saba to /Users/dpelleg/work/dssg/DSSG_mapping_Jerus/output/neighbor_distance_Q1/Kfar Saba_neighbor_distance_Q1.csv\n",
      "Calculating metrics for Herzliya...\n"
     ]
    },
    {
     "name": "stderr",
     "output_type": "stream",
     "text": [
      "/var/folders/vq/5fctqqys06l8n2l1cjxhxvp80000gn/T/ipykernel_72660/1836647266.py:16: FutureWarning: Class based API like `momepy.Neighbors` is deprecated. Replace it with `momepy.neighbors` to use functional API instead or pin momepy version <1.0. Class-based API will be removed in 1.0. \n",
      "  tessellation[\"neighbors\"] = momepy.Neighbors(tessellation, queen_1, \"uID\", weighted=True, verbose=False).series\n"
     ]
    },
    {
     "name": "stdout",
     "output_type": "stream",
     "text": [
      "\n",
      "Metrics DataFrame for Herzliya:\n",
      "   uID  neighbor_distance  log_neighbor_distance\n",
      "0    0          45.906965               1.671237\n",
      "1    1          74.725784               1.879244\n",
      "2    2          75.721639               1.884918\n",
      "3    3           2.446010               0.537317\n",
      "4    4          34.326570               1.548101\n",
      "Saved metrics DataFrame for Herzliya to /Users/dpelleg/work/dssg/DSSG_mapping_Jerus/output/neighbor_distance_Q1/Herzliya_neighbor_distance_Q1.csv\n",
      "Calculating metrics for Hadera...\n"
     ]
    },
    {
     "name": "stderr",
     "output_type": "stream",
     "text": [
      "/var/folders/vq/5fctqqys06l8n2l1cjxhxvp80000gn/T/ipykernel_72660/1836647266.py:16: FutureWarning: Class based API like `momepy.Neighbors` is deprecated. Replace it with `momepy.neighbors` to use functional API instead or pin momepy version <1.0. Class-based API will be removed in 1.0. \n",
      "  tessellation[\"neighbors\"] = momepy.Neighbors(tessellation, queen_1, \"uID\", weighted=True, verbose=False).series\n"
     ]
    },
    {
     "name": "stdout",
     "output_type": "stream",
     "text": [
      "\n",
      "Metrics DataFrame for Hadera:\n",
      "   uID  neighbor_distance  log_neighbor_distance\n",
      "0    0          73.737704               1.873540\n",
      "1    1         124.848059               2.099847\n",
      "2    2         117.362208               2.073213\n",
      "3    3         101.634512               2.011293\n",
      "4    4          51.744698               1.722179\n",
      "Saved metrics DataFrame for Hadera to /Users/dpelleg/work/dssg/DSSG_mapping_Jerus/output/neighbor_distance_Q1/Hadera_neighbor_distance_Q1.csv\n",
      "Calculating metrics for Modiin...\n"
     ]
    },
    {
     "name": "stderr",
     "output_type": "stream",
     "text": [
      "/var/folders/vq/5fctqqys06l8n2l1cjxhxvp80000gn/T/ipykernel_72660/1836647266.py:16: FutureWarning: Class based API like `momepy.Neighbors` is deprecated. Replace it with `momepy.neighbors` to use functional API instead or pin momepy version <1.0. Class-based API will be removed in 1.0. \n",
      "  tessellation[\"neighbors\"] = momepy.Neighbors(tessellation, queen_1, \"uID\", weighted=True, verbose=False).series\n"
     ]
    },
    {
     "name": "stdout",
     "output_type": "stream",
     "text": [
      "\n",
      "Metrics DataFrame for Modiin:\n",
      "   uID  neighbor_distance  log_neighbor_distance\n",
      "0    0          39.405827               1.606444\n",
      "1    1          51.689191               1.721722\n",
      "2    2          78.361407               1.899609\n",
      "3    3          92.713786               1.971803\n",
      "4    4          31.552228               1.512581\n",
      "Saved metrics DataFrame for Modiin to /Users/dpelleg/work/dssg/DSSG_mapping_Jerus/output/neighbor_distance_Q1/Modiin_neighbor_distance_Q1.csv\n",
      "Calculating metrics for Nazareth...\n"
     ]
    },
    {
     "name": "stderr",
     "output_type": "stream",
     "text": [
      "/var/folders/vq/5fctqqys06l8n2l1cjxhxvp80000gn/T/ipykernel_72660/1836647266.py:16: FutureWarning: Class based API like `momepy.Neighbors` is deprecated. Replace it with `momepy.neighbors` to use functional API instead or pin momepy version <1.0. Class-based API will be removed in 1.0. \n",
      "  tessellation[\"neighbors\"] = momepy.Neighbors(tessellation, queen_1, \"uID\", weighted=True, verbose=False).series\n"
     ]
    },
    {
     "name": "stdout",
     "output_type": "stream",
     "text": [
      "\n",
      "Metrics DataFrame for Nazareth:\n",
      "   uID  neighbor_distance  log_neighbor_distance\n",
      "0    0          32.733206               1.528058\n",
      "1    1          44.572060               1.658699\n",
      "2    2          10.672604               1.067168\n",
      "3    3          75.564280               1.884026\n",
      "4    4          79.863505               1.907753\n",
      "Saved metrics DataFrame for Nazareth to /Users/dpelleg/work/dssg/DSSG_mapping_Jerus/output/neighbor_distance_Q1/Nazareth_neighbor_distance_Q1.csv\n"
     ]
    }
   ],
   "execution_count": 6
  },
  {
   "metadata": {},
   "cell_type": "markdown",
   "source": "neighbors distance Q3"
  },
  {
   "metadata": {
    "ExecuteTime": {
     "end_time": "2024-09-10T12:11:33.595748Z",
     "start_time": "2024-09-10T12:10:19.035851Z"
    }
   },
   "cell_type": "code",
   "source": [
    "output_df_dir = os.path.join(output_dir, \"neighbor_distance_Q3\")\n",
    "\n",
    "# Dictionary to store the DataFrame for each city\n",
    "city_metric_dfs = {}\n",
    "\n",
    "# Loop through each city to calculate metrics based on stored data\n",
    "for city in buildings_data.keys():\n",
    "    print(f\"Calculating metrics for {city}...\")\n",
    "\n",
    "    # Retrieve the data for the city from the dictionaries\n",
    "    buildings = buildings_data[city]\n",
    "    streets = streets_data[city]\n",
    "    tessellation = tessellation_data[city]  \n",
    "    \n",
    "    queen_1 = libpysal.weights.contiguity.Queen.from_dataframe(tessellation, ids=\"uID\", silence_warnings=True)\n",
    "    # Create a higher-order spatial weights matrix for tessellation (considering neighbors up to 3rd order)\n",
    "    queen_3 = momepy.sw_high(k=3, weights=queen_1)\n",
    "\n",
    "    # Calculate neighbor distances using the higher-order spatial weights\n",
    "    buildings['neighbor_distance_q3'] = momepy.NeighborDistance(buildings, queen_3, \"uID\", verbose=False).series\n",
    "\n",
    "    # Create a DataFrame containing the necessary metrics for this city\n",
    "    city_metrics_df = buildings[[\"uID\", \"neighbor_distance_q3\"]].copy()\n",
    "\n",
    "    # Store the DataFrame in the dictionary\n",
    "    city_metric_dfs[city] = city_metrics_df\n",
    "\n",
    "    # Display the DataFrame for the current city\n",
    "    print(f\"\\nMetrics DataFrame for {city}:\")\n",
    "    print(city_metric_dfs[city].head())\n",
    "\n",
    "    # Define the output file path using city name and metric\n",
    "    output_file = os.path.join(output_df_dir, f\"{city}_neighbor_distance_Q3.csv\")\n",
    "\n",
    "    # Save the DataFrame as a CSV file\n",
    "    city_metrics_df.to_csv(output_file, index=False)\n",
    "\n",
    "    print(f\"Saved metrics DataFrame for {city} to {output_file}\")\n"
   ],
   "outputs": [
    {
     "name": "stdout",
     "output_type": "stream",
     "text": [
      "Calculating metrics for Jerusalem...\n"
     ]
    },
    {
     "name": "stderr",
     "output_type": "stream",
     "text": [
      "/var/folders/vq/5fctqqys06l8n2l1cjxhxvp80000gn/T/ipykernel_72660/3993208919.py:17: FutureWarning: `momepy.sw_high` is deprecated. Replace it with .higher_order() method of libpysal.graph.Graph or pin momepy version <1.0. This class will be removed in 1.0. \n",
      "  queen_3 = momepy.sw_high(k=3, weights=queen_1)\n",
      "/var/folders/vq/5fctqqys06l8n2l1cjxhxvp80000gn/T/ipykernel_72660/3993208919.py:20: FutureWarning: Class based API like `momepy.NeighborDistance` is deprecated. Replace it with `momepy.neighbor_distance` to use functional API instead or pin momepy version <1.0. Class-based API will be removed in 1.0. \n",
      "  buildings['neighbor_distance_q3'] = momepy.NeighborDistance(buildings, queen_3, \"uID\", verbose=False).series\n"
     ]
    },
    {
     "name": "stdout",
     "output_type": "stream",
     "text": [
      "\n",
      "Metrics DataFrame for Jerusalem:\n",
      "   uID  neighbor_distance_q3\n",
      "0    0            121.909552\n",
      "1    1            131.074745\n",
      "2    2            225.911765\n",
      "3    3             72.594325\n",
      "4    4            121.442453\n",
      "Saved metrics DataFrame for Jerusalem to /Users/dpelleg/work/dssg/DSSG_mapping_Jerus/output/neighbor_distance_Q3/Jerusalem_neighbor_distance_Q3.csv\n",
      "Calculating metrics for Tel Aviv...\n"
     ]
    },
    {
     "name": "stderr",
     "output_type": "stream",
     "text": [
      "/var/folders/vq/5fctqqys06l8n2l1cjxhxvp80000gn/T/ipykernel_72660/3993208919.py:17: FutureWarning: `momepy.sw_high` is deprecated. Replace it with .higher_order() method of libpysal.graph.Graph or pin momepy version <1.0. This class will be removed in 1.0. \n",
      "  queen_3 = momepy.sw_high(k=3, weights=queen_1)\n",
      "/var/folders/vq/5fctqqys06l8n2l1cjxhxvp80000gn/T/ipykernel_72660/3993208919.py:20: FutureWarning: Class based API like `momepy.NeighborDistance` is deprecated. Replace it with `momepy.neighbor_distance` to use functional API instead or pin momepy version <1.0. Class-based API will be removed in 1.0. \n",
      "  buildings['neighbor_distance_q3'] = momepy.NeighborDistance(buildings, queen_3, \"uID\", verbose=False).series\n"
     ]
    },
    {
     "name": "stdout",
     "output_type": "stream",
     "text": [
      "\n",
      "Metrics DataFrame for Tel Aviv:\n",
      "   uID  neighbor_distance_q3\n",
      "0    0            124.578091\n",
      "1    1            201.610202\n",
      "2    2            235.830444\n",
      "3    3             92.354157\n",
      "4    4            151.534608\n",
      "Saved metrics DataFrame for Tel Aviv to /Users/dpelleg/work/dssg/DSSG_mapping_Jerus/output/neighbor_distance_Q3/Tel Aviv_neighbor_distance_Q3.csv\n",
      "Calculating metrics for Haifa...\n"
     ]
    },
    {
     "name": "stderr",
     "output_type": "stream",
     "text": [
      "/var/folders/vq/5fctqqys06l8n2l1cjxhxvp80000gn/T/ipykernel_72660/3993208919.py:17: FutureWarning: `momepy.sw_high` is deprecated. Replace it with .higher_order() method of libpysal.graph.Graph or pin momepy version <1.0. This class will be removed in 1.0. \n",
      "  queen_3 = momepy.sw_high(k=3, weights=queen_1)\n",
      "/var/folders/vq/5fctqqys06l8n2l1cjxhxvp80000gn/T/ipykernel_72660/3993208919.py:20: FutureWarning: Class based API like `momepy.NeighborDistance` is deprecated. Replace it with `momepy.neighbor_distance` to use functional API instead or pin momepy version <1.0. Class-based API will be removed in 1.0. \n",
      "  buildings['neighbor_distance_q3'] = momepy.NeighborDistance(buildings, queen_3, \"uID\", verbose=False).series\n"
     ]
    },
    {
     "name": "stdout",
     "output_type": "stream",
     "text": [
      "\n",
      "Metrics DataFrame for Haifa:\n",
      "   uID  neighbor_distance_q3\n",
      "0    0            285.586354\n",
      "1    1            229.384581\n",
      "2    2            215.997992\n",
      "3    3             72.329013\n",
      "4    4             92.330538\n",
      "Saved metrics DataFrame for Haifa to /Users/dpelleg/work/dssg/DSSG_mapping_Jerus/output/neighbor_distance_Q3/Haifa_neighbor_distance_Q3.csv\n",
      "Calculating metrics for Rishon LeZion...\n"
     ]
    },
    {
     "name": "stderr",
     "output_type": "stream",
     "text": [
      "/var/folders/vq/5fctqqys06l8n2l1cjxhxvp80000gn/T/ipykernel_72660/3993208919.py:17: FutureWarning: `momepy.sw_high` is deprecated. Replace it with .higher_order() method of libpysal.graph.Graph or pin momepy version <1.0. This class will be removed in 1.0. \n",
      "  queen_3 = momepy.sw_high(k=3, weights=queen_1)\n",
      "/var/folders/vq/5fctqqys06l8n2l1cjxhxvp80000gn/T/ipykernel_72660/3993208919.py:20: FutureWarning: Class based API like `momepy.NeighborDistance` is deprecated. Replace it with `momepy.neighbor_distance` to use functional API instead or pin momepy version <1.0. Class-based API will be removed in 1.0. \n",
      "  buildings['neighbor_distance_q3'] = momepy.NeighborDistance(buildings, queen_3, \"uID\", verbose=False).series\n"
     ]
    },
    {
     "name": "stdout",
     "output_type": "stream",
     "text": [
      "\n",
      "Metrics DataFrame for Rishon LeZion:\n",
      "   uID  neighbor_distance_q3\n",
      "0    0            137.964389\n",
      "1    1            138.078113\n",
      "2    2            233.883919\n",
      "3    3            140.826959\n",
      "4    4            219.960671\n",
      "Saved metrics DataFrame for Rishon LeZion to /Users/dpelleg/work/dssg/DSSG_mapping_Jerus/output/neighbor_distance_Q3/Rishon LeZion_neighbor_distance_Q3.csv\n",
      "Calculating metrics for Petah Tikva...\n"
     ]
    },
    {
     "name": "stderr",
     "output_type": "stream",
     "text": [
      "/var/folders/vq/5fctqqys06l8n2l1cjxhxvp80000gn/T/ipykernel_72660/3993208919.py:17: FutureWarning: `momepy.sw_high` is deprecated. Replace it with .higher_order() method of libpysal.graph.Graph or pin momepy version <1.0. This class will be removed in 1.0. \n",
      "  queen_3 = momepy.sw_high(k=3, weights=queen_1)\n",
      "/var/folders/vq/5fctqqys06l8n2l1cjxhxvp80000gn/T/ipykernel_72660/3993208919.py:20: FutureWarning: Class based API like `momepy.NeighborDistance` is deprecated. Replace it with `momepy.neighbor_distance` to use functional API instead or pin momepy version <1.0. Class-based API will be removed in 1.0. \n",
      "  buildings['neighbor_distance_q3'] = momepy.NeighborDistance(buildings, queen_3, \"uID\", verbose=False).series\n"
     ]
    },
    {
     "name": "stdout",
     "output_type": "stream",
     "text": [
      "\n",
      "Metrics DataFrame for Petah Tikva:\n",
      "   uID  neighbor_distance_q3\n",
      "0    0            265.440906\n",
      "1    1            169.384159\n",
      "2    2            151.232201\n",
      "3    3            176.767297\n",
      "4    4            209.891892\n",
      "Saved metrics DataFrame for Petah Tikva to /Users/dpelleg/work/dssg/DSSG_mapping_Jerus/output/neighbor_distance_Q3/Petah Tikva_neighbor_distance_Q3.csv\n",
      "Calculating metrics for Ashdod...\n"
     ]
    },
    {
     "name": "stderr",
     "output_type": "stream",
     "text": [
      "/var/folders/vq/5fctqqys06l8n2l1cjxhxvp80000gn/T/ipykernel_72660/3993208919.py:17: FutureWarning: `momepy.sw_high` is deprecated. Replace it with .higher_order() method of libpysal.graph.Graph or pin momepy version <1.0. This class will be removed in 1.0. \n",
      "  queen_3 = momepy.sw_high(k=3, weights=queen_1)\n",
      "/var/folders/vq/5fctqqys06l8n2l1cjxhxvp80000gn/T/ipykernel_72660/3993208919.py:20: FutureWarning: Class based API like `momepy.NeighborDistance` is deprecated. Replace it with `momepy.neighbor_distance` to use functional API instead or pin momepy version <1.0. Class-based API will be removed in 1.0. \n",
      "  buildings['neighbor_distance_q3'] = momepy.NeighborDistance(buildings, queen_3, \"uID\", verbose=False).series\n"
     ]
    },
    {
     "name": "stdout",
     "output_type": "stream",
     "text": [
      "\n",
      "Metrics DataFrame for Ashdod:\n",
      "   uID  neighbor_distance_q3\n",
      "0    0            160.505889\n",
      "1    1            274.170842\n",
      "2    2            263.757690\n",
      "3    3            207.256951\n",
      "4    4            207.492282\n",
      "Saved metrics DataFrame for Ashdod to /Users/dpelleg/work/dssg/DSSG_mapping_Jerus/output/neighbor_distance_Q3/Ashdod_neighbor_distance_Q3.csv\n",
      "Calculating metrics for Netanya...\n"
     ]
    },
    {
     "name": "stderr",
     "output_type": "stream",
     "text": [
      "/var/folders/vq/5fctqqys06l8n2l1cjxhxvp80000gn/T/ipykernel_72660/3993208919.py:17: FutureWarning: `momepy.sw_high` is deprecated. Replace it with .higher_order() method of libpysal.graph.Graph or pin momepy version <1.0. This class will be removed in 1.0. \n",
      "  queen_3 = momepy.sw_high(k=3, weights=queen_1)\n",
      "/var/folders/vq/5fctqqys06l8n2l1cjxhxvp80000gn/T/ipykernel_72660/3993208919.py:20: FutureWarning: Class based API like `momepy.NeighborDistance` is deprecated. Replace it with `momepy.neighbor_distance` to use functional API instead or pin momepy version <1.0. Class-based API will be removed in 1.0. \n",
      "  buildings['neighbor_distance_q3'] = momepy.NeighborDistance(buildings, queen_3, \"uID\", verbose=False).series\n"
     ]
    },
    {
     "name": "stdout",
     "output_type": "stream",
     "text": [
      "\n",
      "Metrics DataFrame for Netanya:\n",
      "   uID  neighbor_distance_q3\n",
      "0    0            108.702571\n",
      "1    1            140.394611\n",
      "2    2            146.579462\n",
      "3    3            108.299958\n",
      "4    4            159.479934\n",
      "Saved metrics DataFrame for Netanya to /Users/dpelleg/work/dssg/DSSG_mapping_Jerus/output/neighbor_distance_Q3/Netanya_neighbor_distance_Q3.csv\n",
      "Calculating metrics for Beer Sheva...\n"
     ]
    },
    {
     "name": "stderr",
     "output_type": "stream",
     "text": [
      "/var/folders/vq/5fctqqys06l8n2l1cjxhxvp80000gn/T/ipykernel_72660/3993208919.py:17: FutureWarning: `momepy.sw_high` is deprecated. Replace it with .higher_order() method of libpysal.graph.Graph or pin momepy version <1.0. This class will be removed in 1.0. \n",
      "  queen_3 = momepy.sw_high(k=3, weights=queen_1)\n",
      "/var/folders/vq/5fctqqys06l8n2l1cjxhxvp80000gn/T/ipykernel_72660/3993208919.py:20: FutureWarning: Class based API like `momepy.NeighborDistance` is deprecated. Replace it with `momepy.neighbor_distance` to use functional API instead or pin momepy version <1.0. Class-based API will be removed in 1.0. \n",
      "  buildings['neighbor_distance_q3'] = momepy.NeighborDistance(buildings, queen_3, \"uID\", verbose=False).series\n"
     ]
    },
    {
     "name": "stdout",
     "output_type": "stream",
     "text": [
      "\n",
      "Metrics DataFrame for Beer Sheva:\n",
      "   uID  neighbor_distance_q3\n",
      "0    0            172.122820\n",
      "1    1            109.874145\n",
      "2    2            114.544431\n",
      "3    3            213.620805\n",
      "4    4            237.892361\n",
      "Saved metrics DataFrame for Beer Sheva to /Users/dpelleg/work/dssg/DSSG_mapping_Jerus/output/neighbor_distance_Q3/Beer Sheva_neighbor_distance_Q3.csv\n",
      "Calculating metrics for Bnei Brak...\n"
     ]
    },
    {
     "name": "stderr",
     "output_type": "stream",
     "text": [
      "/var/folders/vq/5fctqqys06l8n2l1cjxhxvp80000gn/T/ipykernel_72660/3993208919.py:17: FutureWarning: `momepy.sw_high` is deprecated. Replace it with .higher_order() method of libpysal.graph.Graph or pin momepy version <1.0. This class will be removed in 1.0. \n",
      "  queen_3 = momepy.sw_high(k=3, weights=queen_1)\n",
      "/var/folders/vq/5fctqqys06l8n2l1cjxhxvp80000gn/T/ipykernel_72660/3993208919.py:20: FutureWarning: Class based API like `momepy.NeighborDistance` is deprecated. Replace it with `momepy.neighbor_distance` to use functional API instead or pin momepy version <1.0. Class-based API will be removed in 1.0. \n",
      "  buildings['neighbor_distance_q3'] = momepy.NeighborDistance(buildings, queen_3, \"uID\", verbose=False).series\n"
     ]
    },
    {
     "name": "stdout",
     "output_type": "stream",
     "text": [
      "\n",
      "Metrics DataFrame for Bnei Brak:\n",
      "   uID  neighbor_distance_q3\n",
      "0    0            223.123338\n",
      "1    1            128.962747\n",
      "2    2            234.120588\n",
      "3    3            206.649075\n",
      "4    4            226.404704\n",
      "Saved metrics DataFrame for Bnei Brak to /Users/dpelleg/work/dssg/DSSG_mapping_Jerus/output/neighbor_distance_Q3/Bnei Brak_neighbor_distance_Q3.csv\n",
      "Calculating metrics for Holon...\n"
     ]
    },
    {
     "name": "stderr",
     "output_type": "stream",
     "text": [
      "/var/folders/vq/5fctqqys06l8n2l1cjxhxvp80000gn/T/ipykernel_72660/3993208919.py:17: FutureWarning: `momepy.sw_high` is deprecated. Replace it with .higher_order() method of libpysal.graph.Graph or pin momepy version <1.0. This class will be removed in 1.0. \n",
      "  queen_3 = momepy.sw_high(k=3, weights=queen_1)\n",
      "/var/folders/vq/5fctqqys06l8n2l1cjxhxvp80000gn/T/ipykernel_72660/3993208919.py:20: FutureWarning: Class based API like `momepy.NeighborDistance` is deprecated. Replace it with `momepy.neighbor_distance` to use functional API instead or pin momepy version <1.0. Class-based API will be removed in 1.0. \n",
      "  buildings['neighbor_distance_q3'] = momepy.NeighborDistance(buildings, queen_3, \"uID\", verbose=False).series\n"
     ]
    },
    {
     "name": "stdout",
     "output_type": "stream",
     "text": [
      "\n",
      "Metrics DataFrame for Holon:\n",
      "   uID  neighbor_distance_q3\n",
      "0    0            254.509273\n",
      "1    1            168.177283\n",
      "2    2            183.125430\n",
      "3    3            141.464673\n",
      "4    4             93.400245\n",
      "Saved metrics DataFrame for Holon to /Users/dpelleg/work/dssg/DSSG_mapping_Jerus/output/neighbor_distance_Q3/Holon_neighbor_distance_Q3.csv\n",
      "Calculating metrics for Ramat Gan...\n"
     ]
    },
    {
     "name": "stderr",
     "output_type": "stream",
     "text": [
      "/var/folders/vq/5fctqqys06l8n2l1cjxhxvp80000gn/T/ipykernel_72660/3993208919.py:17: FutureWarning: `momepy.sw_high` is deprecated. Replace it with .higher_order() method of libpysal.graph.Graph or pin momepy version <1.0. This class will be removed in 1.0. \n",
      "  queen_3 = momepy.sw_high(k=3, weights=queen_1)\n",
      "/var/folders/vq/5fctqqys06l8n2l1cjxhxvp80000gn/T/ipykernel_72660/3993208919.py:20: FutureWarning: Class based API like `momepy.NeighborDistance` is deprecated. Replace it with `momepy.neighbor_distance` to use functional API instead or pin momepy version <1.0. Class-based API will be removed in 1.0. \n",
      "  buildings['neighbor_distance_q3'] = momepy.NeighborDistance(buildings, queen_3, \"uID\", verbose=False).series\n"
     ]
    },
    {
     "name": "stdout",
     "output_type": "stream",
     "text": [
      "\n",
      "Metrics DataFrame for Ramat Gan:\n",
      "   uID  neighbor_distance_q3\n",
      "0    0             85.815352\n",
      "1    1            124.326967\n",
      "2    2            103.198730\n",
      "3    3            224.325332\n",
      "4    4             98.021455\n",
      "Saved metrics DataFrame for Ramat Gan to /Users/dpelleg/work/dssg/DSSG_mapping_Jerus/output/neighbor_distance_Q3/Ramat Gan_neighbor_distance_Q3.csv\n",
      "Calculating metrics for Rehovot...\n"
     ]
    },
    {
     "name": "stderr",
     "output_type": "stream",
     "text": [
      "/var/folders/vq/5fctqqys06l8n2l1cjxhxvp80000gn/T/ipykernel_72660/3993208919.py:17: FutureWarning: `momepy.sw_high` is deprecated. Replace it with .higher_order() method of libpysal.graph.Graph or pin momepy version <1.0. This class will be removed in 1.0. \n",
      "  queen_3 = momepy.sw_high(k=3, weights=queen_1)\n",
      "/var/folders/vq/5fctqqys06l8n2l1cjxhxvp80000gn/T/ipykernel_72660/3993208919.py:20: FutureWarning: Class based API like `momepy.NeighborDistance` is deprecated. Replace it with `momepy.neighbor_distance` to use functional API instead or pin momepy version <1.0. Class-based API will be removed in 1.0. \n",
      "  buildings['neighbor_distance_q3'] = momepy.NeighborDistance(buildings, queen_3, \"uID\", verbose=False).series\n"
     ]
    },
    {
     "name": "stdout",
     "output_type": "stream",
     "text": [
      "\n",
      "Metrics DataFrame for Rehovot:\n",
      "   uID  neighbor_distance_q3\n",
      "0    0             55.752829\n",
      "1    1             92.432735\n",
      "2    2            184.459830\n",
      "3    3             65.722871\n",
      "4    4             69.812523\n",
      "Saved metrics DataFrame for Rehovot to /Users/dpelleg/work/dssg/DSSG_mapping_Jerus/output/neighbor_distance_Q3/Rehovot_neighbor_distance_Q3.csv\n",
      "Calculating metrics for Ashkelon...\n"
     ]
    },
    {
     "name": "stderr",
     "output_type": "stream",
     "text": [
      "/var/folders/vq/5fctqqys06l8n2l1cjxhxvp80000gn/T/ipykernel_72660/3993208919.py:17: FutureWarning: `momepy.sw_high` is deprecated. Replace it with .higher_order() method of libpysal.graph.Graph or pin momepy version <1.0. This class will be removed in 1.0. \n",
      "  queen_3 = momepy.sw_high(k=3, weights=queen_1)\n",
      "/var/folders/vq/5fctqqys06l8n2l1cjxhxvp80000gn/T/ipykernel_72660/3993208919.py:20: FutureWarning: Class based API like `momepy.NeighborDistance` is deprecated. Replace it with `momepy.neighbor_distance` to use functional API instead or pin momepy version <1.0. Class-based API will be removed in 1.0. \n",
      "  buildings['neighbor_distance_q3'] = momepy.NeighborDistance(buildings, queen_3, \"uID\", verbose=False).series\n"
     ]
    },
    {
     "name": "stdout",
     "output_type": "stream",
     "text": [
      "\n",
      "Metrics DataFrame for Ashkelon:\n",
      "   uID  neighbor_distance_q3\n",
      "0    0            238.644078\n",
      "1    1            165.700135\n",
      "2    2            159.692836\n",
      "3    3            212.082543\n",
      "4    4            160.265454\n",
      "Saved metrics DataFrame for Ashkelon to /Users/dpelleg/work/dssg/DSSG_mapping_Jerus/output/neighbor_distance_Q3/Ashkelon_neighbor_distance_Q3.csv\n",
      "Calculating metrics for Bat Yam...\n"
     ]
    },
    {
     "name": "stderr",
     "output_type": "stream",
     "text": [
      "/var/folders/vq/5fctqqys06l8n2l1cjxhxvp80000gn/T/ipykernel_72660/3993208919.py:17: FutureWarning: `momepy.sw_high` is deprecated. Replace it with .higher_order() method of libpysal.graph.Graph or pin momepy version <1.0. This class will be removed in 1.0. \n",
      "  queen_3 = momepy.sw_high(k=3, weights=queen_1)\n",
      "/var/folders/vq/5fctqqys06l8n2l1cjxhxvp80000gn/T/ipykernel_72660/3993208919.py:20: FutureWarning: Class based API like `momepy.NeighborDistance` is deprecated. Replace it with `momepy.neighbor_distance` to use functional API instead or pin momepy version <1.0. Class-based API will be removed in 1.0. \n",
      "  buildings['neighbor_distance_q3'] = momepy.NeighborDistance(buildings, queen_3, \"uID\", verbose=False).series\n"
     ]
    },
    {
     "name": "stdout",
     "output_type": "stream",
     "text": [
      "\n",
      "Metrics DataFrame for Bat Yam:\n",
      "   uID  neighbor_distance_q3\n",
      "0    0            139.453151\n",
      "1    1            138.904065\n",
      "2    2                   NaN\n",
      "3    3            110.187541\n",
      "4    4            172.144569\n",
      "Saved metrics DataFrame for Bat Yam to /Users/dpelleg/work/dssg/DSSG_mapping_Jerus/output/neighbor_distance_Q3/Bat Yam_neighbor_distance_Q3.csv\n",
      "Calculating metrics for Beit Shemesh...\n"
     ]
    },
    {
     "name": "stderr",
     "output_type": "stream",
     "text": [
      "/var/folders/vq/5fctqqys06l8n2l1cjxhxvp80000gn/T/ipykernel_72660/3993208919.py:17: FutureWarning: `momepy.sw_high` is deprecated. Replace it with .higher_order() method of libpysal.graph.Graph or pin momepy version <1.0. This class will be removed in 1.0. \n",
      "  queen_3 = momepy.sw_high(k=3, weights=queen_1)\n",
      "/var/folders/vq/5fctqqys06l8n2l1cjxhxvp80000gn/T/ipykernel_72660/3993208919.py:20: FutureWarning: Class based API like `momepy.NeighborDistance` is deprecated. Replace it with `momepy.neighbor_distance` to use functional API instead or pin momepy version <1.0. Class-based API will be removed in 1.0. \n",
      "  buildings['neighbor_distance_q3'] = momepy.NeighborDistance(buildings, queen_3, \"uID\", verbose=False).series\n"
     ]
    },
    {
     "name": "stdout",
     "output_type": "stream",
     "text": [
      "\n",
      "Metrics DataFrame for Beit Shemesh:\n",
      "   uID  neighbor_distance_q3\n",
      "0    0            229.346485\n",
      "1    1            121.106801\n",
      "2    2             94.094014\n",
      "3    3            119.834440\n",
      "4    4            130.920565\n",
      "Saved metrics DataFrame for Beit Shemesh to /Users/dpelleg/work/dssg/DSSG_mapping_Jerus/output/neighbor_distance_Q3/Beit Shemesh_neighbor_distance_Q3.csv\n",
      "Calculating metrics for Kfar Saba...\n"
     ]
    },
    {
     "name": "stderr",
     "output_type": "stream",
     "text": [
      "/var/folders/vq/5fctqqys06l8n2l1cjxhxvp80000gn/T/ipykernel_72660/3993208919.py:17: FutureWarning: `momepy.sw_high` is deprecated. Replace it with .higher_order() method of libpysal.graph.Graph or pin momepy version <1.0. This class will be removed in 1.0. \n",
      "  queen_3 = momepy.sw_high(k=3, weights=queen_1)\n",
      "/var/folders/vq/5fctqqys06l8n2l1cjxhxvp80000gn/T/ipykernel_72660/3993208919.py:20: FutureWarning: Class based API like `momepy.NeighborDistance` is deprecated. Replace it with `momepy.neighbor_distance` to use functional API instead or pin momepy version <1.0. Class-based API will be removed in 1.0. \n",
      "  buildings['neighbor_distance_q3'] = momepy.NeighborDistance(buildings, queen_3, \"uID\", verbose=False).series\n"
     ]
    },
    {
     "name": "stdout",
     "output_type": "stream",
     "text": [
      "\n",
      "Metrics DataFrame for Kfar Saba:\n",
      "   uID  neighbor_distance_q3\n",
      "0    0            153.994547\n",
      "1    1            126.791904\n",
      "2    2             99.030740\n",
      "3    3            122.826357\n",
      "4    4            177.993833\n",
      "Saved metrics DataFrame for Kfar Saba to /Users/dpelleg/work/dssg/DSSG_mapping_Jerus/output/neighbor_distance_Q3/Kfar Saba_neighbor_distance_Q3.csv\n",
      "Calculating metrics for Herzliya...\n"
     ]
    },
    {
     "name": "stderr",
     "output_type": "stream",
     "text": [
      "/var/folders/vq/5fctqqys06l8n2l1cjxhxvp80000gn/T/ipykernel_72660/3993208919.py:17: FutureWarning: `momepy.sw_high` is deprecated. Replace it with .higher_order() method of libpysal.graph.Graph or pin momepy version <1.0. This class will be removed in 1.0. \n",
      "  queen_3 = momepy.sw_high(k=3, weights=queen_1)\n",
      "/var/folders/vq/5fctqqys06l8n2l1cjxhxvp80000gn/T/ipykernel_72660/3993208919.py:20: FutureWarning: Class based API like `momepy.NeighborDistance` is deprecated. Replace it with `momepy.neighbor_distance` to use functional API instead or pin momepy version <1.0. Class-based API will be removed in 1.0. \n",
      "  buildings['neighbor_distance_q3'] = momepy.NeighborDistance(buildings, queen_3, \"uID\", verbose=False).series\n"
     ]
    },
    {
     "name": "stdout",
     "output_type": "stream",
     "text": [
      "\n",
      "Metrics DataFrame for Herzliya:\n",
      "   uID  neighbor_distance_q3\n",
      "0    0            216.618239\n",
      "1    1            158.017697\n",
      "2    2            142.371729\n",
      "3    3            118.144997\n",
      "4    4            172.665731\n",
      "Saved metrics DataFrame for Herzliya to /Users/dpelleg/work/dssg/DSSG_mapping_Jerus/output/neighbor_distance_Q3/Herzliya_neighbor_distance_Q3.csv\n",
      "Calculating metrics for Hadera...\n"
     ]
    },
    {
     "name": "stderr",
     "output_type": "stream",
     "text": [
      "/var/folders/vq/5fctqqys06l8n2l1cjxhxvp80000gn/T/ipykernel_72660/3993208919.py:17: FutureWarning: `momepy.sw_high` is deprecated. Replace it with .higher_order() method of libpysal.graph.Graph or pin momepy version <1.0. This class will be removed in 1.0. \n",
      "  queen_3 = momepy.sw_high(k=3, weights=queen_1)\n",
      "/var/folders/vq/5fctqqys06l8n2l1cjxhxvp80000gn/T/ipykernel_72660/3993208919.py:20: FutureWarning: Class based API like `momepy.NeighborDistance` is deprecated. Replace it with `momepy.neighbor_distance` to use functional API instead or pin momepy version <1.0. Class-based API will be removed in 1.0. \n",
      "  buildings['neighbor_distance_q3'] = momepy.NeighborDistance(buildings, queen_3, \"uID\", verbose=False).series\n"
     ]
    },
    {
     "name": "stdout",
     "output_type": "stream",
     "text": [
      "\n",
      "Metrics DataFrame for Hadera:\n",
      "   uID  neighbor_distance_q3\n",
      "0    0            149.369898\n",
      "1    1            313.404131\n",
      "2    2            274.377137\n",
      "3    3            240.476803\n",
      "4    4            142.981992\n",
      "Saved metrics DataFrame for Hadera to /Users/dpelleg/work/dssg/DSSG_mapping_Jerus/output/neighbor_distance_Q3/Hadera_neighbor_distance_Q3.csv\n",
      "Calculating metrics for Modiin...\n"
     ]
    },
    {
     "name": "stderr",
     "output_type": "stream",
     "text": [
      "/var/folders/vq/5fctqqys06l8n2l1cjxhxvp80000gn/T/ipykernel_72660/3993208919.py:17: FutureWarning: `momepy.sw_high` is deprecated. Replace it with .higher_order() method of libpysal.graph.Graph or pin momepy version <1.0. This class will be removed in 1.0. \n",
      "  queen_3 = momepy.sw_high(k=3, weights=queen_1)\n",
      "/var/folders/vq/5fctqqys06l8n2l1cjxhxvp80000gn/T/ipykernel_72660/3993208919.py:20: FutureWarning: Class based API like `momepy.NeighborDistance` is deprecated. Replace it with `momepy.neighbor_distance` to use functional API instead or pin momepy version <1.0. Class-based API will be removed in 1.0. \n",
      "  buildings['neighbor_distance_q3'] = momepy.NeighborDistance(buildings, queen_3, \"uID\", verbose=False).series\n"
     ]
    },
    {
     "name": "stdout",
     "output_type": "stream",
     "text": [
      "\n",
      "Metrics DataFrame for Modiin:\n",
      "   uID  neighbor_distance_q3\n",
      "0    0            107.978099\n",
      "1    1            238.005511\n",
      "2    2            178.620772\n",
      "3    3            217.765268\n",
      "4    4            109.794765\n",
      "Saved metrics DataFrame for Modiin to /Users/dpelleg/work/dssg/DSSG_mapping_Jerus/output/neighbor_distance_Q3/Modiin_neighbor_distance_Q3.csv\n",
      "Calculating metrics for Nazareth...\n"
     ]
    },
    {
     "name": "stderr",
     "output_type": "stream",
     "text": [
      "/var/folders/vq/5fctqqys06l8n2l1cjxhxvp80000gn/T/ipykernel_72660/3993208919.py:17: FutureWarning: `momepy.sw_high` is deprecated. Replace it with .higher_order() method of libpysal.graph.Graph or pin momepy version <1.0. This class will be removed in 1.0. \n",
      "  queen_3 = momepy.sw_high(k=3, weights=queen_1)\n",
      "/var/folders/vq/5fctqqys06l8n2l1cjxhxvp80000gn/T/ipykernel_72660/3993208919.py:20: FutureWarning: Class based API like `momepy.NeighborDistance` is deprecated. Replace it with `momepy.neighbor_distance` to use functional API instead or pin momepy version <1.0. Class-based API will be removed in 1.0. \n",
      "  buildings['neighbor_distance_q3'] = momepy.NeighborDistance(buildings, queen_3, \"uID\", verbose=False).series\n"
     ]
    },
    {
     "name": "stdout",
     "output_type": "stream",
     "text": [
      "\n",
      "Metrics DataFrame for Nazareth:\n",
      "   uID  neighbor_distance_q3\n",
      "0    0            124.077565\n",
      "1    1             98.206381\n",
      "2    2             96.020656\n",
      "3    3            149.705602\n",
      "4    4            162.737930\n",
      "Saved metrics DataFrame for Nazareth to /Users/dpelleg/work/dssg/DSSG_mapping_Jerus/output/neighbor_distance_Q3/Nazareth_neighbor_distance_Q3.csv\n"
     ]
    }
   ],
   "execution_count": 7
  },
  {
   "cell_type": "markdown",
   "metadata": {},
   "source": [
    "shared_walls_length"
   ]
  },
  {
   "cell_type": "code",
   "metadata": {
    "ExecuteTime": {
     "end_time": "2024-09-10T12:11:36.775888Z",
     "start_time": "2024-09-10T12:11:33.598304Z"
    }
   },
   "source": [
    "output_df_dir = os.path.join(output_dir, \"shared_walls_length\")\n",
    "\n",
    "# Dictionary to store the DataFrame for each city\n",
    "city_metric_dfs = {}\n",
    "\n",
    "# Loop through each city to calculate shared walls length based on stored data\n",
    "for city in buildings_data.keys():\n",
    "    print(f\"Calculating shared walls length for {city}...\")\n",
    "\n",
    "    # Retrieve the data for the city from the dictionaries\n",
    "    buildings = buildings_data[city]\n",
    "    tessellation = tessellation_data[city]\n",
    "\n",
    "    # Calculate shared walls length for each building\n",
    "    with warnings.catch_warnings():\n",
    "        warnings.simplefilter(\"ignore\")\n",
    "        buildings[\"shared_walls_length\"] = momepy.SharedWalls(buildings).series\n",
    "\n",
    "    # Create a DataFrame containing the necessary metrics for this city\n",
    "    city_metrics_df = buildings[[\"uID\", \"shared_walls_length\"]].copy()\n",
    "\n",
    "    # Store the DataFrame in the dictionary\n",
    "    city_metric_dfs[city] = city_metrics_df\n",
    "\n",
    "    # Display the DataFrame for the current city\n",
    "    print(f\"\\nMetrics DataFrame for {city}:\")\n",
    "    print(city_metric_dfs[city].head())\n",
    "\n",
    "    # Define the output file path using the city name and metric with '.pkl' extension\n",
    "    output_file = os.path.join(output_df_dir, f\"{city}_shared_walls_length.csv\")\n",
    "\n",
    "    # Save the DataFrame as a pickle file\n",
    "    city_metrics_df.to_csv(output_file, index=False)\n",
    "\n",
    "\n",
    "    print(f\"Saved metrics DataFrame for {city} as pickle to {output_file}\")"
   ],
   "outputs": [
    {
     "name": "stdout",
     "output_type": "stream",
     "text": [
      "Calculating shared walls length for Jerusalem...\n",
      "\n",
      "Metrics DataFrame for Jerusalem:\n",
      "   uID  shared_walls_length\n",
      "0    0        -2.842171e-14\n",
      "1    1        -2.842171e-14\n",
      "2    2        -5.684342e-14\n",
      "3    3         2.842171e-14\n",
      "4    4         4.884836e+01\n",
      "Saved metrics DataFrame for Jerusalem as pickle to /Users/dpelleg/work/dssg/DSSG_mapping_Jerus/output/shared_walls_length/Jerusalem_shared_walls_length.csv\n",
      "Calculating shared walls length for Tel Aviv...\n",
      "\n",
      "Metrics DataFrame for Tel Aviv:\n",
      "   uID  shared_walls_length\n",
      "0    0         2.842171e-14\n",
      "1    1         4.613901e+02\n",
      "2    2        -2.842171e-14\n",
      "3    3         0.000000e+00\n",
      "4    4         0.000000e+00\n",
      "Saved metrics DataFrame for Tel Aviv as pickle to /Users/dpelleg/work/dssg/DSSG_mapping_Jerus/output/shared_walls_length/Tel Aviv_shared_walls_length.csv\n",
      "Calculating shared walls length for Haifa...\n",
      "\n",
      "Metrics DataFrame for Haifa:\n",
      "   uID  shared_walls_length\n",
      "0    0             0.000000\n",
      "1    1             0.000000\n",
      "2    2           192.671951\n",
      "3    3            20.206803\n",
      "4    4            30.664799\n",
      "Saved metrics DataFrame for Haifa as pickle to /Users/dpelleg/work/dssg/DSSG_mapping_Jerus/output/shared_walls_length/Haifa_shared_walls_length.csv\n",
      "Calculating shared walls length for Rishon LeZion...\n",
      "\n",
      "Metrics DataFrame for Rishon LeZion:\n",
      "   uID  shared_walls_length\n",
      "0    0        -2.273737e-13\n",
      "1    1         0.000000e+00\n",
      "2    2         0.000000e+00\n",
      "3    3         1.136868e-13\n",
      "4    4        -1.136868e-13\n",
      "Saved metrics DataFrame for Rishon LeZion as pickle to /Users/dpelleg/work/dssg/DSSG_mapping_Jerus/output/shared_walls_length/Rishon LeZion_shared_walls_length.csv\n",
      "Calculating shared walls length for Petah Tikva...\n",
      "\n",
      "Metrics DataFrame for Petah Tikva:\n",
      "   uID  shared_walls_length\n",
      "0    0        -1.421085e-14\n",
      "1    1         0.000000e+00\n",
      "2    2         2.517561e+02\n",
      "3    3         7.476773e+01\n",
      "4    4        -2.842171e-14\n",
      "Saved metrics DataFrame for Petah Tikva as pickle to /Users/dpelleg/work/dssg/DSSG_mapping_Jerus/output/shared_walls_length/Petah Tikva_shared_walls_length.csv\n",
      "Calculating shared walls length for Ashdod...\n",
      "\n",
      "Metrics DataFrame for Ashdod:\n",
      "   uID  shared_walls_length\n",
      "0    0        -2.842171e-14\n",
      "1    1         0.000000e+00\n",
      "2    2         1.136868e-13\n",
      "3    3         0.000000e+00\n",
      "4    4         0.000000e+00\n",
      "Saved metrics DataFrame for Ashdod as pickle to /Users/dpelleg/work/dssg/DSSG_mapping_Jerus/output/shared_walls_length/Ashdod_shared_walls_length.csv\n",
      "Calculating shared walls length for Netanya...\n",
      "\n",
      "Metrics DataFrame for Netanya:\n",
      "   uID  shared_walls_length\n",
      "0    0         0.000000e+00\n",
      "1    1         0.000000e+00\n",
      "2    2         1.136868e-13\n",
      "3    3         2.842171e-14\n",
      "4    4         0.000000e+00\n",
      "Saved metrics DataFrame for Netanya as pickle to /Users/dpelleg/work/dssg/DSSG_mapping_Jerus/output/shared_walls_length/Netanya_shared_walls_length.csv\n",
      "Calculating shared walls length for Beer Sheva...\n",
      "\n",
      "Metrics DataFrame for Beer Sheva:\n",
      "   uID  shared_walls_length\n",
      "0    0         1.936486e+02\n",
      "1    1         3.552714e-15\n",
      "2    2         2.124495e+01\n",
      "3    3        -2.842171e-14\n",
      "4    4         0.000000e+00\n",
      "Saved metrics DataFrame for Beer Sheva as pickle to /Users/dpelleg/work/dssg/DSSG_mapping_Jerus/output/shared_walls_length/Beer Sheva_shared_walls_length.csv\n",
      "Calculating shared walls length for Bnei Brak...\n",
      "\n",
      "Metrics DataFrame for Bnei Brak:\n",
      "   uID  shared_walls_length\n",
      "0    0         0.000000e+00\n",
      "1    1         8.353633e+01\n",
      "2    2         1.421085e-14\n",
      "3    3         0.000000e+00\n",
      "4    4         4.647782e+01\n",
      "Saved metrics DataFrame for Bnei Brak as pickle to /Users/dpelleg/work/dssg/DSSG_mapping_Jerus/output/shared_walls_length/Bnei Brak_shared_walls_length.csv\n",
      "Calculating shared walls length for Holon...\n",
      "\n",
      "Metrics DataFrame for Holon:\n",
      "   uID  shared_walls_length\n",
      "0    0         0.000000e+00\n",
      "1    1         0.000000e+00\n",
      "2    2         0.000000e+00\n",
      "3    3         0.000000e+00\n",
      "4    4         2.842171e-14\n",
      "Saved metrics DataFrame for Holon as pickle to /Users/dpelleg/work/dssg/DSSG_mapping_Jerus/output/shared_walls_length/Holon_shared_walls_length.csv\n",
      "Calculating shared walls length for Ramat Gan...\n",
      "\n",
      "Metrics DataFrame for Ramat Gan:\n",
      "   uID  shared_walls_length\n",
      "0    0        -7.105427e-15\n",
      "1    1         0.000000e+00\n",
      "2    2         5.684342e-14\n",
      "3    3        -2.842171e-14\n",
      "4    4         1.332220e+02\n",
      "Saved metrics DataFrame for Ramat Gan as pickle to /Users/dpelleg/work/dssg/DSSG_mapping_Jerus/output/shared_walls_length/Ramat Gan_shared_walls_length.csv\n",
      "Calculating shared walls length for Rehovot...\n",
      "\n",
      "Metrics DataFrame for Rehovot:\n",
      "   uID  shared_walls_length\n",
      "0    0        -1.421085e-14\n",
      "1    1         0.000000e+00\n",
      "2    2         0.000000e+00\n",
      "3    3         0.000000e+00\n",
      "4    4         2.842171e-14\n",
      "Saved metrics DataFrame for Rehovot as pickle to /Users/dpelleg/work/dssg/DSSG_mapping_Jerus/output/shared_walls_length/Rehovot_shared_walls_length.csv\n",
      "Calculating shared walls length for Ashkelon...\n",
      "\n",
      "Metrics DataFrame for Ashkelon:\n",
      "   uID  shared_walls_length\n",
      "0    0         0.000000e+00\n",
      "1    1         0.000000e+00\n",
      "2    2         2.842171e-14\n",
      "3    3         0.000000e+00\n",
      "4    4         0.000000e+00\n",
      "Saved metrics DataFrame for Ashkelon as pickle to /Users/dpelleg/work/dssg/DSSG_mapping_Jerus/output/shared_walls_length/Ashkelon_shared_walls_length.csv\n",
      "Calculating shared walls length for Bat Yam...\n",
      "\n",
      "Metrics DataFrame for Bat Yam:\n",
      "   uID  shared_walls_length\n",
      "0    0                  0.0\n",
      "1    1                  0.0\n",
      "2    2                  0.0\n",
      "3    3                  0.0\n",
      "4    4                  0.0\n",
      "Saved metrics DataFrame for Bat Yam as pickle to /Users/dpelleg/work/dssg/DSSG_mapping_Jerus/output/shared_walls_length/Bat Yam_shared_walls_length.csv\n",
      "Calculating shared walls length for Beit Shemesh...\n",
      "\n",
      "Metrics DataFrame for Beit Shemesh:\n",
      "   uID  shared_walls_length\n",
      "0    0         5.684342e-14\n",
      "1    1         0.000000e+00\n",
      "2    2        -5.684342e-14\n",
      "3    3         0.000000e+00\n",
      "4    4         2.408952e+02\n",
      "Saved metrics DataFrame for Beit Shemesh as pickle to /Users/dpelleg/work/dssg/DSSG_mapping_Jerus/output/shared_walls_length/Beit Shemesh_shared_walls_length.csv\n",
      "Calculating shared walls length for Kfar Saba...\n",
      "\n",
      "Metrics DataFrame for Kfar Saba:\n",
      "   uID  shared_walls_length\n",
      "0    0              0.00000\n",
      "1    1              8.28599\n",
      "2    2              0.00000\n",
      "3    3              8.28599\n",
      "4    4              0.00000\n",
      "Saved metrics DataFrame for Kfar Saba as pickle to /Users/dpelleg/work/dssg/DSSG_mapping_Jerus/output/shared_walls_length/Kfar Saba_shared_walls_length.csv\n",
      "Calculating shared walls length for Herzliya...\n",
      "\n",
      "Metrics DataFrame for Herzliya:\n",
      "   uID  shared_walls_length\n",
      "0    0         4.158804e+02\n",
      "1    1         1.136868e-13\n",
      "2    2         0.000000e+00\n",
      "3    3         1.075894e+03\n",
      "4    4        -1.421085e-14\n",
      "Saved metrics DataFrame for Herzliya as pickle to /Users/dpelleg/work/dssg/DSSG_mapping_Jerus/output/shared_walls_length/Herzliya_shared_walls_length.csv\n",
      "Calculating shared walls length for Hadera...\n",
      "\n",
      "Metrics DataFrame for Hadera:\n",
      "   uID  shared_walls_length\n",
      "0    0        -5.684342e-14\n",
      "1    1         0.000000e+00\n",
      "2    2         0.000000e+00\n",
      "3    3        -1.421085e-14\n",
      "4    4         0.000000e+00\n",
      "Saved metrics DataFrame for Hadera as pickle to /Users/dpelleg/work/dssg/DSSG_mapping_Jerus/output/shared_walls_length/Hadera_shared_walls_length.csv\n",
      "Calculating shared walls length for Modiin...\n",
      "\n",
      "Metrics DataFrame for Modiin:\n",
      "   uID  shared_walls_length\n",
      "0    0         0.000000e+00\n",
      "1    1        -2.842171e-14\n",
      "2    2         0.000000e+00\n",
      "3    3         0.000000e+00\n",
      "4    4         0.000000e+00\n",
      "Saved metrics DataFrame for Modiin as pickle to /Users/dpelleg/work/dssg/DSSG_mapping_Jerus/output/shared_walls_length/Modiin_shared_walls_length.csv\n",
      "Calculating shared walls length for Nazareth...\n",
      "\n",
      "Metrics DataFrame for Nazareth:\n",
      "   uID  shared_walls_length\n",
      "0    0         2.842171e-14\n",
      "1    1         0.000000e+00\n",
      "2    2         1.421085e-14\n",
      "3    3         0.000000e+00\n",
      "4    4         1.136868e-13\n",
      "Saved metrics DataFrame for Nazareth as pickle to /Users/dpelleg/work/dssg/DSSG_mapping_Jerus/output/shared_walls_length/Nazareth_shared_walls_length.csv\n"
     ]
    }
   ],
   "execution_count": 8
  },
  {
   "cell_type": "markdown",
   "metadata": {},
   "source": [
    "Covered Area"
   ]
  },
  {
   "cell_type": "code",
   "metadata": {
    "ExecuteTime": {
     "end_time": "2024-09-10T12:16:02.302446Z",
     "start_time": "2024-09-10T12:14:48.611271Z"
    }
   },
   "source": [
    "output_df_dir = os.path.join(output_dir, \"covered_area\")\n",
    "\n",
    "# Dictionary to store the DataFrame for each city\n",
    "city_metric_dfs = {}\n",
    "\n",
    "# Loop through each city to calculate metrics based on stored data\n",
    "for city in buildings_data.keys():\n",
    "    print(f\"Calculating metrics for {city}...\")\n",
    "\n",
    "    # Retrieve the data for the city from the dictionaries\n",
    "    buildings = buildings_data[city]\n",
    "    streets = streets_data[city]\n",
    "    tessellation = tessellation_data[city]  \n",
    "    \n",
    "    queen_1 = libpysal.weights.contiguity.Queen.from_dataframe(tessellation, ids=\"uID\", silence_warnings=True)\n",
    "    # Create a higher-order spatial weights matrix for tessellation (considering neighbors up to k-th order)\n",
    "    queen_3 = momepy.sw_high(k=1, weights=queen_1)\n",
    "\n",
    "    # Calculate covered area\n",
    "    tessellation[\"covered_area\"] = momepy.CoveredArea(tessellation, queen_3, \"uID\", verbose=False).series\n",
    "\n",
    "    # Create a DataFrame containing the necessary metrics for this city\n",
    "    city_metrics_df = tessellation[[\"uID\", \"covered_area\"]].copy()\n",
    "\n",
    "    # Store the DataFrame in the dictionary\n",
    "    city_metric_dfs[city] = city_metrics_df\n",
    "\n",
    "    # Display the DataFrame for the current city\n",
    "    print(f\"\\nMetrics DataFrame for {city}:\")\n",
    "    print(city_metric_dfs[city].head())\n",
    "\n",
    "    # Define the output file path using city name and metric\n",
    "    output_file = os.path.join(output_df_dir, f\"{city}_covered_area.csv\")\n",
    "\n",
    "    # Save the DataFrame as a CSV file\n",
    "    city_metrics_df.to_csv(output_file, index=False)\n",
    "\n",
    "    print(f\"Saved metrics DataFrame for {city} to {output_file}\")\n"
   ],
   "outputs": [
    {
     "name": "stdout",
     "output_type": "stream",
     "text": [
      "Calculating metrics for Jerusalem...\n"
     ]
    },
    {
     "name": "stderr",
     "output_type": "stream",
     "text": [
      "/var/folders/vq/5fctqqys06l8n2l1cjxhxvp80000gn/T/ipykernel_72660/3086072035.py:17: FutureWarning: `momepy.sw_high` is deprecated. Replace it with .higher_order() method of libpysal.graph.Graph or pin momepy version <1.0. This class will be removed in 1.0. \n",
      "  queen_3 = momepy.sw_high(k=1, weights=queen_1)\n",
      "/var/folders/vq/5fctqqys06l8n2l1cjxhxvp80000gn/T/ipykernel_72660/3086072035.py:20: FutureWarning: `momepy.CoveredArea` is deprecated. Replace it with `.describe()` method of libpysal.graph.Graph or pin momepy version <1.0. This class will be removed in 1.0. \n",
      "  tessellation[\"covered_area\"] = momepy.CoveredArea(tessellation, queen_3, \"uID\", verbose=False).series\n"
     ]
    },
    {
     "name": "stdout",
     "output_type": "stream",
     "text": [
      "\n",
      "Metrics DataFrame for Jerusalem:\n",
      "     uID  covered_area\n",
      "0  32847  43491.590437\n",
      "1  32755  49947.946601\n",
      "2  32812  54584.962624\n",
      "3  32801  46198.085379\n",
      "4  32798  40259.372105\n",
      "Saved metrics DataFrame for Jerusalem to /Users/dpelleg/work/dssg/DSSG_mapping_Jerus/output/covered_area/Jerusalem_covered_area.csv\n",
      "Calculating metrics for Tel Aviv...\n"
     ]
    },
    {
     "name": "stderr",
     "output_type": "stream",
     "text": [
      "/var/folders/vq/5fctqqys06l8n2l1cjxhxvp80000gn/T/ipykernel_72660/3086072035.py:17: FutureWarning: `momepy.sw_high` is deprecated. Replace it with .higher_order() method of libpysal.graph.Graph or pin momepy version <1.0. This class will be removed in 1.0. \n",
      "  queen_3 = momepy.sw_high(k=1, weights=queen_1)\n",
      "/var/folders/vq/5fctqqys06l8n2l1cjxhxvp80000gn/T/ipykernel_72660/3086072035.py:20: FutureWarning: `momepy.CoveredArea` is deprecated. Replace it with `.describe()` method of libpysal.graph.Graph or pin momepy version <1.0. This class will be removed in 1.0. \n",
      "  tessellation[\"covered_area\"] = momepy.CoveredArea(tessellation, queen_3, \"uID\", verbose=False).series\n"
     ]
    },
    {
     "name": "stdout",
     "output_type": "stream",
     "text": [
      "\n",
      "Metrics DataFrame for Tel Aviv:\n",
      "     uID  covered_area\n",
      "0  10274  34922.405235\n",
      "1  24334  53985.153437\n",
      "2  14014  43636.439811\n",
      "3  13953  52091.710847\n",
      "4  14010  49425.681480\n",
      "Saved metrics DataFrame for Tel Aviv to /Users/dpelleg/work/dssg/DSSG_mapping_Jerus/output/covered_area/Tel Aviv_covered_area.csv\n",
      "Calculating metrics for Haifa...\n"
     ]
    },
    {
     "name": "stderr",
     "output_type": "stream",
     "text": [
      "/var/folders/vq/5fctqqys06l8n2l1cjxhxvp80000gn/T/ipykernel_72660/3086072035.py:17: FutureWarning: `momepy.sw_high` is deprecated. Replace it with .higher_order() method of libpysal.graph.Graph or pin momepy version <1.0. This class will be removed in 1.0. \n",
      "  queen_3 = momepy.sw_high(k=1, weights=queen_1)\n",
      "/var/folders/vq/5fctqqys06l8n2l1cjxhxvp80000gn/T/ipykernel_72660/3086072035.py:20: FutureWarning: `momepy.CoveredArea` is deprecated. Replace it with `.describe()` method of libpysal.graph.Graph or pin momepy version <1.0. This class will be removed in 1.0. \n",
      "  tessellation[\"covered_area\"] = momepy.CoveredArea(tessellation, queen_3, \"uID\", verbose=False).series\n"
     ]
    },
    {
     "name": "stdout",
     "output_type": "stream",
     "text": [
      "\n",
      "Metrics DataFrame for Haifa:\n",
      "     uID  covered_area\n",
      "0   8720  28116.838937\n",
      "1  13388  65543.588607\n",
      "2  13169  32174.418442\n",
      "3  13163  26396.960153\n",
      "4   7437  60244.192464\n",
      "Saved metrics DataFrame for Haifa to /Users/dpelleg/work/dssg/DSSG_mapping_Jerus/output/covered_area/Haifa_covered_area.csv\n",
      "Calculating metrics for Rishon LeZion...\n"
     ]
    },
    {
     "name": "stderr",
     "output_type": "stream",
     "text": [
      "/var/folders/vq/5fctqqys06l8n2l1cjxhxvp80000gn/T/ipykernel_72660/3086072035.py:17: FutureWarning: `momepy.sw_high` is deprecated. Replace it with .higher_order() method of libpysal.graph.Graph or pin momepy version <1.0. This class will be removed in 1.0. \n",
      "  queen_3 = momepy.sw_high(k=1, weights=queen_1)\n",
      "/var/folders/vq/5fctqqys06l8n2l1cjxhxvp80000gn/T/ipykernel_72660/3086072035.py:20: FutureWarning: `momepy.CoveredArea` is deprecated. Replace it with `.describe()` method of libpysal.graph.Graph or pin momepy version <1.0. This class will be removed in 1.0. \n",
      "  tessellation[\"covered_area\"] = momepy.CoveredArea(tessellation, queen_3, \"uID\", verbose=False).series\n"
     ]
    },
    {
     "name": "stdout",
     "output_type": "stream",
     "text": [
      "\n",
      "Metrics DataFrame for Rishon LeZion:\n",
      "     uID  covered_area\n",
      "0  13485  74197.806411\n",
      "1  12779  48754.197546\n",
      "2  13325  34387.832489\n",
      "3  13315  56376.352365\n",
      "4  13314  34831.298633\n",
      "Saved metrics DataFrame for Rishon LeZion to /Users/dpelleg/work/dssg/DSSG_mapping_Jerus/output/covered_area/Rishon LeZion_covered_area.csv\n",
      "Calculating metrics for Petah Tikva...\n"
     ]
    },
    {
     "name": "stderr",
     "output_type": "stream",
     "text": [
      "/var/folders/vq/5fctqqys06l8n2l1cjxhxvp80000gn/T/ipykernel_72660/3086072035.py:17: FutureWarning: `momepy.sw_high` is deprecated. Replace it with .higher_order() method of libpysal.graph.Graph or pin momepy version <1.0. This class will be removed in 1.0. \n",
      "  queen_3 = momepy.sw_high(k=1, weights=queen_1)\n",
      "/var/folders/vq/5fctqqys06l8n2l1cjxhxvp80000gn/T/ipykernel_72660/3086072035.py:20: FutureWarning: `momepy.CoveredArea` is deprecated. Replace it with `.describe()` method of libpysal.graph.Graph or pin momepy version <1.0. This class will be removed in 1.0. \n",
      "  tessellation[\"covered_area\"] = momepy.CoveredArea(tessellation, queen_3, \"uID\", verbose=False).series\n"
     ]
    },
    {
     "name": "stdout",
     "output_type": "stream",
     "text": [
      "\n",
      "Metrics DataFrame for Petah Tikva:\n",
      "    uID  covered_area\n",
      "0  8742  52324.026787\n",
      "1  8740  51129.115306\n",
      "2  8722  57078.497992\n",
      "3  8739  10758.398565\n",
      "4  8728   3566.469713\n",
      "Saved metrics DataFrame for Petah Tikva to /Users/dpelleg/work/dssg/DSSG_mapping_Jerus/output/covered_area/Petah Tikva_covered_area.csv\n",
      "Calculating metrics for Ashdod...\n"
     ]
    },
    {
     "name": "stderr",
     "output_type": "stream",
     "text": [
      "/var/folders/vq/5fctqqys06l8n2l1cjxhxvp80000gn/T/ipykernel_72660/3086072035.py:17: FutureWarning: `momepy.sw_high` is deprecated. Replace it with .higher_order() method of libpysal.graph.Graph or pin momepy version <1.0. This class will be removed in 1.0. \n",
      "  queen_3 = momepy.sw_high(k=1, weights=queen_1)\n",
      "/var/folders/vq/5fctqqys06l8n2l1cjxhxvp80000gn/T/ipykernel_72660/3086072035.py:20: FutureWarning: `momepy.CoveredArea` is deprecated. Replace it with `.describe()` method of libpysal.graph.Graph or pin momepy version <1.0. This class will be removed in 1.0. \n",
      "  tessellation[\"covered_area\"] = momepy.CoveredArea(tessellation, queen_3, \"uID\", verbose=False).series\n"
     ]
    },
    {
     "name": "stdout",
     "output_type": "stream",
     "text": [
      "\n",
      "Metrics DataFrame for Ashdod:\n",
      "    uID  covered_area\n",
      "0  1008  44009.848423\n",
      "1  6011  36750.504748\n",
      "2  6002  68751.291172\n",
      "3  6029  61884.191635\n",
      "4  5321  14914.051342\n",
      "Saved metrics DataFrame for Ashdod to /Users/dpelleg/work/dssg/DSSG_mapping_Jerus/output/covered_area/Ashdod_covered_area.csv\n",
      "Calculating metrics for Netanya...\n"
     ]
    },
    {
     "name": "stderr",
     "output_type": "stream",
     "text": [
      "/var/folders/vq/5fctqqys06l8n2l1cjxhxvp80000gn/T/ipykernel_72660/3086072035.py:17: FutureWarning: `momepy.sw_high` is deprecated. Replace it with .higher_order() method of libpysal.graph.Graph or pin momepy version <1.0. This class will be removed in 1.0. \n",
      "  queen_3 = momepy.sw_high(k=1, weights=queen_1)\n",
      "/var/folders/vq/5fctqqys06l8n2l1cjxhxvp80000gn/T/ipykernel_72660/3086072035.py:20: FutureWarning: `momepy.CoveredArea` is deprecated. Replace it with `.describe()` method of libpysal.graph.Graph or pin momepy version <1.0. This class will be removed in 1.0. \n",
      "  tessellation[\"covered_area\"] = momepy.CoveredArea(tessellation, queen_3, \"uID\", verbose=False).series\n"
     ]
    },
    {
     "name": "stdout",
     "output_type": "stream",
     "text": [
      "\n",
      "Metrics DataFrame for Netanya:\n",
      "    uID  covered_area\n",
      "0  3316  36938.033030\n",
      "1  2868  44249.083102\n",
      "2  4301  53508.018606\n",
      "3  2918  43602.966781\n",
      "4  2896  54485.612322\n",
      "Saved metrics DataFrame for Netanya to /Users/dpelleg/work/dssg/DSSG_mapping_Jerus/output/covered_area/Netanya_covered_area.csv\n",
      "Calculating metrics for Beer Sheva...\n"
     ]
    },
    {
     "name": "stderr",
     "output_type": "stream",
     "text": [
      "/var/folders/vq/5fctqqys06l8n2l1cjxhxvp80000gn/T/ipykernel_72660/3086072035.py:17: FutureWarning: `momepy.sw_high` is deprecated. Replace it with .higher_order() method of libpysal.graph.Graph or pin momepy version <1.0. This class will be removed in 1.0. \n",
      "  queen_3 = momepy.sw_high(k=1, weights=queen_1)\n",
      "/var/folders/vq/5fctqqys06l8n2l1cjxhxvp80000gn/T/ipykernel_72660/3086072035.py:20: FutureWarning: `momepy.CoveredArea` is deprecated. Replace it with `.describe()` method of libpysal.graph.Graph or pin momepy version <1.0. This class will be removed in 1.0. \n",
      "  tessellation[\"covered_area\"] = momepy.CoveredArea(tessellation, queen_3, \"uID\", verbose=False).series\n"
     ]
    },
    {
     "name": "stdout",
     "output_type": "stream",
     "text": [
      "\n",
      "Metrics DataFrame for Beer Sheva:\n",
      "     uID   covered_area\n",
      "0   2839  125351.156256\n",
      "1  10410   22473.468472\n",
      "2  14140   16506.501600\n",
      "3  14142   15776.615708\n",
      "4  14143   10322.524344\n",
      "Saved metrics DataFrame for Beer Sheva to /Users/dpelleg/work/dssg/DSSG_mapping_Jerus/output/covered_area/Beer Sheva_covered_area.csv\n",
      "Calculating metrics for Bnei Brak...\n"
     ]
    },
    {
     "name": "stderr",
     "output_type": "stream",
     "text": [
      "/var/folders/vq/5fctqqys06l8n2l1cjxhxvp80000gn/T/ipykernel_72660/3086072035.py:17: FutureWarning: `momepy.sw_high` is deprecated. Replace it with .higher_order() method of libpysal.graph.Graph or pin momepy version <1.0. This class will be removed in 1.0. \n",
      "  queen_3 = momepy.sw_high(k=1, weights=queen_1)\n",
      "/var/folders/vq/5fctqqys06l8n2l1cjxhxvp80000gn/T/ipykernel_72660/3086072035.py:20: FutureWarning: `momepy.CoveredArea` is deprecated. Replace it with `.describe()` method of libpysal.graph.Graph or pin momepy version <1.0. This class will be removed in 1.0. \n",
      "  tessellation[\"covered_area\"] = momepy.CoveredArea(tessellation, queen_3, \"uID\", verbose=False).series\n"
     ]
    },
    {
     "name": "stdout",
     "output_type": "stream",
     "text": [
      "\n",
      "Metrics DataFrame for Bnei Brak:\n",
      "    uID  covered_area\n",
      "0  3923  39996.680758\n",
      "1  2793  14818.338993\n",
      "2  2840  20479.063162\n",
      "3  2792  15833.697758\n",
      "4  2797  12457.080895\n",
      "Saved metrics DataFrame for Bnei Brak to /Users/dpelleg/work/dssg/DSSG_mapping_Jerus/output/covered_area/Bnei Brak_covered_area.csv\n",
      "Calculating metrics for Holon...\n"
     ]
    },
    {
     "name": "stderr",
     "output_type": "stream",
     "text": [
      "/var/folders/vq/5fctqqys06l8n2l1cjxhxvp80000gn/T/ipykernel_72660/3086072035.py:17: FutureWarning: `momepy.sw_high` is deprecated. Replace it with .higher_order() method of libpysal.graph.Graph or pin momepy version <1.0. This class will be removed in 1.0. \n",
      "  queen_3 = momepy.sw_high(k=1, weights=queen_1)\n",
      "/var/folders/vq/5fctqqys06l8n2l1cjxhxvp80000gn/T/ipykernel_72660/3086072035.py:20: FutureWarning: `momepy.CoveredArea` is deprecated. Replace it with `.describe()` method of libpysal.graph.Graph or pin momepy version <1.0. This class will be removed in 1.0. \n",
      "  tessellation[\"covered_area\"] = momepy.CoveredArea(tessellation, queen_3, \"uID\", verbose=False).series\n"
     ]
    },
    {
     "name": "stdout",
     "output_type": "stream",
     "text": [
      "\n",
      "Metrics DataFrame for Holon:\n",
      "    uID  covered_area\n",
      "0  2087  45361.376355\n",
      "1  6695  37979.644530\n",
      "2  6696  31261.106461\n",
      "3  6699  38318.727503\n",
      "4  6687  43927.773866\n",
      "Saved metrics DataFrame for Holon to /Users/dpelleg/work/dssg/DSSG_mapping_Jerus/output/covered_area/Holon_covered_area.csv\n",
      "Calculating metrics for Ramat Gan...\n"
     ]
    },
    {
     "name": "stderr",
     "output_type": "stream",
     "text": [
      "/var/folders/vq/5fctqqys06l8n2l1cjxhxvp80000gn/T/ipykernel_72660/3086072035.py:17: FutureWarning: `momepy.sw_high` is deprecated. Replace it with .higher_order() method of libpysal.graph.Graph or pin momepy version <1.0. This class will be removed in 1.0. \n",
      "  queen_3 = momepy.sw_high(k=1, weights=queen_1)\n",
      "/var/folders/vq/5fctqqys06l8n2l1cjxhxvp80000gn/T/ipykernel_72660/3086072035.py:20: FutureWarning: `momepy.CoveredArea` is deprecated. Replace it with `.describe()` method of libpysal.graph.Graph or pin momepy version <1.0. This class will be removed in 1.0. \n",
      "  tessellation[\"covered_area\"] = momepy.CoveredArea(tessellation, queen_3, \"uID\", verbose=False).series\n"
     ]
    },
    {
     "name": "stdout",
     "output_type": "stream",
     "text": [
      "\n",
      "Metrics DataFrame for Ramat Gan:\n",
      "    uID  covered_area\n",
      "0  9236  36650.094436\n",
      "1  7239  25953.450989\n",
      "2  7254  24928.836989\n",
      "3  7269  25374.263959\n",
      "4  7236  34035.590035\n",
      "Saved metrics DataFrame for Ramat Gan to /Users/dpelleg/work/dssg/DSSG_mapping_Jerus/output/covered_area/Ramat Gan_covered_area.csv\n",
      "Calculating metrics for Rehovot...\n"
     ]
    },
    {
     "name": "stderr",
     "output_type": "stream",
     "text": [
      "/var/folders/vq/5fctqqys06l8n2l1cjxhxvp80000gn/T/ipykernel_72660/3086072035.py:17: FutureWarning: `momepy.sw_high` is deprecated. Replace it with .higher_order() method of libpysal.graph.Graph or pin momepy version <1.0. This class will be removed in 1.0. \n",
      "  queen_3 = momepy.sw_high(k=1, weights=queen_1)\n",
      "/var/folders/vq/5fctqqys06l8n2l1cjxhxvp80000gn/T/ipykernel_72660/3086072035.py:20: FutureWarning: `momepy.CoveredArea` is deprecated. Replace it with `.describe()` method of libpysal.graph.Graph or pin momepy version <1.0. This class will be removed in 1.0. \n",
      "  tessellation[\"covered_area\"] = momepy.CoveredArea(tessellation, queen_3, \"uID\", verbose=False).series\n"
     ]
    },
    {
     "name": "stdout",
     "output_type": "stream",
     "text": [
      "\n",
      "Metrics DataFrame for Rehovot:\n",
      "    uID  covered_area\n",
      "0  6249  31859.916674\n",
      "1  8410  24199.359008\n",
      "2  8407  18664.782860\n",
      "3  3401  22942.524981\n",
      "4  3386  16097.454636\n",
      "Saved metrics DataFrame for Rehovot to /Users/dpelleg/work/dssg/DSSG_mapping_Jerus/output/covered_area/Rehovot_covered_area.csv\n",
      "Calculating metrics for Ashkelon...\n"
     ]
    },
    {
     "name": "stderr",
     "output_type": "stream",
     "text": [
      "/var/folders/vq/5fctqqys06l8n2l1cjxhxvp80000gn/T/ipykernel_72660/3086072035.py:17: FutureWarning: `momepy.sw_high` is deprecated. Replace it with .higher_order() method of libpysal.graph.Graph or pin momepy version <1.0. This class will be removed in 1.0. \n",
      "  queen_3 = momepy.sw_high(k=1, weights=queen_1)\n",
      "/var/folders/vq/5fctqqys06l8n2l1cjxhxvp80000gn/T/ipykernel_72660/3086072035.py:20: FutureWarning: `momepy.CoveredArea` is deprecated. Replace it with `.describe()` method of libpysal.graph.Graph or pin momepy version <1.0. This class will be removed in 1.0. \n",
      "  tessellation[\"covered_area\"] = momepy.CoveredArea(tessellation, queen_3, \"uID\", verbose=False).series\n"
     ]
    },
    {
     "name": "stdout",
     "output_type": "stream",
     "text": [
      "\n",
      "Metrics DataFrame for Ashkelon:\n",
      "    uID  covered_area\n",
      "0  7859  62852.365852\n",
      "1  4709  19319.849450\n",
      "2  4644  14754.360155\n",
      "3  4541  28430.671665\n",
      "4  4537  11637.285666\n",
      "Saved metrics DataFrame for Ashkelon to /Users/dpelleg/work/dssg/DSSG_mapping_Jerus/output/covered_area/Ashkelon_covered_area.csv\n",
      "Calculating metrics for Bat Yam...\n"
     ]
    },
    {
     "name": "stderr",
     "output_type": "stream",
     "text": [
      "/var/folders/vq/5fctqqys06l8n2l1cjxhxvp80000gn/T/ipykernel_72660/3086072035.py:17: FutureWarning: `momepy.sw_high` is deprecated. Replace it with .higher_order() method of libpysal.graph.Graph or pin momepy version <1.0. This class will be removed in 1.0. \n",
      "  queen_3 = momepy.sw_high(k=1, weights=queen_1)\n",
      "/var/folders/vq/5fctqqys06l8n2l1cjxhxvp80000gn/T/ipykernel_72660/3086072035.py:20: FutureWarning: `momepy.CoveredArea` is deprecated. Replace it with `.describe()` method of libpysal.graph.Graph or pin momepy version <1.0. This class will be removed in 1.0. \n",
      "  tessellation[\"covered_area\"] = momepy.CoveredArea(tessellation, queen_3, \"uID\", verbose=False).series\n"
     ]
    },
    {
     "name": "stdout",
     "output_type": "stream",
     "text": [
      "\n",
      "Metrics DataFrame for Bat Yam:\n",
      "    uID  covered_area\n",
      "0  2936  97424.453230\n",
      "1  3249  61608.585559\n",
      "2  1932  73166.078818\n",
      "3   248  75556.518016\n",
      "4  1970  40757.196027\n",
      "Saved metrics DataFrame for Bat Yam to /Users/dpelleg/work/dssg/DSSG_mapping_Jerus/output/covered_area/Bat Yam_covered_area.csv\n",
      "Calculating metrics for Beit Shemesh...\n"
     ]
    },
    {
     "name": "stderr",
     "output_type": "stream",
     "text": [
      "/var/folders/vq/5fctqqys06l8n2l1cjxhxvp80000gn/T/ipykernel_72660/3086072035.py:17: FutureWarning: `momepy.sw_high` is deprecated. Replace it with .higher_order() method of libpysal.graph.Graph or pin momepy version <1.0. This class will be removed in 1.0. \n",
      "  queen_3 = momepy.sw_high(k=1, weights=queen_1)\n",
      "/var/folders/vq/5fctqqys06l8n2l1cjxhxvp80000gn/T/ipykernel_72660/3086072035.py:20: FutureWarning: `momepy.CoveredArea` is deprecated. Replace it with `.describe()` method of libpysal.graph.Graph or pin momepy version <1.0. This class will be removed in 1.0. \n",
      "  tessellation[\"covered_area\"] = momepy.CoveredArea(tessellation, queen_3, \"uID\", verbose=False).series\n"
     ]
    },
    {
     "name": "stdout",
     "output_type": "stream",
     "text": [
      "\n",
      "Metrics DataFrame for Beit Shemesh:\n",
      "    uID  covered_area\n",
      "0  4617  16332.071177\n",
      "1  3725  16776.585821\n",
      "2  3726  31872.543215\n",
      "3  4736  25997.699259\n",
      "4  4368  11588.036302\n",
      "Saved metrics DataFrame for Beit Shemesh to /Users/dpelleg/work/dssg/DSSG_mapping_Jerus/output/covered_area/Beit Shemesh_covered_area.csv\n",
      "Calculating metrics for Kfar Saba...\n"
     ]
    },
    {
     "name": "stderr",
     "output_type": "stream",
     "text": [
      "/var/folders/vq/5fctqqys06l8n2l1cjxhxvp80000gn/T/ipykernel_72660/3086072035.py:17: FutureWarning: `momepy.sw_high` is deprecated. Replace it with .higher_order() method of libpysal.graph.Graph or pin momepy version <1.0. This class will be removed in 1.0. \n",
      "  queen_3 = momepy.sw_high(k=1, weights=queen_1)\n",
      "/var/folders/vq/5fctqqys06l8n2l1cjxhxvp80000gn/T/ipykernel_72660/3086072035.py:20: FutureWarning: `momepy.CoveredArea` is deprecated. Replace it with `.describe()` method of libpysal.graph.Graph or pin momepy version <1.0. This class will be removed in 1.0. \n",
      "  tessellation[\"covered_area\"] = momepy.CoveredArea(tessellation, queen_3, \"uID\", verbose=False).series\n"
     ]
    },
    {
     "name": "stdout",
     "output_type": "stream",
     "text": [
      "\n",
      "Metrics DataFrame for Kfar Saba:\n",
      "    uID   covered_area\n",
      "0  4398  109842.151026\n",
      "1  4297   31076.659211\n",
      "2  4319   22348.333888\n",
      "3   561   43931.817403\n",
      "4   644   44525.938080\n",
      "Saved metrics DataFrame for Kfar Saba to /Users/dpelleg/work/dssg/DSSG_mapping_Jerus/output/covered_area/Kfar Saba_covered_area.csv\n",
      "Calculating metrics for Herzliya...\n"
     ]
    },
    {
     "name": "stderr",
     "output_type": "stream",
     "text": [
      "/var/folders/vq/5fctqqys06l8n2l1cjxhxvp80000gn/T/ipykernel_72660/3086072035.py:17: FutureWarning: `momepy.sw_high` is deprecated. Replace it with .higher_order() method of libpysal.graph.Graph or pin momepy version <1.0. This class will be removed in 1.0. \n",
      "  queen_3 = momepy.sw_high(k=1, weights=queen_1)\n",
      "/var/folders/vq/5fctqqys06l8n2l1cjxhxvp80000gn/T/ipykernel_72660/3086072035.py:20: FutureWarning: `momepy.CoveredArea` is deprecated. Replace it with `.describe()` method of libpysal.graph.Graph or pin momepy version <1.0. This class will be removed in 1.0. \n",
      "  tessellation[\"covered_area\"] = momepy.CoveredArea(tessellation, queen_3, \"uID\", verbose=False).series\n"
     ]
    },
    {
     "name": "stdout",
     "output_type": "stream",
     "text": [
      "\n",
      "Metrics DataFrame for Herzliya:\n",
      "    uID  covered_area\n",
      "0  4442  14170.154146\n",
      "1  7877  25519.293961\n",
      "2  4541  42929.577477\n",
      "3  4453  35245.121835\n",
      "4  4496  34858.114495\n",
      "Saved metrics DataFrame for Herzliya to /Users/dpelleg/work/dssg/DSSG_mapping_Jerus/output/covered_area/Herzliya_covered_area.csv\n",
      "Calculating metrics for Hadera...\n"
     ]
    },
    {
     "name": "stderr",
     "output_type": "stream",
     "text": [
      "/var/folders/vq/5fctqqys06l8n2l1cjxhxvp80000gn/T/ipykernel_72660/3086072035.py:17: FutureWarning: `momepy.sw_high` is deprecated. Replace it with .higher_order() method of libpysal.graph.Graph or pin momepy version <1.0. This class will be removed in 1.0. \n",
      "  queen_3 = momepy.sw_high(k=1, weights=queen_1)\n",
      "/var/folders/vq/5fctqqys06l8n2l1cjxhxvp80000gn/T/ipykernel_72660/3086072035.py:20: FutureWarning: `momepy.CoveredArea` is deprecated. Replace it with `.describe()` method of libpysal.graph.Graph or pin momepy version <1.0. This class will be removed in 1.0. \n",
      "  tessellation[\"covered_area\"] = momepy.CoveredArea(tessellation, queen_3, \"uID\", verbose=False).series\n"
     ]
    },
    {
     "name": "stdout",
     "output_type": "stream",
     "text": [
      "\n",
      "Metrics DataFrame for Hadera:\n",
      "    uID  covered_area\n",
      "0  1091  37706.250547\n",
      "1  1493  15158.494329\n",
      "2  1518  19629.195065\n",
      "3  1511  18511.014085\n",
      "4  1480  14350.273349\n",
      "Saved metrics DataFrame for Hadera to /Users/dpelleg/work/dssg/DSSG_mapping_Jerus/output/covered_area/Hadera_covered_area.csv\n",
      "Calculating metrics for Modiin...\n"
     ]
    },
    {
     "name": "stderr",
     "output_type": "stream",
     "text": [
      "/var/folders/vq/5fctqqys06l8n2l1cjxhxvp80000gn/T/ipykernel_72660/3086072035.py:17: FutureWarning: `momepy.sw_high` is deprecated. Replace it with .higher_order() method of libpysal.graph.Graph or pin momepy version <1.0. This class will be removed in 1.0. \n",
      "  queen_3 = momepy.sw_high(k=1, weights=queen_1)\n",
      "/var/folders/vq/5fctqqys06l8n2l1cjxhxvp80000gn/T/ipykernel_72660/3086072035.py:20: FutureWarning: `momepy.CoveredArea` is deprecated. Replace it with `.describe()` method of libpysal.graph.Graph or pin momepy version <1.0. This class will be removed in 1.0. \n",
      "  tessellation[\"covered_area\"] = momepy.CoveredArea(tessellation, queen_3, \"uID\", verbose=False).series\n"
     ]
    },
    {
     "name": "stdout",
     "output_type": "stream",
     "text": [
      "\n",
      "Metrics DataFrame for Modiin:\n",
      "    uID  covered_area\n",
      "0  2921  40166.499311\n",
      "1  1942  20445.721823\n",
      "2  1938  23473.544276\n",
      "3  1928  28714.985669\n",
      "4  1937  23179.448360\n",
      "Saved metrics DataFrame for Modiin to /Users/dpelleg/work/dssg/DSSG_mapping_Jerus/output/covered_area/Modiin_covered_area.csv\n",
      "Calculating metrics for Nazareth...\n"
     ]
    },
    {
     "name": "stderr",
     "output_type": "stream",
     "text": [
      "/var/folders/vq/5fctqqys06l8n2l1cjxhxvp80000gn/T/ipykernel_72660/3086072035.py:17: FutureWarning: `momepy.sw_high` is deprecated. Replace it with .higher_order() method of libpysal.graph.Graph or pin momepy version <1.0. This class will be removed in 1.0. \n",
      "  queen_3 = momepy.sw_high(k=1, weights=queen_1)\n",
      "/var/folders/vq/5fctqqys06l8n2l1cjxhxvp80000gn/T/ipykernel_72660/3086072035.py:20: FutureWarning: `momepy.CoveredArea` is deprecated. Replace it with `.describe()` method of libpysal.graph.Graph or pin momepy version <1.0. This class will be removed in 1.0. \n",
      "  tessellation[\"covered_area\"] = momepy.CoveredArea(tessellation, queen_3, \"uID\", verbose=False).series\n"
     ]
    },
    {
     "name": "stdout",
     "output_type": "stream",
     "text": [
      "\n",
      "Metrics DataFrame for Nazareth:\n",
      "    uID  covered_area\n",
      "0  3337  26871.876325\n",
      "1  3338  47211.870970\n",
      "2  3340   9029.561790\n",
      "3  3341  28896.439774\n",
      "4  3342  36028.746451\n",
      "Saved metrics DataFrame for Nazareth to /Users/dpelleg/work/dssg/DSSG_mapping_Jerus/output/covered_area/Nazareth_covered_area.csv\n"
     ]
    }
   ],
   "execution_count": 10
  },
  {
   "metadata": {
    "ExecuteTime": {
     "end_time": "2024-09-10T12:12:28.982620Z",
     "start_time": "2024-09-10T12:12:28.981365Z"
    }
   },
   "cell_type": "code",
   "source": "",
   "outputs": [],
   "execution_count": 9
  }
 ],
 "metadata": {
  "kernelspec": {
   "display_name": "momepy_env",
   "language": "python",
   "name": "python3"
  },
  "language_info": {
   "codemirror_mode": {
    "name": "ipython",
    "version": 3
   },
   "file_extension": ".py",
   "mimetype": "text/x-python",
   "name": "python",
   "nbconvert_exporter": "python",
   "pygments_lexer": "ipython3",
   "version": "3.12.5"
  }
 },
 "nbformat": 4,
 "nbformat_minor": 2
}
