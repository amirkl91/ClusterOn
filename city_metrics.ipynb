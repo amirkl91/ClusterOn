{
 "cells": [
  {
   "metadata": {},
   "cell_type": "markdown",
   "source": "compare different cities by their aggregated momepy metrics ",
   "id": "478b0198c96a187f"
  },
  {
   "metadata": {
    "ExecuteTime": {
     "end_time": "2024-09-17T15:01:45.077034Z",
     "start_time": "2024-09-17T15:01:45.037345Z"
    }
   },
   "cell_type": "code",
   "source": [
    "import pandas as pd\n",
    "import configparser\n",
    "import os\n",
    "import seaborn as sns\n",
    "import matplotlib.pyplot as plt\n",
    "import plotly.express as px\n",
    "import re\n",
    "import ast"
   ],
   "id": "b0679d8ec2757eae",
   "outputs": [],
   "execution_count": 1
  },
  {
   "metadata": {
    "ExecuteTime": {
     "end_time": "2024-09-17T15:01:45.081366Z",
     "start_time": "2024-09-17T15:01:45.078409Z"
    }
   },
   "cell_type": "code",
   "source": [
    "# Read the configuration file\n",
    "config = configparser.ConfigParser()\n",
    "config_file = 'config.ini'\n",
    "\n",
    "# Check if file exists\n",
    "if not os.path.isfile(config_file):\n",
    "    # Create a simple config file\n",
    "    config['Paths'] = {\n",
    "        'gdb_folder': '/path/to/your/gdb/folder',\n",
    "        'output_dir': '/path/to/your/output/folder'\n",
    "    }\n",
    "    with open(config_file, 'w') as configfile:\n",
    "        config.write(configfile)\n",
    "    print(f\"Created configuration file '{config_file}'.\")\n",
    "\n",
    "# Read the configuration file\n",
    "config.read(config_file)\n",
    "gdb_folder = config['Paths']['gdb_folder']\n",
    "output_dir = config['Paths']['output_dir']\n",
    "output_folder = config['Paths']['output_folder']\n"
   ],
   "id": "ee67e9536fe0ea9",
   "outputs": [],
   "execution_count": 2
  },
  {
   "metadata": {
    "ExecuteTime": {
     "end_time": "2024-09-17T15:01:45.660072Z",
     "start_time": "2024-09-17T15:01:45.649841Z"
    }
   },
   "cell_type": "code",
   "source": [
    "# Read the CSV files into DataFrames\n",
    "city_metrics = pd.read_csv(os.path.join(output_folder, 'city_metrics.csv'))\n",
    "city_properties = pd.read_csv(os.path.join(output_folder, 'city_properties.csv'))\n",
    "city_sem = pd.read_csv(os.path.join(output_folder, 'city_sem.csv'))\n",
    "# merge all city properties into a single table\n",
    "city_props = city_properties.merge(city_sem, on='city', how='left').merge(city_metrics, on='city', how='left')\n",
    "\n",
    "correlation_df = pd.read_csv(os.path.join(output_folder, 'correlation.csv'))\n"
   ],
   "id": "715d4542a2af7078",
   "outputs": [],
   "execution_count": 3
  },
  {
   "metadata": {
    "ExecuteTime": {
     "end_time": "2024-09-17T15:01:46.124227Z",
     "start_time": "2024-09-17T15:01:46.104032Z"
    }
   },
   "cell_type": "code",
   "source": [
    "correlation_df[['col1', 'col2']] = correlation_df['Metric_Property_Pair'].apply(lambda x: pd.Series(ast.literal_eval(x)))\n",
    "correlation_df.drop(columns='Metric_Property_Pair', inplace=True)\n",
    "correlation_df['abs_col'] = abs(correlation_df['Correlation_Value'])\n",
    "correlation_df.sort_values(by='abs_col', ascending=False, inplace=True)"
   ],
   "id": "c3e3fe3fbe9b0307",
   "outputs": [],
   "execution_count": 4
  },
  {
   "metadata": {
    "ExecuteTime": {
     "end_time": "2024-09-17T14:57:13.760366Z",
     "start_time": "2024-09-17T14:57:13.757797Z"
    }
   },
   "cell_type": "code",
   "source": [
    "import seaborn as sns\n",
    "import matplotlib.pyplot as plt\n",
    "\n",
    "def scatterplot_with_labels_old(df, col1, col2, ax=None):\n",
    "\n",
    "    one_plot = False\n",
    "    if ax is None:\n",
    "        one_plot = True\n",
    "        # Create a figure and axis\n",
    "        fig, ax = plt.subplots(figsize=(12, 12))\n",
    "\n",
    "    # Create a scatterplot with color-coded points\n",
    "    scatter = sns.scatterplot(data=df, x=col1, y=col2, hue='city', ax=ax, legend=False, s=100)\n",
    "\n",
    "    # Add labels to each data point\n",
    "    for i, row in df.iterrows():\n",
    "        x = row[col1]\n",
    "        y = row[col2]\n",
    "        city_name = row['city']\n",
    "        ax.annotate(city_name, \n",
    "                    (x, y),\n",
    "                    xytext=(-5, 5),\n",
    "                    textcoords='offset points',\n",
    "                    fontsize=18,\n",
    "                    ha='left',\n",
    "                    va='bottom')\n",
    "\n",
    "    # Adjust layout to prevent clipping of labels\n",
    "    #plt.tight_layout()\n",
    "    ax.set_ylabel(col1, fontsize=16)\n",
    "    ax.set_xlabel(col2, fontsize=16)\n",
    "    # set the x tick labels font size\n",
    "    ax.tick_params(labelsize=14)\n",
    "\n",
    "    if not one_plot:\n",
    "        plt.show()"
   ],
   "id": "f03b7ac4642c0bfc",
   "outputs": [],
   "execution_count": 36
  },
  {
   "metadata": {
    "ExecuteTime": {
     "end_time": "2024-09-17T15:03:08.836938Z",
     "start_time": "2024-09-17T15:03:08.833719Z"
    }
   },
   "cell_type": "code",
   "source": [
    "import seaborn as sns\n",
    "import matplotlib.pyplot as plt\n",
    "\n",
    "def scatterplot_with_labels(df, col1, col2, ax=None):\n",
    "    # Create a scatterplot with color-coded points\n",
    "    one_plot = False\n",
    "    if ax is None:\n",
    "        one_plot = True\n",
    "        # Create a figure and axis\n",
    "        fig, ax = plt.subplots(figsize=(10, 10))\n",
    "\n",
    "    scatter = sns.scatterplot(data=df, x=col1, y=col2, hue='city', ax=ax, legend=False, s=100)\n",
    "\n",
    "    # Add labels to each data point\n",
    "    for i, row in df.iterrows():\n",
    "        x = row[col1]\n",
    "        y = row[col2]\n",
    "        city_name = row['city']\n",
    "        ax.annotate(city_name, \n",
    "                    (x, y),\n",
    "                    xytext=(-5, 5),\n",
    "                    textcoords='offset points',\n",
    "                    fontsize=18,\n",
    "                    ha='left',\n",
    "                    va='bottom')\n",
    "\n",
    "    # Set labels and tick parameters\n",
    "    ax.set_xlabel(col1.replace('_', ' '), fontsize=16)\n",
    "    ax.set_ylabel(col2.replace('_', ' '), fontsize=16)\n",
    "    ax.tick_params(labelsize=14)\n",
    "\n",
    "    # Return the ax object\n",
    "    if one_plot:\n",
    "        plt.show()\n",
    "    return ax"
   ],
   "id": "a8e8ef72bc8b9edf",
   "outputs": [],
   "execution_count": 11
  },
  {
   "metadata": {
    "ExecuteTime": {
     "end_time": "2024-09-17T15:03:53.024181Z",
     "start_time": "2024-09-17T15:03:53.021549Z"
    }
   },
   "cell_type": "code",
   "source": [
    "N=0\n",
    "if N > 0:\n",
    "    fig, ax = plt.subplots(N, 1, figsize=(12, 120))\n",
    "\n",
    "for i in range(N):\n",
    "    col1, col2 = correlation_df.iloc[i]['col2'], correlation_df.iloc[i]['col1']\n",
    "    scatterplot_with_labels(city_props, col1, col2, ax[i])\n"
   ],
   "id": "bcdac085de90a993",
   "outputs": [],
   "execution_count": 14
  },
  {
   "metadata": {
    "ExecuteTime": {
     "end_time": "2024-09-17T15:08:07.556445Z",
     "start_time": "2024-09-17T15:08:07.552644Z"
    }
   },
   "cell_type": "code",
   "source": [
    "i=0\n",
    "sns.set_style('white')\n",
    "sns.set_theme('talk')\n",
    "col1, col2 = correlation_df.iloc[i]['col2'], correlation_df.iloc[i]['col1']\n",
    "#scatterplot_with_labels(city_props, col1, col2)\n"
   ],
   "id": "43deda3ea40e1fe1",
   "outputs": [],
   "execution_count": 16
  },
  {
   "metadata": {
    "ExecuteTime": {
     "end_time": "2024-09-10T12:19:13.097327Z",
     "start_time": "2024-09-10T12:19:13.090145Z"
    }
   },
   "cell_type": "code",
   "source": [
    "# Old code, I'm keeping it here for reference\n",
    "# add the cities database from Wikipedia\n",
    "# Source URL: https://he.wikipedia.org/wiki/ערים_בישראל\n",
    "# Then use this tool to download:\n",
    "#  https://wikitable2csv.ggor.de\n",
    "# I then manually translated the column names and saved as CSV\n",
    "# Use table selector: .toccolours\n",
    "\n",
    "cities = pd.read_csv('data/cities_israel.csv')\n",
    "# dictionary of Hebrew to English city names\n",
    "hebrew_to_english = {\n",
    "    'ירושלים': 'Jerusalem',\n",
    "    'תל אביב-יפו': 'Tel Aviv',\n",
    "    'חיפה': 'Haifa',\n",
    "    'ראשון לציון': 'Rishon LeZion',\n",
    "    'פתח תקווה': 'Petah Tikva',\n",
    "    'אשדוד': 'Ashdod',\n",
    "    'נתניה': 'Netanya',\n",
    "    'באר שבע': 'Beer Sheva',\n",
    "    'בני ברק': 'Bnei Brak',\n",
    "    'חולון': 'Holon',\n",
    "    'הרצליה': 'Herzliya',\n",
    "    'רחובות': 'Rehovot',\n",
    "    'מודיעין-מכבים-רעות': 'Modiin',\n",
    "    'חריש': 'Harish',\n",
    "    'כרמיאל': 'Carmiel',\n",
    "    'חדרה': 'Hadera',\n",
    "    'אריאל': 'Ariel',\n",
    "    'עכו': 'Acre'\n",
    "}\n",
    "\n",
    "# Function to translate city names\n",
    "def translate_city(name):\n",
    "    return hebrew_to_english.get(name, name)  # If not found, return the original name\n",
    "\n",
    "# Apply the translation to the 'name' column\n",
    "cities['name_english'] = cities['name'].apply(translate_city)\n",
    "\n",
    "# remove various signs\n",
    "cities_columns = ['name_english', 'area', 'density', 'population', 'growth rate', 'socioeconomic', 'year founded']\n",
    "\n",
    "for c in cities_columns:\n",
    "    if c in ['name', 'name_english']:\n",
    "        continue\n",
    "    cities[c] = cities[c].astype(str).apply(lambda x: re.sub(r'[%,]', '', x)).astype(float)\n",
    "    "
   ],
   "id": "336c995b36cebf",
   "outputs": [],
   "execution_count": 7
  }
 ],
 "metadata": {
  "kernelspec": {
   "display_name": "dssg",
   "language": "python",
   "name": "dssg"
  },
  "language_info": {
   "codemirror_mode": {
    "name": "ipython",
    "version": 2
   },
   "file_extension": ".py",
   "mimetype": "text/x-python",
   "name": "python",
   "nbconvert_exporter": "python",
   "pygments_lexer": "ipython2",
   "version": "2.7.6"
  }
 },
 "nbformat": 4,
 "nbformat_minor": 5
}
