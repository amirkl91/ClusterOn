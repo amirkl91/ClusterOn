{
 "cells": [
  {
   "cell_type": "code",
   "execution_count": 2,
   "metadata": {},
   "outputs": [],
   "source": [
    "import sys\n",
    "sys.path.append('../')\n",
    "from time import time\n",
    "import preprocess as pp\n",
    "from data_input import load_buildings_from_osm, load_roads_from_osm\n",
    "import metrics\n",
    "import merge_dfs as md\n",
    "from data_input import load_gdb_layer\n",
    "import config_parser\n",
    "from generate_clusters import get_cgram, add_cluster_col, plot_clusters\n",
    "from data_output import dataframe_to_gdb"
   ]
  },
  {
   "cell_type": "code",
   "execution_count": null,
   "metadata": {},
   "outputs": [],
   "source": [
    "\n",
    "# buildings data (Michael)\n",
    "params = config_parser.read_config('config.ini')\n",
    "gdb_bld_path = params['gdb_bld_path']\n",
    "buildings = load_gdb_layer(gdb_bld_path)"
   ]
  },
  {
   "cell_type": "code",
   "execution_count": 4,
   "metadata": {},
   "outputs": [],
   "source": [
    "# streets data (OSM)\n",
    "verbose=True\n",
    "t0 = time()\n",
    "place = 'Jerusalem'\n",
    "local_crs = 'EPSG:2039'\n",
    "network_type = 'drive'\n",
    "streets = load_roads_from_osm(place, network_type=network_type)\n"
   ]
  },
  {
   "cell_type": "code",
   "execution_count": null,
   "metadata": {},
   "outputs": [],
   "source": [
    "#Preprocess\n",
    "streets, junctions = pp.get_streets(streets=streets, local_crs=local_crs, get_juncions=True)\n",
    "buildings = pp.get_buildings(buildings=buildings, streets=streets, junctions=junctions, local_crs=local_crs, )\n",
    "\n",
    "tessellations = pp.get_tessellation(buildings=buildings, streets=streets, \n",
    "                                        tess_mode='morphometric', clim='adaptive')\n"
   ]
  },
  {
   "cell_type": "code",
   "execution_count": null,
   "metadata": {},
   "outputs": [],
   "source": [
    "\n",
    "### Get metrics\n",
    "metrics.generate_building_metrics(buildings)\n",
    "queen_1 = metrics.generate_tessellation_metrics(tessellations, buildings)\n",
    "metrics.generate_streets_metrics(streets)\n",
    "queen_3 = metrics.generate_graph_building_metrics(buildings, streets, queen_1)\n",
    "junctions, streets = metrics.generate_junctions_metrics(streets)\n"
   ]
  },
  {
   "cell_type": "code",
   "execution_count": null,
   "metadata": {},
   "outputs": [],
   "source": [
    "\n",
    "### Merge dataframes\n",
    "merged = md.merge_all_metrics(tessellations, buildings, streets, junctions)\n",
    "metrics_with_percentiles = md.compute_percentiles(merged, queen_3)\n",
    "standardized = md.standardize_df(metrics_with_percentiles)\n"
   ]
  },
  {
   "cell_type": "code",
   "execution_count": null,
   "metadata": {},
   "outputs": [],
   "source": [
    "\n",
    "\n",
    "### make clusters\n",
    "cgram = get_cgram(standardized, 14)\n",
    "urban_types = add_cluster_col(merged, buildings, cgram, 13)\n",
    "plot_clusters(urban_types)\n",
    "dataframe_to_gdb(urban_types, \"/Users/annarubtsov/Desktop/DSSG/Michaels_Data/All_Layers/מרקמים/commondata/myproject16.gdb\", \"urban_types\")"
   ]
  }
 ],
 "metadata": {
  "kernelspec": {
   "display_name": "momepy_env",
   "language": "python",
   "name": "python3"
  },
  "language_info": {
   "codemirror_mode": {
    "name": "ipython",
    "version": 3
   },
   "file_extension": ".py",
   "mimetype": "text/x-python",
   "name": "python",
   "nbconvert_exporter": "python",
   "pygments_lexer": "ipython3",
   "version": "3.12.5"
  }
 },
 "nbformat": 4,
 "nbformat_minor": 2
}
