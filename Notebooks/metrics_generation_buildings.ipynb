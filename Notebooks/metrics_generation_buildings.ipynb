{
 "cells": [
  {
   "cell_type": "code",
   "metadata": {
    "ExecuteTime": {
     "end_time": "2024-09-12T12:04:10.820802Z",
     "start_time": "2024-09-12T12:04:07.479774Z"
    }
   },
   "source": [
    "import geopandas as gpd\n",
    "import fiona\n",
    "import os\n",
    "import matplotlib.pyplot as plt\n",
    "from matplotlib.lines import Line2D\n",
    "import configparser\n",
    "import momepy\n",
    "import libpysal\n",
    "import pandas as pd\n",
    "import osmnx\n",
    "import pandas\n",
    "from bokeh.io import output_notebook\n",
    "from bokeh.plotting import show\n",
    "from clustergram import Clustergram\n",
    "from shapely.geometry import Point\n",
    "local_crs = \"EPSG:2039\"\n",
    "output_notebook()"
   ],
   "outputs": [
    {
     "data": {
      "text/html": [
       "    <style>\n",
       "        .bk-notebook-logo {\n",
       "            display: block;\n",
       "            width: 20px;\n",
       "            height: 20px;\n",
       "            background-image: url(data:image/png;base64,iVBORw0KGgoAAAANSUhEUgAAABQAAAAUCAYAAACNiR0NAAAABHNCSVQICAgIfAhkiAAAAAlwSFlzAAALEgAACxIB0t1+/AAAABx0RVh0U29mdHdhcmUAQWRvYmUgRmlyZXdvcmtzIENTNui8sowAAAOkSURBVDiNjZRtaJVlGMd/1/08zzln5zjP1LWcU9N0NkN8m2CYjpgQYQXqSs0I84OLIC0hkEKoPtiH3gmKoiJDU7QpLgoLjLIQCpEsNJ1vqUOdO7ppbuec5+V+rj4ctwzd8IIbbi6u+8f1539dt3A78eXC7QizUF7gyV1fD1Yqg4JWz84yffhm0qkFqBogB9rM8tZdtwVsPUhWhGcFJngGeWrPzHm5oaMmkfEg1usvLFyc8jLRqDOMru7AyC8saQr7GG7f5fvDeH7Ej8CM66nIF+8yngt6HWaKh7k49Soy9nXurCi1o3qUbS3zWfrYeQDTB/Qj6kX6Ybhw4B+bOYoLKCC9H3Nu/leUTZ1JdRWkkn2ldcCamzrcf47KKXdAJllSlxAOkRgyHsGC/zRday5Qld9DyoM4/q/rUoy/CXh3jzOu3bHUVZeU+DEn8FInkPBFlu3+nW3Nw0mk6vCDiWg8CeJaxEwuHS3+z5RgY+YBR6V1Z1nxSOfoaPa4LASWxxdNp+VWTk7+4vzaou8v8PN+xo+KY2xsw6une2frhw05CTYOmQvsEhjhWjn0bmXPjpE1+kplmmkP3suftwTubK9Vq22qKmrBhpY4jvd5afdRA3wGjFAgcnTK2s4hY0/GPNIb0nErGMCRxWOOX64Z8RAC4oCXdklmEvcL8o0BfkNK4lUg9HTl+oPlQxdNo3Mg4Nv175e/1LDGzZen30MEjRUtmXSfiTVu1kK8W4txyV6BMKlbgk3lMwYCiusNy9fVfvvwMxv8Ynl6vxoByANLTWplvuj/nF9m2+PDtt1eiHPBr1oIfhCChQMBw6Aw0UulqTKZdfVvfG7VcfIqLG9bcldL/+pdWTLxLUy8Qq38heUIjh4XlzZxzQm19lLFlr8vdQ97rjZVOLf8nclzckbcD4wxXMidpX30sFd37Fv/GtwwhzhxGVAprjbg0gCAEeIgwCZyTV2Z1REEW8O4py0wsjeloKoMr6iCY6dP92H6Vw/oTyICIthibxjm/DfN9lVz8IqtqKYLUXfoKVMVQVVJOElGjrnnUt9T9wbgp8AyYKaGlqingHZU/uG2NTZSVqwHQTWkx9hxjkpWDaCg6Ckj5qebgBVbT3V3NNXMSiWSDdGV3hrtzla7J+duwPOToIg42ChPQOQjspnSlp1V+Gjdged7+8UN5CRAV7a5EdFNwCjEaBR27b3W890TE7g24NAP/mMDXRWrGoFPQI9ls/MWO2dWFAar/xcOIImbbpA3zgAAAABJRU5ErkJggg==);\n",
       "        }\n",
       "    </style>\n",
       "    <div>\n",
       "        <a href=\"https://bokeh.org\" target=\"_blank\" class=\"bk-notebook-logo\"></a>\n",
       "        <span id=\"b88c8b07-450d-4cc8-974f-007926dace9f\">Loading BokehJS ...</span>\n",
       "    </div>\n"
      ]
     },
     "metadata": {},
     "output_type": "display_data"
    },
    {
     "data": {
      "application/javascript": "'use strict';\n(function(root) {\n  function now() {\n    return new Date();\n  }\n\n  const force = true;\n\n  if (typeof root._bokeh_onload_callbacks === \"undefined\" || force === true) {\n    root._bokeh_onload_callbacks = [];\n    root._bokeh_is_loading = undefined;\n  }\n\nconst JS_MIME_TYPE = 'application/javascript';\n  const HTML_MIME_TYPE = 'text/html';\n  const EXEC_MIME_TYPE = 'application/vnd.bokehjs_exec.v0+json';\n  const CLASS_NAME = 'output_bokeh rendered_html';\n\n  /**\n   * Render data to the DOM node\n   */\n  function render(props, node) {\n    const script = document.createElement(\"script\");\n    node.appendChild(script);\n  }\n\n  /**\n   * Handle when an output is cleared or removed\n   */\n  function handleClearOutput(event, handle) {\n    function drop(id) {\n      const view = Bokeh.index.get_by_id(id)\n      if (view != null) {\n        view.model.document.clear()\n        Bokeh.index.delete(view)\n      }\n    }\n\n    const cell = handle.cell;\n\n    const id = cell.output_area._bokeh_element_id;\n    const server_id = cell.output_area._bokeh_server_id;\n\n    // Clean up Bokeh references\n    if (id != null) {\n      drop(id)\n    }\n\n    if (server_id !== undefined) {\n      // Clean up Bokeh references\n      const cmd_clean = \"from bokeh.io.state import curstate; print(curstate().uuid_to_server['\" + server_id + \"'].get_sessions()[0].document.roots[0]._id)\";\n      cell.notebook.kernel.execute(cmd_clean, {\n        iopub: {\n          output: function(msg) {\n            const id = msg.content.text.trim()\n            drop(id)\n          }\n        }\n      });\n      // Destroy server and session\n      const cmd_destroy = \"import bokeh.io.notebook as ion; ion.destroy_server('\" + server_id + \"')\";\n      cell.notebook.kernel.execute(cmd_destroy);\n    }\n  }\n\n  /**\n   * Handle when a new output is added\n   */\n  function handleAddOutput(event, handle) {\n    const output_area = handle.output_area;\n    const output = handle.output;\n\n    // limit handleAddOutput to display_data with EXEC_MIME_TYPE content only\n    if ((output.output_type != \"display_data\") || (!Object.prototype.hasOwnProperty.call(output.data, EXEC_MIME_TYPE))) {\n      return\n    }\n\n    const toinsert = output_area.element.find(\".\" + CLASS_NAME.split(' ')[0]);\n\n    if (output.metadata[EXEC_MIME_TYPE][\"id\"] !== undefined) {\n      toinsert[toinsert.length - 1].firstChild.textContent = output.data[JS_MIME_TYPE];\n      // store reference to embed id on output_area\n      output_area._bokeh_element_id = output.metadata[EXEC_MIME_TYPE][\"id\"];\n    }\n    if (output.metadata[EXEC_MIME_TYPE][\"server_id\"] !== undefined) {\n      const bk_div = document.createElement(\"div\");\n      bk_div.innerHTML = output.data[HTML_MIME_TYPE];\n      const script_attrs = bk_div.children[0].attributes;\n      for (let i = 0; i < script_attrs.length; i++) {\n        toinsert[toinsert.length - 1].firstChild.setAttribute(script_attrs[i].name, script_attrs[i].value);\n        toinsert[toinsert.length - 1].firstChild.textContent = bk_div.children[0].textContent\n      }\n      // store reference to server id on output_area\n      output_area._bokeh_server_id = output.metadata[EXEC_MIME_TYPE][\"server_id\"];\n    }\n  }\n\n  function register_renderer(events, OutputArea) {\n\n    function append_mime(data, metadata, element) {\n      // create a DOM node to render to\n      const toinsert = this.create_output_subarea(\n        metadata,\n        CLASS_NAME,\n        EXEC_MIME_TYPE\n      );\n      this.keyboard_manager.register_events(toinsert);\n      // Render to node\n      const props = {data: data, metadata: metadata[EXEC_MIME_TYPE]};\n      render(props, toinsert[toinsert.length - 1]);\n      element.append(toinsert);\n      return toinsert\n    }\n\n    /* Handle when an output is cleared or removed */\n    events.on('clear_output.CodeCell', handleClearOutput);\n    events.on('delete.Cell', handleClearOutput);\n\n    /* Handle when a new output is added */\n    events.on('output_added.OutputArea', handleAddOutput);\n\n    /**\n     * Register the mime type and append_mime function with output_area\n     */\n    OutputArea.prototype.register_mime_type(EXEC_MIME_TYPE, append_mime, {\n      /* Is output safe? */\n      safe: true,\n      /* Index of renderer in `output_area.display_order` */\n      index: 0\n    });\n  }\n\n  // register the mime type if in Jupyter Notebook environment and previously unregistered\n  if (root.Jupyter !== undefined) {\n    const events = require('base/js/events');\n    const OutputArea = require('notebook/js/outputarea').OutputArea;\n\n    if (OutputArea.prototype.mime_types().indexOf(EXEC_MIME_TYPE) == -1) {\n      register_renderer(events, OutputArea);\n    }\n  }\n  if (typeof (root._bokeh_timeout) === \"undefined\" || force === true) {\n    root._bokeh_timeout = Date.now() + 5000;\n    root._bokeh_failed_load = false;\n  }\n\n  const NB_LOAD_WARNING = {'data': {'text/html':\n     \"<div style='background-color: #fdd'>\\n\"+\n     \"<p>\\n\"+\n     \"BokehJS does not appear to have successfully loaded. If loading BokehJS from CDN, this \\n\"+\n     \"may be due to a slow or bad network connection. Possible fixes:\\n\"+\n     \"</p>\\n\"+\n     \"<ul>\\n\"+\n     \"<li>re-rerun `output_notebook()` to attempt to load from CDN again, or</li>\\n\"+\n     \"<li>use INLINE resources instead, as so:</li>\\n\"+\n     \"</ul>\\n\"+\n     \"<code>\\n\"+\n     \"from bokeh.resources import INLINE\\n\"+\n     \"output_notebook(resources=INLINE)\\n\"+\n     \"</code>\\n\"+\n     \"</div>\"}};\n\n  function display_loaded(error = null) {\n    const el = document.getElementById(\"b88c8b07-450d-4cc8-974f-007926dace9f\");\n    if (el != null) {\n      const html = (() => {\n        if (typeof root.Bokeh === \"undefined\") {\n          if (error == null) {\n            return \"BokehJS is loading ...\";\n          } else {\n            return \"BokehJS failed to load.\";\n          }\n        } else {\n          const prefix = `BokehJS ${root.Bokeh.version}`;\n          if (error == null) {\n            return `${prefix} successfully loaded.`;\n          } else {\n            return `${prefix} <b>encountered errors</b> while loading and may not function as expected.`;\n          }\n        }\n      })();\n      el.innerHTML = html;\n\n      if (error != null) {\n        const wrapper = document.createElement(\"div\");\n        wrapper.style.overflow = \"auto\";\n        wrapper.style.height = \"5em\";\n        wrapper.style.resize = \"vertical\";\n        const content = document.createElement(\"div\");\n        content.style.fontFamily = \"monospace\";\n        content.style.whiteSpace = \"pre-wrap\";\n        content.style.backgroundColor = \"rgb(255, 221, 221)\";\n        content.textContent = error.stack ?? error.toString();\n        wrapper.append(content);\n        el.append(wrapper);\n      }\n    } else if (Date.now() < root._bokeh_timeout) {\n      setTimeout(() => display_loaded(error), 100);\n    }\n  }\n\n  function run_callbacks() {\n    try {\n      root._bokeh_onload_callbacks.forEach(function(callback) {\n        if (callback != null)\n          callback();\n      });\n    } finally {\n      delete root._bokeh_onload_callbacks\n    }\n    console.debug(\"Bokeh: all callbacks have finished\");\n  }\n\n  function load_libs(css_urls, js_urls, callback) {\n    if (css_urls == null) css_urls = [];\n    if (js_urls == null) js_urls = [];\n\n    root._bokeh_onload_callbacks.push(callback);\n    if (root._bokeh_is_loading > 0) {\n      console.debug(\"Bokeh: BokehJS is being loaded, scheduling callback at\", now());\n      return null;\n    }\n    if (js_urls == null || js_urls.length === 0) {\n      run_callbacks();\n      return null;\n    }\n    console.debug(\"Bokeh: BokehJS not loaded, scheduling load and callback at\", now());\n    root._bokeh_is_loading = css_urls.length + js_urls.length;\n\n    function on_load() {\n      root._bokeh_is_loading--;\n      if (root._bokeh_is_loading === 0) {\n        console.debug(\"Bokeh: all BokehJS libraries/stylesheets loaded\");\n        run_callbacks()\n      }\n    }\n\n    function on_error(url) {\n      console.error(\"failed to load \" + url);\n    }\n\n    for (let i = 0; i < css_urls.length; i++) {\n      const url = css_urls[i];\n      const element = document.createElement(\"link\");\n      element.onload = on_load;\n      element.onerror = on_error.bind(null, url);\n      element.rel = \"stylesheet\";\n      element.type = \"text/css\";\n      element.href = url;\n      console.debug(\"Bokeh: injecting link tag for BokehJS stylesheet: \", url);\n      document.body.appendChild(element);\n    }\n\n    for (let i = 0; i < js_urls.length; i++) {\n      const url = js_urls[i];\n      const element = document.createElement('script');\n      element.onload = on_load;\n      element.onerror = on_error.bind(null, url);\n      element.async = false;\n      element.src = url;\n      console.debug(\"Bokeh: injecting script tag for BokehJS library: \", url);\n      document.head.appendChild(element);\n    }\n  };\n\n  function inject_raw_css(css) {\n    const element = document.createElement(\"style\");\n    element.appendChild(document.createTextNode(css));\n    document.body.appendChild(element);\n  }\n\n  const js_urls = [\"https://cdn.bokeh.org/bokeh/release/bokeh-3.5.2.min.js\", \"https://cdn.bokeh.org/bokeh/release/bokeh-gl-3.5.2.min.js\", \"https://cdn.bokeh.org/bokeh/release/bokeh-widgets-3.5.2.min.js\", \"https://cdn.bokeh.org/bokeh/release/bokeh-tables-3.5.2.min.js\", \"https://cdn.bokeh.org/bokeh/release/bokeh-mathjax-3.5.2.min.js\"];\n  const css_urls = [];\n\n  const inline_js = [    function(Bokeh) {\n      Bokeh.set_log_level(\"info\");\n    },\nfunction(Bokeh) {\n    }\n  ];\n\n  function run_inline_js() {\n    if (root.Bokeh !== undefined || force === true) {\n      try {\n            for (let i = 0; i < inline_js.length; i++) {\n      inline_js[i].call(root, root.Bokeh);\n    }\n\n      } catch (error) {display_loaded(error);throw error;\n      }if (force === true) {\n        display_loaded();\n      }} else if (Date.now() < root._bokeh_timeout) {\n      setTimeout(run_inline_js, 100);\n    } else if (!root._bokeh_failed_load) {\n      console.log(\"Bokeh: BokehJS failed to load within specified timeout.\");\n      root._bokeh_failed_load = true;\n    } else if (force !== true) {\n      const cell = $(document.getElementById(\"b88c8b07-450d-4cc8-974f-007926dace9f\")).parents('.cell').data().cell;\n      cell.output_area.append_execute_result(NB_LOAD_WARNING)\n    }\n  }\n\n  if (root._bokeh_is_loading === 0) {\n    console.debug(\"Bokeh: BokehJS loaded, going straight to plotting\");\n    run_inline_js();\n  } else {\n    load_libs(css_urls, js_urls, function() {\n      console.debug(\"Bokeh: BokehJS plotting callback run at\", now());\n      run_inline_js();\n    });\n  }\n}(window));",
      "application/vnd.bokehjs_load.v0+json": "'use strict';\n(function(root) {\n  function now() {\n    return new Date();\n  }\n\n  const force = true;\n\n  if (typeof root._bokeh_onload_callbacks === \"undefined\" || force === true) {\n    root._bokeh_onload_callbacks = [];\n    root._bokeh_is_loading = undefined;\n  }\n\n\n  if (typeof (root._bokeh_timeout) === \"undefined\" || force === true) {\n    root._bokeh_timeout = Date.now() + 5000;\n    root._bokeh_failed_load = false;\n  }\n\n  const NB_LOAD_WARNING = {'data': {'text/html':\n     \"<div style='background-color: #fdd'>\\n\"+\n     \"<p>\\n\"+\n     \"BokehJS does not appear to have successfully loaded. If loading BokehJS from CDN, this \\n\"+\n     \"may be due to a slow or bad network connection. Possible fixes:\\n\"+\n     \"</p>\\n\"+\n     \"<ul>\\n\"+\n     \"<li>re-rerun `output_notebook()` to attempt to load from CDN again, or</li>\\n\"+\n     \"<li>use INLINE resources instead, as so:</li>\\n\"+\n     \"</ul>\\n\"+\n     \"<code>\\n\"+\n     \"from bokeh.resources import INLINE\\n\"+\n     \"output_notebook(resources=INLINE)\\n\"+\n     \"</code>\\n\"+\n     \"</div>\"}};\n\n  function display_loaded(error = null) {\n    const el = document.getElementById(\"b88c8b07-450d-4cc8-974f-007926dace9f\");\n    if (el != null) {\n      const html = (() => {\n        if (typeof root.Bokeh === \"undefined\") {\n          if (error == null) {\n            return \"BokehJS is loading ...\";\n          } else {\n            return \"BokehJS failed to load.\";\n          }\n        } else {\n          const prefix = `BokehJS ${root.Bokeh.version}`;\n          if (error == null) {\n            return `${prefix} successfully loaded.`;\n          } else {\n            return `${prefix} <b>encountered errors</b> while loading and may not function as expected.`;\n          }\n        }\n      })();\n      el.innerHTML = html;\n\n      if (error != null) {\n        const wrapper = document.createElement(\"div\");\n        wrapper.style.overflow = \"auto\";\n        wrapper.style.height = \"5em\";\n        wrapper.style.resize = \"vertical\";\n        const content = document.createElement(\"div\");\n        content.style.fontFamily = \"monospace\";\n        content.style.whiteSpace = \"pre-wrap\";\n        content.style.backgroundColor = \"rgb(255, 221, 221)\";\n        content.textContent = error.stack ?? error.toString();\n        wrapper.append(content);\n        el.append(wrapper);\n      }\n    } else if (Date.now() < root._bokeh_timeout) {\n      setTimeout(() => display_loaded(error), 100);\n    }\n  }\n\n  function run_callbacks() {\n    try {\n      root._bokeh_onload_callbacks.forEach(function(callback) {\n        if (callback != null)\n          callback();\n      });\n    } finally {\n      delete root._bokeh_onload_callbacks\n    }\n    console.debug(\"Bokeh: all callbacks have finished\");\n  }\n\n  function load_libs(css_urls, js_urls, callback) {\n    if (css_urls == null) css_urls = [];\n    if (js_urls == null) js_urls = [];\n\n    root._bokeh_onload_callbacks.push(callback);\n    if (root._bokeh_is_loading > 0) {\n      console.debug(\"Bokeh: BokehJS is being loaded, scheduling callback at\", now());\n      return null;\n    }\n    if (js_urls == null || js_urls.length === 0) {\n      run_callbacks();\n      return null;\n    }\n    console.debug(\"Bokeh: BokehJS not loaded, scheduling load and callback at\", now());\n    root._bokeh_is_loading = css_urls.length + js_urls.length;\n\n    function on_load() {\n      root._bokeh_is_loading--;\n      if (root._bokeh_is_loading === 0) {\n        console.debug(\"Bokeh: all BokehJS libraries/stylesheets loaded\");\n        run_callbacks()\n      }\n    }\n\n    function on_error(url) {\n      console.error(\"failed to load \" + url);\n    }\n\n    for (let i = 0; i < css_urls.length; i++) {\n      const url = css_urls[i];\n      const element = document.createElement(\"link\");\n      element.onload = on_load;\n      element.onerror = on_error.bind(null, url);\n      element.rel = \"stylesheet\";\n      element.type = \"text/css\";\n      element.href = url;\n      console.debug(\"Bokeh: injecting link tag for BokehJS stylesheet: \", url);\n      document.body.appendChild(element);\n    }\n\n    for (let i = 0; i < js_urls.length; i++) {\n      const url = js_urls[i];\n      const element = document.createElement('script');\n      element.onload = on_load;\n      element.onerror = on_error.bind(null, url);\n      element.async = false;\n      element.src = url;\n      console.debug(\"Bokeh: injecting script tag for BokehJS library: \", url);\n      document.head.appendChild(element);\n    }\n  };\n\n  function inject_raw_css(css) {\n    const element = document.createElement(\"style\");\n    element.appendChild(document.createTextNode(css));\n    document.body.appendChild(element);\n  }\n\n  const js_urls = [\"https://cdn.bokeh.org/bokeh/release/bokeh-3.5.2.min.js\", \"https://cdn.bokeh.org/bokeh/release/bokeh-gl-3.5.2.min.js\", \"https://cdn.bokeh.org/bokeh/release/bokeh-widgets-3.5.2.min.js\", \"https://cdn.bokeh.org/bokeh/release/bokeh-tables-3.5.2.min.js\", \"https://cdn.bokeh.org/bokeh/release/bokeh-mathjax-3.5.2.min.js\"];\n  const css_urls = [];\n\n  const inline_js = [    function(Bokeh) {\n      Bokeh.set_log_level(\"info\");\n    },\nfunction(Bokeh) {\n    }\n  ];\n\n  function run_inline_js() {\n    if (root.Bokeh !== undefined || force === true) {\n      try {\n            for (let i = 0; i < inline_js.length; i++) {\n      inline_js[i].call(root, root.Bokeh);\n    }\n\n      } catch (error) {display_loaded(error);throw error;\n      }if (force === true) {\n        display_loaded();\n      }} else if (Date.now() < root._bokeh_timeout) {\n      setTimeout(run_inline_js, 100);\n    } else if (!root._bokeh_failed_load) {\n      console.log(\"Bokeh: BokehJS failed to load within specified timeout.\");\n      root._bokeh_failed_load = true;\n    } else if (force !== true) {\n      const cell = $(document.getElementById(\"b88c8b07-450d-4cc8-974f-007926dace9f\")).parents('.cell').data().cell;\n      cell.output_area.append_execute_result(NB_LOAD_WARNING)\n    }\n  }\n\n  if (root._bokeh_is_loading === 0) {\n    console.debug(\"Bokeh: BokehJS loaded, going straight to plotting\");\n    run_inline_js();\n  } else {\n    load_libs(css_urls, js_urls, function() {\n      console.debug(\"Bokeh: BokehJS plotting callback run at\", now());\n      run_inline_js();\n    });\n  }\n}(window));"
     },
     "metadata": {},
     "output_type": "display_data"
    }
   ],
   "execution_count": 2
  },
  {
   "cell_type": "markdown",
   "metadata": {},
   "source": [
    "Load all the gdb files from michael folders"
   ]
  },
  {
   "cell_type": "code",
   "metadata": {
    "ExecuteTime": {
     "end_time": "2024-09-12T12:04:10.828933Z",
     "start_time": "2024-09-12T12:04:10.820802Z"
    }
   },
   "source": [
    "\n",
    "config = configparser.ConfigParser()\n",
    "config_file = 'config.ini'\n",
    "\n",
    "# check if file exists\n",
    "if not os.path.isfile(config_file):\n",
    "    # create a simple config file\n",
    "    config['Paths'] = {'root_folder': ''}\n",
    "    with open(config_file, 'w') as configfile:\n",
    "        config.write(configfile)\n",
    "    print(f\"Created configuration file '{config_file}'.\")\n",
    "\n",
    "config.read('config.ini')\n",
    "\n",
    "root_folder = config['Paths']['root_folder']  \n",
    "print(root_folder)\n",
    "root_folder = os.path.join(root_folder, \"Michaels_Data\")\n",
    "print(root_folder)\n",
    "# List all .gdb directories in the folder\n",
    "gdb_files = []\n",
    "for dirpath, dirnames, filenames in os.walk(root_folder):\n",
    "    # Check if the folder contains a \"commondata\" folder\n",
    "    if \"commondata\" in dirnames:\n",
    "        commondata_folder = os.path.join(dirpath, \"commondata\")\n",
    "        commondata_folder = os.path.normpath(commondata_folder)\n",
    "\n",
    "        # List all .gdb files in the \"commondata\" folder\n",
    "        for f in os.listdir(commondata_folder):\n",
    "            if f.endswith('.gdb'):\n",
    "                gdb_files.append(os.path.join(commondata_folder, f))\n",
    "\n",
    "# Print the collected .gdb files\n",
    "for gdb in gdb_files:\n",
    "    print(gdb)\n",
    "print(\"GDB Files:\", gdb_files)"
   ],
   "outputs": [
    {
     "name": "stdout",
     "output_type": "stream",
     "text": [
      "\n",
      "Jerusaelm_data\n",
      "GDB Files: []\n"
     ]
    }
   ],
   "execution_count": 3
  },
  {
   "cell_type": "markdown",
   "metadata": {},
   "source": [
    "Calculating metrics over buildings:"
   ]
  },
  {
   "cell_type": "code",
   "metadata": {
    "ExecuteTime": {
     "end_time": "2024-09-12T12:04:11.834176Z",
     "start_time": "2024-09-12T12:04:11.365024Z"
    }
   },
   "source": [
    "# load municipal buildings\n",
    "gdb_file = gdb_files[4]  # Modify if you want to choose a different .gdb\n",
    "print(gdb_file)\n",
    "\n",
    "# List the layers in the selected .gdb\n",
    "layers = fiona.listlayers(gdb_file)\n",
    "print(\"Layers in the selected GDB:\", layers)\n",
    "\n",
    "# Choose a specific layer within the .gdb\n",
    "textures_layer = layers[0]  # Modify if you want to choose a different layer\n",
    "\n",
    "# Load the specific layer\n",
    "gdf = gpd.read_file(gdb_file, layer=textures_layer)"
   ],
   "outputs": [
    {
     "ename": "IndexError",
     "evalue": "list index out of range",
     "output_type": "error",
     "traceback": [
      "\u001B[1;31m---------------------------------------------------------------------------\u001B[0m",
      "\u001B[1;31mIndexError\u001B[0m                                Traceback (most recent call last)",
      "Cell \u001B[1;32mIn[4], line 2\u001B[0m\n\u001B[0;32m      1\u001B[0m \u001B[38;5;66;03m# load municipal buildings\u001B[39;00m\n\u001B[1;32m----> 2\u001B[0m gdb_file \u001B[38;5;241m=\u001B[39m \u001B[43mgdb_files\u001B[49m\u001B[43m[\u001B[49m\u001B[38;5;241;43m4\u001B[39;49m\u001B[43m]\u001B[49m  \u001B[38;5;66;03m# Modify if you want to choose a different .gdb\u001B[39;00m\n\u001B[0;32m      3\u001B[0m \u001B[38;5;28mprint\u001B[39m(gdb_file)\n\u001B[0;32m      5\u001B[0m \u001B[38;5;66;03m# List the layers in the selected .gdb\u001B[39;00m\n",
      "\u001B[1;31mIndexError\u001B[0m: list index out of range"
     ]
    }
   ],
   "execution_count": 4
  },
  {
   "metadata": {
    "ExecuteTime": {
     "end_time": "2024-09-12T08:15:27.845733Z",
     "start_time": "2024-09-12T08:15:20.456691Z"
    }
   },
   "cell_type": "code",
   "source": [
    "# preprocess the buildings\n",
    "from sklearn.preprocessing import LabelEncoder\n",
    "buildings = gdf.to_crs(local_crs)\n",
    "\n",
    "# remove the duplicates\n",
    "duplicates = buildings[buildings.duplicated(subset='geometry', keep=False)]\n",
    "buildings = buildings.drop_duplicates(subset='geometry', keep='first')\n",
    "buildings = buildings.reset_index(drop=True)\n",
    "buildings = buildings.drop(columns=['BLDG_TYPE','BLDG_CH','StreetNa_1'])\n",
    "\n",
    "# Assuming `buildings` is your DataFrame and `categorical_column` is the column you want to encode\n",
    "label_encoder = LabelEncoder()\n",
    "\n",
    "# List of categorical columns to encode\n",
    "categorical_columns = ['STRT_CODE1', 'StreetName', 'STRT_CODE2']\n",
    "\n",
    "# Apply label encoding to each column\n",
    "for col in categorical_columns:\n",
    "    buildings[col] = label_encoder.fit_transform(buildings[col])\n",
    "    \n",
    "for col in buildings.columns:\n",
    "    if pd.api.types.is_numeric_dtype(buildings[col]):\n",
    "        buildings[col].fillna(buildings[col].mean())\n",
    "buildings = buildings.dropna()"
   ],
   "outputs": [],
   "execution_count": 4
  },
  {
   "metadata": {
    "ExecuteTime": {
     "end_time": "2024-09-12T08:15:28.306337Z",
     "start_time": "2024-09-12T08:15:27.845733Z"
    }
   },
   "cell_type": "code",
   "source": [
    "# load municipal buildings\n",
    "gdb_file = gdb_files[2]  # Modify if you want to choose a different .gdb\n",
    "print(gdb_file)\n",
    "\n",
    "# List the layers in the selected .gdb\n",
    "layers = fiona.listlayers(gdb_file)\n",
    "print(\"Layers in the selected GDB:\", layers)\n",
    "\n",
    "# Choose a specific layer within the .gdb\n",
    "textures_layer = layers[0]  # Modify if you want to choose a different layer\n",
    "\n",
    "# Load the specific layer\n",
    "gdf = gpd.read_file(gdb_file, layer=textures_layer)"
   ],
   "outputs": [
    {
     "name": "stdout",
     "output_type": "stream",
     "text": [
      "Michaels_Data\\מרקמים\\commondata\\myproject16.gdb\n",
      "Layers in the selected GDB: ['סיווג_מרקמים']\n"
     ]
    }
   ],
   "execution_count": 5
  },
  {
   "metadata": {
    "ExecuteTime": {
     "end_time": "2024-09-12T08:15:28.395106Z",
     "start_time": "2024-09-12T08:15:28.306337Z"
    }
   },
   "cell_type": "code",
   "source": "textures = gdf.to_crs(local_crs)",
   "outputs": [],
   "execution_count": 6
  },
  {
   "metadata": {
    "ExecuteTime": {
     "end_time": "2024-09-12T08:14:56.112389Z",
     "start_time": "2024-09-12T08:14:56.106651Z"
    }
   },
   "cell_type": "code",
   "source": [
    "# generates a random height for each building \n",
    "import numpy as np\n",
    "\n",
    "# Generate random positive numbers\n",
    "random_numbers = np.random.rand(len(buildings))\n",
    "\n",
    "# Create a new column in the buildings DataFrame\n",
    "buildings['building_height'] = random_numbers"
   ],
   "outputs": [],
   "execution_count": 14
  },
  {
   "cell_type": "code",
   "metadata": {
    "ExecuteTime": {
     "end_time": "2024-09-12T08:14:56.158069Z",
     "start_time": "2024-09-12T08:14:56.112389Z"
    }
   },
   "source": [
    "# Calculate Building Height\n",
    "# We need to have a 'height_col' or a similar column to calculate this\n",
    "\n",
    "# Calculate Volume, requires floor_area and height\n",
    "# Assuming height and area have been calculated and are stored in 'height' and 'floor_area' columns\n",
    "buildings['floor_area'] = momepy.floor_area(buildings['Shape_Area'],buildings['building_height'])\n",
    "buildings['volume'] = momepy.volume(buildings['Shape_Area'], buildings['building_height'])\n",
    "buildings['form_factor'] = momepy.form_factor(buildings, buildings['building_height'])"
   ],
   "outputs": [],
   "execution_count": 15
  },
  {
   "metadata": {
    "ExecuteTime": {
     "end_time": "2024-09-12T08:15:31.969878Z",
     "start_time": "2024-09-12T08:15:28.395106Z"
    }
   },
   "cell_type": "code",
   "source": [
    "# Basic geometric properties\n",
    "buildings['perimeter'] = buildings.geometry.length\n",
    "buildings['shape_index'] = momepy.shape_index(buildings,momepy.longest_axis_length(buildings))\n",
    "buildings['circular_compactness'] = momepy.circular_compactness(buildings)\n",
    "buildings['square_compactness'] = momepy.square_compactness(buildings)\n",
    "buildings['weighted_axis_compactness'] = momepy.compactness_weighted_axis(buildings)\n",
    "buildings['convexity'] = momepy.convexity(buildings)\n",
    "buildings['courtyard_area'] = momepy.courtyard_area(buildings)\n",
    "buildings['courtyard_index'] = momepy.courtyard_index(buildings)\n",
    "# buildings['corners'] = momepy.corners(buildings, include_interiors=True)   # include_interiors=False works only for polygons not multipolygons\n",
    "buildings['fractal_dimension'] = momepy.fractal_dimension(buildings)\n",
    "buildings['facade_ratio'] = momepy.facade_ratio(buildings)\n",
    "# buildings_centroid_corner_distance = momepy.centroid_corner_distance(buildings)\n",
    "# buildings['centroid_corner_distance_mean'] = buildings_centroid_corner_distance['mean']\n",
    "# buildings['centroid_corner_distance_std'] = buildings_centroid_corner_distance['std']"
   ],
   "outputs": [],
   "execution_count": 7
  },
  {
   "metadata": {
    "ExecuteTime": {
     "end_time": "2024-09-12T08:17:22.603018Z",
     "start_time": "2024-09-12T08:15:47.541582Z"
    }
   },
   "cell_type": "code",
   "source": [
    "# More complex morphological metrics\n",
    "buildings['orientation'] = momepy.orientation(buildings)\n",
    "buildings['longest_axis_length'] = momepy.longest_axis_length(buildings)\n",
    "buildings['equivalent_rectangular_index'] = momepy.equivalent_rectangular_index(buildings)\n",
    "buildings['elongation'] = momepy.elongation(buildings)\n",
    "# buildings['linearity'] = momepy.linearity(buildings) # does not work on buildings just on streets\n",
    "buildings['rectangularity'] = momepy.rectangularity(buildings)\n",
    "# buildings['squareness'] = momepy.squareness(buildings, include_interiors=True)   # without interiors works only for polygons not multipolygons\n",
    "buildings['shared_walls_length'] = momepy.shared_walls(buildings) / buildings['perimeter'] \n",
    "buildings['perimeter_wall'] = momepy.perimeter_wall(buildings) # TODO: check for possible parameters \n",
    "buildings['perimeter_wall'] = buildings['perimeter_wall'].fillna(0)"
   ],
   "outputs": [],
   "execution_count": 9
  },
  {
   "metadata": {
    "ExecuteTime": {
     "end_time": "2024-09-12T08:18:12.902558Z",
     "start_time": "2024-09-12T08:17:22.603018Z"
    }
   },
   "cell_type": "code",
   "source": [
    "# Metrics related to building adjacency and Graph\n",
    "from libpysal import graph\n",
    "delaunay = graph.Graph.build_triangulation(buildings.centroid,coplanar='clique').assign_self_weight()\n",
    "orientation = momepy.orientation(buildings)\n",
    "buildings['alignment'] = momepy.alignment(orientation, delaunay)\n",
    "\n",
    "knn15 = graph.Graph.build_knn(buildings.centroid, k=15, coplanar='clique')  # adjust k if needed   \n",
    "contiguity = graph.Graph.build_contiguity(buildings)\n",
    "buildings['adjacency'] = momepy.building_adjacency(contiguity,knn15) #TODO: check for queen1 and queen3\n",
    "buildings['mean_interbuilding_distance'] = momepy.mean_interbuilding_distance(buildings, delaunay, knn15) # TODO: check for queen1 and queen3\n",
    "buildings['neighbour_distance'] = momepy.neighbor_distance(buildings, delaunay)\n",
    "buildings['courtyards_num'] = momepy.courtyards(buildings, contiguity) # Calculate the number of courtyards within the joined structure"
   ],
   "outputs": [
    {
     "name": "stderr",
     "output_type": "stream",
     "text": [
      "C:\\Users\\ameer\\PycharmProjects\\DSSG\\.venv\\Lib\\site-packages\\momepy\\functional\\_distribution.py:285: UserWarning: The indices of the two GeoSeries are different.\n",
      "  (geoms.distance(geometry.geometry, align=True)).groupby(level=0).mean()\n"
     ]
    }
   ],
   "execution_count": 10
  },
  {
   "metadata": {
    "ExecuteTime": {
     "end_time": "2024-09-12T08:18:12.909539Z",
     "start_time": "2024-09-12T08:18:12.902558Z"
    }
   },
   "cell_type": "code",
   "source": [
    "# This is a modified version of the momepy.buffered_limit function that allows for adaptive buffer calculation on our data\n",
    "from libpysal import graph\n",
    "from packaging.version import Version\n",
    "import numpy as np\n",
    "\n",
    "def buffered_limit(gdf,buffer: float | str = 100,min_buffer: float = 0,max_buffer: float = 100,**kwargs,):\n",
    "   \n",
    "    if buffer == \"adaptive\":\n",
    "        \n",
    "        gabriel = graph.Graph.build_triangulation(gdf.centroid, \"gabriel\", kernel=\"identity\", coplanar='clique')\n",
    "        max_dist = gabriel.aggregate(\"max\")\n",
    "        buffer = np.clip(max_dist / 2 + max_dist * 0.1, min_buffer, max_buffer).values\n",
    "\n",
    "    elif not isinstance(buffer, int | float):\n",
    "        raise ValueError(\"`buffer` must be either 'adaptive' or a number.\")\n",
    "\n",
    "    GPD_GE_10 = Version(gpd.__version__) >= Version(\"1.0dev\")\n",
    "    return (\n",
    "        gdf.buffer(buffer, **kwargs).union_all()\n",
    "        if GPD_GE_10\n",
    "        else gdf.buffer(buffer, **kwargs).unary_union\n",
    "    )"
   ],
   "outputs": [],
   "execution_count": 11
  },
  {
   "metadata": {
    "ExecuteTime": {
     "end_time": "2024-09-12T08:25:05.964649Z",
     "start_time": "2024-09-12T08:18:12.911837Z"
    }
   },
   "cell_type": "code",
   "source": [
    "# metrics related to tessellation\n",
    "limit = buffered_limit(buildings, buffer = 'adaptive')\n",
    "tessellation = momepy.morphological_tessellation(buildings, clip=limit) # need adjustment\n",
    "blg_orient = momepy.orientation(buildings)\n",
    "tess_orient = momepy.orientation(tessellation)\n",
    "buildings['cell_orientation'] = momepy.cell_alignment(blg_orient, tess_orient)\n",
    "buildings['num_of_neighbours'] = momepy.neighbors(tessellation, contiguity, weighted=True)"
   ],
   "outputs": [],
   "execution_count": 12
  },
  {
   "metadata": {
    "jupyter": {
     "is_executing": true
    }
   },
   "cell_type": "code",
   "source": [
    "# the following metrics caculate the diversity index of building types, it's possible to override the binning method (refer to the full documentation)\n",
    "import inequality  # required for Theil index\n",
    "knn5 = graph.Graph.build_knn(buildings.centroid, k=5)\n",
    "for col in buildings.columns:\n",
    "    if pd.api.types.is_numeric_dtype(buildings[col]):\n",
    "        new_columns = {}\n",
    "        print(f'Calculating metrics for {col}')\n",
    "        buildings[f'{col}_shannon'] = momepy.shannon(buildings[col], knn5)\n",
    "        buildings[f'{col}_simpson'] = momepy.simpson(buildings[col], knn5)\n",
    "        buildings[f'{col}_theil'] = momepy.theil(buildings[col], knn5)\n",
    "        buildings[f'{col}_values_range'] = momepy.values_range(buildings[col], knn5)\n",
    "        buildings[f'{col}_mean_deviation'] = momepy.mean_deviation(buildings[col], knn5)\n",
    "        \n",
    "        # Concatenate the new columns to the buildings DataFrame all at once\n",
    "        buildings = pd.concat([buildings, pd.DataFrame(new_columns)], axis=1)\n",
    "        buildings = buildings.copy()\n"
   ],
   "outputs": [],
   "execution_count": null
  },
  {
   "metadata": {
    "ExecuteTime": {
     "end_time": "2024-09-12T12:03:53.179435Z",
     "start_time": "2024-09-12T12:03:52.890412Z"
    }
   },
   "cell_type": "code",
   "source": [
    "buildings.to_file('buildings.gdb', driver='FileGDB')\n",
    "tessellation.to_file('buildings.gdb', driver='FileGDB')"
   ],
   "outputs": [
    {
     "ename": "NameError",
     "evalue": "name 'buildings' is not defined",
     "output_type": "error",
     "traceback": [
      "\u001B[1;31m---------------------------------------------------------------------------\u001B[0m",
      "\u001B[1;31mNameError\u001B[0m                                 Traceback (most recent call last)",
      "Cell \u001B[1;32mIn[1], line 3\u001B[0m\n\u001B[0;32m      1\u001B[0m \u001B[38;5;66;03m# Save the DataFrame to a pickle file\u001B[39;00m\n\u001B[0;32m      2\u001B[0m \u001B[38;5;66;03m# Assuming `buildings` is your GeoDataFrame\u001B[39;00m\n\u001B[1;32m----> 3\u001B[0m \u001B[43mbuildings\u001B[49m\u001B[38;5;241m.\u001B[39mto_file(\u001B[38;5;124m'\u001B[39m\u001B[38;5;124mmyData/buildings.gdb\u001B[39m\u001B[38;5;124m'\u001B[39m, driver\u001B[38;5;241m=\u001B[39m\u001B[38;5;124m'\u001B[39m\u001B[38;5;124mFileGDB\u001B[39m\u001B[38;5;124m'\u001B[39m)\n\u001B[0;32m      4\u001B[0m tessellation\u001B[38;5;241m.\u001B[39mto_file(\u001B[38;5;124m'\u001B[39m\u001B[38;5;124mmyData/buildings.gdb\u001B[39m\u001B[38;5;124m'\u001B[39m, driver\u001B[38;5;241m=\u001B[39m\u001B[38;5;124m'\u001B[39m\u001B[38;5;124mFileGDB\u001B[39m\u001B[38;5;124m'\u001B[39m)\n",
      "\u001B[1;31mNameError\u001B[0m: name 'buildings' is not defined"
     ]
    }
   ],
   "execution_count": 1
  },
  {
   "metadata": {},
   "cell_type": "markdown",
   "source": "# FOR TESTING (irrelevant)"
  },
  {
   "metadata": {},
   "cell_type": "markdown",
   "source": "Check leading metrics for buildings"
  },
  {
   "metadata": {},
   "cell_type": "code",
   "outputs": [],
   "execution_count": null,
   "source": [
    "# Identify columns that contain NaN values\n",
    "columns_with_nan = buildings.columns[buildings.isna().any()].tolist()\n",
    "if len(columns_with_nan) > 0:\n",
    "    raise ValueError(f\"Columns with NaN values: {columns_with_nan}\")"
   ]
  },
  {
   "metadata": {},
   "cell_type": "code",
   "outputs": [],
   "execution_count": null,
   "source": [
    "from helper_functions import find_overlapping\n",
    "\n",
    "buildings = find_overlapping(buildings, textures, column_to_add=\"סיווג_מרקמים_12042024\")"
   ]
  },
  {
   "metadata": {},
   "cell_type": "code",
   "outputs": [],
   "execution_count": null,
   "source": [
    "from sklearn.preprocessing import LabelEncoder\n",
    "\n",
    "# Assuming `df` is your DataFrame and `city` is the column you want to encode\n",
    "label_encoder = LabelEncoder()\n",
    "\n",
    "# Fit and transform the 'city' column\n",
    "buildings['texture'] = label_encoder.fit_transform(buildings['containing_polygon_סיווג_מרקמים_12042024'])\n",
    "buildings.drop(columns=['containing_polygon_סיווג_מרקמים_12042024'], inplace=True)"
   ]
  },
  {
   "metadata": {},
   "cell_type": "code",
   "outputs": [],
   "execution_count": null,
   "source": [
    "from helper_functions import find_group_leading_metrics, find_overall_leading_metrics\n",
    "\n",
    "gdf = gpd.GeoDataFrame(buildings, geometry='geometry')\n",
    "classification_column = 'texture'\n",
    "leading_metrics_per_group = find_group_leading_metrics(buildings, classification_column, n_components=1)\n",
    "\n",
    "classification_column = 'texture'\n",
    "top_metrics_per_group = find_overall_leading_metrics(gdf, classification_column)\n",
    "\n",
    "# Display the results"
   ]
  },
  {
   "metadata": {
    "ExecuteTime": {
     "end_time": "2024-09-12T11:31:11.949813Z",
     "start_time": "2024-09-12T11:23:32.377428Z"
    }
   },
   "cell_type": "code",
   "source": [
    "graph = momepy.gdf_to_nx(streets)\n",
    "graph = momepy.node_degree(graph)\n",
    "graph = momepy.closeness_centrality(graph, radius=400, distance=\"mm_len\")\n",
    "graph = momepy.meshedness(graph, radius=400, distance=\"mm_len\")\n",
    "nodes, edges = momepy.nx_to_gdf(graph)"
   ],
   "outputs": [
    {
     "name": "stderr",
     "output_type": "stream",
     "text": [
      "C:\\Users\\ameer\\PycharmProjects\\DSSG\\.venv\\Lib\\site-packages\\momepy\\utils.py:352: UserWarning: Geometry is in a geographic CRS. Results from 'length' are likely incorrect. Use 'GeoSeries.to_crs()' to re-project geometries to a projected CRS before this operation.\n",
      "\n",
      "  gdf_network[length] = gdf_network.geometry.length\n"
     ]
    },
    {
     "data": {
      "text/plain": [
       "  0%|          | 0/8707 [00:00<?, ?it/s]"
      ],
      "application/vnd.jupyter.widget-view+json": {
       "version_major": 2,
       "version_minor": 0,
       "model_id": "2c65c5beb805451d97308755f1c748a7"
      }
     },
     "metadata": {},
     "output_type": "display_data"
    },
    {
     "ename": "KeyboardInterrupt",
     "evalue": "",
     "output_type": "error",
     "traceback": [
      "\u001B[1;31m---------------------------------------------------------------------------\u001B[0m",
      "\u001B[1;31mKeyboardInterrupt\u001B[0m                         Traceback (most recent call last)",
      "Cell \u001B[1;32mIn[23], line 3\u001B[0m\n\u001B[0;32m      1\u001B[0m graph \u001B[38;5;241m=\u001B[39m momepy\u001B[38;5;241m.\u001B[39mgdf_to_nx(streets)\n\u001B[0;32m      2\u001B[0m graph \u001B[38;5;241m=\u001B[39m momepy\u001B[38;5;241m.\u001B[39mnode_degree(graph)\n\u001B[1;32m----> 3\u001B[0m graph \u001B[38;5;241m=\u001B[39m \u001B[43mmomepy\u001B[49m\u001B[38;5;241;43m.\u001B[39;49m\u001B[43mcloseness_centrality\u001B[49m\u001B[43m(\u001B[49m\u001B[43mgraph\u001B[49m\u001B[43m,\u001B[49m\u001B[43m \u001B[49m\u001B[43mradius\u001B[49m\u001B[38;5;241;43m=\u001B[39;49m\u001B[38;5;241;43m400\u001B[39;49m\u001B[43m,\u001B[49m\u001B[43m \u001B[49m\u001B[43mdistance\u001B[49m\u001B[38;5;241;43m=\u001B[39;49m\u001B[38;5;124;43m\"\u001B[39;49m\u001B[38;5;124;43mmm_len\u001B[39;49m\u001B[38;5;124;43m\"\u001B[39;49m\u001B[43m)\u001B[49m\n\u001B[0;32m      4\u001B[0m graph \u001B[38;5;241m=\u001B[39m momepy\u001B[38;5;241m.\u001B[39mmeshedness(graph, radius\u001B[38;5;241m=\u001B[39m\u001B[38;5;241m400\u001B[39m, distance\u001B[38;5;241m=\u001B[39m\u001B[38;5;124m\"\u001B[39m\u001B[38;5;124mmm_len\u001B[39m\u001B[38;5;124m\"\u001B[39m)\n\u001B[0;32m      5\u001B[0m nodes, edges \u001B[38;5;241m=\u001B[39m momepy\u001B[38;5;241m.\u001B[39mnx_to_gdf(graph)\n",
      "File \u001B[1;32m~\\PycharmProjects\\DSSG\\.venv\\Lib\\site-packages\\momepy\\graph.py:795\u001B[0m, in \u001B[0;36mcloseness_centrality\u001B[1;34m(graph, name, weight, radius, distance, verbose, **kwargs)\u001B[0m\n\u001B[0;32m    793\u001B[0m     lengraph \u001B[38;5;241m=\u001B[39m \u001B[38;5;28mlen\u001B[39m(netx)\n\u001B[0;32m    794\u001B[0m     \u001B[38;5;28;01mfor\u001B[39;00m n \u001B[38;5;129;01min\u001B[39;00m tqdm(netx, total\u001B[38;5;241m=\u001B[39m\u001B[38;5;28mlen\u001B[39m(netx), disable\u001B[38;5;241m=\u001B[39m\u001B[38;5;129;01mnot\u001B[39;00m verbose):\n\u001B[1;32m--> 795\u001B[0m         sub \u001B[38;5;241m=\u001B[39m \u001B[43mnx\u001B[49m\u001B[38;5;241;43m.\u001B[39;49m\u001B[43mego_graph\u001B[49m\u001B[43m(\u001B[49m\n\u001B[0;32m    796\u001B[0m \u001B[43m            \u001B[49m\u001B[43mnetx\u001B[49m\u001B[43m,\u001B[49m\u001B[43m \u001B[49m\u001B[43mn\u001B[49m\u001B[43m,\u001B[49m\u001B[43m \u001B[49m\u001B[43mradius\u001B[49m\u001B[38;5;241;43m=\u001B[39;49m\u001B[43mradius\u001B[49m\u001B[43m,\u001B[49m\u001B[43m \u001B[49m\u001B[43mdistance\u001B[49m\u001B[38;5;241;43m=\u001B[39;49m\u001B[43mdistance\u001B[49m\n\u001B[0;32m    797\u001B[0m \u001B[43m        \u001B[49m\u001B[43m)\u001B[49m  \u001B[38;5;66;03m# define subgraph of steps=radius\u001B[39;00m\n\u001B[0;32m    798\u001B[0m         netx\u001B[38;5;241m.\u001B[39mnodes[n][name] \u001B[38;5;241m=\u001B[39m _closeness_centrality(\n\u001B[0;32m    799\u001B[0m             sub, n, length\u001B[38;5;241m=\u001B[39mweight, len_graph\u001B[38;5;241m=\u001B[39mlengraph\n\u001B[0;32m    800\u001B[0m         )\n\u001B[0;32m    801\u001B[0m \u001B[38;5;28;01melse\u001B[39;00m:\n",
      "File \u001B[1;32m<class 'networkx.utils.decorators.argmap'> compilation 26:3\u001B[0m, in \u001B[0;36margmap_ego_graph_23\u001B[1;34m(G, n, radius, center, undirected, distance, backend, **backend_kwargs)\u001B[0m\n\u001B[0;32m      1\u001B[0m \u001B[38;5;28;01mimport\u001B[39;00m \u001B[38;5;21;01mbz2\u001B[39;00m\n\u001B[0;32m      2\u001B[0m \u001B[38;5;28;01mimport\u001B[39;00m \u001B[38;5;21;01mcollections\u001B[39;00m\n\u001B[1;32m----> 3\u001B[0m \u001B[38;5;28;01mimport\u001B[39;00m \u001B[38;5;21;01mgzip\u001B[39;00m\n\u001B[0;32m      4\u001B[0m \u001B[38;5;28;01mimport\u001B[39;00m \u001B[38;5;21;01minspect\u001B[39;00m\n\u001B[0;32m      5\u001B[0m \u001B[38;5;28;01mimport\u001B[39;00m \u001B[38;5;21;01mitertools\u001B[39;00m\n",
      "File \u001B[1;32m~\\PycharmProjects\\DSSG\\.venv\\Lib\\site-packages\\networkx\\utils\\backends.py:633\u001B[0m, in \u001B[0;36m_dispatchable.__call__\u001B[1;34m(self, backend, *args, **kwargs)\u001B[0m\n\u001B[0;32m    628\u001B[0m \u001B[38;5;250m\u001B[39m\u001B[38;5;124;03m\"\"\"Returns the result of the original function, or the backend function if\u001B[39;00m\n\u001B[0;32m    629\u001B[0m \u001B[38;5;124;03mthe backend is specified and that backend implements `func`.\"\"\"\u001B[39;00m\n\u001B[0;32m    631\u001B[0m \u001B[38;5;28;01mif\u001B[39;00m \u001B[38;5;129;01mnot\u001B[39;00m backends:\n\u001B[0;32m    632\u001B[0m     \u001B[38;5;66;03m# Fast path if no backends are installed\u001B[39;00m\n\u001B[1;32m--> 633\u001B[0m     \u001B[38;5;28;01mreturn\u001B[39;00m \u001B[38;5;28;43mself\u001B[39;49m\u001B[38;5;241;43m.\u001B[39;49m\u001B[43morig_func\u001B[49m\u001B[43m(\u001B[49m\u001B[38;5;241;43m*\u001B[39;49m\u001B[43margs\u001B[49m\u001B[43m,\u001B[49m\u001B[43m \u001B[49m\u001B[38;5;241;43m*\u001B[39;49m\u001B[38;5;241;43m*\u001B[39;49m\u001B[43mkwargs\u001B[49m\u001B[43m)\u001B[49m\n\u001B[0;32m    635\u001B[0m \u001B[38;5;66;03m# Use `backend_name` in this function instead of `backend`\u001B[39;00m\n\u001B[0;32m    636\u001B[0m backend_name \u001B[38;5;241m=\u001B[39m backend\n",
      "File \u001B[1;32m~\\PycharmProjects\\DSSG\\.venv\\Lib\\site-packages\\networkx\\generators\\ego.py:62\u001B[0m, in \u001B[0;36mego_graph\u001B[1;34m(G, n, radius, center, undirected, distance)\u001B[0m\n\u001B[0;32m     59\u001B[0m     \u001B[38;5;28;01melse\u001B[39;00m:\n\u001B[0;32m     60\u001B[0m         sp \u001B[38;5;241m=\u001B[39m \u001B[38;5;28mdict\u001B[39m(nx\u001B[38;5;241m.\u001B[39msingle_source_shortest_path_length(G, n, cutoff\u001B[38;5;241m=\u001B[39mradius))\n\u001B[1;32m---> 62\u001B[0m H \u001B[38;5;241m=\u001B[39m \u001B[43mG\u001B[49m\u001B[38;5;241;43m.\u001B[39;49m\u001B[43msubgraph\u001B[49m\u001B[43m(\u001B[49m\u001B[43msp\u001B[49m\u001B[43m)\u001B[49m\u001B[38;5;241;43m.\u001B[39;49m\u001B[43mcopy\u001B[49m\u001B[43m(\u001B[49m\u001B[43m)\u001B[49m\n\u001B[0;32m     63\u001B[0m \u001B[38;5;28;01mif\u001B[39;00m \u001B[38;5;129;01mnot\u001B[39;00m center:\n\u001B[0;32m     64\u001B[0m     H\u001B[38;5;241m.\u001B[39mremove_node(n)\n",
      "File \u001B[1;32m~\\PycharmProjects\\DSSG\\.venv\\Lib\\site-packages\\networkx\\classes\\multigraph.py:1103\u001B[0m, in \u001B[0;36mMultiGraph.copy\u001B[1;34m(self, as_view)\u001B[0m\n\u001B[0;32m   1101\u001B[0m G \u001B[38;5;241m=\u001B[39m \u001B[38;5;28mself\u001B[39m\u001B[38;5;241m.\u001B[39m\u001B[38;5;18m__class__\u001B[39m()\n\u001B[0;32m   1102\u001B[0m G\u001B[38;5;241m.\u001B[39mgraph\u001B[38;5;241m.\u001B[39mupdate(\u001B[38;5;28mself\u001B[39m\u001B[38;5;241m.\u001B[39mgraph)\n\u001B[1;32m-> 1103\u001B[0m \u001B[43mG\u001B[49m\u001B[38;5;241;43m.\u001B[39;49m\u001B[43madd_nodes_from\u001B[49m\u001B[43m(\u001B[49m\u001B[43m(\u001B[49m\u001B[43mn\u001B[49m\u001B[43m,\u001B[49m\u001B[43m \u001B[49m\u001B[43md\u001B[49m\u001B[38;5;241;43m.\u001B[39;49m\u001B[43mcopy\u001B[49m\u001B[43m(\u001B[49m\u001B[43m)\u001B[49m\u001B[43m)\u001B[49m\u001B[43m \u001B[49m\u001B[38;5;28;43;01mfor\u001B[39;49;00m\u001B[43m \u001B[49m\u001B[43mn\u001B[49m\u001B[43m,\u001B[49m\u001B[43m \u001B[49m\u001B[43md\u001B[49m\u001B[43m \u001B[49m\u001B[38;5;129;43;01min\u001B[39;49;00m\u001B[43m \u001B[49m\u001B[38;5;28;43mself\u001B[39;49m\u001B[38;5;241;43m.\u001B[39;49m\u001B[43m_node\u001B[49m\u001B[38;5;241;43m.\u001B[39;49m\u001B[43mitems\u001B[49m\u001B[43m(\u001B[49m\u001B[43m)\u001B[49m\u001B[43m)\u001B[49m\n\u001B[0;32m   1104\u001B[0m G\u001B[38;5;241m.\u001B[39madd_edges_from(\n\u001B[0;32m   1105\u001B[0m     (u, v, key, datadict\u001B[38;5;241m.\u001B[39mcopy())\n\u001B[0;32m   1106\u001B[0m     \u001B[38;5;28;01mfor\u001B[39;00m u, nbrs \u001B[38;5;129;01min\u001B[39;00m \u001B[38;5;28mself\u001B[39m\u001B[38;5;241m.\u001B[39m_adj\u001B[38;5;241m.\u001B[39mitems()\n\u001B[0;32m   1107\u001B[0m     \u001B[38;5;28;01mfor\u001B[39;00m v, keydict \u001B[38;5;129;01min\u001B[39;00m nbrs\u001B[38;5;241m.\u001B[39mitems()\n\u001B[0;32m   1108\u001B[0m     \u001B[38;5;28;01mfor\u001B[39;00m key, datadict \u001B[38;5;129;01min\u001B[39;00m keydict\u001B[38;5;241m.\u001B[39mitems()\n\u001B[0;32m   1109\u001B[0m )\n\u001B[0;32m   1110\u001B[0m \u001B[38;5;28;01mreturn\u001B[39;00m G\n",
      "File \u001B[1;32m~\\PycharmProjects\\DSSG\\.venv\\Lib\\site-packages\\networkx\\classes\\graph.py:641\u001B[0m, in \u001B[0;36mGraph.add_nodes_from\u001B[1;34m(self, nodes_for_adding, **attr)\u001B[0m\n\u001B[0;32m    639\u001B[0m         \u001B[38;5;28mself\u001B[39m\u001B[38;5;241m.\u001B[39m_adj[n] \u001B[38;5;241m=\u001B[39m \u001B[38;5;28mself\u001B[39m\u001B[38;5;241m.\u001B[39madjlist_inner_dict_factory()\n\u001B[0;32m    640\u001B[0m         \u001B[38;5;28mself\u001B[39m\u001B[38;5;241m.\u001B[39m_node[n] \u001B[38;5;241m=\u001B[39m \u001B[38;5;28mself\u001B[39m\u001B[38;5;241m.\u001B[39mnode_attr_dict_factory()\n\u001B[1;32m--> 641\u001B[0m     \u001B[38;5;28mself\u001B[39m\u001B[38;5;241m.\u001B[39m_node[n]\u001B[38;5;241m.\u001B[39mupdate(newdict)\n\u001B[0;32m    642\u001B[0m nx\u001B[38;5;241m.\u001B[39m_clear_cache(\u001B[38;5;28mself\u001B[39m)\n",
      "\u001B[1;31mKeyboardInterrupt\u001B[0m: "
     ]
    }
   ],
   "execution_count": 23
  },
  {
   "metadata": {},
   "cell_type": "code",
   "outputs": [],
   "execution_count": null,
   "source": [
    "\n",
    "queen_1 = libpysal.graph.Graph.build_contiguity(tessellation, rook=False)\n",
    "queen_3 = queen_1.higher_order(3)\n",
    "buildings_q1 = libpysal.graph.Graph.build_contiguity(buildings, rook=False)"
   ]
  },
  {
   "metadata": {},
   "cell_type": "code",
   "outputs": [],
   "execution_count": null,
   "source": [
    "\n",
    "buildings[\"interbuilding_distance\"] = momepy.mean_interbuilding_distance(\n",
    "    buildings, queen_1, queen_3\n",
    ")\n",
    "buildings[\"adjacency\"] = momepy.building_adjacency(buildings_q1, queen_3)"
   ]
  },
  {
   "metadata": {},
   "cell_type": "code",
   "outputs": [],
   "execution_count": null,
   "source": [
    "\n",
    "merged = tessellation.merge(\n",
    "    edges.drop(columns=\"geometry\"),\n",
    "    left_on=\"edge_index\",\n",
    "    right_index=True,\n",
    "    how=\"left\",\n",
    ")\n",
    "merged = merged.merge(\n",
    "    nodes.drop(columns=\"geometry\"),\n",
    "    left_on=\"node_index\",\n",
    "    right_index=True,\n",
    "    how=\"left\",\n",
    ")"
   ]
  },
  {
   "metadata": {},
   "cell_type": "code",
   "outputs": [],
   "execution_count": null,
   "source": [
    "\n",
    "percentiles = []\n",
    "for column in merged.columns.drop(\n",
    "    [\n",
    "        \"street_index\",\n",
    "        \"node_index\",\n",
    "        \"edge_index\",\n",
    "        \"nodeID\",\n",
    "        \"mm_len\",\n",
    "        \"node_start\",\n",
    "        \"node_end\",\n",
    "        \"geometry\",\n",
    "    ]\n",
    "):\n",
    "    perc = momepy.percentile(merged[column], queen_3)\n",
    "    perc.columns = [f\"{column}_\" + str(x) for x in perc.columns]\n",
    "    percentiles.append(perc)"
   ]
  },
  {
   "metadata": {},
   "cell_type": "code",
   "outputs": [
    {
     "name": "stderr",
     "output_type": "stream",
     "text": [
      "C:\\Users\\ameer\\PycharmProjects\\DSSG\\.venv\\Lib\\site-packages\\momepy\\utils.py:352: UserWarning: Geometry is in a geographic CRS. Results from 'length' are likely incorrect. Use 'GeoSeries.to_crs()' to re-project geometries to a projected CRS before this operation.\n",
      "\n",
      "  gdf_network[length] = gdf_network.geometry.length\n"
     ]
    },
    {
     "data": {
      "text/plain": [
       "  0%|          | 0/8707 [00:00<?, ?it/s]"
      ],
      "application/vnd.jupyter.widget-view+json": {
       "version_major": 2,
       "version_minor": 0,
       "model_id": "021fddd37cf54254bfb439e4fdf9016e"
      }
     },
     "metadata": {},
     "output_type": "display_data"
    },
    {
     "ename": "KeyboardInterrupt",
     "evalue": "",
     "output_type": "error",
     "traceback": [
      "\u001B[1;31m---------------------------------------------------------------------------\u001B[0m",
      "\u001B[1;31mKeyboardInterrupt\u001B[0m                         Traceback (most recent call last)",
      "Cell \u001B[1;32mIn[21], line 3\u001B[0m\n\u001B[0;32m      1\u001B[0m graph \u001B[38;5;241m=\u001B[39m momepy\u001B[38;5;241m.\u001B[39mgdf_to_nx(streets)\n\u001B[0;32m      2\u001B[0m graph \u001B[38;5;241m=\u001B[39m momepy\u001B[38;5;241m.\u001B[39mnode_degree(graph)\n\u001B[1;32m----> 3\u001B[0m graph \u001B[38;5;241m=\u001B[39m \u001B[43mmomepy\u001B[49m\u001B[38;5;241;43m.\u001B[39;49m\u001B[43mcloseness_centrality\u001B[49m\u001B[43m(\u001B[49m\u001B[43mgraph\u001B[49m\u001B[43m,\u001B[49m\u001B[43m \u001B[49m\u001B[43mradius\u001B[49m\u001B[38;5;241;43m=\u001B[39;49m\u001B[38;5;241;43m400\u001B[39;49m\u001B[43m,\u001B[49m\u001B[43m \u001B[49m\u001B[43mdistance\u001B[49m\u001B[38;5;241;43m=\u001B[39;49m\u001B[38;5;124;43m\"\u001B[39;49m\u001B[38;5;124;43mmm_len\u001B[39;49m\u001B[38;5;124;43m\"\u001B[39;49m\u001B[43m)\u001B[49m\n\u001B[0;32m      4\u001B[0m graph \u001B[38;5;241m=\u001B[39m momepy\u001B[38;5;241m.\u001B[39mmeshedness(graph, radius\u001B[38;5;241m=\u001B[39m\u001B[38;5;241m400\u001B[39m, distance\u001B[38;5;241m=\u001B[39m\u001B[38;5;124m\"\u001B[39m\u001B[38;5;124mmm_len\u001B[39m\u001B[38;5;124m\"\u001B[39m)\n\u001B[0;32m      5\u001B[0m nodes, edges \u001B[38;5;241m=\u001B[39m momepy\u001B[38;5;241m.\u001B[39mnx_to_gdf(graph)\n",
      "File \u001B[1;32m~\\PycharmProjects\\DSSG\\.venv\\Lib\\site-packages\\momepy\\graph.py:795\u001B[0m, in \u001B[0;36mcloseness_centrality\u001B[1;34m(graph, name, weight, radius, distance, verbose, **kwargs)\u001B[0m\n\u001B[0;32m    793\u001B[0m     lengraph \u001B[38;5;241m=\u001B[39m \u001B[38;5;28mlen\u001B[39m(netx)\n\u001B[0;32m    794\u001B[0m     \u001B[38;5;28;01mfor\u001B[39;00m n \u001B[38;5;129;01min\u001B[39;00m tqdm(netx, total\u001B[38;5;241m=\u001B[39m\u001B[38;5;28mlen\u001B[39m(netx), disable\u001B[38;5;241m=\u001B[39m\u001B[38;5;129;01mnot\u001B[39;00m verbose):\n\u001B[1;32m--> 795\u001B[0m         sub \u001B[38;5;241m=\u001B[39m \u001B[43mnx\u001B[49m\u001B[38;5;241;43m.\u001B[39;49m\u001B[43mego_graph\u001B[49m\u001B[43m(\u001B[49m\n\u001B[0;32m    796\u001B[0m \u001B[43m            \u001B[49m\u001B[43mnetx\u001B[49m\u001B[43m,\u001B[49m\u001B[43m \u001B[49m\u001B[43mn\u001B[49m\u001B[43m,\u001B[49m\u001B[43m \u001B[49m\u001B[43mradius\u001B[49m\u001B[38;5;241;43m=\u001B[39;49m\u001B[43mradius\u001B[49m\u001B[43m,\u001B[49m\u001B[43m \u001B[49m\u001B[43mdistance\u001B[49m\u001B[38;5;241;43m=\u001B[39;49m\u001B[43mdistance\u001B[49m\n\u001B[0;32m    797\u001B[0m \u001B[43m        \u001B[49m\u001B[43m)\u001B[49m  \u001B[38;5;66;03m# define subgraph of steps=radius\u001B[39;00m\n\u001B[0;32m    798\u001B[0m         netx\u001B[38;5;241m.\u001B[39mnodes[n][name] \u001B[38;5;241m=\u001B[39m _closeness_centrality(\n\u001B[0;32m    799\u001B[0m             sub, n, length\u001B[38;5;241m=\u001B[39mweight, len_graph\u001B[38;5;241m=\u001B[39mlengraph\n\u001B[0;32m    800\u001B[0m         )\n\u001B[0;32m    801\u001B[0m \u001B[38;5;28;01melse\u001B[39;00m:\n",
      "File \u001B[1;32m<class 'networkx.utils.decorators.argmap'> compilation 26:3\u001B[0m, in \u001B[0;36margmap_ego_graph_23\u001B[1;34m(G, n, radius, center, undirected, distance, backend, **backend_kwargs)\u001B[0m\n\u001B[0;32m      1\u001B[0m \u001B[38;5;28;01mimport\u001B[39;00m \u001B[38;5;21;01mbz2\u001B[39;00m\n\u001B[0;32m      2\u001B[0m \u001B[38;5;28;01mimport\u001B[39;00m \u001B[38;5;21;01mcollections\u001B[39;00m\n\u001B[1;32m----> 3\u001B[0m \u001B[38;5;28;01mimport\u001B[39;00m \u001B[38;5;21;01mgzip\u001B[39;00m\n\u001B[0;32m      4\u001B[0m \u001B[38;5;28;01mimport\u001B[39;00m \u001B[38;5;21;01minspect\u001B[39;00m\n\u001B[0;32m      5\u001B[0m \u001B[38;5;28;01mimport\u001B[39;00m \u001B[38;5;21;01mitertools\u001B[39;00m\n",
      "File \u001B[1;32m~\\PycharmProjects\\DSSG\\.venv\\Lib\\site-packages\\networkx\\utils\\backends.py:633\u001B[0m, in \u001B[0;36m_dispatchable.__call__\u001B[1;34m(self, backend, *args, **kwargs)\u001B[0m\n\u001B[0;32m    628\u001B[0m \u001B[38;5;250m\u001B[39m\u001B[38;5;124;03m\"\"\"Returns the result of the original function, or the backend function if\u001B[39;00m\n\u001B[0;32m    629\u001B[0m \u001B[38;5;124;03mthe backend is specified and that backend implements `func`.\"\"\"\u001B[39;00m\n\u001B[0;32m    631\u001B[0m \u001B[38;5;28;01mif\u001B[39;00m \u001B[38;5;129;01mnot\u001B[39;00m backends:\n\u001B[0;32m    632\u001B[0m     \u001B[38;5;66;03m# Fast path if no backends are installed\u001B[39;00m\n\u001B[1;32m--> 633\u001B[0m     \u001B[38;5;28;01mreturn\u001B[39;00m \u001B[38;5;28;43mself\u001B[39;49m\u001B[38;5;241;43m.\u001B[39;49m\u001B[43morig_func\u001B[49m\u001B[43m(\u001B[49m\u001B[38;5;241;43m*\u001B[39;49m\u001B[43margs\u001B[49m\u001B[43m,\u001B[49m\u001B[43m \u001B[49m\u001B[38;5;241;43m*\u001B[39;49m\u001B[38;5;241;43m*\u001B[39;49m\u001B[43mkwargs\u001B[49m\u001B[43m)\u001B[49m\n\u001B[0;32m    635\u001B[0m \u001B[38;5;66;03m# Use `backend_name` in this function instead of `backend`\u001B[39;00m\n\u001B[0;32m    636\u001B[0m backend_name \u001B[38;5;241m=\u001B[39m backend\n",
      "File \u001B[1;32m~\\PycharmProjects\\DSSG\\.venv\\Lib\\site-packages\\networkx\\generators\\ego.py:62\u001B[0m, in \u001B[0;36mego_graph\u001B[1;34m(G, n, radius, center, undirected, distance)\u001B[0m\n\u001B[0;32m     59\u001B[0m     \u001B[38;5;28;01melse\u001B[39;00m:\n\u001B[0;32m     60\u001B[0m         sp \u001B[38;5;241m=\u001B[39m \u001B[38;5;28mdict\u001B[39m(nx\u001B[38;5;241m.\u001B[39msingle_source_shortest_path_length(G, n, cutoff\u001B[38;5;241m=\u001B[39mradius))\n\u001B[1;32m---> 62\u001B[0m H \u001B[38;5;241m=\u001B[39m \u001B[43mG\u001B[49m\u001B[38;5;241;43m.\u001B[39;49m\u001B[43msubgraph\u001B[49m\u001B[43m(\u001B[49m\u001B[43msp\u001B[49m\u001B[43m)\u001B[49m\u001B[38;5;241;43m.\u001B[39;49m\u001B[43mcopy\u001B[49m\u001B[43m(\u001B[49m\u001B[43m)\u001B[49m\n\u001B[0;32m     63\u001B[0m \u001B[38;5;28;01mif\u001B[39;00m \u001B[38;5;129;01mnot\u001B[39;00m center:\n\u001B[0;32m     64\u001B[0m     H\u001B[38;5;241m.\u001B[39mremove_node(n)\n",
      "File \u001B[1;32m~\\PycharmProjects\\DSSG\\.venv\\Lib\\site-packages\\networkx\\classes\\multigraph.py:1104\u001B[0m, in \u001B[0;36mMultiGraph.copy\u001B[1;34m(self, as_view)\u001B[0m\n\u001B[0;32m   1102\u001B[0m G\u001B[38;5;241m.\u001B[39mgraph\u001B[38;5;241m.\u001B[39mupdate(\u001B[38;5;28mself\u001B[39m\u001B[38;5;241m.\u001B[39mgraph)\n\u001B[0;32m   1103\u001B[0m G\u001B[38;5;241m.\u001B[39madd_nodes_from((n, d\u001B[38;5;241m.\u001B[39mcopy()) \u001B[38;5;28;01mfor\u001B[39;00m n, d \u001B[38;5;129;01min\u001B[39;00m \u001B[38;5;28mself\u001B[39m\u001B[38;5;241m.\u001B[39m_node\u001B[38;5;241m.\u001B[39mitems())\n\u001B[1;32m-> 1104\u001B[0m \u001B[43mG\u001B[49m\u001B[38;5;241;43m.\u001B[39;49m\u001B[43madd_edges_from\u001B[49m\u001B[43m(\u001B[49m\n\u001B[0;32m   1105\u001B[0m \u001B[43m    \u001B[49m\u001B[43m(\u001B[49m\u001B[43mu\u001B[49m\u001B[43m,\u001B[49m\u001B[43m \u001B[49m\u001B[43mv\u001B[49m\u001B[43m,\u001B[49m\u001B[43m \u001B[49m\u001B[43mkey\u001B[49m\u001B[43m,\u001B[49m\u001B[43m \u001B[49m\u001B[43mdatadict\u001B[49m\u001B[38;5;241;43m.\u001B[39;49m\u001B[43mcopy\u001B[49m\u001B[43m(\u001B[49m\u001B[43m)\u001B[49m\u001B[43m)\u001B[49m\n\u001B[0;32m   1106\u001B[0m \u001B[43m    \u001B[49m\u001B[38;5;28;43;01mfor\u001B[39;49;00m\u001B[43m \u001B[49m\u001B[43mu\u001B[49m\u001B[43m,\u001B[49m\u001B[43m \u001B[49m\u001B[43mnbrs\u001B[49m\u001B[43m \u001B[49m\u001B[38;5;129;43;01min\u001B[39;49;00m\u001B[43m \u001B[49m\u001B[38;5;28;43mself\u001B[39;49m\u001B[38;5;241;43m.\u001B[39;49m\u001B[43m_adj\u001B[49m\u001B[38;5;241;43m.\u001B[39;49m\u001B[43mitems\u001B[49m\u001B[43m(\u001B[49m\u001B[43m)\u001B[49m\n\u001B[0;32m   1107\u001B[0m \u001B[43m    \u001B[49m\u001B[38;5;28;43;01mfor\u001B[39;49;00m\u001B[43m \u001B[49m\u001B[43mv\u001B[49m\u001B[43m,\u001B[49m\u001B[43m \u001B[49m\u001B[43mkeydict\u001B[49m\u001B[43m \u001B[49m\u001B[38;5;129;43;01min\u001B[39;49;00m\u001B[43m \u001B[49m\u001B[43mnbrs\u001B[49m\u001B[38;5;241;43m.\u001B[39;49m\u001B[43mitems\u001B[49m\u001B[43m(\u001B[49m\u001B[43m)\u001B[49m\n\u001B[0;32m   1108\u001B[0m \u001B[43m    \u001B[49m\u001B[38;5;28;43;01mfor\u001B[39;49;00m\u001B[43m \u001B[49m\u001B[43mkey\u001B[49m\u001B[43m,\u001B[49m\u001B[43m \u001B[49m\u001B[43mdatadict\u001B[49m\u001B[43m \u001B[49m\u001B[38;5;129;43;01min\u001B[39;49;00m\u001B[43m \u001B[49m\u001B[43mkeydict\u001B[49m\u001B[38;5;241;43m.\u001B[39;49m\u001B[43mitems\u001B[49m\u001B[43m(\u001B[49m\u001B[43m)\u001B[49m\n\u001B[0;32m   1109\u001B[0m \u001B[43m\u001B[49m\u001B[43m)\u001B[49m\n\u001B[0;32m   1110\u001B[0m \u001B[38;5;28;01mreturn\u001B[39;00m G\n",
      "File \u001B[1;32m~\\PycharmProjects\\DSSG\\.venv\\Lib\\site-packages\\networkx\\classes\\multigraph.py:595\u001B[0m, in \u001B[0;36mMultiGraph.add_edges_from\u001B[1;34m(self, ebunch_to_add, **attr)\u001B[0m\n\u001B[0;32m    527\u001B[0m \u001B[38;5;250m\u001B[39m\u001B[38;5;124;03m\"\"\"Add all the edges in ebunch_to_add.\u001B[39;00m\n\u001B[0;32m    528\u001B[0m \n\u001B[0;32m    529\u001B[0m \u001B[38;5;124;03mParameters\u001B[39;00m\n\u001B[1;32m   (...)\u001B[0m\n\u001B[0;32m    592\u001B[0m \u001B[38;5;124;03m>>> assigned_keys = G.add_edges_from(list((5, n) for n in G.nodes))\u001B[39;00m\n\u001B[0;32m    593\u001B[0m \u001B[38;5;124;03m\"\"\"\u001B[39;00m\n\u001B[0;32m    594\u001B[0m keylist \u001B[38;5;241m=\u001B[39m []\n\u001B[1;32m--> 595\u001B[0m \u001B[43m\u001B[49m\u001B[38;5;28;43;01mfor\u001B[39;49;00m\u001B[43m \u001B[49m\u001B[43me\u001B[49m\u001B[43m \u001B[49m\u001B[38;5;129;43;01min\u001B[39;49;00m\u001B[43m \u001B[49m\u001B[43mebunch_to_add\u001B[49m\u001B[43m:\u001B[49m\n\u001B[0;32m    596\u001B[0m \u001B[43m    \u001B[49m\u001B[43mne\u001B[49m\u001B[43m \u001B[49m\u001B[38;5;241;43m=\u001B[39;49m\u001B[43m \u001B[49m\u001B[38;5;28;43mlen\u001B[39;49m\u001B[43m(\u001B[49m\u001B[43me\u001B[49m\u001B[43m)\u001B[49m\n\u001B[0;32m    597\u001B[0m \u001B[43m    \u001B[49m\u001B[38;5;28;43;01mif\u001B[39;49;00m\u001B[43m \u001B[49m\u001B[43mne\u001B[49m\u001B[43m \u001B[49m\u001B[38;5;241;43m==\u001B[39;49m\u001B[43m \u001B[49m\u001B[38;5;241;43m4\u001B[39;49m\u001B[43m:\u001B[49m\n",
      "File \u001B[1;32m~\\PycharmProjects\\DSSG\\.venv\\Lib\\site-packages\\networkx\\classes\\multigraph.py:1105\u001B[0m, in \u001B[0;36m<genexpr>\u001B[1;34m(.0)\u001B[0m\n\u001B[0;32m   1102\u001B[0m G\u001B[38;5;241m.\u001B[39mgraph\u001B[38;5;241m.\u001B[39mupdate(\u001B[38;5;28mself\u001B[39m\u001B[38;5;241m.\u001B[39mgraph)\n\u001B[0;32m   1103\u001B[0m G\u001B[38;5;241m.\u001B[39madd_nodes_from((n, d\u001B[38;5;241m.\u001B[39mcopy()) \u001B[38;5;28;01mfor\u001B[39;00m n, d \u001B[38;5;129;01min\u001B[39;00m \u001B[38;5;28mself\u001B[39m\u001B[38;5;241m.\u001B[39m_node\u001B[38;5;241m.\u001B[39mitems())\n\u001B[0;32m   1104\u001B[0m G\u001B[38;5;241m.\u001B[39madd_edges_from(\n\u001B[1;32m-> 1105\u001B[0m     (u, v, key, datadict\u001B[38;5;241m.\u001B[39mcopy())\n\u001B[0;32m   1106\u001B[0m     \u001B[38;5;28;01mfor\u001B[39;00m u, nbrs \u001B[38;5;129;01min\u001B[39;00m \u001B[38;5;28mself\u001B[39m\u001B[38;5;241m.\u001B[39m_adj\u001B[38;5;241m.\u001B[39mitems()\n\u001B[0;32m   1107\u001B[0m     \u001B[38;5;28;01mfor\u001B[39;00m v, keydict \u001B[38;5;129;01min\u001B[39;00m nbrs\u001B[38;5;241m.\u001B[39mitems()\n\u001B[0;32m   1108\u001B[0m     \u001B[38;5;28;01mfor\u001B[39;00m key, datadict \u001B[38;5;129;01min\u001B[39;00m keydict\u001B[38;5;241m.\u001B[39mitems()\n\u001B[0;32m   1109\u001B[0m )\n\u001B[0;32m   1110\u001B[0m \u001B[38;5;28;01mreturn\u001B[39;00m G\n",
      "\u001B[1;31mKeyboardInterrupt\u001B[0m: "
     ]
    }
   ],
   "execution_count": 21,
   "source": [
    "\n",
    "percentiles_joined = pandas.concat(percentiles, axis=1)\n",
    "percentiles_joined.head()\n",
    "\n",
    "fig, ax = plt.subplots(1, 2, figsize=(24, 12))\n",
    "\n",
    "tessellation.plot(\"convexity\", ax=ax[0], scheme=\"natural_breaks\", legend=True)\n",
    "merged.plot(\n",
    "    percentiles_joined[\"convexity_50\"].values,\n",
    "    ax=ax[1],\n",
    "    scheme=\"natural_breaks\",\n",
    "    legend=True,\n",
    ")\n",
    "\n",
    "ax[0].set_axis_off()\n",
    "ax[1].set_axis_off()\n",
    "\n",
    "standardized = (\n",
    "    percentiles_joined - percentiles_joined.mean()\n",
    ") / percentiles_joined.std()\n",
    "standardized.head()\n",
    "\n",
    "cgram = Clustergram(range(1, 12), n_init=10, random_state=42)\n",
    "cgram.fit(standardized.fillna(0))\n",
    "\n",
    "show(cgram.bokeh())"
   ]
  }
 ],
 "metadata": {
  "language_info": {
   "name": "python"
  },
  "kernelspec": {
   "name": "python3",
   "language": "python",
   "display_name": "Python 3 (ipykernel)"
  }
 },
 "nbformat": 4,
 "nbformat_minor": 2
}
