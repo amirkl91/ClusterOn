{
 "cells": [
  {
   "metadata": {
    "ExecuteTime": {
     "end_time": "2024-09-26T12:22:45.317178Z",
     "start_time": "2024-09-26T12:22:45.315736Z"
    }
   },
   "cell_type": "code",
   "source": [
    "import matplotlib.pyplot as plt\n",
    "import sys\n",
    "sys.path.append('../app')\n",
    "from matplotlib.backends.backend_pdf import PdfPages\n",
    "import preprocess as pp\n",
    "from data_input import load_buildings_from_osm, load_roads_from_osm\n",
    "import metrics\n"
   ],
   "outputs": [],
   "execution_count": 8
  },
  {
   "metadata": {
    "ExecuteTime": {
     "end_time": "2024-09-26T12:22:58.602035Z",
     "start_time": "2024-09-26T12:22:45.317731Z"
    }
   },
   "cell_type": "code",
   "source": [
    "place = 'Kadima Zoran, Israel'\n",
    "\n",
    "local_crs = 'EPSG:2039'\n",
    "network_type = 'drive'\n",
    "verbose = True\n",
    "\n",
    "streets = load_roads_from_osm(place, network_type=network_type)\n",
    "streets, junctions = pp.get_streets(streets=streets, local_crs=local_crs, get_juncions=True)\n",
    "junctions, streets = metrics.generate_junctions_metrics(streets)\n",
    "if verbose: print('Got junction metrics')\n",
    "\n",
    "if verbose: print('Got streets')\n",
    "\n",
    "buildings = load_buildings_from_osm(place)\n",
    "buildings = pp.get_buildings(buildings=buildings, streets=streets, junctions=junctions, local_crs=local_crs, )\n",
    "if verbose: print('Got buildings')\n",
    "\n",
    "\n",
    "tessellations = pp.get_tessellation(buildings=buildings, streets=streets, \n",
    "                                        tess_mode='morphometric', clim='adaptive')\n",
    "if verbose: print('Got tessellations')\n",
    "\n",
    "metrics.generate_building_metrics(buildings)\n",
    "if verbose: print('Got building metrics')\n",
    "\n",
    "queen_1 = metrics.generate_tessellation_metrics(tessellations, buildings)\n",
    "if verbose: print('Got tessellation metrics')\n",
    "\n",
    "metrics.generate_streets_metrics(streets)\n",
    "if verbose: print('Got street metrics')\n",
    "\n",
    "queen_3 = metrics.generate_graph_building_metrics(buildings, streets, queen_1)\n",
    "if verbose: print('Got graph building metrics')"
   ],
   "outputs": [
    {
     "name": "stdout",
     "output_type": "stream",
     "text": [
      "Got junction metrics\n",
      "Got streets\n",
      "No building heights in data\n",
      "Got buildings\n"
     ]
    },
    {
     "name": "stderr",
     "output_type": "stream",
     "text": [
      "/Users/dpelleg/miniconda3/envs/dssg/lib/python3.12/site-packages/libpysal/graph/base.py:1375: UserWarning: The numba package is used extensively in this module to accelerate the computation of graphs. Without numba, these computations may become unduly slow on large data.\n",
      "  head, tail, weights = _gabriel(\n",
      "/Users/dpelleg/work/dssg/DSSG_mapping_Jerus/Notebooks/../app/preprocess.py:164: UserWarning: Tessellation contains MultiPolygon elements. Initial objects should  be edited. Index of affected elements: [156, 175, 1039, 1265, 1694, 2279, 2356, 2377, 2379, 2421, 2460, 2474, 2610, 2615, 3011, 3021, 3029, 3043].\n",
      "  collapsed, _ = momepy.verify_tessellation(tessellations, buildings)\n",
      "/Users/dpelleg/miniconda3/envs/dssg/lib/python3.12/site-packages/momepy/functional/_shape.py:890: RuntimeWarning: invalid value encountered in arccos\n",
      "  angles = np.arccos(cosine_angle)\n",
      "/Users/dpelleg/miniconda3/envs/dssg/lib/python3.12/site-packages/momepy/functional/_shape.py:890: RuntimeWarning: invalid value encountered in arccos\n",
      "  angles = np.arccos(cosine_angle)\n",
      "/Users/dpelleg/miniconda3/envs/dssg/lib/python3.12/site-packages/momepy/functional/_shape.py:576: RuntimeWarning: Mean of empty slice\n",
      "  return np.nanmean(np.abs(90 - degrees[true_angles]))\n"
     ]
    },
    {
     "name": "stdout",
     "output_type": "stream",
     "text": [
      "Got tessellations\n",
      "Got building metrics\n"
     ]
    },
    {
     "name": "stderr",
     "output_type": "stream",
     "text": [
      "/Users/dpelleg/work/dssg/DSSG_mapping_Jerus/Notebooks/../app/metrics.py:114: UserWarning: The numba package is used extensively in this module to accelerate the computation of graphs. Without numba, these computations may become unduly slow on large data.\n",
      "  tessellations['tess_covered_area'] = queen_1.describe(tessellations.area)['sum']\n"
     ]
    },
    {
     "name": "stdout",
     "output_type": "stream",
     "text": [
      "Got tessellation metrics\n",
      "Got street metrics\n"
     ]
    },
    {
     "name": "stderr",
     "output_type": "stream",
     "text": [
      "/Users/dpelleg/miniconda3/envs/dssg/lib/python3.12/site-packages/momepy/functional/_distribution.py:382: RuntimeWarning: invalid value encountered in scalar divide\n",
      "  mean_distances[i] = sub_matrix.sum() / sub_matrix.nnz\n",
      "/Users/dpelleg/miniconda3/envs/dssg/lib/python3.12/site-packages/momepy/functional/_distribution.py:285: UserWarning: The indices of the two GeoSeries are different.\n",
      "  (geoms.distance(geometry.geometry, align=True)).groupby(level=0).mean()\n"
     ]
    },
    {
     "name": "stdout",
     "output_type": "stream",
     "text": [
      "Got graph building metrics\n"
     ]
    }
   ],
   "execution_count": 9
  },
  {
   "metadata": {},
   "cell_type": "markdown",
   "source": [
    "\n",
    "buildings[\"uID\"] = range(len(buildings))\n",
    "buildings[\"shared_walls\"] = momepy.SharedWallsRatio(buildings).series\n",
    "buildings[\"area\"] = buildings.area\n",
    "buildings['eri'] = momepy.EquivalentRectangularIndex(buildings).series\n",
    "buildings['elongation'] = momepy.Elongation(buildings).series\n",
    "#buildings['adjacency'] = momepy.BuildingAdjacency(buildings, 'uID').series\n",
    "buildings['orientation'] = momepy.Orientation(buildings,).series\n",
    "delaunay = graph.Graph.build_triangulation(\n",
    "    buildings.centroid, coplanar=\"clique\"\n",
    ").assign_self_weight()\n",
    "\n",
    "buildings['alignment'] = momepy.Alignment(buildings,\n",
    "                                            delaunay, unique_id='uID', orientations='orientation', verbose=False)                      \n"
   ]
  },
  {
   "metadata": {
    "ExecuteTime": {
     "end_time": "2024-09-26T12:22:58.605968Z",
     "start_time": "2024-09-26T12:22:58.603725Z"
    }
   },
   "cell_type": "code",
   "source": [
    "\n",
    "def create_layer_features_pdf(place, layer, features, layer_type='building'):\n",
    "    pdf_filename = f'{place}_{layer_type}_features.pdf'\n",
    "    with PdfPages(pdf_filename) as pdf:\n",
    "        for feature in features:\n",
    "            print(feature)\n",
    "            fig, ax = plt.subplots(figsize=(12, 8))\n",
    "            layer.plot(feature, ax=ax, scheme=\"natural_breaks\", legend=True)\n",
    "            ax.set_title(f\"{place} - {layer_type.capitalize()} {feature.capitalize()}\")\n",
    "            ax.set_axis_off()\n",
    "            pdf.savefig(fig)\n",
    "            plt.close(fig)\n",
    "    return pdf_filename"
   ],
   "outputs": [],
   "execution_count": 10
  },
  {
   "metadata": {
    "ExecuteTime": {
     "end_time": "2024-09-26T12:22:58.608199Z",
     "start_time": "2024-09-26T12:22:58.606466Z"
    }
   },
   "cell_type": "code",
   "source": [
    "buildings_features= ['Area', 'corners',\n",
    "       'squareness', 'perimeter', 'circular_compactness',\n",
    "       'square_compactness', 'weighted_axis_compactness', 'courtyard_area',\n",
    "       'fractal_dimension', 'facade_ratio', 'orientation',\n",
    "       'longest_axis_length', 'equivalent_rectangular_index', 'elongation',\n",
    "       'rectangularity', 'shared_walls_length', 'perimeter_wall', 'alignment',\n",
    "       'adjacency', 'mean_interbuilding_distance', 'neighbour_distance',\n",
    "       'courtyards_num', 'street_alignment']"
   ],
   "outputs": [],
   "execution_count": 11
  },
  {
   "metadata": {
    "ExecuteTime": {
     "end_time": "2024-09-26T12:23:09.983122Z",
     "start_time": "2024-09-26T12:22:58.608931Z"
    }
   },
   "cell_type": "code",
   "source": "create_layer_features_pdf(place, buildings, buildings_features, 'building')",
   "outputs": [
    {
     "name": "stdout",
     "output_type": "stream",
     "text": [
      "Area\n",
      "corners\n",
      "squareness\n",
      "perimeter\n",
      "circular_compactness\n",
      "square_compactness\n",
      "weighted_axis_compactness\n",
      "courtyard_area\n"
     ]
    },
    {
     "name": "stderr",
     "output_type": "stream",
     "text": [
      "/Users/dpelleg/miniconda3/envs/dssg/lib/python3.12/site-packages/mapclassify/classifiers.py:687: UserWarning: Not enough unique values in array to form 5 classes. Setting k to 2.\n",
      "  self._classify()\n"
     ]
    },
    {
     "name": "stdout",
     "output_type": "stream",
     "text": [
      "fractal_dimension\n",
      "facade_ratio\n",
      "orientation\n",
      "longest_axis_length\n",
      "equivalent_rectangular_index\n",
      "elongation\n",
      "rectangularity\n",
      "shared_walls_length\n",
      "perimeter_wall\n"
     ]
    },
    {
     "name": "stderr",
     "output_type": "stream",
     "text": [
      "/Users/dpelleg/miniconda3/envs/dssg/lib/python3.12/site-packages/mapclassify/classifiers.py:687: UserWarning: Not enough unique values in array to form 5 classes. Setting k to 3.\n",
      "  self._classify()\n"
     ]
    },
    {
     "name": "stdout",
     "output_type": "stream",
     "text": [
      "alignment\n",
      "adjacency\n",
      "mean_interbuilding_distance\n",
      "neighbour_distance\n",
      "courtyards_num\n",
      "street_alignment\n"
     ]
    },
    {
     "name": "stderr",
     "output_type": "stream",
     "text": [
      "/Users/dpelleg/miniconda3/envs/dssg/lib/python3.12/site-packages/mapclassify/classifiers.py:687: UserWarning: Not enough unique values in array to form 5 classes. Setting k to 2.\n",
      "  self._classify()\n"
     ]
    },
    {
     "data": {
      "text/plain": [
       "'Kadima Zoran, Israel_building_features.pdf'"
      ]
     },
     "execution_count": 12,
     "metadata": {},
     "output_type": "execute_result"
    }
   ],
   "execution_count": 12
  },
  {
   "metadata": {
    "ExecuteTime": {
     "end_time": "2024-09-26T12:23:11.613135Z",
     "start_time": "2024-09-26T12:23:09.983735Z"
    }
   },
   "cell_type": "code",
   "source": [
    "streets_features = ['mm_len', 'node_start', 'node_end', 'str_orientation',\n",
    "       'str_longest_axis', 'str_linearity', 'str_length', 'width', 'openness',\n",
    "       'width_dev']\n",
    "create_layer_features_pdf(place, streets, streets_features, 'street')\n"
   ],
   "outputs": [
    {
     "name": "stdout",
     "output_type": "stream",
     "text": [
      "mm_len\n",
      "node_start\n",
      "node_end\n",
      "str_orientation\n",
      "str_longest_axis\n",
      "str_linearity\n",
      "str_length\n",
      "width\n",
      "openness\n",
      "width_dev\n"
     ]
    },
    {
     "data": {
      "text/plain": [
       "'Kadima Zoran, Israel_street_features.pdf'"
      ]
     },
     "execution_count": 13,
     "metadata": {},
     "output_type": "execute_result"
    }
   ],
   "execution_count": 13
  },
  {
   "metadata": {
    "ExecuteTime": {
     "end_time": "2024-09-26T12:23:25.480164Z",
     "start_time": "2024-09-26T12:23:11.614189Z"
    }
   },
   "cell_type": "code",
   "source": [
    "tessellations_features = ['tess_area', 'tess_circ_compactness',\n",
    "       'tess_convexity', 'tess_neighbors', 'tess_covered_area',\n",
    "       'tess_build_area_raio', 'tess_orientation', 'tess_building_orientation',\n",
    "       'tess_alignment', 'tess_equivalent_rect_index']\n",
    "create_layer_features_pdf(place, tessellations, tessellations_features, 'tesselation')\n"
   ],
   "outputs": [
    {
     "name": "stdout",
     "output_type": "stream",
     "text": [
      "tess_area\n",
      "tess_circ_compactness\n",
      "tess_convexity\n",
      "tess_neighbors\n",
      "tess_covered_area\n",
      "tess_build_area_raio\n",
      "tess_orientation\n",
      "tess_building_orientation\n",
      "tess_alignment\n",
      "tess_equivalent_rect_index\n"
     ]
    },
    {
     "data": {
      "text/plain": [
       "'Kadima Zoran, Israel_tesselation_features.pdf'"
      ]
     },
     "execution_count": 14,
     "metadata": {},
     "output_type": "execute_result"
    }
   ],
   "execution_count": 14
  }
 ],
 "metadata": {
  "celltoolbar": "Slideshow",
  "interpreter": {
   "hash": "bc4a4469e95da12e1ed14e2f6acdb633e9704968c1ad2dba36fd8ef867579feb"
  },
  "kernelspec": {
   "display_name": "dssg",
   "language": "python",
   "name": "dssg"
  },
  "language_info": {
   "codemirror_mode": {
    "name": "ipython",
    "version": 3
   },
   "file_extension": ".py",
   "mimetype": "text/x-python",
   "name": "python",
   "nbconvert_exporter": "python",
   "pygments_lexer": "ipython3",
   "version": "3.9.9"
  }
 },
 "nbformat": 4,
 "nbformat_minor": 4
}
