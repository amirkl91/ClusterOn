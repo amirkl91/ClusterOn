{
 "cells": [
  {
   "cell_type": "code",
   "execution_count": 1,
   "metadata": {
    "ExecuteTime": {
     "end_time": "2024-09-10T07:43:05.464952Z",
     "start_time": "2024-09-10T07:43:05.440576Z"
    }
   },
   "outputs": [
    {
     "name": "stderr",
     "output_type": "stream",
     "text": [
      "c:\\Users\\david\\Desktop\\DSSG\\.venv\\Lib\\site-packages\\tqdm\\auto.py:21: TqdmWarning: IProgress not found. Please update jupyter and ipywidgets. See https://ipywidgets.readthedocs.io/en/stable/user_install.html\n",
      "  from .autonotebook import tqdm as notebook_tqdm\n"
     ]
    },
    {
     "data": {
      "text/html": [
       "    <style>\n",
       "        .bk-notebook-logo {\n",
       "            display: block;\n",
       "            width: 20px;\n",
       "            height: 20px;\n",
       "            background-image: url(data:image/png;base64,iVBORw0KGgoAAAANSUhEUgAAABQAAAAUCAYAAACNiR0NAAAABHNCSVQICAgIfAhkiAAAAAlwSFlzAAALEgAACxIB0t1+/AAAABx0RVh0U29mdHdhcmUAQWRvYmUgRmlyZXdvcmtzIENTNui8sowAAAOkSURBVDiNjZRtaJVlGMd/1/08zzln5zjP1LWcU9N0NkN8m2CYjpgQYQXqSs0I84OLIC0hkEKoPtiH3gmKoiJDU7QpLgoLjLIQCpEsNJ1vqUOdO7ppbuec5+V+rj4ctwzd8IIbbi6u+8f1539dt3A78eXC7QizUF7gyV1fD1Yqg4JWz84yffhm0qkFqBogB9rM8tZdtwVsPUhWhGcFJngGeWrPzHm5oaMmkfEg1usvLFyc8jLRqDOMru7AyC8saQr7GG7f5fvDeH7Ej8CM66nIF+8yngt6HWaKh7k49Soy9nXurCi1o3qUbS3zWfrYeQDTB/Qj6kX6Ybhw4B+bOYoLKCC9H3Nu/leUTZ1JdRWkkn2ldcCamzrcf47KKXdAJllSlxAOkRgyHsGC/zRday5Qld9DyoM4/q/rUoy/CXh3jzOu3bHUVZeU+DEn8FInkPBFlu3+nW3Nw0mk6vCDiWg8CeJaxEwuHS3+z5RgY+YBR6V1Z1nxSOfoaPa4LASWxxdNp+VWTk7+4vzaou8v8PN+xo+KY2xsw6une2frhw05CTYOmQvsEhjhWjn0bmXPjpE1+kplmmkP3suftwTubK9Vq22qKmrBhpY4jvd5afdRA3wGjFAgcnTK2s4hY0/GPNIb0nErGMCRxWOOX64Z8RAC4oCXdklmEvcL8o0BfkNK4lUg9HTl+oPlQxdNo3Mg4Nv175e/1LDGzZen30MEjRUtmXSfiTVu1kK8W4txyV6BMKlbgk3lMwYCiusNy9fVfvvwMxv8Ynl6vxoByANLTWplvuj/nF9m2+PDtt1eiHPBr1oIfhCChQMBw6Aw0UulqTKZdfVvfG7VcfIqLG9bcldL/+pdWTLxLUy8Qq38heUIjh4XlzZxzQm19lLFlr8vdQ97rjZVOLf8nclzckbcD4wxXMidpX30sFd37Fv/GtwwhzhxGVAprjbg0gCAEeIgwCZyTV2Z1REEW8O4py0wsjeloKoMr6iCY6dP92H6Vw/oTyICIthibxjm/DfN9lVz8IqtqKYLUXfoKVMVQVVJOElGjrnnUt9T9wbgp8AyYKaGlqingHZU/uG2NTZSVqwHQTWkx9hxjkpWDaCg6Ckj5qebgBVbT3V3NNXMSiWSDdGV3hrtzla7J+duwPOToIg42ChPQOQjspnSlp1V+Gjdged7+8UN5CRAV7a5EdFNwCjEaBR27b3W890TE7g24NAP/mMDXRWrGoFPQI9ls/MWO2dWFAar/xcOIImbbpA3zgAAAABJRU5ErkJggg==);\n",
       "        }\n",
       "    </style>\n",
       "    <div>\n",
       "        <a href=\"https://bokeh.org\" target=\"_blank\" class=\"bk-notebook-logo\"></a>\n",
       "        <span id=\"cd7de7b1-c783-4b36-b97e-27789b798bbd\">Loading BokehJS ...</span>\n",
       "    </div>\n"
      ]
     },
     "metadata": {},
     "output_type": "display_data"
    },
    {
     "data": {
      "application/javascript": "'use strict';\n(function(root) {\n  function now() {\n    return new Date();\n  }\n\n  const force = true;\n\n  if (typeof root._bokeh_onload_callbacks === \"undefined\" || force === true) {\n    root._bokeh_onload_callbacks = [];\n    root._bokeh_is_loading = undefined;\n  }\n\nconst JS_MIME_TYPE = 'application/javascript';\n  const HTML_MIME_TYPE = 'text/html';\n  const EXEC_MIME_TYPE = 'application/vnd.bokehjs_exec.v0+json';\n  const CLASS_NAME = 'output_bokeh rendered_html';\n\n  /**\n   * Render data to the DOM node\n   */\n  function render(props, node) {\n    const script = document.createElement(\"script\");\n    node.appendChild(script);\n  }\n\n  /**\n   * Handle when an output is cleared or removed\n   */\n  function handleClearOutput(event, handle) {\n    function drop(id) {\n      const view = Bokeh.index.get_by_id(id)\n      if (view != null) {\n        view.model.document.clear()\n        Bokeh.index.delete(view)\n      }\n    }\n\n    const cell = handle.cell;\n\n    const id = cell.output_area._bokeh_element_id;\n    const server_id = cell.output_area._bokeh_server_id;\n\n    // Clean up Bokeh references\n    if (id != null) {\n      drop(id)\n    }\n\n    if (server_id !== undefined) {\n      // Clean up Bokeh references\n      const cmd_clean = \"from bokeh.io.state import curstate; print(curstate().uuid_to_server['\" + server_id + \"'].get_sessions()[0].document.roots[0]._id)\";\n      cell.notebook.kernel.execute(cmd_clean, {\n        iopub: {\n          output: function(msg) {\n            const id = msg.content.text.trim()\n            drop(id)\n          }\n        }\n      });\n      // Destroy server and session\n      const cmd_destroy = \"import bokeh.io.notebook as ion; ion.destroy_server('\" + server_id + \"')\";\n      cell.notebook.kernel.execute(cmd_destroy);\n    }\n  }\n\n  /**\n   * Handle when a new output is added\n   */\n  function handleAddOutput(event, handle) {\n    const output_area = handle.output_area;\n    const output = handle.output;\n\n    // limit handleAddOutput to display_data with EXEC_MIME_TYPE content only\n    if ((output.output_type != \"display_data\") || (!Object.prototype.hasOwnProperty.call(output.data, EXEC_MIME_TYPE))) {\n      return\n    }\n\n    const toinsert = output_area.element.find(\".\" + CLASS_NAME.split(' ')[0]);\n\n    if (output.metadata[EXEC_MIME_TYPE][\"id\"] !== undefined) {\n      toinsert[toinsert.length - 1].firstChild.textContent = output.data[JS_MIME_TYPE];\n      // store reference to embed id on output_area\n      output_area._bokeh_element_id = output.metadata[EXEC_MIME_TYPE][\"id\"];\n    }\n    if (output.metadata[EXEC_MIME_TYPE][\"server_id\"] !== undefined) {\n      const bk_div = document.createElement(\"div\");\n      bk_div.innerHTML = output.data[HTML_MIME_TYPE];\n      const script_attrs = bk_div.children[0].attributes;\n      for (let i = 0; i < script_attrs.length; i++) {\n        toinsert[toinsert.length - 1].firstChild.setAttribute(script_attrs[i].name, script_attrs[i].value);\n        toinsert[toinsert.length - 1].firstChild.textContent = bk_div.children[0].textContent\n      }\n      // store reference to server id on output_area\n      output_area._bokeh_server_id = output.metadata[EXEC_MIME_TYPE][\"server_id\"];\n    }\n  }\n\n  function register_renderer(events, OutputArea) {\n\n    function append_mime(data, metadata, element) {\n      // create a DOM node to render to\n      const toinsert = this.create_output_subarea(\n        metadata,\n        CLASS_NAME,\n        EXEC_MIME_TYPE\n      );\n      this.keyboard_manager.register_events(toinsert);\n      // Render to node\n      const props = {data: data, metadata: metadata[EXEC_MIME_TYPE]};\n      render(props, toinsert[toinsert.length - 1]);\n      element.append(toinsert);\n      return toinsert\n    }\n\n    /* Handle when an output is cleared or removed */\n    events.on('clear_output.CodeCell', handleClearOutput);\n    events.on('delete.Cell', handleClearOutput);\n\n    /* Handle when a new output is added */\n    events.on('output_added.OutputArea', handleAddOutput);\n\n    /**\n     * Register the mime type and append_mime function with output_area\n     */\n    OutputArea.prototype.register_mime_type(EXEC_MIME_TYPE, append_mime, {\n      /* Is output safe? */\n      safe: true,\n      /* Index of renderer in `output_area.display_order` */\n      index: 0\n    });\n  }\n\n  // register the mime type if in Jupyter Notebook environment and previously unregistered\n  if (root.Jupyter !== undefined) {\n    const events = require('base/js/events');\n    const OutputArea = require('notebook/js/outputarea').OutputArea;\n\n    if (OutputArea.prototype.mime_types().indexOf(EXEC_MIME_TYPE) == -1) {\n      register_renderer(events, OutputArea);\n    }\n  }\n  if (typeof (root._bokeh_timeout) === \"undefined\" || force === true) {\n    root._bokeh_timeout = Date.now() + 5000;\n    root._bokeh_failed_load = false;\n  }\n\n  const NB_LOAD_WARNING = {'data': {'text/html':\n     \"<div style='background-color: #fdd'>\\n\"+\n     \"<p>\\n\"+\n     \"BokehJS does not appear to have successfully loaded. If loading BokehJS from CDN, this \\n\"+\n     \"may be due to a slow or bad network connection. Possible fixes:\\n\"+\n     \"</p>\\n\"+\n     \"<ul>\\n\"+\n     \"<li>re-rerun `output_notebook()` to attempt to load from CDN again, or</li>\\n\"+\n     \"<li>use INLINE resources instead, as so:</li>\\n\"+\n     \"</ul>\\n\"+\n     \"<code>\\n\"+\n     \"from bokeh.resources import INLINE\\n\"+\n     \"output_notebook(resources=INLINE)\\n\"+\n     \"</code>\\n\"+\n     \"</div>\"}};\n\n  function display_loaded(error = null) {\n    const el = document.getElementById(\"cd7de7b1-c783-4b36-b97e-27789b798bbd\");\n    if (el != null) {\n      const html = (() => {\n        if (typeof root.Bokeh === \"undefined\") {\n          if (error == null) {\n            return \"BokehJS is loading ...\";\n          } else {\n            return \"BokehJS failed to load.\";\n          }\n        } else {\n          const prefix = `BokehJS ${root.Bokeh.version}`;\n          if (error == null) {\n            return `${prefix} successfully loaded.`;\n          } else {\n            return `${prefix} <b>encountered errors</b> while loading and may not function as expected.`;\n          }\n        }\n      })();\n      el.innerHTML = html;\n\n      if (error != null) {\n        const wrapper = document.createElement(\"div\");\n        wrapper.style.overflow = \"auto\";\n        wrapper.style.height = \"5em\";\n        wrapper.style.resize = \"vertical\";\n        const content = document.createElement(\"div\");\n        content.style.fontFamily = \"monospace\";\n        content.style.whiteSpace = \"pre-wrap\";\n        content.style.backgroundColor = \"rgb(255, 221, 221)\";\n        content.textContent = error.stack ?? error.toString();\n        wrapper.append(content);\n        el.append(wrapper);\n      }\n    } else if (Date.now() < root._bokeh_timeout) {\n      setTimeout(() => display_loaded(error), 100);\n    }\n  }\n\n  function run_callbacks() {\n    try {\n      root._bokeh_onload_callbacks.forEach(function(callback) {\n        if (callback != null)\n          callback();\n      });\n    } finally {\n      delete root._bokeh_onload_callbacks\n    }\n    console.debug(\"Bokeh: all callbacks have finished\");\n  }\n\n  function load_libs(css_urls, js_urls, callback) {\n    if (css_urls == null) css_urls = [];\n    if (js_urls == null) js_urls = [];\n\n    root._bokeh_onload_callbacks.push(callback);\n    if (root._bokeh_is_loading > 0) {\n      console.debug(\"Bokeh: BokehJS is being loaded, scheduling callback at\", now());\n      return null;\n    }\n    if (js_urls == null || js_urls.length === 0) {\n      run_callbacks();\n      return null;\n    }\n    console.debug(\"Bokeh: BokehJS not loaded, scheduling load and callback at\", now());\n    root._bokeh_is_loading = css_urls.length + js_urls.length;\n\n    function on_load() {\n      root._bokeh_is_loading--;\n      if (root._bokeh_is_loading === 0) {\n        console.debug(\"Bokeh: all BokehJS libraries/stylesheets loaded\");\n        run_callbacks()\n      }\n    }\n\n    function on_error(url) {\n      console.error(\"failed to load \" + url);\n    }\n\n    for (let i = 0; i < css_urls.length; i++) {\n      const url = css_urls[i];\n      const element = document.createElement(\"link\");\n      element.onload = on_load;\n      element.onerror = on_error.bind(null, url);\n      element.rel = \"stylesheet\";\n      element.type = \"text/css\";\n      element.href = url;\n      console.debug(\"Bokeh: injecting link tag for BokehJS stylesheet: \", url);\n      document.body.appendChild(element);\n    }\n\n    for (let i = 0; i < js_urls.length; i++) {\n      const url = js_urls[i];\n      const element = document.createElement('script');\n      element.onload = on_load;\n      element.onerror = on_error.bind(null, url);\n      element.async = false;\n      element.src = url;\n      console.debug(\"Bokeh: injecting script tag for BokehJS library: \", url);\n      document.head.appendChild(element);\n    }\n  };\n\n  function inject_raw_css(css) {\n    const element = document.createElement(\"style\");\n    element.appendChild(document.createTextNode(css));\n    document.body.appendChild(element);\n  }\n\n  const js_urls = [\"https://cdn.bokeh.org/bokeh/release/bokeh-3.5.2.min.js\", \"https://cdn.bokeh.org/bokeh/release/bokeh-gl-3.5.2.min.js\", \"https://cdn.bokeh.org/bokeh/release/bokeh-widgets-3.5.2.min.js\", \"https://cdn.bokeh.org/bokeh/release/bokeh-tables-3.5.2.min.js\", \"https://cdn.bokeh.org/bokeh/release/bokeh-mathjax-3.5.2.min.js\"];\n  const css_urls = [];\n\n  const inline_js = [    function(Bokeh) {\n      Bokeh.set_log_level(\"info\");\n    },\nfunction(Bokeh) {\n    }\n  ];\n\n  function run_inline_js() {\n    if (root.Bokeh !== undefined || force === true) {\n      try {\n            for (let i = 0; i < inline_js.length; i++) {\n      inline_js[i].call(root, root.Bokeh);\n    }\n\n      } catch (error) {display_loaded(error);throw error;\n      }if (force === true) {\n        display_loaded();\n      }} else if (Date.now() < root._bokeh_timeout) {\n      setTimeout(run_inline_js, 100);\n    } else if (!root._bokeh_failed_load) {\n      console.log(\"Bokeh: BokehJS failed to load within specified timeout.\");\n      root._bokeh_failed_load = true;\n    } else if (force !== true) {\n      const cell = $(document.getElementById(\"cd7de7b1-c783-4b36-b97e-27789b798bbd\")).parents('.cell').data().cell;\n      cell.output_area.append_execute_result(NB_LOAD_WARNING)\n    }\n  }\n\n  if (root._bokeh_is_loading === 0) {\n    console.debug(\"Bokeh: BokehJS loaded, going straight to plotting\");\n    run_inline_js();\n  } else {\n    load_libs(css_urls, js_urls, function() {\n      console.debug(\"Bokeh: BokehJS plotting callback run at\", now());\n      run_inline_js();\n    });\n  }\n}(window));",
      "application/vnd.bokehjs_load.v0+json": ""
     },
     "metadata": {},
     "output_type": "display_data"
    }
   ],
   "source": [
    "import geopandas as gpd\n",
    "import fiona\n",
    "import os\n",
    "import matplotlib.pyplot as plt\n",
    "from matplotlib.lines import Line2D\n",
    "import configparser\n",
    "import momepy\n",
    "import libpysal\n",
    "import osmnx\n",
    "import pandas\n",
    "from bokeh.io import output_notebook\n",
    "from bokeh.plotting import show\n",
    "from clustergram import Clustergram\n",
    "from shapely.geometry import Point\n",
    "local_crs = \"EPSG:2039\"\n",
    "output_notebook()"
   ]
  },
  {
   "cell_type": "markdown",
   "metadata": {},
   "source": [
    "Load all the gdb files from michael folders"
   ]
  },
  {
   "cell_type": "code",
   "execution_count": 6,
   "metadata": {
    "ExecuteTime": {
     "end_time": "2024-09-10T08:35:06.581914Z",
     "start_time": "2024-09-10T08:35:06.540294Z"
    }
   },
   "outputs": [
    {
     "name": "stdout",
     "output_type": "stream",
     "text": [
      "C:\\\\Users\\\\david\\\\Desktop\n",
      "C:\\\\Users\\\\david\\\\Desktop\\Michaels_Data\n",
      "GDB Files: []\n"
     ]
    }
   ],
   "source": [
    "\n",
    "config = configparser.ConfigParser()\n",
    "config_file = 'config.ini'\n",
    "# check if file exists\n",
    "if not os.path.isfile(config_file):\n",
    "    # create a simple config file\n",
    "    config['Paths'] = {'root_folder': ''}\n",
    "    with open(config_file, 'w') as configfile:\n",
    "        config.write(configfile)\n",
    "    print(f\"Created configuration file '{config_file}'.\")\n",
    "\n",
    "config.read('config.ini')\n",
    "\n",
    "root_folder = config['Paths']['root_folder']  \n",
    "print(root_folder)\n",
    "root_folder = os.path.join(root_folder, \"Michaels_Data\")\n",
    "print(root_folder)\n",
    "# List all .gdb directories in the folder\n",
    "gdb_files = []\n",
    "for dirpath, dirnames, filenames in os.walk(root_folder):\n",
    "    # Check if the folder contains a \"commondata\" folder\n",
    "    if \"commondata\" in dirnames:\n",
    "        commondata_folder = os.path.join(dirpath, \"commondata\")\n",
    "        commondata_folder = os.path.normpath(commondata_folder)\n",
    "\n",
    "        # List all .gdb files in the \"commondata\" folder\n",
    "        for f in os.listdir(commondata_folder):\n",
    "            if f.endswith('.gdb'):\n",
    "                gdb_files.append(os.path.join(commondata_folder, f))\n",
    "\n",
    "# Print the collected .gdb files\n",
    "for gdb in gdb_files:\n",
    "    print(gdb)\n",
    "print(\"GDB Files:\", gdb_files)"
   ]
  },
  {
   "cell_type": "markdown",
   "metadata": {},
   "source": [
    "Calculating metrics over buildings:"
   ]
  },
  {
   "cell_type": "code",
   "execution_count": 3,
   "metadata": {
    "ExecuteTime": {
     "end_time": "2024-09-10T08:35:18.091186Z",
     "start_time": "2024-09-10T08:35:08.666653Z"
    }
   },
   "outputs": [
    {
     "ename": "IndexError",
     "evalue": "list index out of range",
     "output_type": "error",
     "traceback": [
      "\u001b[1;31m---------------------------------------------------------------------------\u001b[0m",
      "\u001b[1;31mIndexError\u001b[0m                                Traceback (most recent call last)",
      "Cell \u001b[1;32mIn[3], line 2\u001b[0m\n\u001b[0;32m      1\u001b[0m \u001b[38;5;66;03m# load municipal buildings\u001b[39;00m\n\u001b[1;32m----> 2\u001b[0m gdb_file \u001b[38;5;241m=\u001b[39m \u001b[43mgdb_files\u001b[49m\u001b[43m[\u001b[49m\u001b[38;5;241;43m4\u001b[39;49m\u001b[43m]\u001b[49m  \u001b[38;5;66;03m# Modify if you want to choose a different .gdb\u001b[39;00m\n\u001b[0;32m      3\u001b[0m \u001b[38;5;28mprint\u001b[39m(gdb_file)\n\u001b[0;32m      5\u001b[0m \u001b[38;5;66;03m# List the layers in the selected .gdb\u001b[39;00m\n",
      "\u001b[1;31mIndexError\u001b[0m: list index out of range"
     ]
    }
   ],
   "source": [
    "# load municipal buildings\n",
    "gdb_file = gdb_files[4]  # Modify if you want to choose a different .gdb\n",
    "print(gdb_file)\n",
    "\n",
    "# List the layers in the selected .gdb\n",
    "layers = fiona.listlayers(gdb_file)\n",
    "print(\"Layers in the selected GDB:\", layers)\n",
    "\n",
    "# Choose a specific layer within the .gdb\n",
    "textures_layer = layers[0]  # Modify if you want to choose a different layer\n",
    "\n",
    "# Load the specific layer\n",
    "gdf = gpd.read_file(gdb_file, layer=textures_layer)"
   ]
  },
  {
   "cell_type": "code",
   "execution_count": 84,
   "metadata": {
    "ExecuteTime": {
     "end_time": "2024-09-10T08:35:24.703033Z",
     "start_time": "2024-09-10T08:35:18.091186Z"
    }
   },
   "outputs": [],
   "source": [
    "buildings = gdf.to_crs(local_crs)\n",
    "\n",
    "# remove the duplicates\n",
    "duplicates = buildings[buildings.duplicated(subset='geometry', keep=False)]\n",
    "buildings = buildings.drop_duplicates(subset='geometry', keep='first')\n",
    "buildings = buildings.reset_index(drop=True)"
   ]
  },
  {
   "cell_type": "code",
   "execution_count": 56,
   "metadata": {
    "ExecuteTime": {
     "end_time": "2024-09-10T07:43:26.912950Z",
     "start_time": "2024-09-10T07:43:26.898289Z"
    }
   },
   "outputs": [],
   "source": [
    "# generates a random height for each building \n",
    "import numpy as np\n",
    "\n",
    "# Generate random positive numbers\n",
    "random_numbers = np.random.rand(len(buildings))\n",
    "\n",
    "# Create a new column in the buildings DataFrame\n",
    "buildings['building_height'] = random_numbers"
   ]
  },
  {
   "cell_type": "code",
   "execution_count": 58,
   "metadata": {
    "ExecuteTime": {
     "end_time": "2024-09-10T07:43:34.017782Z",
     "start_time": "2024-09-10T07:43:33.954858Z"
    }
   },
   "outputs": [],
   "source": [
    "# Calculate Building Height\n",
    "# We need to have a 'height_col' or a similar column to calculate this\n",
    "\n",
    "# Calculate Volume, requires floor_area and height\n",
    "# Assuming height and area have been calculated and are stored in 'height' and 'floor_area' columns\n",
    "buildings['floor_area'] = momepy.floor_area(buildings['Shape_Area'],buildings['building_height'])\n",
    "buildings['volume'] = momepy.volume(buildings['Shape_Area'], buildings['building_height'])\n",
    "buildings['form_factor'] = momepy.form_factor(buildings, buildings['building_height'])"
   ]
  },
  {
   "cell_type": "code",
   "execution_count": 64,
   "metadata": {
    "ExecuteTime": {
     "end_time": "2024-09-10T07:47:10.552757Z",
     "start_time": "2024-09-10T07:47:07.061827Z"
    }
   },
   "outputs": [],
   "source": [
    "# Basic geometric properties\n",
    "buildings['perimeter'] = buildings.geometry.length\n",
    "buildings['shape_index'] = momepy.shape_index(buildings,momepy.longest_axis_length(buildings))\n",
    "buildings['circular_compactness'] = momepy.circular_compactness(buildings)\n",
    "buildings['square_compactness'] = momepy.square_compactness(buildings)\n",
    "buildings['weighted_axis_compactness'] = momepy.compactness_weighted_axis(buildings)\n",
    "buildings['convexity'] = momepy.convexity(buildings)\n",
    "buildings['courtyard_area'] = momepy.courtyard_area(buildings)\n",
    "buildings['courtyard_index'] = momepy.courtyard_index(buildings)\n",
    "buildings['corners'] = momepy.corners(buildings, include_interiors=True)   # include_interiors=False works only for polygons not multipolygons\n",
    "buildings['fractal_dimension'] = momepy.fractal_dimension(buildings)\n",
    "buildings['facade_ratio'] = momepy.facade_ratio(buildings)"
   ]
  },
  {
   "cell_type": "code",
   "execution_count": 65,
   "metadata": {
    "ExecuteTime": {
     "end_time": "2024-09-10T07:49:10.862851Z",
     "start_time": "2024-09-10T07:47:38.925365Z"
    }
   },
   "outputs": [],
   "source": [
    "# More complex morphological metrics\n",
    "buildings['orientation'] = momepy.orientation(buildings)\n",
    "buildings['longest_axis_length'] = momepy.longest_axis_length(buildings)\n",
    "buildings['equivalent_rectangular_index'] = momepy.equivalent_rectangular_index(buildings)\n",
    "buildings['elongation'] = momepy.elongation(buildings)\n",
    "buildings['linearity'] = momepy.linearity(buildings)\n",
    "buildings['rectangularity'] = momepy.rectangularity(buildings)\n",
    "buildings['squareness'] = momepy.squareness(buildings, include_interiors=True)  \n",
    "buildings['shared_walls_length'] = momepy.shared_walls(buildings)"
   ]
  },
  {
   "cell_type": "code",
   "execution_count": 66,
   "metadata": {
    "ExecuteTime": {
     "end_time": "2024-09-10T07:51:41.785180Z",
     "start_time": "2024-09-10T07:50:35.387733Z"
    }
   },
   "outputs": [
    {
     "name": "stderr",
     "output_type": "stream",
     "text": [
      "C:\\Users\\ameer\\PycharmProjects\\DSSG\\.venv\\Lib\\site-packages\\momepy\\functional\\_distribution.py:285: UserWarning: The indices of the two GeoSeries are different.\n",
      "  (geoms.distance(geometry.geometry, align=True)).groupby(level=0).mean()\n"
     ]
    }
   ],
   "source": [
    "# Metrics related to building adjacency and Graph\n",
    "from libpysal import graph\n",
    "delaunay = graph.Graph.build_triangulation(buildings.centroid,coplanar='clique').assign_self_weight()\n",
    "orientation = momepy.orientation(buildings)\n",
    "buildings['alignment'] = momepy.alignment(orientation, delaunay)\n",
    "\n",
    "knn15 = graph.Graph.build_knn(buildings.centroid, k=15, coplanar='clique')  # adjust k if needed   \n",
    "contiguity = graph.Graph.build_contiguity(buildings)\n",
    "buildings['adjacency'] = momepy.building_adjacency(contiguity,knn15)\n",
    "buildings['mean_interbuilding_distance'] = momepy.mean_interbuilding_distance(buildings, delaunay, knn15)\n",
    "buildings['neighbour_distance'] = momepy.neighbor_distance(buildings, delaunay)\n",
    "buildings['courtyards_num'] = momepy.courtyards(buildings, contiguity) # Calculate the number of courtyards within the joined structure"
   ]
  },
  {
   "cell_type": "code",
   "execution_count": 67,
   "metadata": {
    "ExecuteTime": {
     "end_time": "2024-09-10T07:51:43.128637Z",
     "start_time": "2024-09-10T07:51:41.786185Z"
    }
   },
   "outputs": [],
   "source": [
    "# the following metrics caculate the diversity index of building types, it's possible to override the binning method (refer to the full documentation)\n",
    "from numbers import Number\n",
    "import inequality  # required for Theil index\n",
    "knn5 = graph.Graph.build_knn(buildings.centroid, k=5)\n",
    "for col in buildings.columns:\n",
    "    if isinstance(buildings[col],Number):\n",
    "        buildings[f'{col}_shannon'] = momepy.shannon(buildings[col], knn5)\n",
    "        buildings[f'{col}_simpson'] = momepy.simpson(buildings[col], knn5)\n",
    "        buildings[f'{col}_theil'] = momepy.theil(buildings[col], knn5)\n",
    "        buildings[f'{col}_values_range'] = momepy.values_range(buildings[col], knn5)\n",
    "        buildings[f'{col}_mean_deviation'] = momepy.mean_deviation(buildings[col], knn5)"
   ]
  },
  {
   "cell_type": "code",
   "execution_count": 68,
   "metadata": {
    "ExecuteTime": {
     "end_time": "2024-09-10T07:51:43.139224Z",
     "start_time": "2024-09-10T07:51:43.130219Z"
    }
   },
   "outputs": [],
   "source": [
    "# This is a modified version of the momepy.buffered_limit function that allows for adaptive buffer calculation on our data\n",
    "from libpysal import graph\n",
    "from packaging.version import Version\n",
    "import numpy as np\n",
    "def buffered_limit(gdf,buffer: float | str = 100,min_buffer: float = 0,max_buffer: float = 100,**kwargs,):\n",
    "   \n",
    "    if buffer == \"adaptive\":\n",
    "        \n",
    "        gabriel = graph.Graph.build_triangulation(gdf.centroid, \"gabriel\", kernel=\"identity\", coplanar='clique')\n",
    "        max_dist = gabriel.aggregate(\"max\")\n",
    "        buffer = np.clip(max_dist / 2 + max_dist * 0.1, min_buffer, max_buffer).values\n",
    "\n",
    "    elif not isinstance(buffer, int | float):\n",
    "        raise ValueError(\"`buffer` must be either 'adaptive' or a number.\")\n",
    "\n",
    "    GPD_GE_10 = Version(gpd.__version__) >= Version(\"1.0dev\")\n",
    "    return (\n",
    "        gdf.buffer(buffer, **kwargs).union_all()\n",
    "        if GPD_GE_10\n",
    "        else gdf.buffer(buffer, **kwargs).unary_union\n",
    "    )"
   ]
  },
  {
   "cell_type": "code",
   "execution_count": 69,
   "metadata": {
    "ExecuteTime": {
     "end_time": "2024-09-10T08:00:47.630382Z",
     "start_time": "2024-09-10T07:51:43.139224Z"
    }
   },
   "outputs": [],
   "source": [
    "# metrics related to tessellation\n",
    "limit = buffered_limit(buildings, buffer = 'adaptive')\n",
    "tessellation = momepy.morphological_tessellation(buildings) # need adjustment\n",
    "blg_orient = momepy.orientation(buildings)\n",
    "tess_orient = momepy.orientation(tessellation)\n",
    "buildings['cell_orientation'] = momepy.cell_alignment(blg_orient, tess_orient)\n",
    "buildings['num_of_neighbours'] = momepy.neighbors(tessellation, contiguity, weighted=True)"
   ]
  },
  {
   "cell_type": "markdown",
   "metadata": {},
   "source": [
    "Calculate metrics over streets"
   ]
  },
  {
   "cell_type": "code",
   "execution_count": null,
   "metadata": {},
   "outputs": [],
   "source": [
    "place = \"Jerusalem, Israel\"\n",
    "local_crs = \"EPSG:2039\"\n",
    "\n",
    "# Geocode using Nominatim\n",
    "# latitude = 31.7683\n",
    "# longitude = 35.2137\n",
    "# point = gpd.GeoDataFrame(geometry=[Point(longitude, latitude)], crs=\"EPSG:4326\")\n",
    "\n",
    "#Load open street buildings\n",
    "osm_buildings = osmnx.features_from_place(place, tags={\"building\": True})\n",
    "osm_buildings = osm_buildings[osm_buildings.geom_type == \"Polygon\"].reset_index(drop=True)\n",
    "osm_buildings = osm_buildings[[\"geometry\"]].to_crs(local_crs)\n",
    "osm_buildings.head()\n",
    "osm_graph = osmnx.graph_from_place(place, network_type=\"drive\")\n",
    "osm_graph = osmnx.projection.project_graph(osm_graph, to_crs=local_crs)\n",
    "streets = osmnx.graph_to_gdfs(\n",
    "    osmnx.convert.to_undirected(osm_graph),\n",
    "    nodes=False,\n",
    "    edges=True,\n",
    "    node_geometry=False,\n",
    "    fill_edge_geometry=True,\n",
    ").reset_index(drop=True)\n",
    "print(streets.columns)\n",
    "streets_geometry = streets['geometry']"
   ]
  },
  {
   "cell_type": "code",
   "execution_count": null,
   "metadata": {},
   "outputs": [],
   "source": [
    "streets['orientation'] = momepy.orientation(streets_geometry)\n",
    "streets['longest_axis_length'] = momepy.longest_axis_length(streets_geometry)\n",
    "# streets['perimeter_wall'] = momepy.perimeter_wall(streets_geometry)\n",
    "streets['compactness_weighted_axis'] = momepy.compactness_weighted_axis(streets_geometry)\n",
    "streets['linearity'] = momepy.linearity(streets_geometry)\n",
    "\n",
    "streets['squareness'] = momepy.elongation(streets_geometry)\n",
    "streets['alignment'] = momepy.alignment(streets['orientation'], osm_graph)\n",
    "streets['cell_alignment'] = momepy.cell_alignment(streets['orientation'], osm_graph)\n",
    "streets['neighbor_distance'] = momepy.neighbor_distance(streets_geometry, osm_graph)\n",
    "streets['neighbors'] = momepy.neighbors(streets_geometry, osm_graph)\n",
    "streets['betweenness_centrality'] = momepy.betweenness_centrality(osm_graph)\n",
    "\n",
    "\n",
    "\n",
    "streets = momepy.remove_false_nodes(streets)\n",
    "streets[\"length\"] = streets.length\n",
    "streets[\"linearity\"] = momepy.linearity(streets)\n",
    "\n",
    "\n",
    "streets = momepy.remove_false_nodes(streets)\n",
    "streets[\"length\"] = streets.length\n",
    "streets[\"linearity\"] = momepy.linearity(streets)"
   ]
  },
  {
   "cell_type": "markdown",
   "metadata": {},
   "source": [
    "metrics that not included on streets: Non related metrics for streets: courtyard_area, perimeter_wall, centroid_corner_distance, circular_compactness (works on polygons), convexity, corners, courtyard_index(relevant for closed polygons), elongation(how streched the polygon is), equivalent_rectangular_index, facade ratio, form_factor, fractal_dimension, rectangularity, shape_index, squere compactness, "
   ]
  },
  {
   "cell_type": "code",
   "execution_count": null,
   "metadata": {},
   "outputs": [],
   "source": [
    "# shared metrics between buildings and streets\n",
    "# Ensure you have the necessary context (like street networks) for these:\n",
    "# gdf_network =   # the street network\n",
    "# buildings['node_density'] = momepy.node_density(gdf_network, buildings, radius=300)\n",
    "# buildings['street_profile'] = momepy.street_profile(gdf_network, buildings, radius=300)\n",
    "# buildings['reach'] = momepy.Reach(buildings, gdf_network, distance=500)\n",
    "\n",
    "blg_orient = momepy.orientation(buildings)\n",
    "str_orient = momepy.orientation(streets)\n",
    "momepy.street_alignment(blg_orient, str_orient, buildings[\"street_index\"])\n"
   ]
  }
 ],
 "metadata": {
  "kernelspec": {
   "display_name": "Python 3 (ipykernel)",
   "language": "python",
   "name": "python3"
  },
  "language_info": {
   "codemirror_mode": {
    "name": "ipython",
    "version": 3
   },
   "file_extension": ".py",
   "mimetype": "text/x-python",
   "name": "python",
   "nbconvert_exporter": "python",
   "pygments_lexer": "ipython3",
   "version": "3.12.5"
  }
 },
 "nbformat": 4,
 "nbformat_minor": 2
}
