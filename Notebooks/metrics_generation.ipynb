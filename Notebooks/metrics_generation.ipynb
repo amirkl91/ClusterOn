{
 "cells": [
  {
   "cell_type": "code",
   "execution_count": 1,
   "metadata": {
    "ExecuteTime": {
     "end_time": "2024-09-10T07:43:05.464952Z",
     "start_time": "2024-09-10T07:43:05.440576Z"
    }
   },
   "outputs": [
    {
     "name": "stderr",
     "output_type": "stream",
     "text": [
      "c:\\Users\\david\\Desktop\\DSSG\\.venv\\Lib\\site-packages\\tqdm\\auto.py:21: TqdmWarning: IProgress not found. Please update jupyter and ipywidgets. See https://ipywidgets.readthedocs.io/en/stable/user_install.html\n",
      "  from .autonotebook import tqdm as notebook_tqdm\n"
     ]
    },
    {
     "data": {
      "text/html": [
       "    <style>\n",
       "        .bk-notebook-logo {\n",
       "            display: block;\n",
       "            width: 20px;\n",
       "            height: 20px;\n",
       "            background-image: url(data:image/png;base64,iVBORw0KGgoAAAANSUhEUgAAABQAAAAUCAYAAACNiR0NAAAABHNCSVQICAgIfAhkiAAAAAlwSFlzAAALEgAACxIB0t1+/AAAABx0RVh0U29mdHdhcmUAQWRvYmUgRmlyZXdvcmtzIENTNui8sowAAAOkSURBVDiNjZRtaJVlGMd/1/08zzln5zjP1LWcU9N0NkN8m2CYjpgQYQXqSs0I84OLIC0hkEKoPtiH3gmKoiJDU7QpLgoLjLIQCpEsNJ1vqUOdO7ppbuec5+V+rj4ctwzd8IIbbi6u+8f1539dt3A78eXC7QizUF7gyV1fD1Yqg4JWz84yffhm0qkFqBogB9rM8tZdtwVsPUhWhGcFJngGeWrPzHm5oaMmkfEg1usvLFyc8jLRqDOMru7AyC8saQr7GG7f5fvDeH7Ej8CM66nIF+8yngt6HWaKh7k49Soy9nXurCi1o3qUbS3zWfrYeQDTB/Qj6kX6Ybhw4B+bOYoLKCC9H3Nu/leUTZ1JdRWkkn2ldcCamzrcf47KKXdAJllSlxAOkRgyHsGC/zRday5Qld9DyoM4/q/rUoy/CXh3jzOu3bHUVZeU+DEn8FInkPBFlu3+nW3Nw0mk6vCDiWg8CeJaxEwuHS3+z5RgY+YBR6V1Z1nxSOfoaPa4LASWxxdNp+VWTk7+4vzaou8v8PN+xo+KY2xsw6une2frhw05CTYOmQvsEhjhWjn0bmXPjpE1+kplmmkP3suftwTubK9Vq22qKmrBhpY4jvd5afdRA3wGjFAgcnTK2s4hY0/GPNIb0nErGMCRxWOOX64Z8RAC4oCXdklmEvcL8o0BfkNK4lUg9HTl+oPlQxdNo3Mg4Nv175e/1LDGzZen30MEjRUtmXSfiTVu1kK8W4txyV6BMKlbgk3lMwYCiusNy9fVfvvwMxv8Ynl6vxoByANLTWplvuj/nF9m2+PDtt1eiHPBr1oIfhCChQMBw6Aw0UulqTKZdfVvfG7VcfIqLG9bcldL/+pdWTLxLUy8Qq38heUIjh4XlzZxzQm19lLFlr8vdQ97rjZVOLf8nclzckbcD4wxXMidpX30sFd37Fv/GtwwhzhxGVAprjbg0gCAEeIgwCZyTV2Z1REEW8O4py0wsjeloKoMr6iCY6dP92H6Vw/oTyICIthibxjm/DfN9lVz8IqtqKYLUXfoKVMVQVVJOElGjrnnUt9T9wbgp8AyYKaGlqingHZU/uG2NTZSVqwHQTWkx9hxjkpWDaCg6Ckj5qebgBVbT3V3NNXMSiWSDdGV3hrtzla7J+duwPOToIg42ChPQOQjspnSlp1V+Gjdged7+8UN5CRAV7a5EdFNwCjEaBR27b3W890TE7g24NAP/mMDXRWrGoFPQI9ls/MWO2dWFAar/xcOIImbbpA3zgAAAABJRU5ErkJggg==);\n",
       "        }\n",
       "    </style>\n",
       "    <div>\n",
       "        <a href=\"https://bokeh.org\" target=\"_blank\" class=\"bk-notebook-logo\"></a>\n",
       "        <span id=\"bb1a5547-5fa0-4530-bc5f-ac9241c79b41\">Loading BokehJS ...</span>\n",
       "    </div>\n"
      ]
     },
     "metadata": {},
     "output_type": "display_data"
    },
    {
     "data": {
      "application/javascript": "'use strict';\n(function(root) {\n  function now() {\n    return new Date();\n  }\n\n  const force = true;\n\n  if (typeof root._bokeh_onload_callbacks === \"undefined\" || force === true) {\n    root._bokeh_onload_callbacks = [];\n    root._bokeh_is_loading = undefined;\n  }\n\nconst JS_MIME_TYPE = 'application/javascript';\n  const HTML_MIME_TYPE = 'text/html';\n  const EXEC_MIME_TYPE = 'application/vnd.bokehjs_exec.v0+json';\n  const CLASS_NAME = 'output_bokeh rendered_html';\n\n  /**\n   * Render data to the DOM node\n   */\n  function render(props, node) {\n    const script = document.createElement(\"script\");\n    node.appendChild(script);\n  }\n\n  /**\n   * Handle when an output is cleared or removed\n   */\n  function handleClearOutput(event, handle) {\n    function drop(id) {\n      const view = Bokeh.index.get_by_id(id)\n      if (view != null) {\n        view.model.document.clear()\n        Bokeh.index.delete(view)\n      }\n    }\n\n    const cell = handle.cell;\n\n    const id = cell.output_area._bokeh_element_id;\n    const server_id = cell.output_area._bokeh_server_id;\n\n    // Clean up Bokeh references\n    if (id != null) {\n      drop(id)\n    }\n\n    if (server_id !== undefined) {\n      // Clean up Bokeh references\n      const cmd_clean = \"from bokeh.io.state import curstate; print(curstate().uuid_to_server['\" + server_id + \"'].get_sessions()[0].document.roots[0]._id)\";\n      cell.notebook.kernel.execute(cmd_clean, {\n        iopub: {\n          output: function(msg) {\n            const id = msg.content.text.trim()\n            drop(id)\n          }\n        }\n      });\n      // Destroy server and session\n      const cmd_destroy = \"import bokeh.io.notebook as ion; ion.destroy_server('\" + server_id + \"')\";\n      cell.notebook.kernel.execute(cmd_destroy);\n    }\n  }\n\n  /**\n   * Handle when a new output is added\n   */\n  function handleAddOutput(event, handle) {\n    const output_area = handle.output_area;\n    const output = handle.output;\n\n    // limit handleAddOutput to display_data with EXEC_MIME_TYPE content only\n    if ((output.output_type != \"display_data\") || (!Object.prototype.hasOwnProperty.call(output.data, EXEC_MIME_TYPE))) {\n      return\n    }\n\n    const toinsert = output_area.element.find(\".\" + CLASS_NAME.split(' ')[0]);\n\n    if (output.metadata[EXEC_MIME_TYPE][\"id\"] !== undefined) {\n      toinsert[toinsert.length - 1].firstChild.textContent = output.data[JS_MIME_TYPE];\n      // store reference to embed id on output_area\n      output_area._bokeh_element_id = output.metadata[EXEC_MIME_TYPE][\"id\"];\n    }\n    if (output.metadata[EXEC_MIME_TYPE][\"server_id\"] !== undefined) {\n      const bk_div = document.createElement(\"div\");\n      bk_div.innerHTML = output.data[HTML_MIME_TYPE];\n      const script_attrs = bk_div.children[0].attributes;\n      for (let i = 0; i < script_attrs.length; i++) {\n        toinsert[toinsert.length - 1].firstChild.setAttribute(script_attrs[i].name, script_attrs[i].value);\n        toinsert[toinsert.length - 1].firstChild.textContent = bk_div.children[0].textContent\n      }\n      // store reference to server id on output_area\n      output_area._bokeh_server_id = output.metadata[EXEC_MIME_TYPE][\"server_id\"];\n    }\n  }\n\n  function register_renderer(events, OutputArea) {\n\n    function append_mime(data, metadata, element) {\n      // create a DOM node to render to\n      const toinsert = this.create_output_subarea(\n        metadata,\n        CLASS_NAME,\n        EXEC_MIME_TYPE\n      );\n      this.keyboard_manager.register_events(toinsert);\n      // Render to node\n      const props = {data: data, metadata: metadata[EXEC_MIME_TYPE]};\n      render(props, toinsert[toinsert.length - 1]);\n      element.append(toinsert);\n      return toinsert\n    }\n\n    /* Handle when an output is cleared or removed */\n    events.on('clear_output.CodeCell', handleClearOutput);\n    events.on('delete.Cell', handleClearOutput);\n\n    /* Handle when a new output is added */\n    events.on('output_added.OutputArea', handleAddOutput);\n\n    /**\n     * Register the mime type and append_mime function with output_area\n     */\n    OutputArea.prototype.register_mime_type(EXEC_MIME_TYPE, append_mime, {\n      /* Is output safe? */\n      safe: true,\n      /* Index of renderer in `output_area.display_order` */\n      index: 0\n    });\n  }\n\n  // register the mime type if in Jupyter Notebook environment and previously unregistered\n  if (root.Jupyter !== undefined) {\n    const events = require('base/js/events');\n    const OutputArea = require('notebook/js/outputarea').OutputArea;\n\n    if (OutputArea.prototype.mime_types().indexOf(EXEC_MIME_TYPE) == -1) {\n      register_renderer(events, OutputArea);\n    }\n  }\n  if (typeof (root._bokeh_timeout) === \"undefined\" || force === true) {\n    root._bokeh_timeout = Date.now() + 5000;\n    root._bokeh_failed_load = false;\n  }\n\n  const NB_LOAD_WARNING = {'data': {'text/html':\n     \"<div style='background-color: #fdd'>\\n\"+\n     \"<p>\\n\"+\n     \"BokehJS does not appear to have successfully loaded. If loading BokehJS from CDN, this \\n\"+\n     \"may be due to a slow or bad network connection. Possible fixes:\\n\"+\n     \"</p>\\n\"+\n     \"<ul>\\n\"+\n     \"<li>re-rerun `output_notebook()` to attempt to load from CDN again, or</li>\\n\"+\n     \"<li>use INLINE resources instead, as so:</li>\\n\"+\n     \"</ul>\\n\"+\n     \"<code>\\n\"+\n     \"from bokeh.resources import INLINE\\n\"+\n     \"output_notebook(resources=INLINE)\\n\"+\n     \"</code>\\n\"+\n     \"</div>\"}};\n\n  function display_loaded(error = null) {\n    const el = document.getElementById(\"bb1a5547-5fa0-4530-bc5f-ac9241c79b41\");\n    if (el != null) {\n      const html = (() => {\n        if (typeof root.Bokeh === \"undefined\") {\n          if (error == null) {\n            return \"BokehJS is loading ...\";\n          } else {\n            return \"BokehJS failed to load.\";\n          }\n        } else {\n          const prefix = `BokehJS ${root.Bokeh.version}`;\n          if (error == null) {\n            return `${prefix} successfully loaded.`;\n          } else {\n            return `${prefix} <b>encountered errors</b> while loading and may not function as expected.`;\n          }\n        }\n      })();\n      el.innerHTML = html;\n\n      if (error != null) {\n        const wrapper = document.createElement(\"div\");\n        wrapper.style.overflow = \"auto\";\n        wrapper.style.height = \"5em\";\n        wrapper.style.resize = \"vertical\";\n        const content = document.createElement(\"div\");\n        content.style.fontFamily = \"monospace\";\n        content.style.whiteSpace = \"pre-wrap\";\n        content.style.backgroundColor = \"rgb(255, 221, 221)\";\n        content.textContent = error.stack ?? error.toString();\n        wrapper.append(content);\n        el.append(wrapper);\n      }\n    } else if (Date.now() < root._bokeh_timeout) {\n      setTimeout(() => display_loaded(error), 100);\n    }\n  }\n\n  function run_callbacks() {\n    try {\n      root._bokeh_onload_callbacks.forEach(function(callback) {\n        if (callback != null)\n          callback();\n      });\n    } finally {\n      delete root._bokeh_onload_callbacks\n    }\n    console.debug(\"Bokeh: all callbacks have finished\");\n  }\n\n  function load_libs(css_urls, js_urls, callback) {\n    if (css_urls == null) css_urls = [];\n    if (js_urls == null) js_urls = [];\n\n    root._bokeh_onload_callbacks.push(callback);\n    if (root._bokeh_is_loading > 0) {\n      console.debug(\"Bokeh: BokehJS is being loaded, scheduling callback at\", now());\n      return null;\n    }\n    if (js_urls == null || js_urls.length === 0) {\n      run_callbacks();\n      return null;\n    }\n    console.debug(\"Bokeh: BokehJS not loaded, scheduling load and callback at\", now());\n    root._bokeh_is_loading = css_urls.length + js_urls.length;\n\n    function on_load() {\n      root._bokeh_is_loading--;\n      if (root._bokeh_is_loading === 0) {\n        console.debug(\"Bokeh: all BokehJS libraries/stylesheets loaded\");\n        run_callbacks()\n      }\n    }\n\n    function on_error(url) {\n      console.error(\"failed to load \" + url);\n    }\n\n    for (let i = 0; i < css_urls.length; i++) {\n      const url = css_urls[i];\n      const element = document.createElement(\"link\");\n      element.onload = on_load;\n      element.onerror = on_error.bind(null, url);\n      element.rel = \"stylesheet\";\n      element.type = \"text/css\";\n      element.href = url;\n      console.debug(\"Bokeh: injecting link tag for BokehJS stylesheet: \", url);\n      document.body.appendChild(element);\n    }\n\n    for (let i = 0; i < js_urls.length; i++) {\n      const url = js_urls[i];\n      const element = document.createElement('script');\n      element.onload = on_load;\n      element.onerror = on_error.bind(null, url);\n      element.async = false;\n      element.src = url;\n      console.debug(\"Bokeh: injecting script tag for BokehJS library: \", url);\n      document.head.appendChild(element);\n    }\n  };\n\n  function inject_raw_css(css) {\n    const element = document.createElement(\"style\");\n    element.appendChild(document.createTextNode(css));\n    document.body.appendChild(element);\n  }\n\n  const js_urls = [\"https://cdn.bokeh.org/bokeh/release/bokeh-3.5.2.min.js\", \"https://cdn.bokeh.org/bokeh/release/bokeh-gl-3.5.2.min.js\", \"https://cdn.bokeh.org/bokeh/release/bokeh-widgets-3.5.2.min.js\", \"https://cdn.bokeh.org/bokeh/release/bokeh-tables-3.5.2.min.js\", \"https://cdn.bokeh.org/bokeh/release/bokeh-mathjax-3.5.2.min.js\"];\n  const css_urls = [];\n\n  const inline_js = [    function(Bokeh) {\n      Bokeh.set_log_level(\"info\");\n    },\nfunction(Bokeh) {\n    }\n  ];\n\n  function run_inline_js() {\n    if (root.Bokeh !== undefined || force === true) {\n      try {\n            for (let i = 0; i < inline_js.length; i++) {\n      inline_js[i].call(root, root.Bokeh);\n    }\n\n      } catch (error) {display_loaded(error);throw error;\n      }if (force === true) {\n        display_loaded();\n      }} else if (Date.now() < root._bokeh_timeout) {\n      setTimeout(run_inline_js, 100);\n    } else if (!root._bokeh_failed_load) {\n      console.log(\"Bokeh: BokehJS failed to load within specified timeout.\");\n      root._bokeh_failed_load = true;\n    } else if (force !== true) {\n      const cell = $(document.getElementById(\"bb1a5547-5fa0-4530-bc5f-ac9241c79b41\")).parents('.cell').data().cell;\n      cell.output_area.append_execute_result(NB_LOAD_WARNING)\n    }\n  }\n\n  if (root._bokeh_is_loading === 0) {\n    console.debug(\"Bokeh: BokehJS loaded, going straight to plotting\");\n    run_inline_js();\n  } else {\n    load_libs(css_urls, js_urls, function() {\n      console.debug(\"Bokeh: BokehJS plotting callback run at\", now());\n      run_inline_js();\n    });\n  }\n}(window));",
      "application/vnd.bokehjs_load.v0+json": ""
     },
     "metadata": {},
     "output_type": "display_data"
    }
   ],
   "source": [
    "import geopandas as gpd\n",
    "import fiona\n",
    "import os\n",
    "import matplotlib.pyplot as plt\n",
    "from matplotlib.lines import Line2D\n",
    "import configparser\n",
    "import momepy\n",
    "import libpysal\n",
    "import osmnx\n",
    "import pandas\n",
    "from bokeh.io import output_notebook\n",
    "from bokeh.plotting import show\n",
    "from clustergram import Clustergram\n",
    "from shapely.geometry import Point\n",
    "from numbers import Number\n",
    "import inequality\n",
    "import networkx as nx\n",
    "local_crs = \"EPSG:2039\"\n",
    "output_notebook()"
   ]
  },
  {
   "cell_type": "markdown",
   "metadata": {},
   "source": [
    "Load all the gdb files from michael folders"
   ]
  },
  {
   "cell_type": "code",
   "execution_count": 2,
   "metadata": {
    "ExecuteTime": {
     "end_time": "2024-09-10T08:35:06.581914Z",
     "start_time": "2024-09-10T08:35:06.540294Z"
    }
   },
   "outputs": [
    {
     "name": "stdout",
     "output_type": "stream",
     "text": [
      "C:\\\\Users\\\\david\\\\Desktop\\\\DSSG\n",
      "C:\\\\Users\\\\david\\\\Desktop\\\\DSSG\\Michaels_Data\n",
      "C:\\Users\\david\\Desktop\\DSSG\\Michaels_Data\\all_Layers\\מרקמים\\commondata\\myproject16.gdb\n",
      "C:\\Users\\david\\Desktop\\DSSG\\Michaels_Data\\all_Layers\\מרקמים\\commondata\\scratch.gdb\n",
      "C:\\Users\\david\\Desktop\\DSSG\\Michaels_Data\\all_Layers\\מרקמים\\חלקות\\commondata\\myproject16.gdb\n",
      "C:\\Users\\david\\Desktop\\DSSG\\Michaels_Data\\all_Layers\\מרקמים\\חלקות\\commondata\\scratch.gdb\n",
      "C:\\Users\\david\\Desktop\\DSSG\\Michaels_Data\\all_Layers\\מרקמים\\מרקמים\\commondata\\myproject16.gdb\n",
      "C:\\Users\\david\\Desktop\\DSSG\\Michaels_Data\\all_Layers\\מרקמים\\מרקמים\\commondata\\scratch.gdb\n",
      "C:\\Users\\david\\Desktop\\DSSG\\Michaels_Data\\all_Layers\\מרקמים\\קונטור בניינים\\commondata\\jps_reka.gdb\n",
      "C:\\Users\\david\\Desktop\\DSSG\\Michaels_Data\\all_Layers\\מרקמים\\קונטור בניינים\\commondata\\scratch.gdb\n",
      "C:\\Users\\david\\Desktop\\DSSG\\Michaels_Data\\all_Layers\\מרקמים\\רגישות\\commondata\\myproject16.gdb\n",
      "C:\\Users\\david\\Desktop\\DSSG\\Michaels_Data\\all_Layers\\קונטור בניינים\\commondata\\scratch.gdb\n",
      "C:\\Users\\david\\Desktop\\DSSG\\Michaels_Data\\all_Layers\\רגישות\\commondata\\myproject16.gdb\n",
      "GDB Files: ['C:\\\\Users\\\\david\\\\Desktop\\\\DSSG\\\\Michaels_Data\\\\all_Layers\\\\מרקמים\\\\commondata\\\\myproject16.gdb', 'C:\\\\Users\\\\david\\\\Desktop\\\\DSSG\\\\Michaels_Data\\\\all_Layers\\\\מרקמים\\\\commondata\\\\scratch.gdb', 'C:\\\\Users\\\\david\\\\Desktop\\\\DSSG\\\\Michaels_Data\\\\all_Layers\\\\מרקמים\\\\חלקות\\\\commondata\\\\myproject16.gdb', 'C:\\\\Users\\\\david\\\\Desktop\\\\DSSG\\\\Michaels_Data\\\\all_Layers\\\\מרקמים\\\\חלקות\\\\commondata\\\\scratch.gdb', 'C:\\\\Users\\\\david\\\\Desktop\\\\DSSG\\\\Michaels_Data\\\\all_Layers\\\\מרקמים\\\\מרקמים\\\\commondata\\\\myproject16.gdb', 'C:\\\\Users\\\\david\\\\Desktop\\\\DSSG\\\\Michaels_Data\\\\all_Layers\\\\מרקמים\\\\מרקמים\\\\commondata\\\\scratch.gdb', 'C:\\\\Users\\\\david\\\\Desktop\\\\DSSG\\\\Michaels_Data\\\\all_Layers\\\\מרקמים\\\\קונטור בניינים\\\\commondata\\\\jps_reka.gdb', 'C:\\\\Users\\\\david\\\\Desktop\\\\DSSG\\\\Michaels_Data\\\\all_Layers\\\\מרקמים\\\\קונטור בניינים\\\\commondata\\\\scratch.gdb', 'C:\\\\Users\\\\david\\\\Desktop\\\\DSSG\\\\Michaels_Data\\\\all_Layers\\\\מרקמים\\\\רגישות\\\\commondata\\\\myproject16.gdb', 'C:\\\\Users\\\\david\\\\Desktop\\\\DSSG\\\\Michaels_Data\\\\all_Layers\\\\קונטור בניינים\\\\commondata\\\\scratch.gdb', 'C:\\\\Users\\\\david\\\\Desktop\\\\DSSG\\\\Michaels_Data\\\\all_Layers\\\\רגישות\\\\commondata\\\\myproject16.gdb']\n"
     ]
    }
   ],
   "source": [
    "\n",
    "config = configparser.ConfigParser()\n",
    "config_file = 'config.ini'\n",
    "# check if file exists\n",
    "if not os.path.isfile(config_file):\n",
    "    # create a simple config file\n",
    "    config['Paths'] = {'root_folder': ''}\n",
    "    with open(config_file, 'w') as configfile:\n",
    "        config.write(configfile)\n",
    "    print(f\"Created configuration file '{config_file}'.\")\n",
    "\n",
    "config.read('config.ini')\n",
    "\n",
    "root_folder = config['Paths']['root_folder']  \n",
    "print(root_folder)\n",
    "root_folder = os.path.join(root_folder, \"Michaels_Data\")\n",
    "print(root_folder)\n",
    "# List all .gdb directories in the folder\n",
    "gdb_files = []\n",
    "for dirpath, dirnames, filenames in os.walk(root_folder):\n",
    "    # Check if the folder contains a \"commondata\" folder\n",
    "    if \"commondata\" in dirnames:\n",
    "        commondata_folder = os.path.join(dirpath, \"commondata\")\n",
    "        commondata_folder = os.path.normpath(commondata_folder)\n",
    "\n",
    "        # List all .gdb files in the \"commondata\" folder\n",
    "        for f in os.listdir(commondata_folder):\n",
    "            if f.endswith('.gdb'):\n",
    "                gdb_files.append(os.path.join(commondata_folder, f))\n",
    "\n",
    "# Print the collected .gdb files\n",
    "for gdb in gdb_files:\n",
    "    print(gdb)\n",
    "print(\"GDB Files:\", gdb_files)"
   ]
  },
  {
   "cell_type": "markdown",
   "metadata": {},
   "source": [
    "Calculating metrics over buildings:"
   ]
  },
  {
   "cell_type": "code",
   "execution_count": 3,
   "metadata": {
    "ExecuteTime": {
     "end_time": "2024-09-10T08:35:18.091186Z",
     "start_time": "2024-09-10T08:35:08.666653Z"
    }
   },
   "outputs": [
    {
     "name": "stdout",
     "output_type": "stream",
     "text": [
      "C:\\Users\\david\\Desktop\\DSSG\\Michaels_Data\\all_Layers\\מרקמים\\קונטור בניינים\\commondata\\jps_reka.gdb\n",
      "Layers in the selected GDB: ['buildings']\n"
     ]
    }
   ],
   "source": [
    "# load municipal buildings\n",
    "gdb_file = next((path for path in gdb_files if 'jps_reka.gdb' in path), None)\n",
    "  # Modify if you want to choose a different .gdb\n",
    "print(gdb_file)\n",
    "\n",
    "# List the layers in the selected .gdb\n",
    "layers = fiona.listlayers(gdb_file)\n",
    "print(\"Layers in the selected GDB:\", layers)\n",
    "\n",
    "# Choose a specific layer within the .gdb\n",
    "textures_layer = layers[0]  # Modify if you want to choose a different layer\n",
    "\n",
    "# Load the specific layer\n",
    "gdf = gpd.read_file(gdb_file, layer=textures_layer)"
   ]
  },
  {
   "cell_type": "code",
   "execution_count": 4,
   "metadata": {
    "ExecuteTime": {
     "end_time": "2024-09-10T08:35:24.703033Z",
     "start_time": "2024-09-10T08:35:18.091186Z"
    }
   },
   "outputs": [],
   "source": [
    "buildings = gdf.to_crs(local_crs)\n",
    "\n",
    "# remove the duplicates\n",
    "duplicates = buildings[buildings.duplicated(subset='geometry', keep=False)]\n",
    "buildings = buildings.drop_duplicates(subset='geometry', keep='first')\n",
    "buildings = buildings.reset_index(drop=True)"
   ]
  },
  {
   "cell_type": "code",
   "execution_count": 5,
   "metadata": {
    "ExecuteTime": {
     "end_time": "2024-09-10T07:43:26.912950Z",
     "start_time": "2024-09-10T07:43:26.898289Z"
    }
   },
   "outputs": [],
   "source": [
    "# generates a random height for each building \n",
    "import numpy as np\n",
    "\n",
    "# Generate random positive numbers\n",
    "random_numbers = np.random.rand(len(buildings))\n",
    "\n",
    "# Create a new column in the buildings DataFrame\n",
    "buildings['building_height'] = random_numbers"
   ]
  },
  {
   "cell_type": "code",
   "execution_count": 6,
   "metadata": {
    "ExecuteTime": {
     "end_time": "2024-09-10T07:43:34.017782Z",
     "start_time": "2024-09-10T07:43:33.954858Z"
    }
   },
   "outputs": [],
   "source": [
    "# Calculate Building Height\n",
    "# We need to have a 'height_col' or a similar column to calculate this\n",
    "\n",
    "# Calculate Volume, requires floor_area and height\n",
    "# Assuming height and area have been calculated and are stored in 'height' and 'floor_area' columns\n",
    "buildings['floor_area'] = momepy.floor_area(buildings['Shape_Area'],buildings['building_height'])\n",
    "buildings['volume'] = momepy.volume(buildings['Shape_Area'], buildings['building_height'])\n",
    "buildings['form_factor'] = momepy.form_factor(buildings, buildings['building_height'])"
   ]
  },
  {
   "cell_type": "code",
   "execution_count": 7,
   "metadata": {
    "ExecuteTime": {
     "end_time": "2024-09-10T07:47:10.552757Z",
     "start_time": "2024-09-10T07:47:07.061827Z"
    }
   },
   "outputs": [
    {
     "name": "stderr",
     "output_type": "stream",
     "text": [
      "c:\\Users\\david\\Desktop\\DSSG\\.venv\\Lib\\site-packages\\momepy\\functional\\_shape.py:890: RuntimeWarning: invalid value encountered in arccos\n",
      "  angles = np.arccos(cosine_angle)\n",
      "c:\\Users\\david\\Desktop\\DSSG\\.venv\\Lib\\site-packages\\momepy\\functional\\_shape.py:887: RuntimeWarning: invalid value encountered in divide\n",
      "  cosine_angle = np.sum(ba * bc, axis=1) / (\n"
     ]
    }
   ],
   "source": [
    "# Basic geometric properties\n",
    "buildings['perimeter'] = buildings.geometry.length\n",
    "buildings['shape_index'] = momepy.shape_index(buildings,momepy.longest_axis_length(buildings))\n",
    "buildings['circular_compactness'] = momepy.circular_compactness(buildings)\n",
    "buildings['square_compactness'] = momepy.square_compactness(buildings)\n",
    "buildings['weighted_axis_compactness'] = momepy.compactness_weighted_axis(buildings)\n",
    "buildings['convexity'] = momepy.convexity(buildings)\n",
    "buildings['courtyard_area'] = momepy.courtyard_area(buildings)\n",
    "buildings['courtyard_index'] = momepy.courtyard_index(buildings)\n",
    "buildings['corners'] = momepy.corners(buildings, include_interiors=True)   # include_interiors=False works only for polygons not multipolygons\n",
    "buildings['fractal_dimension'] = momepy.fractal_dimension(buildings)\n",
    "buildings['facade_ratio'] = momepy.facade_ratio(buildings)"
   ]
  },
  {
   "cell_type": "code",
   "execution_count": 8,
   "metadata": {
    "ExecuteTime": {
     "end_time": "2024-09-10T07:49:10.862851Z",
     "start_time": "2024-09-10T07:47:38.925365Z"
    }
   },
   "outputs": [
    {
     "name": "stderr",
     "output_type": "stream",
     "text": [
      "c:\\Users\\david\\Desktop\\DSSG\\.venv\\Lib\\site-packages\\momepy\\functional\\_shape.py:890: RuntimeWarning: invalid value encountered in arccos\n",
      "  angles = np.arccos(cosine_angle)\n",
      "c:\\Users\\david\\Desktop\\DSSG\\.venv\\Lib\\site-packages\\momepy\\functional\\_shape.py:576: RuntimeWarning: Mean of empty slice\n",
      "  return np.nanmean(np.abs(90 - degrees[true_angles]))\n",
      "c:\\Users\\david\\Desktop\\DSSG\\.venv\\Lib\\site-packages\\momepy\\functional\\_shape.py:887: RuntimeWarning: invalid value encountered in divide\n",
      "  cosine_angle = np.sum(ba * bc, axis=1) / (\n"
     ]
    }
   ],
   "source": [
    "# More complex morphological metrics\n",
    "buildings['orientation'] = momepy.orientation(buildings)\n",
    "buildings['longest_axis_length'] = momepy.longest_axis_length(buildings)\n",
    "buildings['equivalent_rectangular_index'] = momepy.equivalent_rectangular_index(buildings)\n",
    "buildings['elongation'] = momepy.elongation(buildings)\n",
    "buildings['linearity'] = momepy.linearity(buildings)\n",
    "buildings['rectangularity'] = momepy.rectangularity(buildings)\n",
    "buildings['squareness'] = momepy.squareness(buildings, include_interiors=True)  \n",
    "buildings['shared_walls_length'] = momepy.shared_walls(buildings)"
   ]
  },
  {
   "cell_type": "code",
   "execution_count": 9,
   "metadata": {
    "ExecuteTime": {
     "end_time": "2024-09-10T07:51:41.785180Z",
     "start_time": "2024-09-10T07:50:35.387733Z"
    }
   },
   "outputs": [
    {
     "name": "stderr",
     "output_type": "stream",
     "text": [
      "c:\\Users\\david\\Desktop\\DSSG\\.venv\\Lib\\site-packages\\libpysal\\graph\\base.py:1371: UserWarning: The numba package is used extensively in this module to accelerate the computation of graphs. Without numba, these computations may become unduly slow on large data.\n",
      "  head, tail, weights = _delaunay(\n",
      "c:\\Users\\david\\Desktop\\DSSG\\.venv\\Lib\\site-packages\\momepy\\functional\\_distribution.py:285: UserWarning: The indices of the two GeoSeries are different.\n",
      "  (geoms.distance(geometry.geometry, align=True)).groupby(level=0).mean()\n"
     ]
    }
   ],
   "source": [
    "# Metrics related to building adjacency and Graph\n",
    "from libpysal import graph\n",
    "delaunay = graph.Graph.build_triangulation(buildings.centroid,coplanar='clique').assign_self_weight()\n",
    "orientation = momepy.orientation(buildings)\n",
    "buildings['alignment'] = momepy.alignment(orientation, delaunay)\n",
    "\n",
    "knn15 = graph.Graph.build_knn(buildings.centroid, k=15, coplanar='clique')  # adjust k if needed   \n",
    "contiguity = graph.Graph.build_contiguity(buildings)\n",
    "buildings['adjacency'] = momepy.building_adjacency(contiguity,knn15)\n",
    "buildings['mean_interbuilding_distance'] = momepy.mean_interbuilding_distance(buildings, delaunay, knn15)\n",
    "buildings['neighbour_distance'] = momepy.neighbor_distance(buildings, delaunay)\n",
    "buildings['courtyards_num'] = momepy.courtyards(buildings, contiguity) # Calculate the number of courtyards within the joined structure"
   ]
  },
  {
   "cell_type": "code",
   "execution_count": 10,
   "metadata": {
    "ExecuteTime": {
     "end_time": "2024-09-10T07:51:43.128637Z",
     "start_time": "2024-09-10T07:51:41.786185Z"
    }
   },
   "outputs": [],
   "source": [
    "# the following metrics caculate the diversity index of building types, it's possible to override the binning method (refer to the full documentation)\n",
    "knn5 = graph.Graph.build_knn(buildings.centroid, k=5)\n",
    "for col in buildings.columns:\n",
    "    if isinstance(buildings[col],Number):\n",
    "        buildings[f'{col}_shannon'] = momepy.shannon(buildings[col], knn5)\n",
    "        buildings[f'{col}_simpson'] = momepy.simpson(buildings[col], knn5)\n",
    "        buildings[f'{col}_theil'] = momepy.theil(buildings[col], knn5)\n",
    "        buildings[f'{col}_values_range'] = momepy.values_range(buildings[col], knn5)\n",
    "        buildings[f'{col}_mean_deviation'] = momepy.mean_deviation(buildings[col], knn5)"
   ]
  },
  {
   "cell_type": "code",
   "execution_count": 11,
   "metadata": {
    "ExecuteTime": {
     "end_time": "2024-09-10T07:51:43.139224Z",
     "start_time": "2024-09-10T07:51:43.130219Z"
    }
   },
   "outputs": [],
   "source": [
    "# This is a modified version of the momepy.buffered_limit function that allows for adaptive buffer calculation on our data\n",
    "from libpysal import graph\n",
    "from packaging.version import Version\n",
    "import numpy as np\n",
    "def buffered_limit(gdf,buffer: float | str = 100,min_buffer: float = 0,max_buffer: float = 100,**kwargs,):\n",
    "   \n",
    "    if buffer == \"adaptive\":\n",
    "        \n",
    "        gabriel = graph.Graph.build_triangulation(gdf.centroid, \"gabriel\", kernel=\"identity\", coplanar='clique')\n",
    "        max_dist = gabriel.aggregate(\"max\")\n",
    "        buffer = np.clip(max_dist / 2 + max_dist * 0.1, min_buffer, max_buffer).values\n",
    "\n",
    "    elif not isinstance(buffer, int | float):\n",
    "        raise ValueError(\"`buffer` must be either 'adaptive' or a number.\")\n",
    "\n",
    "    GPD_GE_10 = Version(gpd.__version__) >= Version(\"1.0dev\")\n",
    "    return (\n",
    "        gdf.buffer(buffer, **kwargs).union_all()\n",
    "        if GPD_GE_10\n",
    "        else gdf.buffer(buffer, **kwargs).unary_union\n",
    "    )"
   ]
  },
  {
   "cell_type": "code",
   "execution_count": 12,
   "metadata": {
    "ExecuteTime": {
     "end_time": "2024-09-10T08:00:47.630382Z",
     "start_time": "2024-09-10T07:51:43.139224Z"
    }
   },
   "outputs": [
    {
     "name": "stderr",
     "output_type": "stream",
     "text": [
      "c:\\Users\\david\\Desktop\\DSSG\\.venv\\Lib\\site-packages\\libpysal\\graph\\base.py:1375: UserWarning: The numba package is used extensively in this module to accelerate the computation of graphs. Without numba, these computations may become unduly slow on large data.\n",
      "  head, tail, weights = _gabriel(\n"
     ]
    }
   ],
   "source": [
    "# metrics related to tessellation\n",
    "limit = buffered_limit(buildings, buffer = 'adaptive')\n",
    "tessellation = momepy.morphological_tessellation(buildings) # need adjustment\n",
    "blg_orient = momepy.orientation(buildings)\n",
    "tess_orient = momepy.orientation(tessellation)\n",
    "buildings['cell_orientation'] = momepy.cell_alignment(blg_orient, tess_orient)\n",
    "buildings['num_of_neighbours'] = momepy.neighbors(tessellation, contiguity, weighted=True)"
   ]
  },
  {
   "cell_type": "markdown",
   "metadata": {},
   "source": [
    "Calculate metrics over streets"
   ]
  },
  {
   "cell_type": "code",
   "execution_count": 57,
   "metadata": {},
   "outputs": [
    {
     "name": "stderr",
     "output_type": "stream",
     "text": [
      "c:\\Users\\david\\Desktop\\DSSG\\.venv\\Lib\\site-packages\\momepy\\utils.py:352: UserWarning: Geometry is in a geographic CRS. Results from 'length' are likely incorrect. Use 'GeoSeries.to_crs()' to re-project geometries to a projected CRS before this operation.\n",
      "\n",
      "  gdf_network[length] = gdf_network.geometry.length\n"
     ]
    },
    {
     "name": "stdout",
     "output_type": "stream",
     "text": [
      "Index(['osmid', 'oneway', 'name', 'highway', 'reversed', 'length', 'from',\n",
      "       'to', 'geometry', 'lanes', 'ref', 'maxspeed', 'tunnel', 'access',\n",
      "       'junction', 'width', 'bridge', 'service'],\n",
      "      dtype='object')\n"
     ]
    }
   ],
   "source": [
    "place = \"Jerusalem, Israel\"\n",
    "local_crs = \"EPSG:2039\"\n",
    "\n",
    "\n",
    "#Load open street streets:\n",
    "osm_streets = osmnx.graph_from_place(place, network_type=\"drive\")\n",
    "# osmnx.plot_graph(osm_streets)\n",
    "osm_graph = osmnx.projection.project_graph(osm_streets, to_crs=local_crs)\n",
    "streets = osmnx.graph_to_gdfs(\n",
    "    osmnx.convert.to_undirected(osm_streets),\n",
    "    nodes=False,\n",
    "    edges=True,\n",
    "    node_geometry=False,\n",
    "    fill_edge_geometry=True,\n",
    ").reset_index(drop=True)\n",
    "streets = streets.drop_duplicates(subset='geometry', keep='first')\n",
    "streets_geometry = streets['geometry']\n",
    "street_network_graph = momepy.gdf_to_nx(streets)\n",
    "print(streets.columns)"
   ]
  },
  {
   "cell_type": "code",
   "execution_count": 58,
   "metadata": {},
   "outputs": [
    {
     "name": "stdout",
     "output_type": "stream",
     "text": [
      "<class 'geopandas.geoseries.GeoSeries'>\n"
     ]
    },
    {
     "name": "stderr",
     "output_type": "stream",
     "text": [
      "c:\\Users\\david\\Desktop\\DSSG\\.venv\\Lib\\site-packages\\momepy\\functional\\_shape.py:854: UserWarning: Geometry is in a geographic CRS. Results from 'area' are likely incorrect. Use 'GeoSeries.to_crs()' to re-project geometries to a projected CRS before this operation.\n",
      "\n",
      "  (4 / np.pi) - (16 * geometry.area) / (geometry.length**2)\n",
      "c:\\Users\\david\\Desktop\\DSSG\\.venv\\Lib\\site-packages\\momepy\\functional\\_shape.py:854: UserWarning: Geometry is in a geographic CRS. Results from 'length' are likely incorrect. Use 'GeoSeries.to_crs()' to re-project geometries to a projected CRS before this operation.\n",
      "\n",
      "  (4 / np.pi) - (16 * geometry.area) / (geometry.length**2)\n",
      "c:\\Users\\david\\Desktop\\DSSG\\.venv\\Lib\\site-packages\\momepy\\functional\\_shape.py:790: UserWarning: Geometry is in a geographic CRS. Results from 'length' are likely incorrect. Use 'GeoSeries.to_crs()' to re-project geometries to a projected CRS before this operation.\n",
      "\n",
      "  / geometry.length\n",
      "C:\\Users\\david\\AppData\\Local\\Temp\\ipykernel_20744\\1508829224.py:12: UserWarning: Geometry is in a geographic CRS. Results from 'length' are likely incorrect. Use 'GeoSeries.to_crs()' to re-project geometries to a projected CRS before this operation.\n",
      "\n",
      "  streets[\"length\"] = streets.length\n",
      "c:\\Users\\david\\Desktop\\DSSG\\.venv\\Lib\\site-packages\\momepy\\functional\\_shape.py:790: UserWarning: Geometry is in a geographic CRS. Results from 'length' are likely incorrect. Use 'GeoSeries.to_crs()' to re-project geometries to a projected CRS before this operation.\n",
      "\n",
      "  / geometry.length\n"
     ]
    },
    {
     "name": "stdout",
     "output_type": "stream",
     "text": [
      "0    0\n",
      "1    1\n",
      "2    2\n",
      "3    1\n",
      "4    3\n",
      "dtype: int64\n",
      "                                            geometry  stroke_id  continuity  \\\n",
      "0  LINESTRING (35.22725 31.77577, 35.22714 31.77581)          0    0.018273   \n",
      "1  LINESTRING (35.22725 31.77577, 35.22730 31.776...          1    0.075520   \n",
      "2  LINESTRING (35.22714 31.77574, 35.22725 31.77577)          2    0.000284   \n",
      "3  LINESTRING (35.22723 31.77495, 35.22722 31.775...          1    0.075520   \n",
      "4  LINESTRING (35.21579 31.78046, 35.21586 31.78045)          3    0.008736   \n",
      "\n",
      "   hierarchy  \n",
      "0       72.0  \n",
      "1        1.0  \n",
      "2     3161.0  \n",
      "3        1.0  \n",
      "4      235.0  \n"
     ]
    },
    {
     "name": "stderr",
     "output_type": "stream",
     "text": [
      "C:\\Users\\david\\AppData\\Local\\Temp\\ipykernel_20744\\1508829224.py:25: UserWarning: Geometry is in a geographic CRS. Results from 'length' are likely incorrect. Use 'GeoSeries.to_crs()' to re-project geometries to a projected CRS before this operation.\n",
      "\n",
      "  streets['length'] = streets.geometry.length\n"
     ]
    }
   ],
   "source": [
    "streets['orientation'] = momepy.orientation(streets_geometry)\n",
    "streets['longest_axis_length'] = momepy.longest_axis_length(streets_geometry)\n",
    "\n",
    "print(type(streets['geometry']))\n",
    "\n",
    "# todo : check if it is related to street length\n",
    "streets['compactness_weighted_axis'] = momepy.compactness_weighted_axis(streets_geometry)\n",
    "streets['linearity'] = momepy.linearity(streets_geometry)\n",
    "queen_graph = libpysal.graph.Graph.build_contiguity(streets_geometry).assign_self_weight()\n",
    "streets['alignment'] = momepy.alignment(streets['orientation'] ,queen_graph)\n",
    "streets['cell_alignment'] = momepy.cell_alignment(streets['orientation'], osm_graph)\n",
    "streets[\"length\"] = streets.length\n",
    "streets[\"linearity\"] = momepy.linearity(streets)\n",
    "\n",
    "#Calculates natural continuity and hierarchy of street networks\n",
    "coins = momepy.COINS(streets)\n",
    "stroke_gdf = coins.stroke_gdf()\n",
    "stroke_attr = coins.stroke_attribute()\n",
    "print(stroke_attr.head())\n",
    "\n",
    "\n",
    "streets['stroke_id'] = stroke_attr\n",
    "\n",
    "# Calculate the length of each street segment\n",
    "streets['length'] = streets.geometry.length\n",
    "\n",
    "# Group by stroke_id to calculate stroke-level continuity (total length of each stroke)\n",
    "stroke_continuity = streets.groupby('stroke_id')['length'].sum().reset_index()\n",
    "stroke_continuity.columns = ['stroke_id', 'continuity']\n",
    "\n",
    "# Merge continuity back into the streets GeoDataFrame\n",
    "streets = streets.merge(stroke_continuity, on='stroke_id', how='left')\n",
    "\n",
    "# Rank strokes by length to create a hierarchy\n",
    "stroke_continuity['hierarchy'] = stroke_continuity['continuity'].rank(ascending=False)\n",
    "\n",
    "# Merge hierarchy back into the streets GeoDataFrame\n",
    "streets = streets.merge(stroke_continuity[['stroke_id', 'hierarchy']], on='stroke_id', how='left')\n",
    "\n",
    "# Inspect the final GeoDataFrame with continuity and hierarchy\n",
    "print(streets[['geometry', 'stroke_id', 'continuity', 'hierarchy']].head())\n",
    "\n",
    "\n",
    "# apperantly every node has only one neighbor:\n",
    "# streets['neighbors'] = momepy.neighbors(streets_geometry, queen_graph)\n"
   ]
  },
  {
   "cell_type": "code",
   "execution_count": 64,
   "metadata": {},
   "outputs": [],
   "source": [
    "# saves both data -frames into a file : \n",
    "buildings.to_file(\"buildings.gpkg\", layer='buildings', driver=\"GPKG\")\n",
    "# print(type(streets))\n",
    "# print(streets.dtypes)\n",
    "columns_to_keep = streets.select_dtypes(exclude=['object', 'bool']).columns\n",
    "\n",
    "# Create a new DataFrame with only the numeric and other non-object columns\n",
    "streets = streets[columns_to_keep].copy()\n",
    "\n",
    "streets.to_file(\"streets.gpkg\", layer='streets', driver=\"GPKG\")\n"
   ]
  },
  {
   "cell_type": "markdown",
   "metadata": {},
   "source": [
    "metrics that not included on streets: Non related metrics for streets: courtyard_area, perimeter_wall, centroid_corner_distance, circular_compactness (works on polygons), convexity, corners, courtyard_index(relevant for closed polygons), elongation(how streched the polygon is), equivalent_rectangular_index, facade ratio, form_factor, fractal_dimension, rectangularity, shape_index, squere compactness, squareness"
   ]
  },
  {
   "cell_type": "code",
   "execution_count": null,
   "metadata": {},
   "outputs": [],
   "source": [
    "# shared metrics between buildings and streets\n",
    "# Ensure you have the necessary context (like street networks) for these:\n",
    "# gdf_network =   # the street network\n",
    "# buildings['node_density'] = momepy.node_density(gdf_network, buildings, radius=300)\n",
    "# buildings['street_profile'] = momepy.street_profile(gdf_network, buildings, radius=300)\n",
    "# buildings['reach'] = momepy.Reach(buildings, gdf_network, distance=500)\n",
    "\n",
    "blg_orient = momepy.orientation(buildings)\n",
    "str_orient = momepy.orientation(streets)\n",
    "momepy.street_alignment(blg_orient, str_orient, buildings[\"street_index\"])\n"
   ]
  },
  {
   "cell_type": "code",
   "execution_count": null,
   "metadata": {},
   "outputs": [],
   "source": [
    "\n",
    "## test intersections metrics \n",
    "street_network_graph = momepy.gdf_to_nx(streets)#street graph metrics:\n",
    "nx.set_node_attributes(street_network_graph, dict(street_network_graph.degree()), 'degree')\n",
    "# cds_length_result = momepy.cds_length(street_network_graph)\n",
    "\n",
    "# # Check if the lengths match\n",
    "# print(f\"Length of cds_length result: {len(cds_length_result)}\")\n",
    "# print(f\"Length of streets GeoDataFrame: {len(streets)}\")\n",
    "\n",
    "# Make sure they match before assignment\n",
    "# if len(cds_length_result) == len(streets):\n",
    "#     streets['cds_length'] = cds_length_result\n",
    "# else:\n",
    "#     print(\"Mismatch in lengths. Check graph and GeoDataFrame.\")\n",
    "# Calculates the shortest-path betweenness centrality for nodes.\n",
    "# print(momepy.betweenness_centrality(street_network_graph))\n",
    "# streets['betweenness_centrality'] = momepy.betweenness_centrality(street_network_graph)\n",
    "\n",
    "#Calculates length of cul-de-sacs for subgraph around each node if radius is set, or for whole graph\n",
    "cds_lengths = momepy.cds_length(street_network_graph, radius = 5)\n",
    "print(cds_lengths)\n",
    "nodes_gdf = osmnx .graph_to_gdfs(street_network_graph, nodes=True, edges=False)\n",
    "\n",
    "# Add cds_lengths to the intersections GeoDataFrame\n",
    "nodes_gdf['cds_length'] = nodes_gdf.index.map(cds_lengths)\n",
    "\n",
    "# Inspect the result\n",
    "print(nodes_gdf[['geometry', 'cds_length']].head())"
   ]
  },
  {
   "cell_type": "code",
   "execution_count": 68,
   "metadata": {},
   "outputs": [
    {
     "name": "stderr",
     "output_type": "stream",
     "text": [
      "C:\\Users\\david\\AppData\\Local\\Temp\\ipykernel_20744\\4071295628.py:5: RuntimeWarning: The given network does not contain any LineString. This can lead to unexpected behaviour. The intended usage of the conversion function is with networks made of LineStrings only.\n",
      "  street_network_graph = momepy.gdf_to_nx(junctions_gdf, approach='primal')\n"
     ]
    },
    {
     "name": "stdout",
     "output_type": "stream",
     "text": [
      "Number of nodes with NoneType degree: 7682\n"
     ]
    },
    {
     "data": {
      "image/png": "[encoded data removed]",
      "text/plain": [
       "<Figure size 1000x1000 with 1 Axes>"
      ]
     },
     "metadata": {},
     "output_type": "display_data"
    }
   ],
   "source": [
    "import networkx as nx\n",
    "\n",
    "junctions_gdf = osmnx.graph_to_gdfs(osm_graph, nodes=True, edges=False)\n",
    "junctions_metrics = junctions_gdf[['geometry']].copy()\n",
    "street_network_graph = momepy.gdf_to_nx(junctions_gdf, approach='primal')\n",
    "\n",
    "# Example: Assuming `street_network_graph` is your NetworkX graph\n",
    "\n",
    "# Initialize an empty list to store nodes with NoneType degrees\n",
    "nodes_with_none_degree = []\n",
    "\n",
    "# Iterate over all nodes in the graph\n",
    "for node, data in street_network_graph.nodes(data=True):\n",
    "    if 'degree' not in data or data['degree'] is None:\n",
    "        nodes_with_none_degree.append(node)\n",
    "\n",
    "# Step 2: Print the count of nodes with NoneType degrees\n",
    "print(f\"Number of nodes with NoneType degree: {len(nodes_with_none_degree)}\")\n",
    "\n",
    "# Step 3: Create a GeoDataFrame for nodes with NoneType degrees\n",
    "\n",
    "# Extract the x and y coordinates for the nodes with NoneType degrees\n",
    "node_geometries = []\n",
    "for node in nodes_with_none_degree:\n",
    "    # Get the x and y coordinates from the NetworkX graph\n",
    "    x = street_network_graph.nodes[node].get('x')\n",
    "    y = street_network_graph.nodes[node].get('y')\n",
    "    \n",
    "    # Create a Point geometry using the x, y coordinates\n",
    "    if x is not None and y is not None:\n",
    "        node_geometries.append(Point(x, y))\n",
    "\n",
    "# Create a GeoDataFrame with the node geometries\n",
    "none_degree_gdf = gpd.GeoDataFrame(geometry=node_geometries, crs=\"EPSG:4326\")\n",
    "\n",
    "# Step 4: Plot the nodes with NoneType degrees\n",
    "fig, ax = plt.subplots(figsize=(10, 10))\n",
    "\n",
    "# Plot all the junctions (assuming `junctions_gdf` has the geometry of all nodes)\n",
    "junctions_gdf.plot(ax=ax, color=\"lightblue\", markersize=5, label='All Junctions')\n",
    "\n",
    "# Plot the NoneType degree junctions in red\n",
    "none_degree_gdf.plot(ax=ax, color=\"red\", markersize=25, label='NoneType Degree Junctions')\n",
    "\n",
    "# Add a legend and title\n",
    "plt.legend()\n",
    "plt.title(f\"Junctions with NoneType Degree (Total: {len(nodes_with_none_degree)})\")\n",
    "\n",
    "# Show the plot\n",
    "plt.show()"
   ]
  },
  {
   "cell_type": "code",
   "execution_count": 70,
   "metadata": {},
   "outputs": [
    {
     "name": "stderr",
     "output_type": "stream",
     "text": [
      "C:\\Users\\david\\AppData\\Local\\Temp\\ipykernel_20744\\2606540748.py:3: RuntimeWarning: The given network does not contain any LineString. This can lead to unexpected behaviour. The intended usage of the conversion function is with networks made of LineStrings only.\n",
      "  street_network_graph = momepy.gdf_to_nx(junctions_gdf, approach='primal')\n",
      "100%|██████████| 7682/7682 [00:00<00:00, 12497.61it/s]\n",
      "100%|██████████| 7682/7682 [00:00<00:00, 11095.33it/s]\n",
      "100%|██████████| 7682/7682 [00:00<00:00, 11846.47it/s]\n",
      "100%|██████████| 7682/7682 [00:00<00:00, 11812.64it/s]\n",
      "100%|██████████| 7682/7682 [00:00<00:00, 9304.55it/s]\n",
      "100%|██████████| 7682/7682 [00:00<00:00, 46402.03it/s]\n",
      "100%|██████████| 7682/7682 [00:00<00:00, 12136.37it/s]\n",
      "100%|██████████| 7682/7682 [00:28<00:00, 269.45it/s]\n",
      "100%|██████████| 7682/7682 [00:00<00:00, 9626.61it/s] \n"
     ]
    },
    {
     "name": "stdout",
     "output_type": "stream",
     "text": [
      "                                 geometry  \\\n",
      "osmid                                       \n",
      "29942462    POINT (221617.106 631454.429)   \n",
      "1405920298  POINT (221606.667 631459.017)   \n",
      "1203628530  POINT (221475.694 631692.480)   \n",
      "29942579    POINT (220531.340 631974.804)   \n",
      "2393263605  POINT (220537.658 631973.696)   \n",
      "\n",
      "                             betweenness_centrality  \\\n",
      "osmid                                                 \n",
      "29942462     (221617.1062703682, 631454.4290070852)   \n",
      "1405920298  (221606.66677672928, 631459.0174264213)   \n",
      "1203628530    (221475.694100068, 631692.4798644204)   \n",
      "29942579    (220531.34003885178, 631974.8042925006)   \n",
      "2393263605    (220537.657896279, 631973.6961133946)   \n",
      "\n",
      "                               closeness_centrality  \\\n",
      "osmid                                                 \n",
      "29942462     (221617.1062703682, 631454.4290070852)   \n",
      "1405920298  (221606.66677672928, 631459.0174264213)   \n",
      "1203628530    (221475.694100068, 631692.4798644204)   \n",
      "29942579    (220531.34003885178, 631974.8042925006)   \n",
      "2393263605    (220537.657896279, 631973.6961133946)   \n",
      "\n",
      "                                         clustering  \\\n",
      "osmid                                                 \n",
      "29942462     (221617.1062703682, 631454.4290070852)   \n",
      "1405920298  (221606.66677672928, 631459.0174264213)   \n",
      "1203628530    (221475.694100068, 631692.4798644204)   \n",
      "29942579    (220531.34003885178, 631974.8042925006)   \n",
      "2393263605    (220537.657896279, 631973.6961133946)   \n",
      "\n",
      "                                         cyclomatic  \\\n",
      "osmid                                                 \n",
      "29942462     (221617.1062703682, 631454.4290070852)   \n",
      "1405920298  (221606.66677672928, 631459.0174264213)   \n",
      "1203628530    (221475.694100068, 631692.4798644204)   \n",
      "29942579    (220531.34003885178, 631974.8042925006)   \n",
      "2393263605    (220537.657896279, 631973.6961133946)   \n",
      "\n",
      "                                    edge_node_ratio  \\\n",
      "osmid                                                 \n",
      "29942462     (221617.1062703682, 631454.4290070852)   \n",
      "1405920298  (221606.66677672928, 631459.0174264213)   \n",
      "1203628530    (221475.694100068, 631692.4798644204)   \n",
      "29942579    (220531.34003885178, 631974.8042925006)   \n",
      "2393263605    (220537.657896279, 631973.6961133946)   \n",
      "\n",
      "                                              gamma  \\\n",
      "osmid                                                 \n",
      "29942462     (221617.1062703682, 631454.4290070852)   \n",
      "1405920298  (221606.66677672928, 631459.0174264213)   \n",
      "1203628530    (221475.694100068, 631692.4798644204)   \n",
      "29942579    (220531.34003885178, 631974.8042925006)   \n",
      "2393263605    (220537.657896279, 631973.6961133946)   \n",
      "\n",
      "                                   mean_node_degree  \\\n",
      "osmid                                                 \n",
      "29942462     (221617.1062703682, 631454.4290070852)   \n",
      "1405920298  (221606.66677672928, 631459.0174264213)   \n",
      "1203628530    (221475.694100068, 631692.4798644204)   \n",
      "29942579    (220531.34003885178, 631974.8042925006)   \n",
      "2393263605    (220537.657896279, 631973.6961133946)   \n",
      "\n",
      "                                     mean_node_dist  \\\n",
      "osmid                                                 \n",
      "29942462     (221617.1062703682, 631454.4290070852)   \n",
      "1405920298  (221606.66677672928, 631459.0174264213)   \n",
      "1203628530    (221475.694100068, 631692.4798644204)   \n",
      "29942579    (220531.34003885178, 631974.8042925006)   \n",
      "2393263605    (220537.657896279, 631973.6961133946)   \n",
      "\n",
      "                                         meshedness  \\\n",
      "osmid                                                 \n",
      "29942462     (221617.1062703682, 631454.4290070852)   \n",
      "1405920298  (221606.66677672928, 631459.0174264213)   \n",
      "1203628530    (221475.694100068, 631692.4798644204)   \n",
      "29942579    (220531.34003885178, 631974.8042925006)   \n",
      "2393263605    (220537.657896279, 631973.6961133946)   \n",
      "\n",
      "                                        node_degree  \\\n",
      "osmid                                                 \n",
      "29942462     (221617.1062703682, 631454.4290070852)   \n",
      "1405920298  (221606.66677672928, 631459.0174264213)   \n",
      "1203628530    (221475.694100068, 631692.4798644204)   \n",
      "29942579    (220531.34003885178, 631974.8042925006)   \n",
      "2393263605    (220537.657896279, 631973.6961133946)   \n",
      "\n",
      "                                       node_density  \\\n",
      "osmid                                                 \n",
      "29942462     (221617.1062703682, 631454.4290070852)   \n",
      "1405920298  (221606.66677672928, 631459.0174264213)   \n",
      "1203628530    (221475.694100068, 631692.4798644204)   \n",
      "29942579    (220531.34003885178, 631974.8042925006)   \n",
      "2393263605    (220537.657896279, 631973.6961133946)   \n",
      "\n",
      "                            straightness_centrality  \n",
      "osmid                                                \n",
      "29942462     (221617.1062703682, 631454.4290070852)  \n",
      "1405920298  (221606.66677672928, 631459.0174264213)  \n",
      "1203628530    (221475.694100068, 631692.4798644204)  \n",
      "29942579    (220531.34003885178, 631974.8042925006)  \n",
      "2393263605    (220537.657896279, 631973.6961133946)  \n"
     ]
    },
    {
     "ename": "ValueError",
     "evalue": "Invalid field type <class 'tuple'>",
     "output_type": "error",
     "traceback": [
      "\u001b[1;31m---------------------------------------------------------------------------\u001b[0m",
      "\u001b[1;31mValueError\u001b[0m                                Traceback (most recent call last)",
      "Cell \u001b[1;32mIn[70], line 62\u001b[0m\n\u001b[0;32m     59\u001b[0m \u001b[38;5;28mprint\u001b[39m(junctions_metrics\u001b[38;5;241m.\u001b[39mhead())\n\u001b[0;32m     61\u001b[0m \u001b[38;5;66;03m# Save the junctions metrics to a file\u001b[39;00m\n\u001b[1;32m---> 62\u001b[0m \u001b[43mjunctions_metrics\u001b[49m\u001b[38;5;241;43m.\u001b[39;49m\u001b[43mto_file\u001b[49m\u001b[43m(\u001b[49m\u001b[38;5;124;43m\"\u001b[39;49m\u001b[38;5;124;43mjunctions_metrics.gpkg\u001b[39;49m\u001b[38;5;124;43m\"\u001b[39;49m\u001b[43m,\u001b[49m\u001b[43m \u001b[49m\u001b[43mlayer\u001b[49m\u001b[38;5;241;43m=\u001b[39;49m\u001b[38;5;124;43m'\u001b[39;49m\u001b[38;5;124;43mjunctions\u001b[39;49m\u001b[38;5;124;43m'\u001b[39;49m\u001b[43m,\u001b[49m\u001b[43m \u001b[49m\u001b[43mdriver\u001b[49m\u001b[38;5;241;43m=\u001b[39;49m\u001b[38;5;124;43m\"\u001b[39;49m\u001b[38;5;124;43mGPKG\u001b[39;49m\u001b[38;5;124;43m\"\u001b[39;49m\u001b[43m)\u001b[49m\n",
      "File \u001b[1;32mc:\\Users\\david\\Desktop\\DSSG\\.venv\\Lib\\site-packages\\geopandas\\geodataframe.py:1249\u001b[0m, in \u001b[0;36mGeoDataFrame.to_file\u001b[1;34m(self, filename, driver, schema, index, **kwargs)\u001b[0m\n\u001b[0;32m   1158\u001b[0m \u001b[38;5;250m\u001b[39m\u001b[38;5;124;03m\"\"\"Write the ``GeoDataFrame`` to a file.\u001b[39;00m\n\u001b[0;32m   1159\u001b[0m \n\u001b[0;32m   1160\u001b[0m \u001b[38;5;124;03mBy default, an ESRI shapefile is written, but any OGR data source\u001b[39;00m\n\u001b[1;32m   (...)\u001b[0m\n\u001b[0;32m   1245\u001b[0m \n\u001b[0;32m   1246\u001b[0m \u001b[38;5;124;03m\"\"\"\u001b[39;00m\n\u001b[0;32m   1247\u001b[0m \u001b[38;5;28;01mfrom\u001b[39;00m \u001b[38;5;21;01mgeopandas\u001b[39;00m\u001b[38;5;21;01m.\u001b[39;00m\u001b[38;5;21;01mio\u001b[39;00m\u001b[38;5;21;01m.\u001b[39;00m\u001b[38;5;21;01mfile\u001b[39;00m \u001b[38;5;28;01mimport\u001b[39;00m _to_file\n\u001b[1;32m-> 1249\u001b[0m \u001b[43m_to_file\u001b[49m\u001b[43m(\u001b[49m\u001b[38;5;28;43mself\u001b[39;49m\u001b[43m,\u001b[49m\u001b[43m \u001b[49m\u001b[43mfilename\u001b[49m\u001b[43m,\u001b[49m\u001b[43m \u001b[49m\u001b[43mdriver\u001b[49m\u001b[43m,\u001b[49m\u001b[43m \u001b[49m\u001b[43mschema\u001b[49m\u001b[43m,\u001b[49m\u001b[43m \u001b[49m\u001b[43mindex\u001b[49m\u001b[43m,\u001b[49m\u001b[43m \u001b[49m\u001b[38;5;241;43m*\u001b[39;49m\u001b[38;5;241;43m*\u001b[39;49m\u001b[43mkwargs\u001b[49m\u001b[43m)\u001b[49m\n",
      "File \u001b[1;32mc:\\Users\\david\\Desktop\\DSSG\\.venv\\Lib\\site-packages\\geopandas\\io\\file.py:610\u001b[0m, in \u001b[0;36m_to_file\u001b[1;34m(df, filename, driver, schema, index, mode, crs, engine, **kwargs)\u001b[0m\n\u001b[0;32m    607\u001b[0m     \u001b[38;5;28;01mraise\u001b[39;00m \u001b[38;5;167;01mValueError\u001b[39;00m(\u001b[38;5;124mf\u001b[39m\u001b[38;5;124m\"\u001b[39m\u001b[38;5;124m'\u001b[39m\u001b[38;5;124mmode\u001b[39m\u001b[38;5;124m'\u001b[39m\u001b[38;5;124m should be one of \u001b[39m\u001b[38;5;124m'\u001b[39m\u001b[38;5;124mw\u001b[39m\u001b[38;5;124m'\u001b[39m\u001b[38;5;124m or \u001b[39m\u001b[38;5;124m'\u001b[39m\u001b[38;5;124ma\u001b[39m\u001b[38;5;124m'\u001b[39m\u001b[38;5;124m, got \u001b[39m\u001b[38;5;124m'\u001b[39m\u001b[38;5;132;01m{\u001b[39;00mmode\u001b[38;5;132;01m}\u001b[39;00m\u001b[38;5;124m'\u001b[39m\u001b[38;5;124m instead\u001b[39m\u001b[38;5;124m\"\u001b[39m)\n\u001b[0;32m    609\u001b[0m \u001b[38;5;28;01mif\u001b[39;00m engine \u001b[38;5;241m==\u001b[39m \u001b[38;5;124m\"\u001b[39m\u001b[38;5;124mfiona\u001b[39m\u001b[38;5;124m\"\u001b[39m:\n\u001b[1;32m--> 610\u001b[0m     \u001b[43m_to_file_fiona\u001b[49m\u001b[43m(\u001b[49m\u001b[43mdf\u001b[49m\u001b[43m,\u001b[49m\u001b[43m \u001b[49m\u001b[43mfilename\u001b[49m\u001b[43m,\u001b[49m\u001b[43m \u001b[49m\u001b[43mdriver\u001b[49m\u001b[43m,\u001b[49m\u001b[43m \u001b[49m\u001b[43mschema\u001b[49m\u001b[43m,\u001b[49m\u001b[43m \u001b[49m\u001b[43mcrs\u001b[49m\u001b[43m,\u001b[49m\u001b[43m \u001b[49m\u001b[43mmode\u001b[49m\u001b[43m,\u001b[49m\u001b[43m \u001b[49m\u001b[38;5;241;43m*\u001b[39;49m\u001b[38;5;241;43m*\u001b[39;49m\u001b[43mkwargs\u001b[49m\u001b[43m)\u001b[49m\n\u001b[0;32m    611\u001b[0m \u001b[38;5;28;01melif\u001b[39;00m engine \u001b[38;5;241m==\u001b[39m \u001b[38;5;124m\"\u001b[39m\u001b[38;5;124mpyogrio\u001b[39m\u001b[38;5;124m\"\u001b[39m:\n\u001b[0;32m    612\u001b[0m     _to_file_pyogrio(df, filename, driver, schema, crs, mode, \u001b[38;5;241m*\u001b[39m\u001b[38;5;241m*\u001b[39mkwargs)\n",
      "File \u001b[1;32mc:\\Users\\david\\Desktop\\DSSG\\.venv\\Lib\\site-packages\\geopandas\\io\\file.py:641\u001b[0m, in \u001b[0;36m_to_file_fiona\u001b[1;34m(df, filename, driver, schema, crs, mode, **kwargs)\u001b[0m\n\u001b[0;32m    637\u001b[0m     crs_wkt \u001b[38;5;241m=\u001b[39m crs\u001b[38;5;241m.\u001b[39mto_wkt(\u001b[38;5;124m\"\u001b[39m\u001b[38;5;124mWKT1_GDAL\u001b[39m\u001b[38;5;124m\"\u001b[39m)\n\u001b[0;32m    638\u001b[0m \u001b[38;5;28;01mwith\u001b[39;00m fiona\u001b[38;5;241m.\u001b[39mopen(\n\u001b[0;32m    639\u001b[0m     filename, mode\u001b[38;5;241m=\u001b[39mmode, driver\u001b[38;5;241m=\u001b[39mdriver, crs_wkt\u001b[38;5;241m=\u001b[39mcrs_wkt, schema\u001b[38;5;241m=\u001b[39mschema, \u001b[38;5;241m*\u001b[39m\u001b[38;5;241m*\u001b[39mkwargs\n\u001b[0;32m    640\u001b[0m ) \u001b[38;5;28;01mas\u001b[39;00m colxn:\n\u001b[1;32m--> 641\u001b[0m     \u001b[43mcolxn\u001b[49m\u001b[38;5;241;43m.\u001b[39;49m\u001b[43mwriterecords\u001b[49m\u001b[43m(\u001b[49m\u001b[43mdf\u001b[49m\u001b[38;5;241;43m.\u001b[39;49m\u001b[43miterfeatures\u001b[49m\u001b[43m(\u001b[49m\u001b[43m)\u001b[49m\u001b[43m)\u001b[49m\n",
      "File \u001b[1;32mc:\\Users\\david\\Desktop\\DSSG\\.venv\\Lib\\site-packages\\fiona\\collection.py:558\u001b[0m, in \u001b[0;36mCollection.writerecords\u001b[1;34m(self, records)\u001b[0m\n\u001b[0;32m    556\u001b[0m \u001b[38;5;28;01mif\u001b[39;00m \u001b[38;5;28mself\u001b[39m\u001b[38;5;241m.\u001b[39mmode \u001b[38;5;129;01mnot\u001b[39;00m \u001b[38;5;129;01min\u001b[39;00m (\u001b[38;5;124m\"\u001b[39m\u001b[38;5;124ma\u001b[39m\u001b[38;5;124m\"\u001b[39m, \u001b[38;5;124m\"\u001b[39m\u001b[38;5;124mw\u001b[39m\u001b[38;5;124m\"\u001b[39m):\n\u001b[0;32m    557\u001b[0m     \u001b[38;5;28;01mraise\u001b[39;00m \u001b[38;5;167;01mOSError\u001b[39;00m(\u001b[38;5;124m\"\u001b[39m\u001b[38;5;124mcollection not open for writing\u001b[39m\u001b[38;5;124m\"\u001b[39m)\n\u001b[1;32m--> 558\u001b[0m \u001b[38;5;28;43mself\u001b[39;49m\u001b[38;5;241;43m.\u001b[39;49m\u001b[43msession\u001b[49m\u001b[38;5;241;43m.\u001b[39;49m\u001b[43mwriterecs\u001b[49m\u001b[43m(\u001b[49m\u001b[43mrecords\u001b[49m\u001b[43m,\u001b[49m\u001b[43m \u001b[49m\u001b[38;5;28;43mself\u001b[39;49m\u001b[43m)\u001b[49m\n\u001b[0;32m    559\u001b[0m \u001b[38;5;28mself\u001b[39m\u001b[38;5;241m.\u001b[39m_len \u001b[38;5;241m=\u001b[39m \u001b[38;5;28mself\u001b[39m\u001b[38;5;241m.\u001b[39msession\u001b[38;5;241m.\u001b[39mget_length()\n\u001b[0;32m    560\u001b[0m \u001b[38;5;28mself\u001b[39m\u001b[38;5;241m.\u001b[39m_bounds \u001b[38;5;241m=\u001b[39m \u001b[38;5;28;01mNone\u001b[39;00m\n",
      "File \u001b[1;32mfiona\\\\ogrext.pyx:1409\u001b[0m, in \u001b[0;36mfiona.ogrext.WritingSession.writerecs\u001b[1;34m()\u001b[0m\n",
      "File \u001b[1;32mfiona\\\\ogrext.pyx:514\u001b[0m, in \u001b[0;36mfiona.ogrext.OGRFeatureBuilder.build\u001b[1;34m()\u001b[0m\n",
      "\u001b[1;31mValueError\u001b[0m: Invalid field type <class 'tuple'>"
     ]
    }
   ],
   "source": [
    "junctions_gdf = osmnx.graph_to_gdfs(osm_graph, nodes=True, edges=False)\n",
    "junctions_metrics = junctions_gdf[['geometry']].copy()\n",
    "street_network_graph = momepy.gdf_to_nx(junctions_gdf, approach='primal')\n",
    "\n",
    "nx.set_node_attributes(street_network_graph, dict(street_network_graph.degree()), 'degree')\n",
    "cds_length_result = momepy.cds_length(street_network_graph)\n",
    "\n",
    "# # Check if the lengths match\n",
    "# print(f\"Length of cds_length result: {len(cds_length_result)}\")\n",
    "# print(f\"Length of streets GeoDataFrame: {len(streets)}\")\n",
    "\n",
    "# Make sure they match before assignment\n",
    "# if len(cds_length_result) == len(streets):\n",
    "#     streets['cds_length'] = cds_length_result\n",
    "# else:\n",
    "#     print(\"Mismatch in lengths. Check graph and GeoDataFrame.\")\n",
    "# Calculates the shortest-path betweenness centrality for nodes.\n",
    "# print(momepy.betweenness_centrality(street_network_graph))\n",
    "\n",
    "junctions_metrics['betweenness_centrality'] = momepy.betweenness_centrality(street_network_graph)\n",
    "\n",
    "# Calculates the closeness centrality for nodes\n",
    "junctions_metrics['closeness_centrality'] = momepy.closeness_centrality(street_network_graph)\n",
    "\n",
    "# Calculates clustering coefficient for each node (how connected are its neighbors)\n",
    "junctions_metrics['clustering'] = momepy.clustering(street_network_graph)\n",
    "\n",
    "# Calculates cyclomatic complexity (number of loops) around each node\n",
    "junctions_metrics['cyclomatic'] = momepy.cyclomatic(street_network_graph)\n",
    "\n",
    "# Calculate the ratio of edges to nodes in a subgraph around each node\n",
    "junctions_metrics['edge_node_ratio'] = momepy.edge_node_ratio(street_network_graph)\n",
    "\n",
    "# Calculate the gamma index (connectivity) for each node\n",
    "junctions_metrics['gamma'] = momepy.gamma(street_network_graph)\n",
    "\n",
    "# Calculate the mean node degree for a subgraph around each node\n",
    "junctions_metrics['mean_node_degree'] = momepy.mean_node_degree(street_network_graph)\n",
    "\n",
    "# Calculate the mean distance to neighboring nodes for each node\n",
    "junctions_metrics['mean_node_dist'] = momepy.mean_node_dist(street_network_graph)\n",
    "\n",
    "# Calculate the meshedness for subgraph around each node\n",
    "junctions_metrics['meshedness'] = momepy.meshedness(street_network_graph)\n",
    "\n",
    "# Calculate the degree of each node\n",
    "junctions_metrics['node_degree'] = momepy.node_degree(street_network_graph)\n",
    "\n",
    "# Calculate the density of nodes around each node\n",
    "junctions_metrics['node_density'] = momepy.node_density(street_network_graph, radius=5)\n",
    "\n",
    "# Calculate the proportion of intersection types (special types of intersections)\n",
    "# junctions_metrics['proportion'] = momepy.proportion(street_network_graph)\n",
    "\n",
    "# Calculate straightness centrality for each node\n",
    "junctions_metrics['straightness_centrality'] = momepy.straightness_centrality(street_network_graph, radius=5)\n",
    "\n",
    "# Inspect the final junctions GeoDataFrame\n",
    "print(junctions_metrics.head())\n",
    "\n",
    "# Save the junctions metrics to a file\n",
    "junctions_metrics.to_file(\"junctions_metrics.gpkg\", layer='junctions', driver=\"GPKG\")\n",
    "\n"
   ]
  }
 ],
 "metadata": {
  "kernelspec": {
   "display_name": "Python 3 (ipykernel)",
   "language": "python",
   "name": "python3"
  },
  "language_info": {
   "codemirror_mode": {
    "name": "ipython",
    "version": 3
   },
   "file_extension": ".py",
   "mimetype": "text/x-python",
   "name": "python",
   "nbconvert_exporter": "python",
   "pygments_lexer": "ipython3",
   "version": "3.12.5"
  }
 },
 "nbformat": 4,
 "nbformat_minor": 2
}
