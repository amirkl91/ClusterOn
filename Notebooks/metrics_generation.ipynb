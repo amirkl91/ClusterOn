{
 "cells": [
  {
   "cell_type": "code",
   "metadata": {
    "ExecuteTime": {
     "end_time": "2024-09-09T08:50:16.560103Z",
     "start_time": "2024-09-09T08:50:11.704371Z"
    }
   },
   "source": [
    "import geopandas as gpd\n",
    "import fiona\n",
    "import os\n",
    "import matplotlib.pyplot as plt\n",
    "from matplotlib.lines import Line2D\n",
    "import configparser\n",
    "import momepy\n",
    "import libpysal\n",
    "import osmnx\n",
    "import pandas\n",
    "from bokeh.io import output_notebook\n",
    "from bokeh.plotting import show\n",
    "from clustergram import Clustergram\n",
    "from shapely.geometry import Point\n",
    "local_crs = \"EPSG:2039\"\n",
    "output_notebook()"
   ],
   "outputs": [
    {
     "data": {
      "text/html": [
       "    <style>\n",
       "        .bk-notebook-logo {\n",
       "            display: block;\n",
       "            width: 20px;\n",
       "            height: 20px;\n",
       "            background-image: url(data:image/png;base64,iVBORw0KGgoAAAANSUhEUgAAABQAAAAUCAYAAACNiR0NAAAABHNCSVQICAgIfAhkiAAAAAlwSFlzAAALEgAACxIB0t1+/AAAABx0RVh0U29mdHdhcmUAQWRvYmUgRmlyZXdvcmtzIENTNui8sowAAAOkSURBVDiNjZRtaJVlGMd/1/08zzln5zjP1LWcU9N0NkN8m2CYjpgQYQXqSs0I84OLIC0hkEKoPtiH3gmKoiJDU7QpLgoLjLIQCpEsNJ1vqUOdO7ppbuec5+V+rj4ctwzd8IIbbi6u+8f1539dt3A78eXC7QizUF7gyV1fD1Yqg4JWz84yffhm0qkFqBogB9rM8tZdtwVsPUhWhGcFJngGeWrPzHm5oaMmkfEg1usvLFyc8jLRqDOMru7AyC8saQr7GG7f5fvDeH7Ej8CM66nIF+8yngt6HWaKh7k49Soy9nXurCi1o3qUbS3zWfrYeQDTB/Qj6kX6Ybhw4B+bOYoLKCC9H3Nu/leUTZ1JdRWkkn2ldcCamzrcf47KKXdAJllSlxAOkRgyHsGC/zRday5Qld9DyoM4/q/rUoy/CXh3jzOu3bHUVZeU+DEn8FInkPBFlu3+nW3Nw0mk6vCDiWg8CeJaxEwuHS3+z5RgY+YBR6V1Z1nxSOfoaPa4LASWxxdNp+VWTk7+4vzaou8v8PN+xo+KY2xsw6une2frhw05CTYOmQvsEhjhWjn0bmXPjpE1+kplmmkP3suftwTubK9Vq22qKmrBhpY4jvd5afdRA3wGjFAgcnTK2s4hY0/GPNIb0nErGMCRxWOOX64Z8RAC4oCXdklmEvcL8o0BfkNK4lUg9HTl+oPlQxdNo3Mg4Nv175e/1LDGzZen30MEjRUtmXSfiTVu1kK8W4txyV6BMKlbgk3lMwYCiusNy9fVfvvwMxv8Ynl6vxoByANLTWplvuj/nF9m2+PDtt1eiHPBr1oIfhCChQMBw6Aw0UulqTKZdfVvfG7VcfIqLG9bcldL/+pdWTLxLUy8Qq38heUIjh4XlzZxzQm19lLFlr8vdQ97rjZVOLf8nclzckbcD4wxXMidpX30sFd37Fv/GtwwhzhxGVAprjbg0gCAEeIgwCZyTV2Z1REEW8O4py0wsjeloKoMr6iCY6dP92H6Vw/oTyICIthibxjm/DfN9lVz8IqtqKYLUXfoKVMVQVVJOElGjrnnUt9T9wbgp8AyYKaGlqingHZU/uG2NTZSVqwHQTWkx9hxjkpWDaCg6Ckj5qebgBVbT3V3NNXMSiWSDdGV3hrtzla7J+duwPOToIg42ChPQOQjspnSlp1V+Gjdged7+8UN5CRAV7a5EdFNwCjEaBR27b3W890TE7g24NAP/mMDXRWrGoFPQI9ls/MWO2dWFAar/xcOIImbbpA3zgAAAABJRU5ErkJggg==);\n",
       "        }\n",
       "    </style>\n",
       "    <div>\n",
       "        <a href=\"https://bokeh.org\" target=\"_blank\" class=\"bk-notebook-logo\"></a>\n",
       "        <span id=\"c80cf5fa-9b0a-4d4c-8734-fd25ead0e53a\">Loading BokehJS ...</span>\n",
       "    </div>\n"
      ]
     },
     "metadata": {},
     "output_type": "display_data"
    },
    {
     "data": {
      "application/javascript": "'use strict';\n(function(root) {\n  function now() {\n    return new Date();\n  }\n\n  const force = true;\n\n  if (typeof root._bokeh_onload_callbacks === \"undefined\" || force === true) {\n    root._bokeh_onload_callbacks = [];\n    root._bokeh_is_loading = undefined;\n  }\n\nconst JS_MIME_TYPE = 'application/javascript';\n  const HTML_MIME_TYPE = 'text/html';\n  const EXEC_MIME_TYPE = 'application/vnd.bokehjs_exec.v0+json';\n  const CLASS_NAME = 'output_bokeh rendered_html';\n\n  /**\n   * Render data to the DOM node\n   */\n  function render(props, node) {\n    const script = document.createElement(\"script\");\n    node.appendChild(script);\n  }\n\n  /**\n   * Handle when an output is cleared or removed\n   */\n  function handleClearOutput(event, handle) {\n    function drop(id) {\n      const view = Bokeh.index.get_by_id(id)\n      if (view != null) {\n        view.model.document.clear()\n        Bokeh.index.delete(view)\n      }\n    }\n\n    const cell = handle.cell;\n\n    const id = cell.output_area._bokeh_element_id;\n    const server_id = cell.output_area._bokeh_server_id;\n\n    // Clean up Bokeh references\n    if (id != null) {\n      drop(id)\n    }\n\n    if (server_id !== undefined) {\n      // Clean up Bokeh references\n      const cmd_clean = \"from bokeh.io.state import curstate; print(curstate().uuid_to_server['\" + server_id + \"'].get_sessions()[0].document.roots[0]._id)\";\n      cell.notebook.kernel.execute(cmd_clean, {\n        iopub: {\n          output: function(msg) {\n            const id = msg.content.text.trim()\n            drop(id)\n          }\n        }\n      });\n      // Destroy server and session\n      const cmd_destroy = \"import bokeh.io.notebook as ion; ion.destroy_server('\" + server_id + \"')\";\n      cell.notebook.kernel.execute(cmd_destroy);\n    }\n  }\n\n  /**\n   * Handle when a new output is added\n   */\n  function handleAddOutput(event, handle) {\n    const output_area = handle.output_area;\n    const output = handle.output;\n\n    // limit handleAddOutput to display_data with EXEC_MIME_TYPE content only\n    if ((output.output_type != \"display_data\") || (!Object.prototype.hasOwnProperty.call(output.data, EXEC_MIME_TYPE))) {\n      return\n    }\n\n    const toinsert = output_area.element.find(\".\" + CLASS_NAME.split(' ')[0]);\n\n    if (output.metadata[EXEC_MIME_TYPE][\"id\"] !== undefined) {\n      toinsert[toinsert.length - 1].firstChild.textContent = output.data[JS_MIME_TYPE];\n      // store reference to embed id on output_area\n      output_area._bokeh_element_id = output.metadata[EXEC_MIME_TYPE][\"id\"];\n    }\n    if (output.metadata[EXEC_MIME_TYPE][\"server_id\"] !== undefined) {\n      const bk_div = document.createElement(\"div\");\n      bk_div.innerHTML = output.data[HTML_MIME_TYPE];\n      const script_attrs = bk_div.children[0].attributes;\n      for (let i = 0; i < script_attrs.length; i++) {\n        toinsert[toinsert.length - 1].firstChild.setAttribute(script_attrs[i].name, script_attrs[i].value);\n        toinsert[toinsert.length - 1].firstChild.textContent = bk_div.children[0].textContent\n      }\n      // store reference to server id on output_area\n      output_area._bokeh_server_id = output.metadata[EXEC_MIME_TYPE][\"server_id\"];\n    }\n  }\n\n  function register_renderer(events, OutputArea) {\n\n    function append_mime(data, metadata, element) {\n      // create a DOM node to render to\n      const toinsert = this.create_output_subarea(\n        metadata,\n        CLASS_NAME,\n        EXEC_MIME_TYPE\n      );\n      this.keyboard_manager.register_events(toinsert);\n      // Render to node\n      const props = {data: data, metadata: metadata[EXEC_MIME_TYPE]};\n      render(props, toinsert[toinsert.length - 1]);\n      element.append(toinsert);\n      return toinsert\n    }\n\n    /* Handle when an output is cleared or removed */\n    events.on('clear_output.CodeCell', handleClearOutput);\n    events.on('delete.Cell', handleClearOutput);\n\n    /* Handle when a new output is added */\n    events.on('output_added.OutputArea', handleAddOutput);\n\n    /**\n     * Register the mime type and append_mime function with output_area\n     */\n    OutputArea.prototype.register_mime_type(EXEC_MIME_TYPE, append_mime, {\n      /* Is output safe? */\n      safe: true,\n      /* Index of renderer in `output_area.display_order` */\n      index: 0\n    });\n  }\n\n  // register the mime type if in Jupyter Notebook environment and previously unregistered\n  if (root.Jupyter !== undefined) {\n    const events = require('base/js/events');\n    const OutputArea = require('notebook/js/outputarea').OutputArea;\n\n    if (OutputArea.prototype.mime_types().indexOf(EXEC_MIME_TYPE) == -1) {\n      register_renderer(events, OutputArea);\n    }\n  }\n  if (typeof (root._bokeh_timeout) === \"undefined\" || force === true) {\n    root._bokeh_timeout = Date.now() + 5000;\n    root._bokeh_failed_load = false;\n  }\n\n  const NB_LOAD_WARNING = {'data': {'text/html':\n     \"<div style='background-color: #fdd'>\\n\"+\n     \"<p>\\n\"+\n     \"BokehJS does not appear to have successfully loaded. If loading BokehJS from CDN, this \\n\"+\n     \"may be due to a slow or bad network connection. Possible fixes:\\n\"+\n     \"</p>\\n\"+\n     \"<ul>\\n\"+\n     \"<li>re-rerun `output_notebook()` to attempt to load from CDN again, or</li>\\n\"+\n     \"<li>use INLINE resources instead, as so:</li>\\n\"+\n     \"</ul>\\n\"+\n     \"<code>\\n\"+\n     \"from bokeh.resources import INLINE\\n\"+\n     \"output_notebook(resources=INLINE)\\n\"+\n     \"</code>\\n\"+\n     \"</div>\"}};\n\n  function display_loaded(error = null) {\n    const el = document.getElementById(\"c80cf5fa-9b0a-4d4c-8734-fd25ead0e53a\");\n    if (el != null) {\n      const html = (() => {\n        if (typeof root.Bokeh === \"undefined\") {\n          if (error == null) {\n            return \"BokehJS is loading ...\";\n          } else {\n            return \"BokehJS failed to load.\";\n          }\n        } else {\n          const prefix = `BokehJS ${root.Bokeh.version}`;\n          if (error == null) {\n            return `${prefix} successfully loaded.`;\n          } else {\n            return `${prefix} <b>encountered errors</b> while loading and may not function as expected.`;\n          }\n        }\n      })();\n      el.innerHTML = html;\n\n      if (error != null) {\n        const wrapper = document.createElement(\"div\");\n        wrapper.style.overflow = \"auto\";\n        wrapper.style.height = \"5em\";\n        wrapper.style.resize = \"vertical\";\n        const content = document.createElement(\"div\");\n        content.style.fontFamily = \"monospace\";\n        content.style.whiteSpace = \"pre-wrap\";\n        content.style.backgroundColor = \"rgb(255, 221, 221)\";\n        content.textContent = error.stack ?? error.toString();\n        wrapper.append(content);\n        el.append(wrapper);\n      }\n    } else if (Date.now() < root._bokeh_timeout) {\n      setTimeout(() => display_loaded(error), 100);\n    }\n  }\n\n  function run_callbacks() {\n    try {\n      root._bokeh_onload_callbacks.forEach(function(callback) {\n        if (callback != null)\n          callback();\n      });\n    } finally {\n      delete root._bokeh_onload_callbacks\n    }\n    console.debug(\"Bokeh: all callbacks have finished\");\n  }\n\n  function load_libs(css_urls, js_urls, callback) {\n    if (css_urls == null) css_urls = [];\n    if (js_urls == null) js_urls = [];\n\n    root._bokeh_onload_callbacks.push(callback);\n    if (root._bokeh_is_loading > 0) {\n      console.debug(\"Bokeh: BokehJS is being loaded, scheduling callback at\", now());\n      return null;\n    }\n    if (js_urls == null || js_urls.length === 0) {\n      run_callbacks();\n      return null;\n    }\n    console.debug(\"Bokeh: BokehJS not loaded, scheduling load and callback at\", now());\n    root._bokeh_is_loading = css_urls.length + js_urls.length;\n\n    function on_load() {\n      root._bokeh_is_loading--;\n      if (root._bokeh_is_loading === 0) {\n        console.debug(\"Bokeh: all BokehJS libraries/stylesheets loaded\");\n        run_callbacks()\n      }\n    }\n\n    function on_error(url) {\n      console.error(\"failed to load \" + url);\n    }\n\n    for (let i = 0; i < css_urls.length; i++) {\n      const url = css_urls[i];\n      const element = document.createElement(\"link\");\n      element.onload = on_load;\n      element.onerror = on_error.bind(null, url);\n      element.rel = \"stylesheet\";\n      element.type = \"text/css\";\n      element.href = url;\n      console.debug(\"Bokeh: injecting link tag for BokehJS stylesheet: \", url);\n      document.body.appendChild(element);\n    }\n\n    for (let i = 0; i < js_urls.length; i++) {\n      const url = js_urls[i];\n      const element = document.createElement('script');\n      element.onload = on_load;\n      element.onerror = on_error.bind(null, url);\n      element.async = false;\n      element.src = url;\n      console.debug(\"Bokeh: injecting script tag for BokehJS library: \", url);\n      document.head.appendChild(element);\n    }\n  };\n\n  function inject_raw_css(css) {\n    const element = document.createElement(\"style\");\n    element.appendChild(document.createTextNode(css));\n    document.body.appendChild(element);\n  }\n\n  const js_urls = [\"https://cdn.bokeh.org/bokeh/release/bokeh-3.5.2.min.js\", \"https://cdn.bokeh.org/bokeh/release/bokeh-gl-3.5.2.min.js\", \"https://cdn.bokeh.org/bokeh/release/bokeh-widgets-3.5.2.min.js\", \"https://cdn.bokeh.org/bokeh/release/bokeh-tables-3.5.2.min.js\", \"https://cdn.bokeh.org/bokeh/release/bokeh-mathjax-3.5.2.min.js\"];\n  const css_urls = [];\n\n  const inline_js = [    function(Bokeh) {\n      Bokeh.set_log_level(\"info\");\n    },\nfunction(Bokeh) {\n    }\n  ];\n\n  function run_inline_js() {\n    if (root.Bokeh !== undefined || force === true) {\n      try {\n            for (let i = 0; i < inline_js.length; i++) {\n      inline_js[i].call(root, root.Bokeh);\n    }\n\n      } catch (error) {display_loaded(error);throw error;\n      }if (force === true) {\n        display_loaded();\n      }} else if (Date.now() < root._bokeh_timeout) {\n      setTimeout(run_inline_js, 100);\n    } else if (!root._bokeh_failed_load) {\n      console.log(\"Bokeh: BokehJS failed to load within specified timeout.\");\n      root._bokeh_failed_load = true;\n    } else if (force !== true) {\n      const cell = $(document.getElementById(\"c80cf5fa-9b0a-4d4c-8734-fd25ead0e53a\")).parents('.cell').data().cell;\n      cell.output_area.append_execute_result(NB_LOAD_WARNING)\n    }\n  }\n\n  if (root._bokeh_is_loading === 0) {\n    console.debug(\"Bokeh: BokehJS loaded, going straight to plotting\");\n    run_inline_js();\n  } else {\n    load_libs(css_urls, js_urls, function() {\n      console.debug(\"Bokeh: BokehJS plotting callback run at\", now());\n      run_inline_js();\n    });\n  }\n}(window));",
      "application/vnd.bokehjs_load.v0+json": "'use strict';\n(function(root) {\n  function now() {\n    return new Date();\n  }\n\n  const force = true;\n\n  if (typeof root._bokeh_onload_callbacks === \"undefined\" || force === true) {\n    root._bokeh_onload_callbacks = [];\n    root._bokeh_is_loading = undefined;\n  }\n\n\n  if (typeof (root._bokeh_timeout) === \"undefined\" || force === true) {\n    root._bokeh_timeout = Date.now() + 5000;\n    root._bokeh_failed_load = false;\n  }\n\n  const NB_LOAD_WARNING = {'data': {'text/html':\n     \"<div style='background-color: #fdd'>\\n\"+\n     \"<p>\\n\"+\n     \"BokehJS does not appear to have successfully loaded. If loading BokehJS from CDN, this \\n\"+\n     \"may be due to a slow or bad network connection. Possible fixes:\\n\"+\n     \"</p>\\n\"+\n     \"<ul>\\n\"+\n     \"<li>re-rerun `output_notebook()` to attempt to load from CDN again, or</li>\\n\"+\n     \"<li>use INLINE resources instead, as so:</li>\\n\"+\n     \"</ul>\\n\"+\n     \"<code>\\n\"+\n     \"from bokeh.resources import INLINE\\n\"+\n     \"output_notebook(resources=INLINE)\\n\"+\n     \"</code>\\n\"+\n     \"</div>\"}};\n\n  function display_loaded(error = null) {\n    const el = document.getElementById(\"c80cf5fa-9b0a-4d4c-8734-fd25ead0e53a\");\n    if (el != null) {\n      const html = (() => {\n        if (typeof root.Bokeh === \"undefined\") {\n          if (error == null) {\n            return \"BokehJS is loading ...\";\n          } else {\n            return \"BokehJS failed to load.\";\n          }\n        } else {\n          const prefix = `BokehJS ${root.Bokeh.version}`;\n          if (error == null) {\n            return `${prefix} successfully loaded.`;\n          } else {\n            return `${prefix} <b>encountered errors</b> while loading and may not function as expected.`;\n          }\n        }\n      })();\n      el.innerHTML = html;\n\n      if (error != null) {\n        const wrapper = document.createElement(\"div\");\n        wrapper.style.overflow = \"auto\";\n        wrapper.style.height = \"5em\";\n        wrapper.style.resize = \"vertical\";\n        const content = document.createElement(\"div\");\n        content.style.fontFamily = \"monospace\";\n        content.style.whiteSpace = \"pre-wrap\";\n        content.style.backgroundColor = \"rgb(255, 221, 221)\";\n        content.textContent = error.stack ?? error.toString();\n        wrapper.append(content);\n        el.append(wrapper);\n      }\n    } else if (Date.now() < root._bokeh_timeout) {\n      setTimeout(() => display_loaded(error), 100);\n    }\n  }\n\n  function run_callbacks() {\n    try {\n      root._bokeh_onload_callbacks.forEach(function(callback) {\n        if (callback != null)\n          callback();\n      });\n    } finally {\n      delete root._bokeh_onload_callbacks\n    }\n    console.debug(\"Bokeh: all callbacks have finished\");\n  }\n\n  function load_libs(css_urls, js_urls, callback) {\n    if (css_urls == null) css_urls = [];\n    if (js_urls == null) js_urls = [];\n\n    root._bokeh_onload_callbacks.push(callback);\n    if (root._bokeh_is_loading > 0) {\n      console.debug(\"Bokeh: BokehJS is being loaded, scheduling callback at\", now());\n      return null;\n    }\n    if (js_urls == null || js_urls.length === 0) {\n      run_callbacks();\n      return null;\n    }\n    console.debug(\"Bokeh: BokehJS not loaded, scheduling load and callback at\", now());\n    root._bokeh_is_loading = css_urls.length + js_urls.length;\n\n    function on_load() {\n      root._bokeh_is_loading--;\n      if (root._bokeh_is_loading === 0) {\n        console.debug(\"Bokeh: all BokehJS libraries/stylesheets loaded\");\n        run_callbacks()\n      }\n    }\n\n    function on_error(url) {\n      console.error(\"failed to load \" + url);\n    }\n\n    for (let i = 0; i < css_urls.length; i++) {\n      const url = css_urls[i];\n      const element = document.createElement(\"link\");\n      element.onload = on_load;\n      element.onerror = on_error.bind(null, url);\n      element.rel = \"stylesheet\";\n      element.type = \"text/css\";\n      element.href = url;\n      console.debug(\"Bokeh: injecting link tag for BokehJS stylesheet: \", url);\n      document.body.appendChild(element);\n    }\n\n    for (let i = 0; i < js_urls.length; i++) {\n      const url = js_urls[i];\n      const element = document.createElement('script');\n      element.onload = on_load;\n      element.onerror = on_error.bind(null, url);\n      element.async = false;\n      element.src = url;\n      console.debug(\"Bokeh: injecting script tag for BokehJS library: \", url);\n      document.head.appendChild(element);\n    }\n  };\n\n  function inject_raw_css(css) {\n    const element = document.createElement(\"style\");\n    element.appendChild(document.createTextNode(css));\n    document.body.appendChild(element);\n  }\n\n  const js_urls = [\"https://cdn.bokeh.org/bokeh/release/bokeh-3.5.2.min.js\", \"https://cdn.bokeh.org/bokeh/release/bokeh-gl-3.5.2.min.js\", \"https://cdn.bokeh.org/bokeh/release/bokeh-widgets-3.5.2.min.js\", \"https://cdn.bokeh.org/bokeh/release/bokeh-tables-3.5.2.min.js\", \"https://cdn.bokeh.org/bokeh/release/bokeh-mathjax-3.5.2.min.js\"];\n  const css_urls = [];\n\n  const inline_js = [    function(Bokeh) {\n      Bokeh.set_log_level(\"info\");\n    },\nfunction(Bokeh) {\n    }\n  ];\n\n  function run_inline_js() {\n    if (root.Bokeh !== undefined || force === true) {\n      try {\n            for (let i = 0; i < inline_js.length; i++) {\n      inline_js[i].call(root, root.Bokeh);\n    }\n\n      } catch (error) {display_loaded(error);throw error;\n      }if (force === true) {\n        display_loaded();\n      }} else if (Date.now() < root._bokeh_timeout) {\n      setTimeout(run_inline_js, 100);\n    } else if (!root._bokeh_failed_load) {\n      console.log(\"Bokeh: BokehJS failed to load within specified timeout.\");\n      root._bokeh_failed_load = true;\n    } else if (force !== true) {\n      const cell = $(document.getElementById(\"c80cf5fa-9b0a-4d4c-8734-fd25ead0e53a\")).parents('.cell').data().cell;\n      cell.output_area.append_execute_result(NB_LOAD_WARNING)\n    }\n  }\n\n  if (root._bokeh_is_loading === 0) {\n    console.debug(\"Bokeh: BokehJS loaded, going straight to plotting\");\n    run_inline_js();\n  } else {\n    load_libs(css_urls, js_urls, function() {\n      console.debug(\"Bokeh: BokehJS plotting callback run at\", now());\n      run_inline_js();\n    });\n  }\n}(window));"
     },
     "metadata": {},
     "output_type": "display_data"
    }
   ],
   "execution_count": 1
  },
  {
   "cell_type": "markdown",
   "metadata": {},
   "source": [
    "Load all the gdb files from michael folders"
   ]
  },
  {
   "cell_type": "code",
   "metadata": {
    "ExecuteTime": {
     "end_time": "2024-09-09T08:50:16.579391Z",
     "start_time": "2024-09-09T08:50:16.560103Z"
    }
   },
   "source": [
    "\n",
    "config = configparser.ConfigParser()\n",
    "config_file = 'config.ini'\n",
    "# check if file exists\n",
    "if not os.path.isfile(config_file):\n",
    "    # create a simple config file\n",
    "    config['Paths'] = {'root_folder': ''}\n",
    "    with open(config_file, 'w') as configfile:\n",
    "        config.write(configfile)\n",
    "    print(f\"Created configuration file '{config_file}'.\")\n",
    "\n",
    "config.read('config.ini')\n",
    "\n",
    "root_folder = config['Paths']['root_folder']  \n",
    "print(root_folder)\n",
    "root_folder = os.path.join(root_folder, \"Michaels_Data\")\n",
    "print(root_folder)\n",
    "# List all .gdb directories in the folder\n",
    "gdb_files = []\n",
    "for dirpath, dirnames, filenames in os.walk(root_folder):\n",
    "    # Check if the folder contains a \"commondata\" folder\n",
    "    if \"commondata\" in dirnames:\n",
    "        commondata_folder = os.path.join(dirpath, \"commondata\")\n",
    "        commondata_folder = os.path.normpath(commondata_folder)\n",
    "\n",
    "        # List all .gdb files in the \"commondata\" folder\n",
    "        for f in os.listdir(commondata_folder):\n",
    "            if f.endswith('.gdb'):\n",
    "                gdb_files.append(os.path.join(commondata_folder, f))\n",
    "\n",
    "# Print the collected .gdb files\n",
    "for gdb in gdb_files:\n",
    "    print(gdb)\n",
    "print(\"GDB Files:\", gdb_files)"
   ],
   "outputs": [
    {
     "name": "stdout",
     "output_type": "stream",
     "text": [
      "\n",
      "Michaels_Data\n",
      "Michaels_Data\\חלקות\\commondata\\myproject16.gdb\n",
      "Michaels_Data\\חלקות\\commondata\\scratch.gdb\n",
      "Michaels_Data\\מרקמים\\commondata\\myproject16.gdb\n",
      "Michaels_Data\\מרקמים\\commondata\\scratch.gdb\n",
      "Michaels_Data\\קונטור בניינים\\commondata\\jps_reka.gdb\n",
      "Michaels_Data\\קונטור בניינים\\commondata\\scratch.gdb\n",
      "Michaels_Data\\רגישות\\commondata\\myproject16.gdb\n",
      "GDB Files: ['Michaels_Data\\\\חלקות\\\\commondata\\\\myproject16.gdb', 'Michaels_Data\\\\חלקות\\\\commondata\\\\scratch.gdb', 'Michaels_Data\\\\מרקמים\\\\commondata\\\\myproject16.gdb', 'Michaels_Data\\\\מרקמים\\\\commondata\\\\scratch.gdb', 'Michaels_Data\\\\קונטור בניינים\\\\commondata\\\\jps_reka.gdb', 'Michaels_Data\\\\קונטור בניינים\\\\commondata\\\\scratch.gdb', 'Michaels_Data\\\\רגישות\\\\commondata\\\\myproject16.gdb']\n"
     ]
    }
   ],
   "execution_count": 2
  },
  {
   "cell_type": "markdown",
   "metadata": {},
   "source": [
    "Calculating metrics over buildings:"
   ]
  },
  {
   "cell_type": "code",
   "metadata": {
    "ExecuteTime": {
     "end_time": "2024-09-09T08:50:34.276652Z",
     "start_time": "2024-09-09T08:50:25.431929Z"
    }
   },
   "source": [
    "# load municipal buildings\n",
    "gdb_file = gdb_files[4]  # Modify if you want to choose a different .gdb\n",
    "print(gdb_file)\n",
    "# List the layers in the selected .gdb\n",
    "layers = fiona.listlayers(gdb_file)\n",
    "print(\"Layers in the selected GDB:\", layers)\n",
    "\n",
    "# Choose a specific layer within the .gdb\n",
    "textures_layer = layers[0]  # Modify if you want to choose a different layer\n",
    "\n",
    "# Load the specific layer\n",
    "gdf = gpd.read_file(gdb_file, layer=textures_layer)\n",
    "buildings = gdf[[\"geometry\"]].to_crs(local_crs)\n"
   ],
   "outputs": [
    {
     "name": "stdout",
     "output_type": "stream",
     "text": [
      "Michaels_Data\\קונטור בניינים\\commondata\\jps_reka.gdb\n",
      "Layers in the selected GDB: ['buildings']\n"
     ]
    }
   ],
   "execution_count": 3
  },
  {
   "cell_type": "code",
   "metadata": {
    "ExecuteTime": {
     "end_time": "2024-09-09T07:36:54.001030Z",
     "start_time": "2024-09-09T07:36:50.341667Z"
    }
   },
   "source": [
    "\n",
    "# Calculate Building Height (assuming you have the necessary columns like number of floors)\n",
    "# You need to have a 'height_col' or a similar column to calculate this\n",
    "# buildings['building_height'] = momepy.building_height(buildings, 'height_col').series\n",
    "\n",
    "# Calculate Volume, requires floor_area and height\n",
    "# Assuming height and area have been calculated and are stored in 'height' and 'floor_area' columns\n",
    "# buildings['volume'] = momepy.Volume(buildings, 'floor_area', 'building_height')\n",
    "# buildings['form_factor'] = momepy.form_factor(buildings, 'building_height')\n",
    "# buildings['floor_area'] = momepy.floor_area(buildings,'building_height')\n",
    "\n",
    "# Basic geometric properties\n",
    "buildings['perimeter'] = buildings.geometry.length\n",
    "buildings['shape_index'] = momepy.shape_index(buildings,momepy.longest_axis_length(buildings))\n",
    "buildings['circular_compactness'] = momepy.circular_compactness(buildings)\n",
    "buildings['square_compactness'] = momepy.square_compactness(buildings)\n",
    "buildings['weighted_axis_compactness'] = momepy.compactness_weighted_axis(buildings)\n",
    "buildings['convexity'] = momepy.convexity(buildings)\n",
    "buildings['courtyard_area'] = momepy.courtyard_area(buildings)\n",
    "buildings['courtyard_index'] = momepy.courtyard_index(buildings)\n",
    "# buildings['corners'] = momepy.corners(buildings)                # TODO: Fix this\n",
    "buildings['fractal_dimension'] = momepy.fractal_dimension(buildings)\n",
    "buildings['facade_ratio'] = momepy.facade_ratio(buildings)\n"
   ],
   "outputs": [],
   "execution_count": null
  },
  {
   "metadata": {
    "ExecuteTime": {
     "end_time": "2024-09-09T07:55:20.258500Z",
     "start_time": "2024-09-09T07:53:20.540353Z"
    }
   },
   "cell_type": "code",
   "source": [
    "# More complex morphological metrics\n",
    "buildings['orientation'] = momepy.orientation(buildings)\n",
    "buildings['longest_axis_length'] = momepy.longest_axis_length(buildings)\n",
    "buildings['equivalent_rectangular_index'] = momepy.equivalent_rectangular_index(buildings)\n",
    "buildings['elongation'] = momepy.elongation(buildings)\n",
    "buildings['linearity'] = momepy.linearity(buildings)\n",
    "buildings['rectangularity'] = momepy.rectangularity(buildings)\n",
    "# buildings['squareness'] = momepy.squareness(buildings)    # TODO: Fix this\n",
    "buildings['shared_walls_length'] = momepy.shared_walls(buildings)\n"
   ],
   "outputs": [],
   "execution_count": 25
  },
  {
   "metadata": {
    "ExecuteTime": {
     "end_time": "2024-09-09T10:52:42.568113Z",
     "start_time": "2024-09-09T10:52:17.592411Z"
    }
   },
   "cell_type": "code",
   "source": [
    "# Metrics related to building adjacency and Graph\n",
    "from libpysal import graph\n",
    "\n",
    "delaunay = graph.Graph.build_triangulation(buildings.centroid, coplanar='clique').assign_self_weight()\n",
    "orientation = momepy.orientation(buildings)\n",
    "buildings['alignment'] = momepy.alignment(orientation, delaunay)\n",
    "\n",
    "buildings_knn = graph.Graph.build_knn(buildings.centroid, k=15)  # adjust k if needed   TODO: Fix this\n",
    "contiguity = graph.Graph.build_contiguity(buildings)\n",
    "buildings['adjacency'] = momepy.building_adjacency(contiguity,buildings_knn)\n",
    "\n",
    "buildings['mean_interbuilding_distance'] = momepy.mean_interbuilding_distance(buildings, delaunay, buildings_knn)\n",
    "# \n",
    "buildings['neighbour_distance'] = momepy.neighbor_distance(buildings, delaunay)\n",
    "\n",
    "\n",
    "buildings['courtyards_num'] = momepy.courtyards(buildings, contiguity) # Calculate the number of courtyards within the joined structure\n",
    "\n",
    "# the following metrics caculate the diversity index of building types, it possible to override the binning method (refer to the full documentation)\n",
    "knn5 = graph.Graph.build_knn(buildings.centroid, k=5)\n",
    "buildings['shannon'] = momepy.shannon(buildings, knn5) \n",
    "buildings['simpson'] = momepy.simpson(buildings, knn5) \n",
    "buildings['theil'] = momepy.theil(buildings, knn5)\n",
    "\n",
    "buildings['values_range'] = momepy.values_range(buildings, knn5) \n",
    "buildings['mean_deviation'] = momepy.mean_deviation(buildings, knn5)"
   ],
   "outputs": [
    {
     "ename": "CoplanarError",
     "evalue": "There are 34330 unique locations in the dataset, but 34339 observations. At least one of these sites has 1 points, more than the 15 nearest neighbors requested. This means there are more than 15 points in the same location, which makes this graph type undefined. To address this issue, consider setting `coplanar='clique'` or consult the documentation about coplanar points.",
     "output_type": "error",
     "traceback": [
      "\u001B[1;31m---------------------------------------------------------------------------\u001B[0m",
      "\u001B[1;31mCoplanarError\u001B[0m                             Traceback (most recent call last)",
      "Cell \u001B[1;32mIn[11], line 8\u001B[0m\n\u001B[0;32m      5\u001B[0m orientation \u001B[38;5;241m=\u001B[39m momepy\u001B[38;5;241m.\u001B[39morientation(buildings)\n\u001B[0;32m      6\u001B[0m buildings[\u001B[38;5;124m'\u001B[39m\u001B[38;5;124malignment\u001B[39m\u001B[38;5;124m'\u001B[39m] \u001B[38;5;241m=\u001B[39m momepy\u001B[38;5;241m.\u001B[39malignment(orientation, delaunay)\n\u001B[1;32m----> 8\u001B[0m buildings_knn \u001B[38;5;241m=\u001B[39m \u001B[43mgraph\u001B[49m\u001B[38;5;241;43m.\u001B[39;49m\u001B[43mGraph\u001B[49m\u001B[38;5;241;43m.\u001B[39;49m\u001B[43mbuild_knn\u001B[49m\u001B[43m(\u001B[49m\u001B[43mbuildings\u001B[49m\u001B[38;5;241;43m.\u001B[39;49m\u001B[43mcentroid\u001B[49m\u001B[43m,\u001B[49m\u001B[43m \u001B[49m\u001B[43mk\u001B[49m\u001B[38;5;241;43m=\u001B[39;49m\u001B[38;5;241;43m15\u001B[39;49m\u001B[43m)\u001B[49m  \u001B[38;5;66;03m# adjust k if needed   TODO: Fix this\u001B[39;00m\n\u001B[0;32m      9\u001B[0m contiguity \u001B[38;5;241m=\u001B[39m graph\u001B[38;5;241m.\u001B[39mGraph\u001B[38;5;241m.\u001B[39mbuild_contiguity(buildings)\n\u001B[0;32m     10\u001B[0m buildings[\u001B[38;5;124m'\u001B[39m\u001B[38;5;124madjacency\u001B[39m\u001B[38;5;124m'\u001B[39m] \u001B[38;5;241m=\u001B[39m momepy\u001B[38;5;241m.\u001B[39mbuilding_adjacency(contiguity,buildings_knn)\n",
      "File \u001B[1;32m~\\PycharmProjects\\DSSG\\.venv\\Lib\\site-packages\\libpysal\\graph\\base.py:1174\u001B[0m, in \u001B[0;36mGraph.build_knn\u001B[1;34m(cls, data, k, metric, p, coplanar)\u001B[0m\n\u001B[0;32m   1094\u001B[0m \u001B[38;5;250m\u001B[39m\u001B[38;5;124;03m\"\"\"Generate Graph from geometry data based on k-nearest neighbors search\u001B[39;00m\n\u001B[0;32m   1095\u001B[0m \n\u001B[0;32m   1096\u001B[0m \u001B[38;5;124;03mParameters\u001B[39;00m\n\u001B[1;32m   (...)\u001B[0m\n\u001B[0;32m   1170\u001B[0m \u001B[38;5;124;03mName: weight, dtype: int32\u001B[39;00m\n\u001B[0;32m   1171\u001B[0m \u001B[38;5;124;03m\"\"\"\u001B[39;00m\n\u001B[0;32m   1172\u001B[0m ids \u001B[38;5;241m=\u001B[39m _evaluate_index(data)\n\u001B[1;32m-> 1174\u001B[0m head, tail, weight \u001B[38;5;241m=\u001B[39m \u001B[43m_kernel\u001B[49m\u001B[43m(\u001B[49m\n\u001B[0;32m   1175\u001B[0m \u001B[43m    \u001B[49m\u001B[43mdata\u001B[49m\u001B[43m,\u001B[49m\n\u001B[0;32m   1176\u001B[0m \u001B[43m    \u001B[49m\u001B[43mbandwidth\u001B[49m\u001B[38;5;241;43m=\u001B[39;49m\u001B[43mnp\u001B[49m\u001B[38;5;241;43m.\u001B[39;49m\u001B[43minf\u001B[49m\u001B[43m,\u001B[49m\n\u001B[0;32m   1177\u001B[0m \u001B[43m    \u001B[49m\u001B[43mmetric\u001B[49m\u001B[38;5;241;43m=\u001B[39;49m\u001B[43mmetric\u001B[49m\u001B[43m,\u001B[49m\n\u001B[0;32m   1178\u001B[0m \u001B[43m    \u001B[49m\u001B[43mkernel\u001B[49m\u001B[38;5;241;43m=\u001B[39;49m\u001B[38;5;124;43m\"\u001B[39;49m\u001B[38;5;124;43mboxcar\u001B[39;49m\u001B[38;5;124;43m\"\u001B[39;49m\u001B[43m,\u001B[49m\n\u001B[0;32m   1179\u001B[0m \u001B[43m    \u001B[49m\u001B[43mk\u001B[49m\u001B[38;5;241;43m=\u001B[39;49m\u001B[43mk\u001B[49m\u001B[43m,\u001B[49m\n\u001B[0;32m   1180\u001B[0m \u001B[43m    \u001B[49m\u001B[43mp\u001B[49m\u001B[38;5;241;43m=\u001B[39;49m\u001B[43mp\u001B[49m\u001B[43m,\u001B[49m\n\u001B[0;32m   1181\u001B[0m \u001B[43m    \u001B[49m\u001B[43mids\u001B[49m\u001B[38;5;241;43m=\u001B[39;49m\u001B[43mids\u001B[49m\u001B[43m,\u001B[49m\n\u001B[0;32m   1182\u001B[0m \u001B[43m    \u001B[49m\u001B[43mcoplanar\u001B[49m\u001B[38;5;241;43m=\u001B[39;49m\u001B[43mcoplanar\u001B[49m\u001B[43m,\u001B[49m\n\u001B[0;32m   1183\u001B[0m \u001B[43m\u001B[49m\u001B[43m)\u001B[49m\n\u001B[0;32m   1185\u001B[0m \u001B[38;5;28;01mreturn\u001B[39;00m \u001B[38;5;28mcls\u001B[39m\u001B[38;5;241m.\u001B[39mfrom_arrays(head, tail, weight)\n",
      "File \u001B[1;32m~\\PycharmProjects\\DSSG\\.venv\\Lib\\site-packages\\libpysal\\graph\\_kernel.py:158\u001B[0m, in \u001B[0;36m_kernel\u001B[1;34m(coordinates, bandwidth, metric, kernel, k, ids, p, taper, coplanar, resolve_isolates)\u001B[0m\n\u001B[0;32m    156\u001B[0m \u001B[38;5;28;01mif\u001B[39;00m k \u001B[38;5;129;01mis\u001B[39;00m \u001B[38;5;129;01mnot\u001B[39;00m \u001B[38;5;28;01mNone\u001B[39;00m:\n\u001B[0;32m    157\u001B[0m     \u001B[38;5;28;01mif\u001B[39;00m metric \u001B[38;5;241m!=\u001B[39m \u001B[38;5;124m\"\u001B[39m\u001B[38;5;124mprecomputed\u001B[39m\u001B[38;5;124m\"\u001B[39m:\n\u001B[1;32m--> 158\u001B[0m         d \u001B[38;5;241m=\u001B[39m \u001B[43m_knn\u001B[49m\u001B[43m(\u001B[49m\u001B[43mcoordinates\u001B[49m\u001B[43m,\u001B[49m\u001B[43m \u001B[49m\u001B[43mk\u001B[49m\u001B[38;5;241;43m=\u001B[39;49m\u001B[43mk\u001B[49m\u001B[43m,\u001B[49m\u001B[43m \u001B[49m\u001B[43mmetric\u001B[49m\u001B[38;5;241;43m=\u001B[39;49m\u001B[43mmetric\u001B[49m\u001B[43m,\u001B[49m\u001B[43m \u001B[49m\u001B[43mp\u001B[49m\u001B[38;5;241;43m=\u001B[39;49m\u001B[43mp\u001B[49m\u001B[43m,\u001B[49m\u001B[43m \u001B[49m\u001B[43mcoplanar\u001B[49m\u001B[38;5;241;43m=\u001B[39;49m\u001B[43mcoplanar\u001B[49m\u001B[43m)\u001B[49m\n\u001B[0;32m    159\u001B[0m     \u001B[38;5;28;01melse\u001B[39;00m:\n\u001B[0;32m    160\u001B[0m         d \u001B[38;5;241m=\u001B[39m coordinates \u001B[38;5;241m*\u001B[39m (coordinates\u001B[38;5;241m.\u001B[39margsort(axis\u001B[38;5;241m=\u001B[39m\u001B[38;5;241m1\u001B[39m, kind\u001B[38;5;241m=\u001B[39m\u001B[38;5;124m\"\u001B[39m\u001B[38;5;124mstable\u001B[39m\u001B[38;5;124m\"\u001B[39m) \u001B[38;5;241m<\u001B[39m (k \u001B[38;5;241m+\u001B[39m \u001B[38;5;241m1\u001B[39m))\n",
      "File \u001B[1;32m~\\PycharmProjects\\DSSG\\.venv\\Lib\\site-packages\\libpysal\\graph\\_kernel.py:244\u001B[0m, in \u001B[0;36m_knn\u001B[1;34m(coordinates, metric, k, p, coplanar)\u001B[0m\n\u001B[0;32m    242\u001B[0m max_at_one_site \u001B[38;5;241m=\u001B[39m counts\u001B[38;5;241m.\u001B[39mmax()\n\u001B[0;32m    243\u001B[0m \u001B[38;5;28;01mif\u001B[39;00m coplanar \u001B[38;5;241m==\u001B[39m \u001B[38;5;124m\"\u001B[39m\u001B[38;5;124mraise\u001B[39m\u001B[38;5;124m\"\u001B[39m:\n\u001B[1;32m--> 244\u001B[0m     \u001B[38;5;28;01mraise\u001B[39;00m CoplanarError(\n\u001B[0;32m    245\u001B[0m         \u001B[38;5;124mf\u001B[39m\u001B[38;5;124m\"\u001B[39m\u001B[38;5;124mThere are \u001B[39m\u001B[38;5;132;01m{\u001B[39;00m\u001B[38;5;28mlen\u001B[39m(coordinates)\u001B[38;5;250m \u001B[39m\u001B[38;5;241m-\u001B[39m\u001B[38;5;250m \u001B[39m\u001B[38;5;28mlen\u001B[39m(coplanar_lookup)\u001B[38;5;132;01m}\u001B[39;00m\u001B[38;5;124m unique locations \u001B[39m\u001B[38;5;124m\"\u001B[39m\n\u001B[0;32m    246\u001B[0m         \u001B[38;5;124mf\u001B[39m\u001B[38;5;124m\"\u001B[39m\u001B[38;5;124min the dataset, but \u001B[39m\u001B[38;5;132;01m{\u001B[39;00m\u001B[38;5;28mlen\u001B[39m(coordinates)\u001B[38;5;132;01m}\u001B[39;00m\u001B[38;5;124m observations. At least one of \u001B[39m\u001B[38;5;124m\"\u001B[39m\n\u001B[0;32m    247\u001B[0m         \u001B[38;5;124mf\u001B[39m\u001B[38;5;124m\"\u001B[39m\u001B[38;5;124mthese sites has \u001B[39m\u001B[38;5;132;01m{\u001B[39;00mmax_at_one_site\u001B[38;5;132;01m}\u001B[39;00m\u001B[38;5;124m points, more than the \u001B[39m\u001B[38;5;132;01m{\u001B[39;00mk\u001B[38;5;132;01m}\u001B[39;00m\u001B[38;5;124m nearest \u001B[39m\u001B[38;5;124m\"\u001B[39m\n\u001B[0;32m    248\u001B[0m         \u001B[38;5;124mf\u001B[39m\u001B[38;5;124m\"\u001B[39m\u001B[38;5;124mneighbors requested. This means there are more than \u001B[39m\u001B[38;5;132;01m{\u001B[39;00mk\u001B[38;5;132;01m}\u001B[39;00m\u001B[38;5;124m points in \u001B[39m\u001B[38;5;124m\"\u001B[39m\n\u001B[0;32m    249\u001B[0m         \u001B[38;5;124m\"\u001B[39m\u001B[38;5;124mthe same location, which makes this graph type undefined. To address \u001B[39m\u001B[38;5;124m\"\u001B[39m\n\u001B[0;32m    250\u001B[0m         \u001B[38;5;124m\"\u001B[39m\u001B[38;5;124mthis issue, consider setting `coplanar=\u001B[39m\u001B[38;5;124m'\u001B[39m\u001B[38;5;124mclique\u001B[39m\u001B[38;5;124m'\u001B[39m\u001B[38;5;124m` or consult the \u001B[39m\u001B[38;5;124m\"\u001B[39m\n\u001B[0;32m    251\u001B[0m         \u001B[38;5;124m\"\u001B[39m\u001B[38;5;124mdocumentation about coplanar points.\u001B[39m\u001B[38;5;124m\"\u001B[39m\n\u001B[0;32m    252\u001B[0m     )\n\u001B[0;32m    253\u001B[0m \u001B[38;5;28;01mif\u001B[39;00m coplanar \u001B[38;5;241m==\u001B[39m \u001B[38;5;124m\"\u001B[39m\u001B[38;5;124mjitter\u001B[39m\u001B[38;5;124m\"\u001B[39m:\n\u001B[0;32m    254\u001B[0m     \u001B[38;5;66;03m# force re-jittering over and over again until the coplanarity is broken\u001B[39;00m\n\u001B[0;32m    255\u001B[0m     \u001B[38;5;28;01mreturn\u001B[39;00m _knn(\n\u001B[0;32m    256\u001B[0m         _jitter_geoms(coordinates, geoms)[\u001B[38;5;241m-\u001B[39m\u001B[38;5;241m1\u001B[39m],\n\u001B[0;32m    257\u001B[0m         metric\u001B[38;5;241m=\u001B[39mmetric,\n\u001B[1;32m   (...)\u001B[0m\n\u001B[0;32m    260\u001B[0m         coplanar\u001B[38;5;241m=\u001B[39m\u001B[38;5;124m\"\u001B[39m\u001B[38;5;124mjitter\u001B[39m\u001B[38;5;124m\"\u001B[39m,\n\u001B[0;32m    261\u001B[0m     )\n",
      "\u001B[1;31mCoplanarError\u001B[0m: There are 34330 unique locations in the dataset, but 34339 observations. At least one of these sites has 1 points, more than the 15 nearest neighbors requested. This means there are more than 15 points in the same location, which makes this graph type undefined. To address this issue, consider setting `coplanar='clique'` or consult the documentation about coplanar points."
     ]
    }
   ],
   "execution_count": 11
  },
  {
   "metadata": {
    "jupyter": {
     "is_executing": true
    }
   },
   "cell_type": "code",
   "source": [
    "# metrics related to tessellation\n",
    "# buildings = momepy.preprocess(buildings.reset_index(), size=30, compactness=0.2, islands=True)\n",
    "limit = momepy.buffered_limit(buildings, buffer = 'adaptive',coplanar='clique')\n",
    "# tessellation = momepy.morphological_tessellation(buildings) # need adjustment\n",
    "# blg_orient = momepy.orientation(buildings)\n",
    "# tess_orient = momepy.orientation(tessellation)\n",
    "# buildings['cell_orientation'] = momepy.cell_alignment(blg_orient, tess_orient).series\n",
    "# buildings['num_of_neighbours'] = momepy.neighbors(tessellation, contiguity, weighted=True)"
   ],
   "outputs": [],
   "execution_count": null
  },
  {
   "metadata": {},
   "cell_type": "code",
   "outputs": [],
   "execution_count": null,
   "source": [
    "# shared metrics between buildings and streets\n",
    "# Ensure you have the necessary context (like street networks) for these:\n",
    "# gdf_network =   # the street network\n",
    "# buildings['node_density'] = momepy.node_density(gdf_network, buildings, radius=300)\n",
    "# buildings['street_profile'] = momepy.street_profile(gdf_network, buildings, radius=300)\n",
    "# buildings['reach'] = momepy.Reach(buildings, gdf_network, distance=500)\n",
    "\n",
    "blg_orient = momepy.orientation(buildings)\n",
    "str_orient = momepy.orientation(streets)\n",
    "momepy.street_alignment(blg_orient, str_orient, buildings[\"street_index\"])\n"
   ]
  },
  {
   "metadata": {},
   "cell_type": "markdown",
   "source": "Calculate metrics over streets"
  },
  {
   "metadata": {},
   "cell_type": "code",
   "outputs": [],
   "execution_count": null,
   "source": [
    "place = \"Jerusalem, Israel\"\n",
    "local_crs = \"EPSG:2039\"\n",
    "\n",
    "# Geocode using Nominatim\n",
    "# latitude = 31.7683\n",
    "# longitude = 35.2137\n",
    "# point = gpd.GeoDataFrame(geometry=[Point(longitude, latitude)], crs=\"EPSG:4326\")\n",
    "\n",
    "#Load open street buildings\n",
    "osm_buildings = osmnx.features_from_place(place, tags={\"building\": True})\n",
    "osm_buildings = osm_buildings[osm_buildings.geom_type == \"Polygon\"].reset_index(drop=True)\n",
    "osm_buildings = osm_buildings[[\"geometry\"]].to_crs(local_crs)\n",
    "osm_buildings.head()\n",
    "osm_graph = osmnx.graph_from_place(place, network_type=\"drive\")\n",
    "osm_graph = osmnx.projection.project_graph(osm_graph, to_crs=local_crs)\n",
    "streets = osmnx.graph_to_gdfs(\n",
    "    osmnx.convert.to_undirected(osm_graph),\n",
    "    nodes=False,\n",
    "    edges=True,\n",
    "    node_geometry=False,\n",
    "    fill_edge_geometry=True,\n",
    ").reset_index(drop=True)\n",
    "print(streets.columns)\n",
    "streets_geometry = streets['geometry']\n",
    "streets['orientation'] = momepy.orientation(streets_geometry)\n",
    "streets['courtyard_area'] = momepy.courtyard_area(streets_geometry)\n",
    "streets['longest_axis_length'] = momepy.longest_axis_length(streets_geometry)\n",
    "# streets['perimeter_wall'] = momepy.perimeter_wall(streets_geometry)\n",
    "streets['centroid_corner_distance'] = momepy.centroid_corner_distance(streets_geometry)\n",
    "streets['circular_compactness'] = momepy.circular_compactness(streets_geometry)\n",
    "streets['compactness_weighted_axis'] = momepy.compactness_weighted_axis(streets_geometry)\n",
    "streets['convexity'] = momepy.convexity(streets_geometry)\n",
    "streets['corners'] = momepy.corners(streets_geometry)\n",
    "streets['courtyard_index'] = momepy.courtyard_index(streets_geometry)\n",
    "streets['elongation'] = momepy.elongation(streets_geometry)\n",
    "streets['equivalent_rectangular_index'] = momepy.equivalent_rectangular_index(streets_geometry)\n",
    "streets['facade_ratio'] = momepy.facade_ratio(streets_geometry)\n",
    "streets['fractal_dimension'] = momepy.fractal_dimension(streets_geometry)\n",
    "streets['linearity'] = momepy.linearity(streets_geometry)\n",
    "streets['rectangularity'] = momepy.rectangularity(streets_geometry)\n",
    "streets['shape_index'] = momepy.shape_index(streets_geometry)\n",
    "streets['square_compactness'] = momepy.square_compactness(streets_geometry)\n",
    "streets['squareness'] = momepy.elongation(streets_geometry)\n",
    "streets['alignment'] = momepy.alignment(streets['orientation'], osm_graph)\n",
    "streets['cell_alignment'] = momepy.cell_alignment(streets['orientation'], osm_graph)\n",
    "streets['neighbor_distance'] = momepy.neighbor_distance(streets_geometry, osm_graph)\n",
    "streets['neighbors'] = momepy.neighbors(streets_geometry, osm_graph)\n",
    "streets['betweenness_centrality'] = momepy.betweenness_centrality(osm_graph)\n",
    "\n",
    "\n",
    "\n",
    "streets = momepy.remove_false_nodes(streets)\n",
    "streets[\"length\"] = streets.length\n",
    "streets[\"linearity\"] = momepy.linearity(streets)"
   ]
  }
 ],
 "metadata": {
  "language_info": {
   "name": "python"
  },
  "kernelspec": {
   "name": "python3",
   "language": "python",
   "display_name": "Python 3 (ipykernel)"
  }
 },
 "nbformat": 4,
 "nbformat_minor": 2
}
