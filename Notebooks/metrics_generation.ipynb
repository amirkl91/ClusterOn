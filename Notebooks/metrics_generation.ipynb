{
 "cells": [
  {
   "cell_type": "code",
   "execution_count": null,
   "metadata": {},
   "outputs": [],
   "source": [
    "import geopandas as gpd\n",
    "import fiona\n",
    "import os\n",
    "import matplotlib.pyplot as plt\n",
    "from matplotlib.lines import Line2D\n",
    "import configparser\n",
    "import momepy\n",
    "import libpysal\n",
    "import osmnx\n",
    "import pandas\n",
    "from bokeh.io import output_notebook\n",
    "from bokeh.plotting import show\n",
    "from clustergram import Clustergram\n",
    "from shapely.geometry import Point\n",
    "local_crs = \"EPSG:2039\"\n",
    "output_notebook()"
   ]
  },
  {
   "cell_type": "markdown",
   "metadata": {},
   "source": [
    "Load all the gdb files from michael folders"
   ]
  },
  {
   "cell_type": "code",
   "execution_count": null,
   "metadata": {},
   "outputs": [],
   "source": [
    "\n",
    "config = configparser.ConfigParser()\n",
    "config_file = 'config.ini'\n",
    "# check if file exists\n",
    "if not os.path.isfile(config_file):\n",
    "    # create a simple config file\n",
    "    config['Paths'] = {'root_folder': '/path/to/your/gdb/folder'}\n",
    "    with open(config_file, 'w') as configfile:\n",
    "        config.write(configfile)\n",
    "    print(f\"Created configuration file '{config_file}'.\")\n",
    "\n",
    "config.read('config.ini')\n",
    "\n",
    "root_folder = config['Paths']['root_folder']  \n",
    "print(root_folder)\n",
    "root_folder = os.path.join(root_folder, \"DSSG/Michaels_Data/All_Layers\")\n",
    "print(root_folder)\n",
    "# List all .gdb directories in the folder\n",
    "gdb_files = []\n",
    "for dirpath, dirnames, filenames in os.walk(root_folder):\n",
    "    # Check if the folder contains a \"commondata\" folder\n",
    "    if \"commondata\" in dirnames:\n",
    "        commondata_folder = os.path.join(dirpath, \"commondata\")\n",
    "        commondata_folder = os.path.normpath(commondata_folder)\n",
    "\n",
    "        # List all .gdb files in the \"commondata\" folder\n",
    "        for f in os.listdir(commondata_folder):\n",
    "            if f.endswith('.gdb'):\n",
    "                gdb_files.append(os.path.join(commondata_folder, f))\n",
    "\n",
    "# Print the collected .gdb files\n",
    "for gdb in gdb_files:\n",
    "    print(gdb)\n",
    "print(\"GDB Files:\", gdb_files)"
   ]
  },
  {
   "cell_type": "markdown",
   "metadata": {},
   "source": [
    "Calculating metrics over buildings:"
   ]
  },
  {
   "cell_type": "code",
   "execution_count": null,
   "metadata": {},
   "outputs": [],
   "source": [
    "# load municipal buildings\n",
    "gdb_file = gdb_files[6]  # Modify if you want to choose a different .gdb\n",
    "print(gdb_file)\n",
    "# List the layers in the selected .gdb\n",
    "layers = fiona.listlayers(gdb_file)\n",
    "print(\"Layers in the selected GDB:\", layers)\n",
    "\n",
    "# Choose a specific layer within the .gdb\n",
    "textures_layer = layers[0]  # Modify if you want to choose a different layer\n",
    "\n",
    "# Load the specific layer\n",
    "gdf = gpd.read_file(gdb_file, layer=textures_layer)\n",
    "buildings = gdf[[\"geometry\"]].to_crs(local_crs)\n"
   ]
  },
  {
   "cell_type": "markdown",
   "metadata": {},
   "source": [
    "Calculate metrics over streets"
   ]
  },
  {
   "cell_type": "code",
   "execution_count": null,
   "metadata": {},
   "outputs": [],
   "source": []
  }
 ],
 "metadata": {
  "language_info": {
   "name": "python"
  }
 },
 "nbformat": 4,
 "nbformat_minor": 2
}
