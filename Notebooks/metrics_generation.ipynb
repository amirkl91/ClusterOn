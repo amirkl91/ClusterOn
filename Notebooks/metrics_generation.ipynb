{
 "cells": [
  {
   "cell_type": "code",
   "execution_count": 1,
   "metadata": {},
   "outputs": [
    {
     "name": "stderr",
     "output_type": "stream",
     "text": [
      "c:\\Users\\david\\Desktop\\DSSG\\.venv\\Lib\\site-packages\\tqdm\\auto.py:21: TqdmWarning: IProgress not found. Please update jupyter and ipywidgets. See https://ipywidgets.readthedocs.io/en/stable/user_install.html\n",
      "  from .autonotebook import tqdm as notebook_tqdm\n"
     ]
    },
    {
     "data": {
      "text/html": [
       "    <style>\n",
       "        .bk-notebook-logo {\n",
       "            display: block;\n",
       "            width: 20px;\n",
       "            height: 20px;\n",
       "            background-image: url(data:image/png;base64,iVBORw0KGgoAAAANSUhEUgAAABQAAAAUCAYAAACNiR0NAAAABHNCSVQICAgIfAhkiAAAAAlwSFlzAAALEgAACxIB0t1+/AAAABx0RVh0U29mdHdhcmUAQWRvYmUgRmlyZXdvcmtzIENTNui8sowAAAOkSURBVDiNjZRtaJVlGMd/1/08zzln5zjP1LWcU9N0NkN8m2CYjpgQYQXqSs0I84OLIC0hkEKoPtiH3gmKoiJDU7QpLgoLjLIQCpEsNJ1vqUOdO7ppbuec5+V+rj4ctwzd8IIbbi6u+8f1539dt3A78eXC7QizUF7gyV1fD1Yqg4JWz84yffhm0qkFqBogB9rM8tZdtwVsPUhWhGcFJngGeWrPzHm5oaMmkfEg1usvLFyc8jLRqDOMru7AyC8saQr7GG7f5fvDeH7Ej8CM66nIF+8yngt6HWaKh7k49Soy9nXurCi1o3qUbS3zWfrYeQDTB/Qj6kX6Ybhw4B+bOYoLKCC9H3Nu/leUTZ1JdRWkkn2ldcCamzrcf47KKXdAJllSlxAOkRgyHsGC/zRday5Qld9DyoM4/q/rUoy/CXh3jzOu3bHUVZeU+DEn8FInkPBFlu3+nW3Nw0mk6vCDiWg8CeJaxEwuHS3+z5RgY+YBR6V1Z1nxSOfoaPa4LASWxxdNp+VWTk7+4vzaou8v8PN+xo+KY2xsw6une2frhw05CTYOmQvsEhjhWjn0bmXPjpE1+kplmmkP3suftwTubK9Vq22qKmrBhpY4jvd5afdRA3wGjFAgcnTK2s4hY0/GPNIb0nErGMCRxWOOX64Z8RAC4oCXdklmEvcL8o0BfkNK4lUg9HTl+oPlQxdNo3Mg4Nv175e/1LDGzZen30MEjRUtmXSfiTVu1kK8W4txyV6BMKlbgk3lMwYCiusNy9fVfvvwMxv8Ynl6vxoByANLTWplvuj/nF9m2+PDtt1eiHPBr1oIfhCChQMBw6Aw0UulqTKZdfVvfG7VcfIqLG9bcldL/+pdWTLxLUy8Qq38heUIjh4XlzZxzQm19lLFlr8vdQ97rjZVOLf8nclzckbcD4wxXMidpX30sFd37Fv/GtwwhzhxGVAprjbg0gCAEeIgwCZyTV2Z1REEW8O4py0wsjeloKoMr6iCY6dP92H6Vw/oTyICIthibxjm/DfN9lVz8IqtqKYLUXfoKVMVQVVJOElGjrnnUt9T9wbgp8AyYKaGlqingHZU/uG2NTZSVqwHQTWkx9hxjkpWDaCg6Ckj5qebgBVbT3V3NNXMSiWSDdGV3hrtzla7J+duwPOToIg42ChPQOQjspnSlp1V+Gjdged7+8UN5CRAV7a5EdFNwCjEaBR27b3W890TE7g24NAP/mMDXRWrGoFPQI9ls/MWO2dWFAar/xcOIImbbpA3zgAAAABJRU5ErkJggg==);\n",
       "        }\n",
       "    </style>\n",
       "    <div>\n",
       "        <a href=\"https://bokeh.org\" target=\"_blank\" class=\"bk-notebook-logo\"></a>\n",
       "        <span id=\"b2b09b2d-4f7b-4e77-a090-55335551dce8\">Loading BokehJS ...</span>\n",
       "    </div>\n"
      ]
     },
     "metadata": {},
     "output_type": "display_data"
    },
    {
     "data": {
      "application/javascript": "'use strict';\n(function(root) {\n  function now() {\n    return new Date();\n  }\n\n  const force = true;\n\n  if (typeof root._bokeh_onload_callbacks === \"undefined\" || force === true) {\n    root._bokeh_onload_callbacks = [];\n    root._bokeh_is_loading = undefined;\n  }\n\nconst JS_MIME_TYPE = 'application/javascript';\n  const HTML_MIME_TYPE = 'text/html';\n  const EXEC_MIME_TYPE = 'application/vnd.bokehjs_exec.v0+json';\n  const CLASS_NAME = 'output_bokeh rendered_html';\n\n  /**\n   * Render data to the DOM node\n   */\n  function render(props, node) {\n    const script = document.createElement(\"script\");\n    node.appendChild(script);\n  }\n\n  /**\n   * Handle when an output is cleared or removed\n   */\n  function handleClearOutput(event, handle) {\n    function drop(id) {\n      const view = Bokeh.index.get_by_id(id)\n      if (view != null) {\n        view.model.document.clear()\n        Bokeh.index.delete(view)\n      }\n    }\n\n    const cell = handle.cell;\n\n    const id = cell.output_area._bokeh_element_id;\n    const server_id = cell.output_area._bokeh_server_id;\n\n    // Clean up Bokeh references\n    if (id != null) {\n      drop(id)\n    }\n\n    if (server_id !== undefined) {\n      // Clean up Bokeh references\n      const cmd_clean = \"from bokeh.io.state import curstate; print(curstate().uuid_to_server['\" + server_id + \"'].get_sessions()[0].document.roots[0]._id)\";\n      cell.notebook.kernel.execute(cmd_clean, {\n        iopub: {\n          output: function(msg) {\n            const id = msg.content.text.trim()\n            drop(id)\n          }\n        }\n      });\n      // Destroy server and session\n      const cmd_destroy = \"import bokeh.io.notebook as ion; ion.destroy_server('\" + server_id + \"')\";\n      cell.notebook.kernel.execute(cmd_destroy);\n    }\n  }\n\n  /**\n   * Handle when a new output is added\n   */\n  function handleAddOutput(event, handle) {\n    const output_area = handle.output_area;\n    const output = handle.output;\n\n    // limit handleAddOutput to display_data with EXEC_MIME_TYPE content only\n    if ((output.output_type != \"display_data\") || (!Object.prototype.hasOwnProperty.call(output.data, EXEC_MIME_TYPE))) {\n      return\n    }\n\n    const toinsert = output_area.element.find(\".\" + CLASS_NAME.split(' ')[0]);\n\n    if (output.metadata[EXEC_MIME_TYPE][\"id\"] !== undefined) {\n      toinsert[toinsert.length - 1].firstChild.textContent = output.data[JS_MIME_TYPE];\n      // store reference to embed id on output_area\n      output_area._bokeh_element_id = output.metadata[EXEC_MIME_TYPE][\"id\"];\n    }\n    if (output.metadata[EXEC_MIME_TYPE][\"server_id\"] !== undefined) {\n      const bk_div = document.createElement(\"div\");\n      bk_div.innerHTML = output.data[HTML_MIME_TYPE];\n      const script_attrs = bk_div.children[0].attributes;\n      for (let i = 0; i < script_attrs.length; i++) {\n        toinsert[toinsert.length - 1].firstChild.setAttribute(script_attrs[i].name, script_attrs[i].value);\n        toinsert[toinsert.length - 1].firstChild.textContent = bk_div.children[0].textContent\n      }\n      // store reference to server id on output_area\n      output_area._bokeh_server_id = output.metadata[EXEC_MIME_TYPE][\"server_id\"];\n    }\n  }\n\n  function register_renderer(events, OutputArea) {\n\n    function append_mime(data, metadata, element) {\n      // create a DOM node to render to\n      const toinsert = this.create_output_subarea(\n        metadata,\n        CLASS_NAME,\n        EXEC_MIME_TYPE\n      );\n      this.keyboard_manager.register_events(toinsert);\n      // Render to node\n      const props = {data: data, metadata: metadata[EXEC_MIME_TYPE]};\n      render(props, toinsert[toinsert.length - 1]);\n      element.append(toinsert);\n      return toinsert\n    }\n\n    /* Handle when an output is cleared or removed */\n    events.on('clear_output.CodeCell', handleClearOutput);\n    events.on('delete.Cell', handleClearOutput);\n\n    /* Handle when a new output is added */\n    events.on('output_added.OutputArea', handleAddOutput);\n\n    /**\n     * Register the mime type and append_mime function with output_area\n     */\n    OutputArea.prototype.register_mime_type(EXEC_MIME_TYPE, append_mime, {\n      /* Is output safe? */\n      safe: true,\n      /* Index of renderer in `output_area.display_order` */\n      index: 0\n    });\n  }\n\n  // register the mime type if in Jupyter Notebook environment and previously unregistered\n  if (root.Jupyter !== undefined) {\n    const events = require('base/js/events');\n    const OutputArea = require('notebook/js/outputarea').OutputArea;\n\n    if (OutputArea.prototype.mime_types().indexOf(EXEC_MIME_TYPE) == -1) {\n      register_renderer(events, OutputArea);\n    }\n  }\n  if (typeof (root._bokeh_timeout) === \"undefined\" || force === true) {\n    root._bokeh_timeout = Date.now() + 5000;\n    root._bokeh_failed_load = false;\n  }\n\n  const NB_LOAD_WARNING = {'data': {'text/html':\n     \"<div style='background-color: #fdd'>\\n\"+\n     \"<p>\\n\"+\n     \"BokehJS does not appear to have successfully loaded. If loading BokehJS from CDN, this \\n\"+\n     \"may be due to a slow or bad network connection. Possible fixes:\\n\"+\n     \"</p>\\n\"+\n     \"<ul>\\n\"+\n     \"<li>re-rerun `output_notebook()` to attempt to load from CDN again, or</li>\\n\"+\n     \"<li>use INLINE resources instead, as so:</li>\\n\"+\n     \"</ul>\\n\"+\n     \"<code>\\n\"+\n     \"from bokeh.resources import INLINE\\n\"+\n     \"output_notebook(resources=INLINE)\\n\"+\n     \"</code>\\n\"+\n     \"</div>\"}};\n\n  function display_loaded(error = null) {\n    const el = document.getElementById(\"b2b09b2d-4f7b-4e77-a090-55335551dce8\");\n    if (el != null) {\n      const html = (() => {\n        if (typeof root.Bokeh === \"undefined\") {\n          if (error == null) {\n            return \"BokehJS is loading ...\";\n          } else {\n            return \"BokehJS failed to load.\";\n          }\n        } else {\n          const prefix = `BokehJS ${root.Bokeh.version}`;\n          if (error == null) {\n            return `${prefix} successfully loaded.`;\n          } else {\n            return `${prefix} <b>encountered errors</b> while loading and may not function as expected.`;\n          }\n        }\n      })();\n      el.innerHTML = html;\n\n      if (error != null) {\n        const wrapper = document.createElement(\"div\");\n        wrapper.style.overflow = \"auto\";\n        wrapper.style.height = \"5em\";\n        wrapper.style.resize = \"vertical\";\n        const content = document.createElement(\"div\");\n        content.style.fontFamily = \"monospace\";\n        content.style.whiteSpace = \"pre-wrap\";\n        content.style.backgroundColor = \"rgb(255, 221, 221)\";\n        content.textContent = error.stack ?? error.toString();\n        wrapper.append(content);\n        el.append(wrapper);\n      }\n    } else if (Date.now() < root._bokeh_timeout) {\n      setTimeout(() => display_loaded(error), 100);\n    }\n  }\n\n  function run_callbacks() {\n    try {\n      root._bokeh_onload_callbacks.forEach(function(callback) {\n        if (callback != null)\n          callback();\n      });\n    } finally {\n      delete root._bokeh_onload_callbacks\n    }\n    console.debug(\"Bokeh: all callbacks have finished\");\n  }\n\n  function load_libs(css_urls, js_urls, callback) {\n    if (css_urls == null) css_urls = [];\n    if (js_urls == null) js_urls = [];\n\n    root._bokeh_onload_callbacks.push(callback);\n    if (root._bokeh_is_loading > 0) {\n      console.debug(\"Bokeh: BokehJS is being loaded, scheduling callback at\", now());\n      return null;\n    }\n    if (js_urls == null || js_urls.length === 0) {\n      run_callbacks();\n      return null;\n    }\n    console.debug(\"Bokeh: BokehJS not loaded, scheduling load and callback at\", now());\n    root._bokeh_is_loading = css_urls.length + js_urls.length;\n\n    function on_load() {\n      root._bokeh_is_loading--;\n      if (root._bokeh_is_loading === 0) {\n        console.debug(\"Bokeh: all BokehJS libraries/stylesheets loaded\");\n        run_callbacks()\n      }\n    }\n\n    function on_error(url) {\n      console.error(\"failed to load \" + url);\n    }\n\n    for (let i = 0; i < css_urls.length; i++) {\n      const url = css_urls[i];\n      const element = document.createElement(\"link\");\n      element.onload = on_load;\n      element.onerror = on_error.bind(null, url);\n      element.rel = \"stylesheet\";\n      element.type = \"text/css\";\n      element.href = url;\n      console.debug(\"Bokeh: injecting link tag for BokehJS stylesheet: \", url);\n      document.body.appendChild(element);\n    }\n\n    for (let i = 0; i < js_urls.length; i++) {\n      const url = js_urls[i];\n      const element = document.createElement('script');\n      element.onload = on_load;\n      element.onerror = on_error.bind(null, url);\n      element.async = false;\n      element.src = url;\n      console.debug(\"Bokeh: injecting script tag for BokehJS library: \", url);\n      document.head.appendChild(element);\n    }\n  };\n\n  function inject_raw_css(css) {\n    const element = document.createElement(\"style\");\n    element.appendChild(document.createTextNode(css));\n    document.body.appendChild(element);\n  }\n\n  const js_urls = [\"https://cdn.bokeh.org/bokeh/release/bokeh-3.5.2.min.js\", \"https://cdn.bokeh.org/bokeh/release/bokeh-gl-3.5.2.min.js\", \"https://cdn.bokeh.org/bokeh/release/bokeh-widgets-3.5.2.min.js\", \"https://cdn.bokeh.org/bokeh/release/bokeh-tables-3.5.2.min.js\", \"https://cdn.bokeh.org/bokeh/release/bokeh-mathjax-3.5.2.min.js\"];\n  const css_urls = [];\n\n  const inline_js = [    function(Bokeh) {\n      Bokeh.set_log_level(\"info\");\n    },\nfunction(Bokeh) {\n    }\n  ];\n\n  function run_inline_js() {\n    if (root.Bokeh !== undefined || force === true) {\n      try {\n            for (let i = 0; i < inline_js.length; i++) {\n      inline_js[i].call(root, root.Bokeh);\n    }\n\n      } catch (error) {display_loaded(error);throw error;\n      }if (force === true) {\n        display_loaded();\n      }} else if (Date.now() < root._bokeh_timeout) {\n      setTimeout(run_inline_js, 100);\n    } else if (!root._bokeh_failed_load) {\n      console.log(\"Bokeh: BokehJS failed to load within specified timeout.\");\n      root._bokeh_failed_load = true;\n    } else if (force !== true) {\n      const cell = $(document.getElementById(\"b2b09b2d-4f7b-4e77-a090-55335551dce8\")).parents('.cell').data().cell;\n      cell.output_area.append_execute_result(NB_LOAD_WARNING)\n    }\n  }\n\n  if (root._bokeh_is_loading === 0) {\n    console.debug(\"Bokeh: BokehJS loaded, going straight to plotting\");\n    run_inline_js();\n  } else {\n    load_libs(css_urls, js_urls, function() {\n      console.debug(\"Bokeh: BokehJS plotting callback run at\", now());\n      run_inline_js();\n    });\n  }\n}(window));",
      "application/vnd.bokehjs_load.v0+json": ""
     },
     "metadata": {},
     "output_type": "display_data"
    }
   ],
   "source": [
    "import geopandas as gpd\n",
    "import fiona\n",
    "import os\n",
    "import matplotlib.pyplot as plt\n",
    "from matplotlib.lines import Line2D\n",
    "import configparser\n",
    "import momepy\n",
    "import libpysal\n",
    "import osmnx\n",
    "import pandas\n",
    "from bokeh.io import output_notebook\n",
    "from bokeh.plotting import show\n",
    "from clustergram import Clustergram\n",
    "from shapely.geometry import Point\n",
    "local_crs = \"EPSG:2039\"\n",
    "output_notebook()"
   ]
  },
  {
   "cell_type": "markdown",
   "metadata": {},
   "source": [
    "Load all the gdb files from michael folders"
   ]
  },
  {
   "cell_type": "code",
   "execution_count": 2,
   "metadata": {},
   "outputs": [
    {
     "name": "stdout",
     "output_type": "stream",
     "text": [
      "C:\\\\Users\\\\david\\\\Desktop\n",
      "C:\\\\Users\\\\david\\\\Desktop\\DSSG/Michaels_Data/All_Layers\n",
      "C:\\Users\\david\\Desktop\\DSSG\\Michaels_Data\\All_Layers\\מרקמים\\commondata\\myproject16.gdb\n",
      "C:\\Users\\david\\Desktop\\DSSG\\Michaels_Data\\All_Layers\\מרקמים\\commondata\\scratch.gdb\n",
      "C:\\Users\\david\\Desktop\\DSSG\\Michaels_Data\\All_Layers\\מרקמים\\חלקות\\commondata\\myproject16.gdb\n",
      "C:\\Users\\david\\Desktop\\DSSG\\Michaels_Data\\All_Layers\\מרקמים\\חלקות\\commondata\\scratch.gdb\n",
      "C:\\Users\\david\\Desktop\\DSSG\\Michaels_Data\\All_Layers\\מרקמים\\מרקמים\\commondata\\myproject16.gdb\n",
      "C:\\Users\\david\\Desktop\\DSSG\\Michaels_Data\\All_Layers\\מרקמים\\מרקמים\\commondata\\scratch.gdb\n",
      "C:\\Users\\david\\Desktop\\DSSG\\Michaels_Data\\All_Layers\\מרקמים\\קונטור בניינים\\commondata\\jps_reka.gdb\n",
      "C:\\Users\\david\\Desktop\\DSSG\\Michaels_Data\\All_Layers\\מרקמים\\קונטור בניינים\\commondata\\scratch.gdb\n",
      "C:\\Users\\david\\Desktop\\DSSG\\Michaels_Data\\All_Layers\\מרקמים\\רגישות\\commondata\\myproject16.gdb\n",
      "C:\\Users\\david\\Desktop\\DSSG\\Michaels_Data\\All_Layers\\קונטור בניינים\\commondata\\scratch.gdb\n",
      "C:\\Users\\david\\Desktop\\DSSG\\Michaels_Data\\All_Layers\\רגישות\\commondata\\myproject16.gdb\n",
      "GDB Files: ['C:\\\\Users\\\\david\\\\Desktop\\\\DSSG\\\\Michaels_Data\\\\All_Layers\\\\מרקמים\\\\commondata\\\\myproject16.gdb', 'C:\\\\Users\\\\david\\\\Desktop\\\\DSSG\\\\Michaels_Data\\\\All_Layers\\\\מרקמים\\\\commondata\\\\scratch.gdb', 'C:\\\\Users\\\\david\\\\Desktop\\\\DSSG\\\\Michaels_Data\\\\All_Layers\\\\מרקמים\\\\חלקות\\\\commondata\\\\myproject16.gdb', 'C:\\\\Users\\\\david\\\\Desktop\\\\DSSG\\\\Michaels_Data\\\\All_Layers\\\\מרקמים\\\\חלקות\\\\commondata\\\\scratch.gdb', 'C:\\\\Users\\\\david\\\\Desktop\\\\DSSG\\\\Michaels_Data\\\\All_Layers\\\\מרקמים\\\\מרקמים\\\\commondata\\\\myproject16.gdb', 'C:\\\\Users\\\\david\\\\Desktop\\\\DSSG\\\\Michaels_Data\\\\All_Layers\\\\מרקמים\\\\מרקמים\\\\commondata\\\\scratch.gdb', 'C:\\\\Users\\\\david\\\\Desktop\\\\DSSG\\\\Michaels_Data\\\\All_Layers\\\\מרקמים\\\\קונטור בניינים\\\\commondata\\\\jps_reka.gdb', 'C:\\\\Users\\\\david\\\\Desktop\\\\DSSG\\\\Michaels_Data\\\\All_Layers\\\\מרקמים\\\\קונטור בניינים\\\\commondata\\\\scratch.gdb', 'C:\\\\Users\\\\david\\\\Desktop\\\\DSSG\\\\Michaels_Data\\\\All_Layers\\\\מרקמים\\\\רגישות\\\\commondata\\\\myproject16.gdb', 'C:\\\\Users\\\\david\\\\Desktop\\\\DSSG\\\\Michaels_Data\\\\All_Layers\\\\קונטור בניינים\\\\commondata\\\\scratch.gdb', 'C:\\\\Users\\\\david\\\\Desktop\\\\DSSG\\\\Michaels_Data\\\\All_Layers\\\\רגישות\\\\commondata\\\\myproject16.gdb']\n"
     ]
    }
   ],
   "source": [
    "\n",
    "config = configparser.ConfigParser()\n",
    "config_file = 'config.ini'\n",
    "# check if file exists\n",
    "if not os.path.isfile(config_file):\n",
    "    # create a simple config file\n",
    "    config['Paths'] = {'root_folder': '/path/to/your/gdb/folder'}\n",
    "    with open(config_file, 'w') as configfile:\n",
    "        config.write(configfile)\n",
    "    print(f\"Created configuration file '{config_file}'.\")\n",
    "\n",
    "config.read('config.ini')\n",
    "\n",
    "root_folder = config['Paths']['root_folder']  \n",
    "print(root_folder)\n",
    "root_folder = os.path.join(root_folder, \"DSSG/Michaels_Data/All_Layers\")\n",
    "print(root_folder)\n",
    "# List all .gdb directories in the folder\n",
    "gdb_files = []\n",
    "for dirpath, dirnames, filenames in os.walk(root_folder):\n",
    "    # Check if the folder contains a \"commondata\" folder\n",
    "    if \"commondata\" in dirnames:\n",
    "        commondata_folder = os.path.join(dirpath, \"commondata\")\n",
    "        commondata_folder = os.path.normpath(commondata_folder)\n",
    "\n",
    "        # List all .gdb files in the \"commondata\" folder\n",
    "        for f in os.listdir(commondata_folder):\n",
    "            if f.endswith('.gdb'):\n",
    "                gdb_files.append(os.path.join(commondata_folder, f))\n",
    "\n",
    "# Print the collected .gdb files\n",
    "for gdb in gdb_files:\n",
    "    print(gdb)\n",
    "print(\"GDB Files:\", gdb_files)"
   ]
  },
  {
   "cell_type": "markdown",
   "metadata": {},
   "source": [
    "Calculating metrics over buildings:"
   ]
  },
  {
   "cell_type": "code",
   "execution_count": 3,
   "metadata": {},
   "outputs": [
    {
     "name": "stdout",
     "output_type": "stream",
     "text": [
      "C:\\Users\\david\\Desktop\\DSSG\\Michaels_Data\\All_Layers\\מרקמים\\קונטור בניינים\\commondata\\jps_reka.gdb\n",
      "Layers in the selected GDB: ['buildings']\n"
     ]
    }
   ],
   "source": [
    "# load municipal buildings\n",
    "gdb_file = gdb_files[6]  # Modify if you want to choose a different .gdb\n",
    "print(gdb_file)\n",
    "# List the layers in the selected .gdb\n",
    "layers = fiona.listlayers(gdb_file)\n",
    "print(\"Layers in the selected GDB:\", layers)\n",
    "\n",
    "# Choose a specific layer within the .gdb\n",
    "textures_layer = layers[0]  # Modify if you want to choose a different layer\n",
    "\n",
    "# Load the specific layer\n",
    "gdf = gpd.read_file(gdb_file, layer=textures_layer)\n",
    "buildings = gdf[[\"geometry\"]].to_crs(local_crs)\n"
   ]
  },
  {
   "cell_type": "markdown",
   "metadata": {},
   "source": [
    "Calculate metrics over streets"
   ]
  },
  {
   "cell_type": "code",
   "execution_count": 4,
   "metadata": {},
   "outputs": [
    {
     "name": "stdout",
     "output_type": "stream",
     "text": [
      "Index(['osmid', 'oneway', 'name', 'highway', 'reversed', 'length', 'from',\n",
      "       'to', 'geometry', 'lanes', 'ref', 'maxspeed', 'tunnel', 'access',\n",
      "       'junction', 'bridge', 'width', 'service'],\n",
      "      dtype='object')\n"
     ]
    },
    {
     "ename": "KeyError",
     "evalue": "\"None of [Index(['geometry'], dtype='object')] are in the [index]\"",
     "output_type": "error",
     "traceback": [
      "\u001b[1;31m---------------------------------------------------------------------------\u001b[0m",
      "\u001b[1;31mKeyError\u001b[0m                                  Traceback (most recent call last)",
      "Cell \u001b[1;32mIn[4], line 28\u001b[0m\n\u001b[0;32m     26\u001b[0m streets[\u001b[38;5;124m'\u001b[39m\u001b[38;5;124mcourtyard_area\u001b[39m\u001b[38;5;124m'\u001b[39m] \u001b[38;5;241m=\u001b[39m momepy\u001b[38;5;241m.\u001b[39mcourtyard_area(streets_geometry)\n\u001b[0;32m     27\u001b[0m streets[\u001b[38;5;124m'\u001b[39m\u001b[38;5;124mlongest_axis_length\u001b[39m\u001b[38;5;124m'\u001b[39m] \u001b[38;5;241m=\u001b[39m momepy\u001b[38;5;241m.\u001b[39mlongest_axis_length(streets_geometry)\n\u001b[1;32m---> 28\u001b[0m streets[\u001b[38;5;124m'\u001b[39m\u001b[38;5;124mperimeter_wall\u001b[39m\u001b[38;5;124m'\u001b[39m] \u001b[38;5;241m=\u001b[39m \u001b[43mmomepy\u001b[49m\u001b[38;5;241;43m.\u001b[39;49m\u001b[43mperimeter_wall\u001b[49m\u001b[43m(\u001b[49m\u001b[43mstreets_geometry\u001b[49m\u001b[43m)\u001b[49m\n\u001b[0;32m     29\u001b[0m streets[\u001b[38;5;124m'\u001b[39m\u001b[38;5;124mcentroid_corner_distance\u001b[39m\u001b[38;5;124m'\u001b[39m] \u001b[38;5;241m=\u001b[39m momepy\u001b[38;5;241m.\u001b[39mcentroid_corner_distance(streets_geometry)\n\u001b[0;32m     30\u001b[0m streets[\u001b[38;5;124m'\u001b[39m\u001b[38;5;124mcircular_compactness\u001b[39m\u001b[38;5;124m'\u001b[39m] \u001b[38;5;241m=\u001b[39m momepy\u001b[38;5;241m.\u001b[39mcircular_compactness(streets_geometry)\n",
      "File \u001b[1;32mc:\\Users\\david\\Desktop\\DSSG\\.venv\\Lib\\site-packages\\momepy\\functional\\_dimension.py:281\u001b[0m, in \u001b[0;36mperimeter_wall\u001b[1;34m(geometry, graph, buffer)\u001b[0m\n\u001b[0;32m    278\u001b[0m \u001b[38;5;66;03m# measure perimeter walls of connected components while ignoring isolates\u001b[39;00m\n\u001b[0;32m    279\u001b[0m blocks \u001b[38;5;241m=\u001b[39m geometry\u001b[38;5;241m.\u001b[39mdrop(isolates)\n\u001b[0;32m    280\u001b[0m component_perimeter \u001b[38;5;241m=\u001b[39m (\n\u001b[1;32m--> 281\u001b[0m     \u001b[43mblocks\u001b[49m\u001b[43m[\u001b[49m\u001b[43m[\u001b[49m\u001b[43mblocks\u001b[49m\u001b[38;5;241;43m.\u001b[39;49m\u001b[43mgeometry\u001b[49m\u001b[38;5;241;43m.\u001b[39;49m\u001b[43mname\u001b[49m\u001b[43m]\u001b[49m\u001b[43m]\u001b[49m\n\u001b[0;32m    282\u001b[0m     \u001b[38;5;241m.\u001b[39mset_geometry(blocks\u001b[38;5;241m.\u001b[39mbuffer(buffer))  \u001b[38;5;66;03m# type: ignore\u001b[39;00m\n\u001b[0;32m    283\u001b[0m     \u001b[38;5;241m.\u001b[39mdissolve(by\u001b[38;5;241m=\u001b[39mgraph\u001b[38;5;241m.\u001b[39mcomponent_labels\u001b[38;5;241m.\u001b[39mdrop(isolates))\n\u001b[0;32m    284\u001b[0m     \u001b[38;5;241m.\u001b[39mexterior\u001b[38;5;241m.\u001b[39mlength\n\u001b[0;32m    285\u001b[0m )\n\u001b[0;32m    287\u001b[0m \u001b[38;5;66;03m# combine components with isolates\u001b[39;00m\n\u001b[0;32m    288\u001b[0m results \u001b[38;5;241m=\u001b[39m Series(np\u001b[38;5;241m.\u001b[39mnan, index\u001b[38;5;241m=\u001b[39mgeometry\u001b[38;5;241m.\u001b[39mindex, name\u001b[38;5;241m=\u001b[39m\u001b[38;5;124m\"\u001b[39m\u001b[38;5;124mperimeter_wall\u001b[39m\u001b[38;5;124m\"\u001b[39m)\n",
      "File \u001b[1;32mc:\\Users\\david\\Desktop\\DSSG\\.venv\\Lib\\site-packages\\geopandas\\geoseries.py:655\u001b[0m, in \u001b[0;36mGeoSeries.__getitem__\u001b[1;34m(self, key)\u001b[0m\n\u001b[0;32m    654\u001b[0m \u001b[38;5;28;01mdef\u001b[39;00m \u001b[38;5;21m__getitem__\u001b[39m(\u001b[38;5;28mself\u001b[39m, key):\n\u001b[1;32m--> 655\u001b[0m     \u001b[38;5;28;01mreturn\u001b[39;00m \u001b[38;5;28;43mself\u001b[39;49m\u001b[38;5;241;43m.\u001b[39;49m\u001b[43m_wrapped_pandas_method\u001b[49m\u001b[43m(\u001b[49m\u001b[38;5;124;43m\"\u001b[39;49m\u001b[38;5;124;43m__getitem__\u001b[39;49m\u001b[38;5;124;43m\"\u001b[39;49m\u001b[43m,\u001b[49m\u001b[43m \u001b[49m\u001b[43mkey\u001b[49m\u001b[43m)\u001b[49m\n",
      "File \u001b[1;32mc:\\Users\\david\\Desktop\\DSSG\\.venv\\Lib\\site-packages\\geopandas\\geoseries.py:648\u001b[0m, in \u001b[0;36mGeoSeries._wrapped_pandas_method\u001b[1;34m(self, mtd, *args, **kwargs)\u001b[0m\n\u001b[0;32m    646\u001b[0m \u001b[38;5;28;01mdef\u001b[39;00m \u001b[38;5;21m_wrapped_pandas_method\u001b[39m(\u001b[38;5;28mself\u001b[39m, mtd, \u001b[38;5;241m*\u001b[39margs, \u001b[38;5;241m*\u001b[39m\u001b[38;5;241m*\u001b[39mkwargs):\n\u001b[0;32m    647\u001b[0m \u001b[38;5;250m    \u001b[39m\u001b[38;5;124;03m\"\"\"Wrap a generic pandas method to ensure it returns a GeoSeries\"\"\"\u001b[39;00m\n\u001b[1;32m--> 648\u001b[0m     val \u001b[38;5;241m=\u001b[39m \u001b[38;5;28;43mgetattr\u001b[39;49m\u001b[43m(\u001b[49m\u001b[38;5;28;43msuper\u001b[39;49m\u001b[43m(\u001b[49m\u001b[43m)\u001b[49m\u001b[43m,\u001b[49m\u001b[43m \u001b[49m\u001b[43mmtd\u001b[49m\u001b[43m)\u001b[49m\u001b[43m(\u001b[49m\u001b[38;5;241;43m*\u001b[39;49m\u001b[43margs\u001b[49m\u001b[43m,\u001b[49m\u001b[43m \u001b[49m\u001b[38;5;241;43m*\u001b[39;49m\u001b[38;5;241;43m*\u001b[39;49m\u001b[43mkwargs\u001b[49m\u001b[43m)\u001b[49m\n\u001b[0;32m    649\u001b[0m     \u001b[38;5;28;01mif\u001b[39;00m \u001b[38;5;28mtype\u001b[39m(val) \u001b[38;5;241m==\u001b[39m Series:\n\u001b[0;32m    650\u001b[0m         val\u001b[38;5;241m.\u001b[39m\u001b[38;5;18m__class__\u001b[39m \u001b[38;5;241m=\u001b[39m GeoSeries\n",
      "File \u001b[1;32mc:\\Users\\david\\Desktop\\DSSG\\.venv\\Lib\\site-packages\\pandas\\core\\series.py:1153\u001b[0m, in \u001b[0;36mSeries.__getitem__\u001b[1;34m(self, key)\u001b[0m\n\u001b[0;32m   1150\u001b[0m     key \u001b[38;5;241m=\u001b[39m np\u001b[38;5;241m.\u001b[39masarray(key, dtype\u001b[38;5;241m=\u001b[39m\u001b[38;5;28mbool\u001b[39m)\n\u001b[0;32m   1151\u001b[0m     \u001b[38;5;28;01mreturn\u001b[39;00m \u001b[38;5;28mself\u001b[39m\u001b[38;5;241m.\u001b[39m_get_rows_with_mask(key)\n\u001b[1;32m-> 1153\u001b[0m \u001b[38;5;28;01mreturn\u001b[39;00m \u001b[38;5;28;43mself\u001b[39;49m\u001b[38;5;241;43m.\u001b[39;49m\u001b[43m_get_with\u001b[49m\u001b[43m(\u001b[49m\u001b[43mkey\u001b[49m\u001b[43m)\u001b[49m\n",
      "File \u001b[1;32mc:\\Users\\david\\Desktop\\DSSG\\.venv\\Lib\\site-packages\\pandas\\core\\series.py:1194\u001b[0m, in \u001b[0;36mSeries._get_with\u001b[1;34m(self, key)\u001b[0m\n\u001b[0;32m   1191\u001b[0m         \u001b[38;5;28;01mreturn\u001b[39;00m \u001b[38;5;28mself\u001b[39m\u001b[38;5;241m.\u001b[39miloc[key]\n\u001b[0;32m   1193\u001b[0m \u001b[38;5;66;03m# handle the dup indexing case GH#4246\u001b[39;00m\n\u001b[1;32m-> 1194\u001b[0m \u001b[38;5;28;01mreturn\u001b[39;00m \u001b[38;5;28;43mself\u001b[39;49m\u001b[38;5;241;43m.\u001b[39;49m\u001b[43mloc\u001b[49m\u001b[43m[\u001b[49m\u001b[43mkey\u001b[49m\u001b[43m]\u001b[49m\n",
      "File \u001b[1;32mc:\\Users\\david\\Desktop\\DSSG\\.venv\\Lib\\site-packages\\pandas\\core\\indexing.py:1191\u001b[0m, in \u001b[0;36m_LocationIndexer.__getitem__\u001b[1;34m(self, key)\u001b[0m\n\u001b[0;32m   1189\u001b[0m maybe_callable \u001b[38;5;241m=\u001b[39m com\u001b[38;5;241m.\u001b[39mapply_if_callable(key, \u001b[38;5;28mself\u001b[39m\u001b[38;5;241m.\u001b[39mobj)\n\u001b[0;32m   1190\u001b[0m maybe_callable \u001b[38;5;241m=\u001b[39m \u001b[38;5;28mself\u001b[39m\u001b[38;5;241m.\u001b[39m_check_deprecated_callable_usage(key, maybe_callable)\n\u001b[1;32m-> 1191\u001b[0m \u001b[38;5;28;01mreturn\u001b[39;00m \u001b[38;5;28;43mself\u001b[39;49m\u001b[38;5;241;43m.\u001b[39;49m\u001b[43m_getitem_axis\u001b[49m\u001b[43m(\u001b[49m\u001b[43mmaybe_callable\u001b[49m\u001b[43m,\u001b[49m\u001b[43m \u001b[49m\u001b[43maxis\u001b[49m\u001b[38;5;241;43m=\u001b[39;49m\u001b[43maxis\u001b[49m\u001b[43m)\u001b[49m\n",
      "File \u001b[1;32mc:\\Users\\david\\Desktop\\DSSG\\.venv\\Lib\\site-packages\\pandas\\core\\indexing.py:1420\u001b[0m, in \u001b[0;36m_LocIndexer._getitem_axis\u001b[1;34m(self, key, axis)\u001b[0m\n\u001b[0;32m   1417\u001b[0m     \u001b[38;5;28;01mif\u001b[39;00m \u001b[38;5;28mhasattr\u001b[39m(key, \u001b[38;5;124m\"\u001b[39m\u001b[38;5;124mndim\u001b[39m\u001b[38;5;124m\"\u001b[39m) \u001b[38;5;129;01mand\u001b[39;00m key\u001b[38;5;241m.\u001b[39mndim \u001b[38;5;241m>\u001b[39m \u001b[38;5;241m1\u001b[39m:\n\u001b[0;32m   1418\u001b[0m         \u001b[38;5;28;01mraise\u001b[39;00m \u001b[38;5;167;01mValueError\u001b[39;00m(\u001b[38;5;124m\"\u001b[39m\u001b[38;5;124mCannot index with multidimensional key\u001b[39m\u001b[38;5;124m\"\u001b[39m)\n\u001b[1;32m-> 1420\u001b[0m     \u001b[38;5;28;01mreturn\u001b[39;00m \u001b[38;5;28;43mself\u001b[39;49m\u001b[38;5;241;43m.\u001b[39;49m\u001b[43m_getitem_iterable\u001b[49m\u001b[43m(\u001b[49m\u001b[43mkey\u001b[49m\u001b[43m,\u001b[49m\u001b[43m \u001b[49m\u001b[43maxis\u001b[49m\u001b[38;5;241;43m=\u001b[39;49m\u001b[43maxis\u001b[49m\u001b[43m)\u001b[49m\n\u001b[0;32m   1422\u001b[0m \u001b[38;5;66;03m# nested tuple slicing\u001b[39;00m\n\u001b[0;32m   1423\u001b[0m \u001b[38;5;28;01mif\u001b[39;00m is_nested_tuple(key, labels):\n",
      "File \u001b[1;32mc:\\Users\\david\\Desktop\\DSSG\\.venv\\Lib\\site-packages\\pandas\\core\\indexing.py:1360\u001b[0m, in \u001b[0;36m_LocIndexer._getitem_iterable\u001b[1;34m(self, key, axis)\u001b[0m\n\u001b[0;32m   1357\u001b[0m \u001b[38;5;28mself\u001b[39m\u001b[38;5;241m.\u001b[39m_validate_key(key, axis)\n\u001b[0;32m   1359\u001b[0m \u001b[38;5;66;03m# A collection of keys\u001b[39;00m\n\u001b[1;32m-> 1360\u001b[0m keyarr, indexer \u001b[38;5;241m=\u001b[39m \u001b[38;5;28;43mself\u001b[39;49m\u001b[38;5;241;43m.\u001b[39;49m\u001b[43m_get_listlike_indexer\u001b[49m\u001b[43m(\u001b[49m\u001b[43mkey\u001b[49m\u001b[43m,\u001b[49m\u001b[43m \u001b[49m\u001b[43maxis\u001b[49m\u001b[43m)\u001b[49m\n\u001b[0;32m   1361\u001b[0m \u001b[38;5;28;01mreturn\u001b[39;00m \u001b[38;5;28mself\u001b[39m\u001b[38;5;241m.\u001b[39mobj\u001b[38;5;241m.\u001b[39m_reindex_with_indexers(\n\u001b[0;32m   1362\u001b[0m     {axis: [keyarr, indexer]}, copy\u001b[38;5;241m=\u001b[39m\u001b[38;5;28;01mTrue\u001b[39;00m, allow_dups\u001b[38;5;241m=\u001b[39m\u001b[38;5;28;01mTrue\u001b[39;00m\n\u001b[0;32m   1363\u001b[0m )\n",
      "File \u001b[1;32mc:\\Users\\david\\Desktop\\DSSG\\.venv\\Lib\\site-packages\\pandas\\core\\indexing.py:1558\u001b[0m, in \u001b[0;36m_LocIndexer._get_listlike_indexer\u001b[1;34m(self, key, axis)\u001b[0m\n\u001b[0;32m   1555\u001b[0m ax \u001b[38;5;241m=\u001b[39m \u001b[38;5;28mself\u001b[39m\u001b[38;5;241m.\u001b[39mobj\u001b[38;5;241m.\u001b[39m_get_axis(axis)\n\u001b[0;32m   1556\u001b[0m axis_name \u001b[38;5;241m=\u001b[39m \u001b[38;5;28mself\u001b[39m\u001b[38;5;241m.\u001b[39mobj\u001b[38;5;241m.\u001b[39m_get_axis_name(axis)\n\u001b[1;32m-> 1558\u001b[0m keyarr, indexer \u001b[38;5;241m=\u001b[39m \u001b[43max\u001b[49m\u001b[38;5;241;43m.\u001b[39;49m\u001b[43m_get_indexer_strict\u001b[49m\u001b[43m(\u001b[49m\u001b[43mkey\u001b[49m\u001b[43m,\u001b[49m\u001b[43m \u001b[49m\u001b[43maxis_name\u001b[49m\u001b[43m)\u001b[49m\n\u001b[0;32m   1560\u001b[0m \u001b[38;5;28;01mreturn\u001b[39;00m keyarr, indexer\n",
      "File \u001b[1;32mc:\\Users\\david\\Desktop\\DSSG\\.venv\\Lib\\site-packages\\pandas\\core\\indexes\\base.py:6200\u001b[0m, in \u001b[0;36mIndex._get_indexer_strict\u001b[1;34m(self, key, axis_name)\u001b[0m\n\u001b[0;32m   6197\u001b[0m \u001b[38;5;28;01melse\u001b[39;00m:\n\u001b[0;32m   6198\u001b[0m     keyarr, indexer, new_indexer \u001b[38;5;241m=\u001b[39m \u001b[38;5;28mself\u001b[39m\u001b[38;5;241m.\u001b[39m_reindex_non_unique(keyarr)\n\u001b[1;32m-> 6200\u001b[0m \u001b[38;5;28;43mself\u001b[39;49m\u001b[38;5;241;43m.\u001b[39;49m\u001b[43m_raise_if_missing\u001b[49m\u001b[43m(\u001b[49m\u001b[43mkeyarr\u001b[49m\u001b[43m,\u001b[49m\u001b[43m \u001b[49m\u001b[43mindexer\u001b[49m\u001b[43m,\u001b[49m\u001b[43m \u001b[49m\u001b[43maxis_name\u001b[49m\u001b[43m)\u001b[49m\n\u001b[0;32m   6202\u001b[0m keyarr \u001b[38;5;241m=\u001b[39m \u001b[38;5;28mself\u001b[39m\u001b[38;5;241m.\u001b[39mtake(indexer)\n\u001b[0;32m   6203\u001b[0m \u001b[38;5;28;01mif\u001b[39;00m \u001b[38;5;28misinstance\u001b[39m(key, Index):\n\u001b[0;32m   6204\u001b[0m     \u001b[38;5;66;03m# GH 42790 - Preserve name from an Index\u001b[39;00m\n",
      "File \u001b[1;32mc:\\Users\\david\\Desktop\\DSSG\\.venv\\Lib\\site-packages\\pandas\\core\\indexes\\base.py:6249\u001b[0m, in \u001b[0;36mIndex._raise_if_missing\u001b[1;34m(self, key, indexer, axis_name)\u001b[0m\n\u001b[0;32m   6247\u001b[0m \u001b[38;5;28;01mif\u001b[39;00m nmissing:\n\u001b[0;32m   6248\u001b[0m     \u001b[38;5;28;01mif\u001b[39;00m nmissing \u001b[38;5;241m==\u001b[39m \u001b[38;5;28mlen\u001b[39m(indexer):\n\u001b[1;32m-> 6249\u001b[0m         \u001b[38;5;28;01mraise\u001b[39;00m \u001b[38;5;167;01mKeyError\u001b[39;00m(\u001b[38;5;124mf\u001b[39m\u001b[38;5;124m\"\u001b[39m\u001b[38;5;124mNone of [\u001b[39m\u001b[38;5;132;01m{\u001b[39;00mkey\u001b[38;5;132;01m}\u001b[39;00m\u001b[38;5;124m] are in the [\u001b[39m\u001b[38;5;132;01m{\u001b[39;00maxis_name\u001b[38;5;132;01m}\u001b[39;00m\u001b[38;5;124m]\u001b[39m\u001b[38;5;124m\"\u001b[39m)\n\u001b[0;32m   6251\u001b[0m     not_found \u001b[38;5;241m=\u001b[39m \u001b[38;5;28mlist\u001b[39m(ensure_index(key)[missing_mask\u001b[38;5;241m.\u001b[39mnonzero()[\u001b[38;5;241m0\u001b[39m]]\u001b[38;5;241m.\u001b[39munique())\n\u001b[0;32m   6252\u001b[0m     \u001b[38;5;28;01mraise\u001b[39;00m \u001b[38;5;167;01mKeyError\u001b[39;00m(\u001b[38;5;124mf\u001b[39m\u001b[38;5;124m\"\u001b[39m\u001b[38;5;132;01m{\u001b[39;00mnot_found\u001b[38;5;132;01m}\u001b[39;00m\u001b[38;5;124m not in index\u001b[39m\u001b[38;5;124m\"\u001b[39m)\n",
      "\u001b[1;31mKeyError\u001b[0m: \"None of [Index(['geometry'], dtype='object')] are in the [index]\""
     ]
    }
   ],
   "source": [
    "place = \"Jerusalem, Israel\"\n",
    "local_crs = \"EPSG:2039\"\n",
    "\n",
    "# Geocode using Nominatim\n",
    "# latitude = 31.7683\n",
    "# longitude = 35.2137\n",
    "# point = gpd.GeoDataFrame(geometry=[Point(longitude, latitude)], crs=\"EPSG:4326\")\n",
    "\n",
    "#Load open street buildings\n",
    "osm_buildings = osmnx.features_from_place(place, tags={\"building\": True})\n",
    "osm_buildings = osm_buildings[osm_buildings.geom_type == \"Polygon\"].reset_index(drop=True)\n",
    "osm_buildings = osm_buildings[[\"geometry\"]].to_crs(local_crs)\n",
    "osm_buildings.head()\n",
    "osm_graph = osmnx.graph_from_place(place, network_type=\"drive\")\n",
    "osm_graph = osmnx.projection.project_graph(osm_graph, to_crs=local_crs)\n",
    "streets = osmnx.graph_to_gdfs(\n",
    "    osmnx.convert.to_undirected(osm_graph),\n",
    "    nodes=False,\n",
    "    edges=True,\n",
    "    node_geometry=False,\n",
    "    fill_edge_geometry=True,\n",
    ").reset_index(drop=True)\n",
    "print(streets.columns)\n",
    "streets_geometry = streets['geometry']\n",
    "streets['orientation'] = momepy.orientation(streets_geometry)\n",
    "streets['courtyard_area'] = momepy.courtyard_area(streets_geometry)\n",
    "streets['longest_axis_length'] = momepy.longest_axis_length(streets_geometry)\n",
    "# streets['perimeter_wall'] = momepy.perimeter_wall(streets_geometry)\n",
    "streets['centroid_corner_distance'] = momepy.centroid_corner_distance(streets_geometry)\n",
    "streets['circular_compactness'] = momepy.circular_compactness(streets_geometry)\n",
    "streets['compactness_weighted_axis'] = momepy.compactness_weighted_axis(streets_geometry)\n",
    "streets['convexity'] = momepy.convexity(streets_geometry)\n",
    "streets['corners'] = momepy.corners(streets_geometry)\n",
    "streets['courtyard_index'] = momepy.courtyard_index(streets_geometry)\n",
    "streets['elongation'] = momepy.elongation(streets_geometry)\n",
    "streets['equivalent_rectangular_index'] = momepy.equivalent_rectangular_index(streets_geometry)\n",
    "streets['facade_ratio'] = momepy.facade_ratio(streets_geometry)\n",
    "streets['fractal_dimension'] = momepy.fractal_dimension(streets_geometry)\n",
    "streets['linearity'] = momepy.linearity(streets_geometry)\n",
    "streets['rectangularity'] = momepy.rectangularity(streets_geometry)\n",
    "streets['shape_index'] = momepy.shape_index(streets_geometry)\n",
    "streets['square_compactness'] = momepy.square_compactness(streets_geometry)\n",
    "streets['squareness'] = momepy.elongation(streets_geometry)\n",
    "streets['alignment'] = momepy.alignment(streets['orientation'], osm_graph)\n",
    "streets['cell_alignment'] = momepy.cell_alignment(streets['orientation'], osm_graph)\n",
    "streets['neighbor_distance'] = momepy.neighbor_distance(streets_geometry, osm_graph)\n",
    "streets['neighbors'] = momepy.neighbors(streets_geometry, osm_graph)\n",
    "streets['betweenness_centrality'] = momepy.betweenness_centrality(osm_graph)\n",
    "\n",
    "\n",
    "\n",
    "streets = momepy.remove_false_nodes(streets)\n",
    "streets[\"length\"] = streets.length\n",
    "streets[\"linearity\"] = momepy.linearity(streets)"
   ]
  },
  {
   "cell_type": "markdown",
   "metadata": {},
   "source": [
    "common metrics:"
   ]
  },
  {
   "cell_type": "code",
   "execution_count": null,
   "metadata": {},
   "outputs": [],
   "source": [
    "#street_profile"
   ]
  }
 ],
 "metadata": {
  "kernelspec": {
   "display_name": ".venv",
   "language": "python",
   "name": "python3"
  },
  "language_info": {
   "codemirror_mode": {
    "name": "ipython",
    "version": 3
   },
   "file_extension": ".py",
   "mimetype": "text/x-python",
   "name": "python",
   "nbconvert_exporter": "python",
   "pygments_lexer": "ipython3",
   "version": "3.12.5"
  }
 },
 "nbformat": 4,
 "nbformat_minor": 2
}
