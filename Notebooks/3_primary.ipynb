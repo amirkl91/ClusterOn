{
 "cells": [
  {
   "cell_type": "code",
   "execution_count": 1,
   "metadata": {},
   "outputs": [],
   "source": [
    "import geopandas as gpd\n",
    "import momepy as mm\n",
    "import libpysal\n",
    "import pandas as pd\n",
    "import matplotlib.pyplot as plt\n",
    "import shapely\n",
    "from shapely.geometry import Polygon, MultiPolygon\n",
    "from shapely import wkt\n",
    "from shapely.ops import linemerge, unary_union, polygonize"
   ]
  },
  {
   "cell_type": "code",
   "execution_count": 2,
   "metadata": {},
   "outputs": [],
   "source": [
    "import warnings\n",
    "warnings.filterwarnings('ignore')\n",
    "warnings.filterwarnings('ignore', message='.*initial implementation of Parquet.*')"
   ]
  },
  {
   "cell_type": "code",
   "execution_count": 10,
   "metadata": {},
   "outputs": [
    {
     "name": "stdout",
     "output_type": "stream",
     "text": [
      "CPU times: total: 10.6 s\n",
      "Wall time: 10.6 s\n"
     ]
    }
   ],
   "source": [
    "%%time\n",
    "tess = gpd.read_file('data/geometry_umm.gpkg', layer=\"encl_tess\").dropna()\n",
    "buildings = gpd.read_file('data/geometry_umm.gpkg', layer=\"buildings\").dropna()\n",
    "blocks = gpd.read_file('data/geometry_umm.gpkg', layer='blocks')"
   ]
  },
  {
   "cell_type": "code",
   "execution_count": 11,
   "metadata": {},
   "outputs": [],
   "source": [
    "tess['tID'] = range(len(tess))"
   ]
  },
  {
   "cell_type": "code",
   "execution_count": 12,
   "metadata": {},
   "outputs": [],
   "source": [
    "tess = tess.rename_geometry(\"tessellation\").merge(buildings[[\"uID\", \"geometry\",\"height\"]].rename_geometry(\"buildings\"), on=\"uID\", how=\"left\")"
   ]
  },
  {
   "cell_type": "code",
   "execution_count": 14,
   "metadata": {},
   "outputs": [
    {
     "data": {
      "text/html": [
       "<div>\n",
       "<style scoped>\n",
       "    .dataframe tbody tr th:only-of-type {\n",
       "        vertical-align: middle;\n",
       "    }\n",
       "\n",
       "    .dataframe tbody tr th {\n",
       "        vertical-align: top;\n",
       "    }\n",
       "\n",
       "    .dataframe thead th {\n",
       "        text-align: right;\n",
       "    }\n",
       "</style>\n",
       "<table border=\"1\" class=\"dataframe\">\n",
       "  <thead>\n",
       "    <tr style=\"text-align: right;\">\n",
       "      <th></th>\n",
       "      <th>uID</th>\n",
       "      <th>eID</th>\n",
       "      <th>bID</th>\n",
       "      <th>nID</th>\n",
       "      <th>tID</th>\n",
       "      <th>tessellation</th>\n",
       "      <th>buildings</th>\n",
       "      <th>height</th>\n",
       "    </tr>\n",
       "  </thead>\n",
       "  <tbody>\n",
       "    <tr>\n",
       "      <th>0</th>\n",
       "      <td>1814</td>\n",
       "      <td>0</td>\n",
       "      <td>0.0</td>\n",
       "      <td>28</td>\n",
       "      <td>0</td>\n",
       "      <td>POLYGON ((413453.976 3390496.547, 413453.909 3...</td>\n",
       "      <td>POLYGON Z ((413488.104 3390520.045 6.000, 4134...</td>\n",
       "      <td>6.0</td>\n",
       "    </tr>\n",
       "    <tr>\n",
       "      <th>1</th>\n",
       "      <td>10316</td>\n",
       "      <td>0</td>\n",
       "      <td>0.0</td>\n",
       "      <td>28</td>\n",
       "      <td>1</td>\n",
       "      <td>POLYGON ((413460.791 3390535.393, 413460.203 3...</td>\n",
       "      <td>POLYGON Z ((413506.478 3390528.655 21.000, 413...</td>\n",
       "      <td>21.0</td>\n",
       "    </tr>\n",
       "    <tr>\n",
       "      <th>2</th>\n",
       "      <td>10319</td>\n",
       "      <td>0</td>\n",
       "      <td>0.0</td>\n",
       "      <td>28</td>\n",
       "      <td>2</td>\n",
       "      <td>POLYGON ((413479.709 3390559.201, 413479.606 3...</td>\n",
       "      <td>POLYGON Z ((413522.207 3390553.017 21.000, 413...</td>\n",
       "      <td>21.0</td>\n",
       "    </tr>\n",
       "    <tr>\n",
       "      <th>3</th>\n",
       "      <td>11556</td>\n",
       "      <td>0</td>\n",
       "      <td>0.0</td>\n",
       "      <td>2052</td>\n",
       "      <td>3</td>\n",
       "      <td>POLYGON ((413481.440 3390644.908, 413481.406 3...</td>\n",
       "      <td>POLYGON Z ((413492.534 3390669.044 24.000, 413...</td>\n",
       "      <td>24.0</td>\n",
       "    </tr>\n",
       "    <tr>\n",
       "      <th>4</th>\n",
       "      <td>132</td>\n",
       "      <td>0</td>\n",
       "      <td>0.0</td>\n",
       "      <td>1701</td>\n",
       "      <td>4</td>\n",
       "      <td>POLYGON ((413499.408 3390950.183, 413499.294 3...</td>\n",
       "      <td>POLYGON Z ((413509.930 3390954.680 3.000, 4135...</td>\n",
       "      <td>3.0</td>\n",
       "    </tr>\n",
       "    <tr>\n",
       "      <th>...</th>\n",
       "      <td>...</td>\n",
       "      <td>...</td>\n",
       "      <td>...</td>\n",
       "      <td>...</td>\n",
       "      <td>...</td>\n",
       "      <td>...</td>\n",
       "      <td>...</td>\n",
       "      <td>...</td>\n",
       "    </tr>\n",
       "    <tr>\n",
       "      <th>16432</th>\n",
       "      <td>8528</td>\n",
       "      <td>6642</td>\n",
       "      <td>3694.0</td>\n",
       "      <td>20161</td>\n",
       "      <td>16432</td>\n",
       "      <td>POLYGON ((413233.422 3390976.899, 413245.608 3...</td>\n",
       "      <td>POLYGON Z ((413249.074 3390991.545 18.000, 413...</td>\n",
       "      <td>18.0</td>\n",
       "    </tr>\n",
       "    <tr>\n",
       "      <th>16433</th>\n",
       "      <td>11033</td>\n",
       "      <td>6649</td>\n",
       "      <td>3695.0</td>\n",
       "      <td>20295</td>\n",
       "      <td>16433</td>\n",
       "      <td>POLYGON ((413431.265 3393271.437, 413430.047 3...</td>\n",
       "      <td>POLYGON Z ((413482.216 3393302.620 21.000, 413...</td>\n",
       "      <td>21.0</td>\n",
       "    </tr>\n",
       "    <tr>\n",
       "      <th>16434</th>\n",
       "      <td>12688</td>\n",
       "      <td>6650</td>\n",
       "      <td>2589.0</td>\n",
       "      <td>20268</td>\n",
       "      <td>16434</td>\n",
       "      <td>POLYGON ((413455.376 3393493.685, 413458.542 3...</td>\n",
       "      <td>POLYGON Z ((413462.518 3393502.008 30.000, 413...</td>\n",
       "      <td>30.0</td>\n",
       "    </tr>\n",
       "    <tr>\n",
       "      <th>16435</th>\n",
       "      <td>11023</td>\n",
       "      <td>6651</td>\n",
       "      <td>3579.0</td>\n",
       "      <td>20270</td>\n",
       "      <td>16435</td>\n",
       "      <td>POLYGON ((413447.358 3393259.226, 413471.664 3...</td>\n",
       "      <td>POLYGON Z ((413490.201 3393273.970 21.000, 413...</td>\n",
       "      <td>21.0</td>\n",
       "    </tr>\n",
       "    <tr>\n",
       "      <th>16436</th>\n",
       "      <td>5348</td>\n",
       "      <td>6652</td>\n",
       "      <td>2632.0</td>\n",
       "      <td>20280</td>\n",
       "      <td>16436</td>\n",
       "      <td>POLYGON ((413480.400 3392054.093, 413454.755 3...</td>\n",
       "      <td>POLYGON Z ((413471.010 3392090.818 12.000, 413...</td>\n",
       "      <td>12.0</td>\n",
       "    </tr>\n",
       "  </tbody>\n",
       "</table>\n",
       "<p>16437 rows × 8 columns</p>\n",
       "</div>"
      ],
      "text/plain": [
       "         uID   eID     bID    nID    tID  \\\n",
       "0       1814     0     0.0     28      0   \n",
       "1      10316     0     0.0     28      1   \n",
       "2      10319     0     0.0     28      2   \n",
       "3      11556     0     0.0   2052      3   \n",
       "4        132     0     0.0   1701      4   \n",
       "...      ...   ...     ...    ...    ...   \n",
       "16432   8528  6642  3694.0  20161  16432   \n",
       "16433  11033  6649  3695.0  20295  16433   \n",
       "16434  12688  6650  2589.0  20268  16434   \n",
       "16435  11023  6651  3579.0  20270  16435   \n",
       "16436   5348  6652  2632.0  20280  16436   \n",
       "\n",
       "                                            tessellation  \\\n",
       "0      POLYGON ((413453.976 3390496.547, 413453.909 3...   \n",
       "1      POLYGON ((413460.791 3390535.393, 413460.203 3...   \n",
       "2      POLYGON ((413479.709 3390559.201, 413479.606 3...   \n",
       "3      POLYGON ((413481.440 3390644.908, 413481.406 3...   \n",
       "4      POLYGON ((413499.408 3390950.183, 413499.294 3...   \n",
       "...                                                  ...   \n",
       "16432  POLYGON ((413233.422 3390976.899, 413245.608 3...   \n",
       "16433  POLYGON ((413431.265 3393271.437, 413430.047 3...   \n",
       "16434  POLYGON ((413455.376 3393493.685, 413458.542 3...   \n",
       "16435  POLYGON ((413447.358 3393259.226, 413471.664 3...   \n",
       "16436  POLYGON ((413480.400 3392054.093, 413454.755 3...   \n",
       "\n",
       "                                               buildings  height  \n",
       "0      POLYGON Z ((413488.104 3390520.045 6.000, 4134...     6.0  \n",
       "1      POLYGON Z ((413506.478 3390528.655 21.000, 413...    21.0  \n",
       "2      POLYGON Z ((413522.207 3390553.017 21.000, 413...    21.0  \n",
       "3      POLYGON Z ((413492.534 3390669.044 24.000, 413...    24.0  \n",
       "4      POLYGON Z ((413509.930 3390954.680 3.000, 4135...     3.0  \n",
       "...                                                  ...     ...  \n",
       "16432  POLYGON Z ((413249.074 3390991.545 18.000, 413...    18.0  \n",
       "16433  POLYGON Z ((413482.216 3393302.620 21.000, 413...    21.0  \n",
       "16434  POLYGON Z ((413462.518 3393502.008 30.000, 413...    30.0  \n",
       "16435  POLYGON Z ((413490.201 3393273.970 21.000, 413...    21.0  \n",
       "16436  POLYGON Z ((413471.010 3392090.818 12.000, 413...    12.0  \n",
       "\n",
       "[16437 rows x 8 columns]"
      ]
     },
     "execution_count": 14,
     "metadata": {},
     "output_type": "execute_result"
    }
   ],
   "source": [
    "tess"
   ]
  },
  {
   "cell_type": "code",
   "execution_count": 66,
   "metadata": {},
   "outputs": [
    {
     "data": {
      "text/html": [
       "<div>\n",
       "<style scoped>\n",
       "    .dataframe tbody tr th:only-of-type {\n",
       "        vertical-align: middle;\n",
       "    }\n",
       "\n",
       "    .dataframe tbody tr th {\n",
       "        vertical-align: top;\n",
       "    }\n",
       "\n",
       "    .dataframe thead th {\n",
       "        text-align: right;\n",
       "    }\n",
       "</style>\n",
       "<table border=\"1\" class=\"dataframe\">\n",
       "  <thead>\n",
       "    <tr style=\"text-align: right;\">\n",
       "      <th></th>\n",
       "      <th>uID</th>\n",
       "      <th>eID</th>\n",
       "      <th>bID</th>\n",
       "      <th>nID</th>\n",
       "      <th>tID</th>\n",
       "      <th>tessellation</th>\n",
       "      <th>buildings</th>\n",
       "      <th>height</th>\n",
       "      <th>stcOri</th>\n",
       "      <th>stbOri</th>\n",
       "      <th>...</th>\n",
       "      <th>sicCAR</th>\n",
       "      <th>sicFAR</th>\n",
       "      <th>mtbAli</th>\n",
       "      <th>mtbNDi</th>\n",
       "      <th>mtcWNe</th>\n",
       "      <th>mdcAre</th>\n",
       "      <th>licGDe</th>\n",
       "      <th>ltcWRB</th>\n",
       "      <th>stcSAl</th>\n",
       "      <th>nodeID</th>\n",
       "    </tr>\n",
       "  </thead>\n",
       "  <tbody>\n",
       "    <tr>\n",
       "      <th>0</th>\n",
       "      <td>1814</td>\n",
       "      <td>0</td>\n",
       "      <td>0.0</td>\n",
       "      <td>28</td>\n",
       "      <td>0</td>\n",
       "      <td>POLYGON ((413453.976 3390496.547, 413453.909 3...</td>\n",
       "      <td>POLYGON Z ((413488.104 3390520.045 6.000, 4134...</td>\n",
       "      <td>6.0</td>\n",
       "      <td>1.929700</td>\n",
       "      <td>25.521722</td>\n",
       "      <td>...</td>\n",
       "      <td>0.027234</td>\n",
       "      <td>0.054468</td>\n",
       "      <td>3.533971</td>\n",
       "      <td>11.611677</td>\n",
       "      <td>0.005980</td>\n",
       "      <td>21206.548755</td>\n",
       "      <td>0.734619</td>\n",
       "      <td>0.000009</td>\n",
       "      <td>25.438274</td>\n",
       "      <td>45.0</td>\n",
       "    </tr>\n",
       "    <tr>\n",
       "      <th>1</th>\n",
       "      <td>10316</td>\n",
       "      <td>0</td>\n",
       "      <td>0.0</td>\n",
       "      <td>28</td>\n",
       "      <td>1</td>\n",
       "      <td>POLYGON ((413460.791 3390535.393, 413460.203 3...</td>\n",
       "      <td>POLYGON Z ((413506.478 3390528.655 21.000, 413...</td>\n",
       "      <td>21.0</td>\n",
       "      <td>30.908144</td>\n",
       "      <td>27.538281</td>\n",
       "      <td>...</td>\n",
       "      <td>0.077110</td>\n",
       "      <td>0.539771</td>\n",
       "      <td>2.675848</td>\n",
       "      <td>15.126716</td>\n",
       "      <td>0.008798</td>\n",
       "      <td>45588.458569</td>\n",
       "      <td>0.963148</td>\n",
       "      <td>0.000033</td>\n",
       "      <td>3.540170</td>\n",
       "      <td>45.0</td>\n",
       "    </tr>\n",
       "    <tr>\n",
       "      <th>2</th>\n",
       "      <td>10319</td>\n",
       "      <td>0</td>\n",
       "      <td>0.0</td>\n",
       "      <td>28</td>\n",
       "      <td>2</td>\n",
       "      <td>POLYGON ((413479.709 3390559.201, 413479.606 3...</td>\n",
       "      <td>POLYGON Z ((413522.207 3390553.017 21.000, 413...</td>\n",
       "      <td>21.0</td>\n",
       "      <td>30.941455</td>\n",
       "      <td>25.659711</td>\n",
       "      <td>...</td>\n",
       "      <td>0.053695</td>\n",
       "      <td>0.375866</td>\n",
       "      <td>3.430163</td>\n",
       "      <td>36.029675</td>\n",
       "      <td>0.008261</td>\n",
       "      <td>64455.316359</td>\n",
       "      <td>0.934488</td>\n",
       "      <td>0.000035</td>\n",
       "      <td>3.573482</td>\n",
       "      <td>45.0</td>\n",
       "    </tr>\n",
       "    <tr>\n",
       "      <th>3</th>\n",
       "      <td>11556</td>\n",
       "      <td>0</td>\n",
       "      <td>0.0</td>\n",
       "      <td>2052</td>\n",
       "      <td>3</td>\n",
       "      <td>POLYGON ((413481.440 3390644.908, 413481.406 3...</td>\n",
       "      <td>POLYGON Z ((413492.534 3390669.044 24.000, 413...</td>\n",
       "      <td>24.0</td>\n",
       "      <td>14.750400</td>\n",
       "      <td>24.572171</td>\n",
       "      <td>...</td>\n",
       "      <td>0.026692</td>\n",
       "      <td>0.213532</td>\n",
       "      <td>6.307824</td>\n",
       "      <td>127.264222</td>\n",
       "      <td>0.008990</td>\n",
       "      <td>61460.458254</td>\n",
       "      <td>0.837727</td>\n",
       "      <td>0.000051</td>\n",
       "      <td>13.983532</td>\n",
       "      <td>2395.0</td>\n",
       "    </tr>\n",
       "    <tr>\n",
       "      <th>4</th>\n",
       "      <td>132</td>\n",
       "      <td>0</td>\n",
       "      <td>0.0</td>\n",
       "      <td>1701</td>\n",
       "      <td>4</td>\n",
       "      <td>POLYGON ((413499.408 3390950.183, 413499.294 3...</td>\n",
       "      <td>POLYGON Z ((413509.930 3390954.680 3.000, 4135...</td>\n",
       "      <td>3.0</td>\n",
       "      <td>42.437219</td>\n",
       "      <td>31.073709</td>\n",
       "      <td>...</td>\n",
       "      <td>0.010260</td>\n",
       "      <td>0.010260</td>\n",
       "      <td>1.581710</td>\n",
       "      <td>15.212978</td>\n",
       "      <td>0.008328</td>\n",
       "      <td>24294.437426</td>\n",
       "      <td>0.554848</td>\n",
       "      <td>0.000042</td>\n",
       "      <td>29.299289</td>\n",
       "      <td>2060.0</td>\n",
       "    </tr>\n",
       "    <tr>\n",
       "      <th>...</th>\n",
       "      <td>...</td>\n",
       "      <td>...</td>\n",
       "      <td>...</td>\n",
       "      <td>...</td>\n",
       "      <td>...</td>\n",
       "      <td>...</td>\n",
       "      <td>...</td>\n",
       "      <td>...</td>\n",
       "      <td>...</td>\n",
       "      <td>...</td>\n",
       "      <td>...</td>\n",
       "      <td>...</td>\n",
       "      <td>...</td>\n",
       "      <td>...</td>\n",
       "      <td>...</td>\n",
       "      <td>...</td>\n",
       "      <td>...</td>\n",
       "      <td>...</td>\n",
       "      <td>...</td>\n",
       "      <td>...</td>\n",
       "      <td>...</td>\n",
       "    </tr>\n",
       "    <tr>\n",
       "      <th>16422</th>\n",
       "      <td>2478</td>\n",
       "      <td>6620</td>\n",
       "      <td>3687.0</td>\n",
       "      <td>19638</td>\n",
       "      <td>16422</td>\n",
       "      <td>POLYGON ((412419.683 3392298.746, 412435.602 3...</td>\n",
       "      <td>POLYGON Z ((412443.326 3392307.147 6.000, 4124...</td>\n",
       "      <td>6.0</td>\n",
       "      <td>32.228712</td>\n",
       "      <td>30.233279</td>\n",
       "      <td>...</td>\n",
       "      <td>0.192262</td>\n",
       "      <td>0.384524</td>\n",
       "      <td>1.874290</td>\n",
       "      <td>12.414926</td>\n",
       "      <td>0.019168</td>\n",
       "      <td>4898.057723</td>\n",
       "      <td>3.330393</td>\n",
       "      <td>0.000242</td>\n",
       "      <td>9.866882</td>\n",
       "      <td>14364.0</td>\n",
       "    </tr>\n",
       "    <tr>\n",
       "      <th>16424</th>\n",
       "      <td>10761</td>\n",
       "      <td>6622</td>\n",
       "      <td>3688.0</td>\n",
       "      <td>19657</td>\n",
       "      <td>16424</td>\n",
       "      <td>POLYGON ((412451.443 3392186.546, 412467.367 3...</td>\n",
       "      <td>POLYGON Z ((412475.456 3392216.010 21.000, 412...</td>\n",
       "      <td>21.0</td>\n",
       "      <td>31.677262</td>\n",
       "      <td>33.474946</td>\n",
       "      <td>...</td>\n",
       "      <td>0.350861</td>\n",
       "      <td>2.456024</td>\n",
       "      <td>2.590536</td>\n",
       "      <td>18.493013</td>\n",
       "      <td>0.020406</td>\n",
       "      <td>11731.748953</td>\n",
       "      <td>3.225671</td>\n",
       "      <td>0.000242</td>\n",
       "      <td>0.000053</td>\n",
       "      <td>14369.0</td>\n",
       "    </tr>\n",
       "    <tr>\n",
       "      <th>16431</th>\n",
       "      <td>3074</td>\n",
       "      <td>6639</td>\n",
       "      <td>3693.0</td>\n",
       "      <td>20069</td>\n",
       "      <td>16431</td>\n",
       "      <td>POLYGON ((413164.243 3393851.806, 413132.543 3...</td>\n",
       "      <td>POLYGON Z ((413151.979 3393859.823 6.000, 4131...</td>\n",
       "      <td>6.0</td>\n",
       "      <td>20.031683</td>\n",
       "      <td>23.373054</td>\n",
       "      <td>...</td>\n",
       "      <td>0.103197</td>\n",
       "      <td>0.206394</td>\n",
       "      <td>2.746993</td>\n",
       "      <td>17.064368</td>\n",
       "      <td>0.018940</td>\n",
       "      <td>2075.054855</td>\n",
       "      <td>2.514806</td>\n",
       "      <td>0.000184</td>\n",
       "      <td>10.117025</td>\n",
       "      <td>13304.0</td>\n",
       "    </tr>\n",
       "    <tr>\n",
       "      <th>16432</th>\n",
       "      <td>8528</td>\n",
       "      <td>6642</td>\n",
       "      <td>3694.0</td>\n",
       "      <td>20161</td>\n",
       "      <td>16432</td>\n",
       "      <td>POLYGON ((413233.422 3390976.899, 413245.608 3...</td>\n",
       "      <td>POLYGON Z ((413249.074 3390991.545 18.000, 413...</td>\n",
       "      <td>18.0</td>\n",
       "      <td>25.345461</td>\n",
       "      <td>28.469113</td>\n",
       "      <td>...</td>\n",
       "      <td>0.298462</td>\n",
       "      <td>1.790775</td>\n",
       "      <td>0.809373</td>\n",
       "      <td>13.357651</td>\n",
       "      <td>0.030135</td>\n",
       "      <td>5863.174739</td>\n",
       "      <td>2.384406</td>\n",
       "      <td>0.000312</td>\n",
       "      <td>25.292453</td>\n",
       "      <td>3449.0</td>\n",
       "    </tr>\n",
       "    <tr>\n",
       "      <th>16433</th>\n",
       "      <td>11033</td>\n",
       "      <td>6649</td>\n",
       "      <td>3695.0</td>\n",
       "      <td>20295</td>\n",
       "      <td>16433</td>\n",
       "      <td>POLYGON ((413431.265 3393271.437, 413430.047 3...</td>\n",
       "      <td>POLYGON Z ((413482.216 3393302.620 21.000, 413...</td>\n",
       "      <td>21.0</td>\n",
       "      <td>19.496769</td>\n",
       "      <td>18.299125</td>\n",
       "      <td>...</td>\n",
       "      <td>0.334238</td>\n",
       "      <td>2.339667</td>\n",
       "      <td>2.115436</td>\n",
       "      <td>17.459568</td>\n",
       "      <td>0.033787</td>\n",
       "      <td>29760.546438</td>\n",
       "      <td>2.753423</td>\n",
       "      <td>0.000108</td>\n",
       "      <td>13.695255</td>\n",
       "      <td>14468.0</td>\n",
       "    </tr>\n",
       "  </tbody>\n",
       "</table>\n",
       "<p>13981 rows × 25 columns</p>\n",
       "</div>"
      ],
      "text/plain": [
       "         uID   eID     bID    nID    tID  \\\n",
       "0       1814     0     0.0     28      0   \n",
       "1      10316     0     0.0     28      1   \n",
       "2      10319     0     0.0     28      2   \n",
       "3      11556     0     0.0   2052      3   \n",
       "4        132     0     0.0   1701      4   \n",
       "...      ...   ...     ...    ...    ...   \n",
       "16422   2478  6620  3687.0  19638  16422   \n",
       "16424  10761  6622  3688.0  19657  16424   \n",
       "16431   3074  6639  3693.0  20069  16431   \n",
       "16432   8528  6642  3694.0  20161  16432   \n",
       "16433  11033  6649  3695.0  20295  16433   \n",
       "\n",
       "                                            tessellation  \\\n",
       "0      POLYGON ((413453.976 3390496.547, 413453.909 3...   \n",
       "1      POLYGON ((413460.791 3390535.393, 413460.203 3...   \n",
       "2      POLYGON ((413479.709 3390559.201, 413479.606 3...   \n",
       "3      POLYGON ((413481.440 3390644.908, 413481.406 3...   \n",
       "4      POLYGON ((413499.408 3390950.183, 413499.294 3...   \n",
       "...                                                  ...   \n",
       "16422  POLYGON ((412419.683 3392298.746, 412435.602 3...   \n",
       "16424  POLYGON ((412451.443 3392186.546, 412467.367 3...   \n",
       "16431  POLYGON ((413164.243 3393851.806, 413132.543 3...   \n",
       "16432  POLYGON ((413233.422 3390976.899, 413245.608 3...   \n",
       "16433  POLYGON ((413431.265 3393271.437, 413430.047 3...   \n",
       "\n",
       "                                               buildings  height     stcOri  \\\n",
       "0      POLYGON Z ((413488.104 3390520.045 6.000, 4134...     6.0   1.929700   \n",
       "1      POLYGON Z ((413506.478 3390528.655 21.000, 413...    21.0  30.908144   \n",
       "2      POLYGON Z ((413522.207 3390553.017 21.000, 413...    21.0  30.941455   \n",
       "3      POLYGON Z ((413492.534 3390669.044 24.000, 413...    24.0  14.750400   \n",
       "4      POLYGON Z ((413509.930 3390954.680 3.000, 4135...     3.0  42.437219   \n",
       "...                                                  ...     ...        ...   \n",
       "16422  POLYGON Z ((412443.326 3392307.147 6.000, 4124...     6.0  32.228712   \n",
       "16424  POLYGON Z ((412475.456 3392216.010 21.000, 412...    21.0  31.677262   \n",
       "16431  POLYGON Z ((413151.979 3393859.823 6.000, 4131...     6.0  20.031683   \n",
       "16432  POLYGON Z ((413249.074 3390991.545 18.000, 413...    18.0  25.345461   \n",
       "16433  POLYGON Z ((413482.216 3393302.620 21.000, 413...    21.0  19.496769   \n",
       "\n",
       "          stbOri  ...    sicCAR    sicFAR    mtbAli      mtbNDi    mtcWNe  \\\n",
       "0      25.521722  ...  0.027234  0.054468  3.533971   11.611677  0.005980   \n",
       "1      27.538281  ...  0.077110  0.539771  2.675848   15.126716  0.008798   \n",
       "2      25.659711  ...  0.053695  0.375866  3.430163   36.029675  0.008261   \n",
       "3      24.572171  ...  0.026692  0.213532  6.307824  127.264222  0.008990   \n",
       "4      31.073709  ...  0.010260  0.010260  1.581710   15.212978  0.008328   \n",
       "...          ...  ...       ...       ...       ...         ...       ...   \n",
       "16422  30.233279  ...  0.192262  0.384524  1.874290   12.414926  0.019168   \n",
       "16424  33.474946  ...  0.350861  2.456024  2.590536   18.493013  0.020406   \n",
       "16431  23.373054  ...  0.103197  0.206394  2.746993   17.064368  0.018940   \n",
       "16432  28.469113  ...  0.298462  1.790775  0.809373   13.357651  0.030135   \n",
       "16433  18.299125  ...  0.334238  2.339667  2.115436   17.459568  0.033787   \n",
       "\n",
       "             mdcAre    licGDe    ltcWRB     stcSAl   nodeID  \n",
       "0      21206.548755  0.734619  0.000009  25.438274     45.0  \n",
       "1      45588.458569  0.963148  0.000033   3.540170     45.0  \n",
       "2      64455.316359  0.934488  0.000035   3.573482     45.0  \n",
       "3      61460.458254  0.837727  0.000051  13.983532   2395.0  \n",
       "4      24294.437426  0.554848  0.000042  29.299289   2060.0  \n",
       "...             ...       ...       ...        ...      ...  \n",
       "16422   4898.057723  3.330393  0.000242   9.866882  14364.0  \n",
       "16424  11731.748953  3.225671  0.000242   0.000053  14369.0  \n",
       "16431   2075.054855  2.514806  0.000184  10.117025  13304.0  \n",
       "16432   5863.174739  2.384406  0.000312  25.292453   3449.0  \n",
       "16433  29760.546438  2.753423  0.000108  13.695255  14468.0  \n",
       "\n",
       "[13981 rows x 25 columns]"
      ]
     },
     "execution_count": 66,
     "metadata": {},
     "output_type": "execute_result"
    }
   ],
   "source": [
    "blg = tess.set_geometry('buildings').drop_duplicates('uID')\n",
    "blg"
   ]
  },
  {
   "cell_type": "code",
   "execution_count": 17,
   "metadata": {},
   "outputs": [],
   "source": [
    "# blg['height'] = blg.height.fillna(3)"
   ]
  },
  {
   "cell_type": "code",
   "execution_count": 15,
   "metadata": {},
   "outputs": [],
   "source": [
    "# blg.loc[blg[\"height\"] < 3, \"height\"] = 3 #substitute everything below 3m with 3m of height"
   ]
  },
  {
   "cell_type": "code",
   "execution_count": 17,
   "metadata": {},
   "outputs": [],
   "source": [
    "tess[['uID','eID','bID','nID','tID','tessellation']].to_file('data/geometry_umm.gpkg', layer=\"encl_tess\", driver=\"GPKG\")"
   ]
  },
  {
   "cell_type": "markdown",
   "metadata": {},
   "source": [
    "## measure characters"
   ]
  },
  {
   "cell_type": "code",
   "execution_count": 17,
   "metadata": {},
   "outputs": [
    {
     "data": {
      "application/vnd.jupyter.widget-view+json": {
       "model_id": "f37114e480f64cfdb17c13e0c6df0a03",
       "version_major": 2,
       "version_minor": 0
      },
      "text/plain": [
       "  0%|          | 0/13981 [00:00<?, ?it/s]"
      ]
     },
     "metadata": {},
     "output_type": "display_data"
    },
    {
     "data": {
      "application/vnd.jupyter.widget-view+json": {
       "model_id": "ff8ddc0d996043409a0576f9771a4b52",
       "version_major": 2,
       "version_minor": 0
      },
      "text/plain": [
       "  0%|          | 0/13981 [00:00<?, ?it/s]"
      ]
     },
     "metadata": {},
     "output_type": "display_data"
    }
   ],
   "source": [
    "blg['sdbAre'] = mm.Area(blg).series\n",
    "blg['sdbVol'] = mm.Volume(blg, 'height', 'sdbAre').series #only if you have building height\n",
    "blg['sdbPer'] = mm.Perimeter(blg).series\n",
    "blg['sdbCoA'] = mm.CourtyardArea(blg, 'sdbAre').series\n",
    "blg['ssbFoF'] = mm.FormFactor(blg, 'sdbVol', heights='height').series #only if you have building height\n",
    "blg['ssbVFR'] = mm.VolumeFacadeRatio(blg, 'height', 'sdbVol', 'sdbPer').series #only if you have building height\n",
    "blg['ssbCCo'] = mm.CircularCompactness(blg, 'sdbAre').series\n",
    "blg['ssbCor'] = mm.Corners(blg).series\n",
    "blg['ssbSqu'] = mm.Squareness(blg).series\n",
    "blg['ssbERI'] = mm.EquivalentRectangularIndex(blg, 'sdbAre', 'sdbPer').series\n",
    "blg['ssbElo'] = mm.Elongation(blg).series"
   ]
  },
  {
   "cell_type": "code",
   "execution_count": 18,
   "metadata": {},
   "outputs": [
    {
     "data": {
      "application/vnd.jupyter.widget-view+json": {
       "model_id": "4dc0418a54784c3080ca50c3dd5869dd",
       "version_major": 2,
       "version_minor": 0
      },
      "text/plain": [
       "  0%|          | 0/13981 [00:00<?, ?it/s]"
      ]
     },
     "metadata": {},
     "output_type": "display_data"
    }
   ],
   "source": [
    "cencon = mm.CentroidCorners(blg)\n",
    "blg['ssbCCM'] = cencon.mean\n",
    "blg['ssbCCD'] = cencon.std"
   ]
  },
  {
   "cell_type": "code",
   "execution_count": 19,
   "metadata": {},
   "outputs": [
    {
     "data": {
      "application/vnd.jupyter.widget-view+json": {
       "model_id": "34d01f5849064bb094c99ed40dce6ac7",
       "version_major": 2,
       "version_minor": 0
      },
      "text/plain": [
       "  0%|          | 0/13981 [00:00<?, ?it/s]"
      ]
     },
     "metadata": {},
     "output_type": "display_data"
    }
   ],
   "source": [
    "blg['stbOri'] = mm.Orientation(blg).series"
   ]
  },
  {
   "cell_type": "code",
   "execution_count": 20,
   "metadata": {},
   "outputs": [
    {
     "data": {
      "application/vnd.jupyter.widget-view+json": {
       "model_id": "a4dbb5b70c5347468632f544b9087280",
       "version_major": 2,
       "version_minor": 0
      },
      "text/plain": [
       "  0%|          | 0/16437 [00:00<?, ?it/s]"
      ]
     },
     "metadata": {},
     "output_type": "display_data"
    }
   ],
   "source": [
    "tess['stcOri'] = mm.Orientation(tess).series"
   ]
  },
  {
   "cell_type": "code",
   "execution_count": 21,
   "metadata": {},
   "outputs": [],
   "source": [
    "tess = tess.merge(blg[['tID', 'stbOri']], on='tID', how='left')"
   ]
  },
  {
   "cell_type": "code",
   "execution_count": 22,
   "metadata": {},
   "outputs": [],
   "source": [
    "tess['stbCeA'] = (tess['stbOri'] - tess['stcOri']).abs()"
   ]
  },
  {
   "cell_type": "markdown",
   "metadata": {},
   "source": []
  },
  {
   "cell_type": "code",
   "execution_count": 23,
   "metadata": {},
   "outputs": [],
   "source": [
    "tess['sdcLAL'] = mm.LongestAxisLength(tess).series\n",
    "tess['sdcAre'] = mm.Area(tess).series\n",
    "tess['sscCCo'] = mm.CircularCompactness(tess, 'sdcAre').series\n",
    "tess['sscERI'] = mm.EquivalentRectangularIndex(tess, 'sdcAre').series\n",
    "tess['sicCAR'] = mm.AreaRatio(tess.set_geometry('tessellation'), tess.set_geometry('buildings'), 'sdcAre', tess.buildings.area, 'uID').series"
   ]
  },
  {
   "cell_type": "code",
   "execution_count": 24,
   "metadata": {},
   "outputs": [],
   "source": [
    "tess['sicFAR'] = mm.AreaRatio(tess.set_geometry('tessellation'), tess.set_geometry('buildings'), 'sdcAre', (tess.buildings.area*tess['height'])/3, 'tID').series "
   ]
  },
  {
   "cell_type": "code",
   "execution_count": 25,
   "metadata": {},
   "outputs": [],
   "source": [
    "# tess.sicCAR[tess.sicCAR > 1] = 1"
   ]
  },
  {
   "cell_type": "code",
   "execution_count": 26,
   "metadata": {},
   "outputs": [],
   "source": [
    "blg[\"mtbSWR\"] = mm.SharedWallsRatio(blg).series"
   ]
  },
  {
   "cell_type": "code",
   "execution_count": 27,
   "metadata": {},
   "outputs": [],
   "source": [
    "queen_1 = libpysal.weights.contiguity.Queen.from_dataframe(tess, ids=\"tID\", geom_col = 'tessellation')"
   ]
  },
  {
   "cell_type": "code",
   "execution_count": 28,
   "metadata": {},
   "outputs": [
    {
     "data": {
      "application/vnd.jupyter.widget-view+json": {
       "model_id": "b753ca9bcdc54bb1a26f9efa8d48393b",
       "version_major": 2,
       "version_minor": 0
      },
      "text/plain": [
       "  0%|          | 0/16437 [00:00<?, ?it/s]"
      ]
     },
     "metadata": {},
     "output_type": "display_data"
    }
   ],
   "source": [
    "tess[\"mtbAli\"] = mm.Alignment(tess.set_geometry(\"buildings\"), queen_1, \"tID\", \"stbOri\").series"
   ]
  },
  {
   "cell_type": "code",
   "execution_count": 29,
   "metadata": {},
   "outputs": [
    {
     "data": {
      "application/vnd.jupyter.widget-view+json": {
       "model_id": "3e7f81c4009a4ba2a28ae4e3d54ba3df",
       "version_major": 2,
       "version_minor": 0
      },
      "text/plain": [
       "  0%|          | 0/16437 [00:00<?, ?it/s]"
      ]
     },
     "metadata": {},
     "output_type": "display_data"
    }
   ],
   "source": [
    "tess[\"mtbNDi\"] = mm.NeighborDistance(tess.set_geometry(\"buildings\"), queen_1, \"tID\").series"
   ]
  },
  {
   "cell_type": "code",
   "execution_count": 30,
   "metadata": {},
   "outputs": [
    {
     "data": {
      "application/vnd.jupyter.widget-view+json": {
       "model_id": "072b28e9e4b04a298e424d3f9588f30f",
       "version_major": 2,
       "version_minor": 0
      },
      "text/plain": [
       "  0%|          | 0/16437 [00:00<?, ?it/s]"
      ]
     },
     "metadata": {},
     "output_type": "display_data"
    },
    {
     "data": {
      "application/vnd.jupyter.widget-view+json": {
       "model_id": "31078da9708e45438efd022aa491cabb",
       "version_major": 2,
       "version_minor": 0
      },
      "text/plain": [
       "  0%|          | 0/16437 [00:00<?, ?it/s]"
      ]
     },
     "metadata": {},
     "output_type": "display_data"
    }
   ],
   "source": [
    "tess[\"mtcWNe\"] = mm.Neighbors(tess, queen_1, \"tID\", weighted=True).series\n",
    "tess[\"mdcAre\"] = mm.CoveredArea(tess, queen_1, \"tID\").series"
   ]
  },
  {
   "cell_type": "code",
   "execution_count": 31,
   "metadata": {},
   "outputs": [],
   "source": [
    "blg_q1 = libpysal.weights.contiguity.Queen.from_dataframe(blg)"
   ]
  },
  {
   "cell_type": "code",
   "execution_count": 32,
   "metadata": {},
   "outputs": [
    {
     "data": {
      "application/vnd.jupyter.widget-view+json": {
       "model_id": "fcc428277ee842bca20251c412748467",
       "version_major": 2,
       "version_minor": 0
      },
      "text/plain": [
       "  0%|          | 0/13981 [00:00<?, ?it/s]"
      ]
     },
     "metadata": {},
     "output_type": "display_data"
    },
    {
     "data": {
      "application/vnd.jupyter.widget-view+json": {
       "model_id": "6bb8bfc4fc054f0997bfab5bbde79c28",
       "version_major": 2,
       "version_minor": 0
      },
      "text/plain": [
       "  0%|          | 0/13981 [00:00<?, ?it/s]"
      ]
     },
     "metadata": {},
     "output_type": "display_data"
    },
    {
     "data": {
      "application/vnd.jupyter.widget-view+json": {
       "model_id": "e3b0b36a582e4def8f9ceb063772f33f",
       "version_major": 2,
       "version_minor": 0
      },
      "text/plain": [
       "  0%|          | 0/13981 [00:00<?, ?it/s]"
      ]
     },
     "metadata": {},
     "output_type": "display_data"
    },
    {
     "data": {
      "application/vnd.jupyter.widget-view+json": {
       "model_id": "352c527433ee4860b9bb9d3f8e5c62d8",
       "version_major": 2,
       "version_minor": 0
      },
      "text/plain": [
       "  0%|          | 0/3696 [00:00<?, ?it/s]"
      ]
     },
     "metadata": {},
     "output_type": "display_data"
    },
    {
     "data": {
      "application/vnd.jupyter.widget-view+json": {
       "model_id": "4ead722a395048f9b760c2a76b839af5",
       "version_major": 2,
       "version_minor": 0
      },
      "text/plain": [
       "  0%|          | 0/3696 [00:00<?, ?it/s]"
      ]
     },
     "metadata": {},
     "output_type": "display_data"
    }
   ],
   "source": [
    "blg[\"libNCo\"] = mm.Courtyards(blg, blg_q1).series\n",
    "blg[\"ldbPWL\"] = mm.PerimeterWall(blg, blg_q1).series\n",
    " \n",
    "blocks[\"ldkAre\"] = mm.Area(blocks).series\n",
    "blocks[\"ldkPer\"] = mm.Perimeter(blocks).series\n",
    "blocks[\"lskCCo\"] = mm.CircularCompactness(blocks, \"ldkAre\").series\n",
    "blocks[\"lskERI\"] = mm.EquivalentRectangularIndex(blocks, \"ldkAre\", \"ldkPer\").series\n",
    "blocks[\"lskCWA\"] = mm.CompactnessWeightedAxis(blocks, \"ldkAre\", \"ldkPer\").series\n",
    "blocks[\"ltkOri\"] = mm.Orientation(blocks).series\n",
    " \n",
    "blo_q1 = libpysal.weights.contiguity.Queen.from_dataframe(blocks, ids=\"bID\")\n",
    " \n",
    "blocks[\"ltkWNB\"] = mm.Neighbors(blocks, blo_q1, \"bID\", weighted=True).series\n",
    "blocks[\"likWBB\"] = mm.Count(blocks, blg, \"bID\", \"bID\", weighted=True).series"
   ]
  },
  {
   "cell_type": "code",
   "execution_count": 33,
   "metadata": {},
   "outputs": [],
   "source": [
    "#Save data to parquets"
   ]
  },
  {
   "cell_type": "code",
   "execution_count": 34,
   "metadata": {},
   "outputs": [],
   "source": [
    "tess.drop(columns=['tessellation', 'buildings']).to_parquet('data/tess_data.parquet')\n",
    "blg.drop(columns=['tessellation', 'buildings']).to_parquet('data/blg_data.parquet')\n",
    "blocks.drop(columns='geometry').to_parquet('data/blocks_data.parquet')"
   ]
  },
  {
   "cell_type": "code",
   "execution_count": 35,
   "metadata": {},
   "outputs": [],
   "source": [
    "queen3 = mm.sw_high(k=3, weights=queen_1)\n",
    "queen1 = queen_1"
   ]
  },
  {
   "cell_type": "code",
   "execution_count": 36,
   "metadata": {},
   "outputs": [],
   "source": [
    "blg_queen = blg_q1"
   ]
  },
  {
   "cell_type": "code",
   "execution_count": 37,
   "metadata": {},
   "outputs": [
    {
     "name": "stdout",
     "output_type": "stream",
     "text": [
      "Computing mean interbuilding distances...\n"
     ]
    },
    {
     "data": {
      "application/vnd.jupyter.widget-view+json": {
       "model_id": "ac2baff18d3c44c681ba9d0ab7875163",
       "version_major": 2,
       "version_minor": 0
      },
      "text/plain": [
       "  0%|          | 0/16437 [00:00<?, ?it/s]"
      ]
     },
     "metadata": {},
     "output_type": "display_data"
    }
   ],
   "source": [
    "blg['ltbIBD'] = mm.MeanInterbuildingDistance(tess.set_geometry(\"buildings\"), queen1, 'tID').series"
   ]
  },
  {
   "cell_type": "code",
   "execution_count": 38,
   "metadata": {},
   "outputs": [
    {
     "name": "stdout",
     "output_type": "stream",
     "text": [
      "Calculating spatial weights...\n",
      "Spatial weights ready...\n"
     ]
    },
    {
     "data": {
      "application/vnd.jupyter.widget-view+json": {
       "model_id": "3d2e2a17f5044ff2a289bf788425cfa3",
       "version_major": 2,
       "version_minor": 0
      },
      "text/plain": [
       "Calculating adjacency:   0%|          | 0/16437 [00:00<?, ?it/s]"
      ]
     },
     "metadata": {},
     "output_type": "display_data"
    }
   ],
   "source": [
    "blg['ltcBuA'] = mm.BuildingAdjacency(tess.set_geometry(\"buildings\"), queen3, 'tID').series"
   ]
  },
  {
   "cell_type": "code",
   "execution_count": 39,
   "metadata": {},
   "outputs": [
    {
     "data": {
      "application/vnd.jupyter.widget-view+json": {
       "model_id": "e94490aac42049e5b4d02f7e365aa4d0",
       "version_major": 2,
       "version_minor": 0
      },
      "text/plain": [
       "  0%|          | 0/16437 [00:00<?, ?it/s]"
      ]
     },
     "metadata": {},
     "output_type": "display_data"
    }
   ],
   "source": [
    "tess['licGDe'] = mm.Density(tess.set_geometry('tessellation'), (tess.buildings.area*tess['height'])/3, queen3, 'tID', 'sdcAre').series"
   ]
  },
  {
   "cell_type": "code",
   "execution_count": 40,
   "metadata": {},
   "outputs": [
    {
     "data": {
      "application/vnd.jupyter.widget-view+json": {
       "model_id": "21ce477a145741beb0e540524071ff4e",
       "version_major": 2,
       "version_minor": 0
      },
      "text/plain": [
       "  0%|          | 0/16437 [00:00<?, ?it/s]"
      ]
     },
     "metadata": {},
     "output_type": "display_data"
    }
   ],
   "source": [
    "tess['ltcWRB'] = mm.BlocksCount(tess.set_geometry(\"tessellation\"), 'bID', queen3, 'tID').series "
   ]
  },
  {
   "cell_type": "code",
   "execution_count": 41,
   "metadata": {},
   "outputs": [],
   "source": [
    "#Save data to parquets and spatial weights matrices to gal files"
   ]
  },
  {
   "cell_type": "code",
   "execution_count": 42,
   "metadata": {},
   "outputs": [],
   "source": [
    "tess.drop(columns=['tessellation', 'buildings']).to_parquet('data/tess_data.parquet')\n",
    "blg.drop(columns=['tessellation', 'buildings']).to_parquet('data/blg_data.parquet')"
   ]
  },
  {
   "cell_type": "code",
   "execution_count": 43,
   "metadata": {},
   "outputs": [],
   "source": [
    "fo = libpysal.io.open('data/queen1.gal', 'w')\n",
    "fo.write(queen1)\n",
    "fo.close()\n",
    " \n",
    "fo = libpysal.io.open('data/queen3.gal', 'w')\n",
    "fo.write(queen3)\n",
    "fo.close()\n",
    " \n",
    "fo = libpysal.io.open('data/blg_queen.gal', 'w')\n",
    "fo.write(blg_queen)\n",
    "fo.close()"
   ]
  },
  {
   "cell_type": "code",
   "execution_count": 44,
   "metadata": {},
   "outputs": [],
   "source": [
    "streets = gpd.read_file('data/geometry_umm.gpkg', layer=\"streets\")"
   ]
  },
  {
   "cell_type": "code",
   "execution_count": 45,
   "metadata": {},
   "outputs": [
    {
     "data": {
      "application/vnd.jupyter.widget-view+json": {
       "model_id": "e9443c31d5df4488a52d2f574190ead9",
       "version_major": 2,
       "version_minor": 0
      },
      "text/plain": [
       "  0%|          | 0/20324 [00:00<?, ?it/s]"
      ]
     },
     "metadata": {},
     "output_type": "display_data"
    }
   ],
   "source": [
    "streets[\"sdsLen\"] = mm.Perimeter(streets).series\n",
    "tess[\"stcSAl\"] = mm.StreetAlignment(tess, streets, \"stcOri\", \"nID\").series\n",
    "blg[\"stbSAl\"] = mm.StreetAlignment(blg, streets, \"stbOri\", \"nID\").series\n",
    "\n",
    "profile = mm.StreetProfile(streets, tess.set_geometry(\"buildings\"), heights=tess.height) #only if you have building height\n",
    "streets[\"sdsSPW\"] = profile.w #only if you have building height\n",
    "streets[\"sdsSPH\"] = profile.h #only if you have building height\n",
    "streets[\"sdsSPR\"] = profile.p #only if you have building height\n",
    "streets[\"sdsSPO\"] = profile.o #only if you have building height\n",
    "streets[\"sdsSWD\"] = profile.wd #only if you have building height\n",
    "streets[\"sdsSHD\"] = profile.hd #only if you have building height\n",
    " \n",
    "streets[\"sssLin\"] = mm.Linearity(streets).series\n",
    "streets[\"sdsAre\"] = mm.Reached(streets, tess, \"nID\", \"nID\", mode=\"sum\", values=\"sdcAre\").series\n",
    "streets[\"sisBpM\"] = mm.Count(streets, blg, \"nID\", \"nID\", weighted=True).series"
   ]
  },
  {
   "cell_type": "code",
   "execution_count": 46,
   "metadata": {},
   "outputs": [],
   "source": [
    "tess.drop(columns=['tessellation', 'buildings']).to_parquet('data/tess_data.parquet')\n",
    "blg.drop(columns=['tessellation', 'buildings']).to_parquet('data/blg_data.parquet')\n",
    "streets.drop(columns='geometry').to_parquet('data/streets_data.parquet')"
   ]
  },
  {
   "cell_type": "code",
   "execution_count": 47,
   "metadata": {},
   "outputs": [
    {
     "data": {
      "application/vnd.jupyter.widget-view+json": {
       "model_id": "bf5c2ce01a494aadb5127bc1b5966e2e",
       "version_major": 2,
       "version_minor": 0
      },
      "text/plain": [
       "  0%|          | 0/20324 [00:00<?, ?it/s]"
      ]
     },
     "metadata": {},
     "output_type": "display_data"
    },
    {
     "data": {
      "application/vnd.jupyter.widget-view+json": {
       "model_id": "533417f3653549ce83f445e8cce2009a",
       "version_major": 2,
       "version_minor": 0
      },
      "text/plain": [
       "  0%|          | 0/20324 [00:00<?, ?it/s]"
      ]
     },
     "metadata": {},
     "output_type": "display_data"
    }
   ],
   "source": [
    "str_q1 = libpysal.weights.contiguity.Queen.from_dataframe(streets)\n",
    " \n",
    "streets[\"misRea\"] = mm.Reached(streets, tess, \"nID\", \"nID\", spatial_weights=str_q1, mode=\"count\").series\n",
    "streets[\"mdsAre\"] = mm.Reached(streets, tess, \"nID\", \"nID\", spatial_weights=str_q1, mode=\"sum\").series"
   ]
  },
  {
   "cell_type": "code",
   "execution_count": 48,
   "metadata": {},
   "outputs": [
    {
     "name": "stdout",
     "output_type": "stream",
     "text": [
      "node degree\n",
      "subgraph\n"
     ]
    },
    {
     "data": {
      "application/vnd.jupyter.widget-view+json": {
       "model_id": "a33b6732cfae4761a14925c83cad7218",
       "version_major": 2,
       "version_minor": 0
      },
      "text/plain": [
       "  0%|          | 0/14489 [00:00<?, ?it/s]"
      ]
     },
     "metadata": {},
     "output_type": "display_data"
    },
    {
     "name": "stdout",
     "output_type": "stream",
     "text": [
      "cds length\n"
     ]
    },
    {
     "data": {
      "application/vnd.jupyter.widget-view+json": {
       "model_id": "6632fcd599d74b48bfd7230a9411aae7",
       "version_major": 2,
       "version_minor": 0
      },
      "text/plain": [
       "  0%|          | 0/14489 [00:00<?, ?it/s]"
      ]
     },
     "metadata": {},
     "output_type": "display_data"
    },
    {
     "name": "stdout",
     "output_type": "stream",
     "text": [
      "clustering\n",
      "mean_node_dist\n"
     ]
    },
    {
     "data": {
      "application/vnd.jupyter.widget-view+json": {
       "model_id": "eee35375c4b3409189d3d1374989d5f3",
       "version_major": 2,
       "version_minor": 0
      },
      "text/plain": [
       "  0%|          | 0/14489 [00:00<?, ?it/s]"
      ]
     },
     "metadata": {},
     "output_type": "display_data"
    }
   ],
   "source": [
    "graph = mm.gdf_to_nx(streets)\n",
    " \n",
    "print(\"node degree\")\n",
    "graph = mm.node_degree(graph)\n",
    " \n",
    "print(\"subgraph\")\n",
    "graph = mm.subgraph(\n",
    "    graph,\n",
    "    radius=5,\n",
    "    meshedness=True,\n",
    "    cds_length=False,\n",
    "    mode=\"sum\",\n",
    "    degree=\"degree\",\n",
    "    length=\"mm_len\",\n",
    "    mean_node_degree=False,\n",
    "    proportion={0: True, 3: True, 4: True},\n",
    "    cyclomatic=False,\n",
    "    edge_node_ratio=False,\n",
    "    gamma=False,\n",
    "    local_closeness=True,\n",
    "    closeness_weight=\"mm_len\",\n",
    ")\n",
    "print(\"cds length\")\n",
    "graph = mm.cds_length(graph, radius=3, name=\"ldsCDL\")\n",
    " \n",
    "print(\"clustering\")\n",
    "graph = mm.clustering(graph, name=\"xcnSCl\")\n",
    " \n",
    "print(\"mean_node_dist\")\n",
    "graph = mm.mean_node_dist(graph, name=\"mtdMDi\")\n",
    " \n",
    "nodes, edges, sw = mm.nx_to_gdf(graph, spatial_weights=True)"
   ]
  },
  {
   "cell_type": "code",
   "execution_count": 49,
   "metadata": {},
   "outputs": [
    {
     "name": "stdout",
     "output_type": "stream",
     "text": [
      "saving\n"
     ]
    }
   ],
   "source": [
    "print(\"saving\")\n",
    "nodes.to_file('data/geometry_umm.gpkg', layer=\"nodes\", driver=\"GPKG\")\n",
    "edges.to_file('data/geometry_umm.gpkg', layer=\"edges\", driver=\"GPKG\")"
   ]
  },
  {
   "cell_type": "code",
   "execution_count": 50,
   "metadata": {},
   "outputs": [
    {
     "data": {
      "application/vnd.jupyter.widget-view+json": {
       "model_id": "030b2c9eca5e4528827e5b2bb34552c8",
       "version_major": 2,
       "version_minor": 0
      },
      "text/plain": [
       "  0%|          | 0/20324 [00:00<?, ?it/s]"
      ]
     },
     "metadata": {},
     "output_type": "display_data"
    },
    {
     "data": {
      "application/vnd.jupyter.widget-view+json": {
       "model_id": "a8e7500a3aba4a739df5c9cd32fa253b",
       "version_major": 2,
       "version_minor": 0
      },
      "text/plain": [
       "  0%|          | 0/20324 [00:00<?, ?it/s]"
      ]
     },
     "metadata": {},
     "output_type": "display_data"
    },
    {
     "data": {
      "application/vnd.jupyter.widget-view+json": {
       "model_id": "931ead08a63c4e4f9b4df463feb2ac77",
       "version_major": 2,
       "version_minor": 0
      },
      "text/plain": [
       "  0%|          | 0/20324 [00:00<?, ?it/s]"
      ]
     },
     "metadata": {},
     "output_type": "display_data"
    },
    {
     "data": {
      "application/vnd.jupyter.widget-view+json": {
       "model_id": "a3805e98c6444ab99a724b7748bd9c65",
       "version_major": 2,
       "version_minor": 0
      },
      "text/plain": [
       "  0%|          | 0/14489 [00:00<?, ?it/s]"
      ]
     },
     "metadata": {},
     "output_type": "display_data"
    },
    {
     "data": {
      "application/vnd.jupyter.widget-view+json": {
       "model_id": "772f95c6e8334150a7228da77ef08f44",
       "version_major": 2,
       "version_minor": 0
      },
      "text/plain": [
       "  0%|          | 0/14489 [00:00<?, ?it/s]"
      ]
     },
     "metadata": {},
     "output_type": "display_data"
    }
   ],
   "source": [
    "fo = libpysal.io.open('data/UAPnodes.gal', \"w\")\n",
    "fo.write(sw)\n",
    "fo.close()\n",
    " \n",
    "edges_w3 = mm.sw_high(k=3, gdf=edges)\n",
    "edges[\"ldsMSL\"] = mm.SegmentsLength(edges, spatial_weights=edges_w3, mean=True).series\n",
    " \n",
    "edges[\"ldsRea\"] = mm.Reached(edges, tess, \"nID\", \"nID\", spatial_weights=edges_w3).series\n",
    "edges[\"ldsRea\"] = mm.Reached(edges, tess, \"nID\", \"nID\", spatial_weights=edges_w3, mode=\"sum\", values=\"sdcAre\").series\n",
    " \n",
    "nodes_w5 = mm.sw_high(k=5, weights=sw)\n",
    "nodes[\"lddNDe\"] = mm.NodeDensity(nodes, edges, nodes_w5).series\n",
    "nodes[\"linWID\"] = mm.NodeDensity(nodes, edges, nodes_w5, weighted=True, node_degree=\"degree\").series"
   ]
  },
  {
   "cell_type": "code",
   "execution_count": 51,
   "metadata": {},
   "outputs": [],
   "source": [
    "edges['nID'] = edges['nID'].astype(float)\n",
    "blg['nID'] = blg['nID'].astype(float)"
   ]
  },
  {
   "cell_type": "code",
   "execution_count": 52,
   "metadata": {},
   "outputs": [
    {
     "data": {
      "application/vnd.jupyter.widget-view+json": {
       "model_id": "018af200cb7d4aca9f3ca90b812146db",
       "version_major": 2,
       "version_minor": 0
      },
      "text/plain": [
       "  0%|          | 0/13981 [00:00<?, ?it/s]"
      ]
     },
     "metadata": {},
     "output_type": "display_data"
    }
   ],
   "source": [
    "blg[\"nodeID\"] = mm.get_node_id(blg, nodes, edges, \"nodeID\", \"nID\")"
   ]
  },
  {
   "cell_type": "code",
   "execution_count": 53,
   "metadata": {},
   "outputs": [
    {
     "data": {
      "application/vnd.jupyter.widget-view+json": {
       "model_id": "1592f7d882b348338f53139a814c5871",
       "version_major": 2,
       "version_minor": 0
      },
      "text/plain": [
       "  0%|          | 0/14489 [00:00<?, ?it/s]"
      ]
     },
     "metadata": {},
     "output_type": "display_data"
    },
    {
     "data": {
      "application/vnd.jupyter.widget-view+json": {
       "model_id": "056528dcf29b4d1f8a28a1b129d404bf",
       "version_major": 2,
       "version_minor": 0
      },
      "text/plain": [
       "  0%|          | 0/14489 [00:00<?, ?it/s]"
      ]
     },
     "metadata": {},
     "output_type": "display_data"
    },
    {
     "data": {
      "application/vnd.jupyter.widget-view+json": {
       "model_id": "a2f6f3d54eeb48009d6cbc5ec2e332ad",
       "version_major": 2,
       "version_minor": 0
      },
      "text/plain": [
       "  0%|          | 0/14489 [00:00<?, ?it/s]"
      ]
     },
     "metadata": {},
     "output_type": "display_data"
    },
    {
     "data": {
      "application/vnd.jupyter.widget-view+json": {
       "model_id": "6027089b37d546da8a9273011f6caee3",
       "version_major": 2,
       "version_minor": 0
      },
      "text/plain": [
       "  0%|          | 0/14489 [00:00<?, ?it/s]"
      ]
     },
     "metadata": {},
     "output_type": "display_data"
    },
    {
     "data": {
      "application/vnd.jupyter.widget-view+json": {
       "model_id": "59b50091d08e486e9bd2d74b6d4e3b6a",
       "version_major": 2,
       "version_minor": 0
      },
      "text/plain": [
       "  0%|          | 0/14489 [00:00<?, ?it/s]"
      ]
     },
     "metadata": {},
     "output_type": "display_data"
    }
   ],
   "source": [
    "tess = tess.merge(blg[[\"tID\", \"nodeID\"]], on=\"tID\", how=\"left\")\n",
    " \n",
    "nodes_w3 = mm.sw_high(k=3, weights=sw)\n",
    " \n",
    "nodes[\"lddRea\"] = mm.Reached(nodes, tess, \"nodeID\", \"nodeID\", nodes_w3).series\n",
    "nodes[\"lddARe\"] = mm.Reached(nodes, tess, \"nodeID\", \"nodeID\", nodes_w3, mode=\"sum\", values=\"sdcAre\").series\n",
    " \n",
    "nodes[\"sddAre\"] = mm.Reached(nodes, tess, \"nodeID\", \"nodeID\", mode=\"sum\", values=\"sdcAre\").series\n",
    "nodes[\"midRea\"] = mm.Reached(nodes, tess, \"nodeID\", \"nodeID\", spatial_weights=sw).series\n",
    "nodes[\"midAre\"] = mm.Reached(nodes, tess, \"nodeID\", \"nodeID\", spatial_weights=sw, mode=\"sum\", values=\"sdcAre\").series\n",
    " \n",
    "nodes.rename(\n",
    "    columns={\n",
    "        \"degree\": \"mtdDeg\",\n",
    "        \"meshedness\": \"lcdMes\",\n",
    "        \"local_closeness\": \"lcnClo\",\n",
    "        \"proportion_3\": \"linP3W\",\n",
    "        \"proportion_4\": \"linP4W\",\n",
    "        \"proportion_0\": \"linPDE\",\n",
    "    }, inplace=True\n",
    ")"
   ]
  },
  {
   "cell_type": "code",
   "execution_count": 54,
   "metadata": {},
   "outputs": [],
   "source": [
    "tess.drop(columns=['tessellation', 'buildings']).to_parquet('data/tess_data.parquet')\n",
    "blg.drop(columns=['tessellation', 'buildings']).to_parquet('data/blg_data.parquet')\n",
    "nodes.drop(columns='geometry').to_parquet('data/nodes_data.parquet')\n",
    "edges.drop(columns='geometry').to_parquet('data/edges_data.parquet')"
   ]
  },
  {
   "cell_type": "code",
   "execution_count": 55,
   "metadata": {},
   "outputs": [],
   "source": [
    "merged = tess.merge(blg.drop(columns=['uID','eID','bID','nID','tessellation','buildings','height','stbOri','nodeID']), on='tID', how='left')"
   ]
  },
  {
   "cell_type": "code",
   "execution_count": 56,
   "metadata": {},
   "outputs": [],
   "source": [
    "merged['nID'] = merged['nID'].astype(float)\n",
    "merged['eID'] = merged['eID'].astype(float)"
   ]
  },
  {
   "cell_type": "code",
   "execution_count": 57,
   "metadata": {},
   "outputs": [],
   "source": [
    "merged = merged.merge(blocks.drop(columns='geometry'), on='bID', how='left')\n",
    "merged = merged.merge(edges.drop(columns='geometry'), on='nID', how='left')\n",
    "merged = merged.merge(nodes.drop(columns='geometry'), on='nodeID', how='left')"
   ]
  },
  {
   "cell_type": "code",
   "execution_count": 58,
   "metadata": {},
   "outputs": [],
   "source": [
    "merged.rename(columns={'height': 'sdbHei'}, inplace=True)"
   ]
  },
  {
   "cell_type": "code",
   "execution_count": 59,
   "metadata": {},
   "outputs": [
    {
     "data": {
      "text/plain": [
       "Index(['uID', 'eID', 'bID', 'nID', 'tID', 'tessellation', 'buildings',\n",
       "       'sdbHei', 'stcOri', 'stbOri', 'stbCeA', 'sdcLAL', 'sdcAre', 'sscCCo',\n",
       "       'sscERI', 'sicCAR', 'sicFAR', 'mtbAli', 'mtbNDi', 'mtcWNe', 'mdcAre',\n",
       "       'licGDe', 'ltcWRB', 'stcSAl', 'nodeID', 'sdbAre', 'sdbVol', 'sdbPer',\n",
       "       'sdbCoA', 'ssbFoF', 'ssbVFR', 'ssbCCo', 'ssbCor', 'ssbSqu', 'ssbERI',\n",
       "       'ssbElo', 'ssbCCM', 'ssbCCD', 'mtbSWR', 'libNCo', 'ldbPWL', 'ltbIBD',\n",
       "       'ltcBuA', 'stbSAl', 'ldkAre', 'ldkPer', 'lskCCo', 'lskERI', 'lskCWA',\n",
       "       'ltkOri', 'ltkWNB', 'likWBB', 'sdsLen', 'sdsSPW', 'sdsSPH', 'sdsSPR',\n",
       "       'sdsSPO', 'sdsSWD', 'sdsSHD', 'sssLin', 'sdsAre', 'sisBpM', 'misRea',\n",
       "       'mdsAre', 'mm_len', 'cdsbool', 'node_start', 'node_end', 'ldsMSL',\n",
       "       'ldsRea', 'mtdDeg', 'lcdMes', 'linP3W', 'linP4W', 'linPDE', 'lcnClo',\n",
       "       'ldsCDL', 'xcnSCl', 'mtdMDi', 'lddNDe', 'linWID', 'lddRea', 'lddARe',\n",
       "       'sddAre', 'midRea', 'midAre'],\n",
       "      dtype='object')"
      ]
     },
     "execution_count": 59,
     "metadata": {},
     "output_type": "execute_result"
    }
   ],
   "source": [
    "merged.columns"
   ]
  },
  {
   "cell_type": "code",
   "execution_count": 60,
   "metadata": {},
   "outputs": [],
   "source": [
    "#Clean columns to keep only data\n",
    "primary = merged.drop(columns=['eID', 'bID', 'nID', 'mm_len', 'cdsbool', 'nodeID', 'node_start', 'node_end'])"
   ]
  },
  {
   "cell_type": "code",
   "execution_count": 61,
   "metadata": {},
   "outputs": [
    {
     "data": {
      "text/plain": [
       "['uID',\n",
       " 'tID',\n",
       " 'tessellation',\n",
       " 'buildings',\n",
       " 'sdbHei',\n",
       " 'stcOri',\n",
       " 'stbOri',\n",
       " 'stbCeA',\n",
       " 'sdcLAL',\n",
       " 'sdcAre',\n",
       " 'sscCCo',\n",
       " 'sscERI',\n",
       " 'sicCAR',\n",
       " 'sicFAR',\n",
       " 'mtbAli',\n",
       " 'mtbNDi',\n",
       " 'mtcWNe',\n",
       " 'mdcAre',\n",
       " 'licGDe',\n",
       " 'ltcWRB',\n",
       " 'stcSAl',\n",
       " 'sdbAre',\n",
       " 'sdbVol',\n",
       " 'sdbPer',\n",
       " 'sdbCoA',\n",
       " 'ssbFoF',\n",
       " 'ssbVFR',\n",
       " 'ssbCCo',\n",
       " 'ssbCor',\n",
       " 'ssbSqu',\n",
       " 'ssbERI',\n",
       " 'ssbElo',\n",
       " 'ssbCCM',\n",
       " 'ssbCCD',\n",
       " 'mtbSWR',\n",
       " 'libNCo',\n",
       " 'ldbPWL',\n",
       " 'ltbIBD',\n",
       " 'ltcBuA',\n",
       " 'stbSAl',\n",
       " 'ldkAre',\n",
       " 'ldkPer',\n",
       " 'lskCCo',\n",
       " 'lskERI',\n",
       " 'lskCWA',\n",
       " 'ltkOri',\n",
       " 'ltkWNB',\n",
       " 'likWBB',\n",
       " 'sdsLen',\n",
       " 'sdsSPW',\n",
       " 'sdsSPH',\n",
       " 'sdsSPR',\n",
       " 'sdsSPO',\n",
       " 'sdsSWD',\n",
       " 'sdsSHD',\n",
       " 'sssLin',\n",
       " 'sdsAre',\n",
       " 'sisBpM',\n",
       " 'misRea',\n",
       " 'mdsAre',\n",
       " 'ldsMSL',\n",
       " 'ldsRea',\n",
       " 'mtdDeg',\n",
       " 'lcdMes',\n",
       " 'linP3W',\n",
       " 'linP4W',\n",
       " 'linPDE',\n",
       " 'lcnClo',\n",
       " 'ldsCDL',\n",
       " 'xcnSCl',\n",
       " 'mtdMDi',\n",
       " 'lddNDe',\n",
       " 'linWID',\n",
       " 'lddRea',\n",
       " 'lddARe',\n",
       " 'sddAre',\n",
       " 'midRea',\n",
       " 'midAre']"
      ]
     },
     "execution_count": 61,
     "metadata": {},
     "output_type": "execute_result"
    }
   ],
   "source": [
    "primary.columns.to_list()"
   ]
  },
  {
   "cell_type": "code",
   "execution_count": 62,
   "metadata": {},
   "outputs": [],
   "source": [
    "primary.to_parquet('data/primary.pq')"
   ]
  }
 ],
 "metadata": {
  "kernelspec": {
   "display_name": "Python 3 (ipykernel)",
   "language": "python",
   "name": "python3"
  },
  "language_info": {
   "codemirror_mode": {
    "name": "ipython",
    "version": 3
   },
   "file_extension": ".py",
   "mimetype": "text/x-python",
   "name": "python",
   "nbconvert_exporter": "python",
   "pygments_lexer": "ipython3",
   "version": "3.12.4"
  }
 },
 "nbformat": 4,
 "nbformat_minor": 4
}
