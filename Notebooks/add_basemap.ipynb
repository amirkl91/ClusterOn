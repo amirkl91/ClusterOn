{
 "cells": [
  {
   "cell_type": "code",
   "execution_count": null,
   "metadata": {},
   "outputs": [],
   "source": [
    "import contextily as ctx\n",
    "\n",
    "buildings[\"shared_walls\"] = momepy.SharedWalls(buildings).series\n",
    "fig, ax = plt.subplots(figsize=(15, 15))\n",
    "\n",
    "# Plot buildings with shared walls ratio\n",
    "buildings.plot(column=\"shared_walls\", scheme=\"natural_breaks\", legend=True, ax=ax)\n",
    "# Add a title\n",
    "plt.title(f\"Shared Walls Length for {city}\", fontsize=16)\n",
    "# Add basemap\n",
    "ctx.add_basemap(ax, crs=buildings.crs, source=ctx.providers.CartoDB.Positron)\n",
    "# Remove axis\n",
    "ax.set_axis_off()\n",
    "# Show plot\n",
    "plt.show()"
   ]
  },
  {
   "cell_type": "code",
   "execution_count": null,
   "metadata": {},
   "outputs": [],
   "source": [
    "import contextily as ctx\n",
    "import matplotlib.pyplot as plt\n",
    "\n",
    "fig, ax = plt.subplots(figsize=(15, 15))\n",
    "cax = fig.add_axes([0.25,0.35,0.03,0.4])\n",
    "\n",
    "streets.plot(ax=ax, column='width', \n",
    "             legend=True, legend_kwds={'orientation'='vertical'},\n",
    "             cax=cax, cmap='jet')\n",
    "ctx.add_basemap(ax, crs=streets.crs, source=ctx.providers.CartoDB.Positron)\n",
    "ax.set_axis_off()\n",
    "ax.set_title('Street Width')\n"
   ]
  },
  {
   "cell_type": "code",
   "execution_count": null,
   "metadata": {},
   "outputs": [],
   "source": [
    "import generate_clusters as gc\n",
    "\n",
    "cgram = gc.get_cgram(standardized, 20)\n",
    "\n",
    "urban_types = gc.add_cluster_col(merged, buildings, cgram, 10)\n",
    "import matplotlib.patches as mpatches\n",
    "cmap='tab20'\n",
    "colors = plt.get_cmap(cmap).colors\n",
    "categories = merged['cluster'].unique()\n",
    "legend_handles = [mpatches.Patch(color=colors[i], label=f'Cluster {category+1:02d}') \n",
    "                    for i, category in enumerate(categories)]\n",
    "key = lambda patch: patch.get_label()\n",
    "sorted_patches = sorted(legend_handles, key=key)\n",
    "\n",
    "fig, ax = plt.subplots(figsize=(8, 12))\n",
    "# cax = fig.add_axes([0.25,0.35,0.03,0.4])\n",
    "urban_types.plot(column='cluster', cmap=cmap, legend=False, ax=ax,)\n",
    "ctx.add_basemap(ax, crs=streets.crs, source=ctx.providers.CartoDB.Positron)\n",
    "ax.set_axis_off()\n",
    "ax.legend(handles=sorted_patches, title='Cluster', loc='upper left')"
   ]
  }
 ],
 "metadata": {
  "kernelspec": {
   "display_name": "dssg",
   "language": "python",
   "name": "python3"
  },
  "language_info": {
   "name": "python",
   "version": "3.12.5"
  }
 },
 "nbformat": 4,
 "nbformat_minor": 2
}
